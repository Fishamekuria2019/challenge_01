{
 "cells": [
  {
   "cell_type": "markdown",
   "metadata": {},
   "source": [
    "## **2021-06-21 `01-Financial-Programming-Python - Day 1 - Let's Begin Python`**"
   ]
  },
  {
   "cell_type": "markdown",
   "metadata": {},
   "source": [
    "### **Class Objectives**\n",
    "\n",
    "* Navigate `Canvas` and `VS Code` to access the async activity files.\n",
    "* Use `Terminal` (Mac) or `Git Bash` (Windows) to run Python script files.\n",
    "* Declare, assign, and call Python `variables`.\n",
    "* Identify the similarities and differences between `lists` and `dictionaries`.\n"
   ]
  },
  {
   "cell_type": "markdown",
   "metadata": {},
   "source": [
    "### **Resorces**\n",
    "* [Python Tutorial](https://www.w3schools.com/python/)\n",
    "* [Python - Beginner](https://www.learnpython.org/)\n",
    "* [Python - Scripting](https://automatetheboringstuff.com/)\n",
    "* [Git - No-nonsense Git Guide (Videos 1-3)](https://github.com/Multishifties/No-Nonsense-Github-Project)\n",
    "* [Git - Visual Guide](http://marklodato.github.io/visual-git-guide/index-en.html)\n",
    "* [FinanceTrain article on the best Python libraries and packages](https://financetrain.com/best-python-librariespackages-finance-financial-data-scientists/)\n"
   ]
  },
  {
   "cell_type": "markdown",
   "metadata": {},
   "source": [
    "For those that sense they are struggling, remind yourselves that it’s OK to feel this way.\n",
    "This is a bootcamp and we’ll be working hard for these next few months to learn a lot of new technologies! Embrace the struggle! \n",
    "\n",
    "At the same time, be aware of negative thoughts you might put on yourselves; don’t let imposter syndrome get the best of you in this class, and make sure to celebrate your small successes each week!\n",
    "However, we do realize there is a difference between struggling and completely falling behind.\n",
    "\n",
    "If you find you are completely behind at this point, please don’t hesitate to reach out to me or your instructional staff.\n",
    "\n",
    "Keep in mind the success principles we outlined when this class started. Ask yourself the following questions: \n",
    "* Are you reviewing class recordings and activity videos regularly? Repetition is key!\n",
    "* Are you using office hours for TA guidance?\n",
    "* Are you putting in at least 20 hours per week outside of class of practice?\n",
    "\n",
    "`Unit Summary`: \n",
    "This week we will be introducing the Python programming language.\n",
    "The purpose of this unit is to gain a firm understanding on how to use the core Python language to store and manipulate data; read and write to files; and “translate” logical solutions to problems to Python implementations of those solutions.\n",
    "\n",
    "This module will start out with core features of Python, such as variable declarations, and move on to discuss more advanced and idiomatic features of the language.\n",
    "Topics will include reading and writing files, working with the file system, iteration using for loops, iteration using list comprehension, list methods, the notion of dictionaries and methods on them, and additional miscellany where required to facilitate completion of the homework assignment.\n",
    "Make sure that you have all of your required course tools installed. Check the pre-work for anything you might have missed.\n",
    "\n",
    "The code you will write in Python will eventually be seen by someone else.\n",
    "Focusing on organization and readability is important because you want colleagues to be able to read your code. If your code is poorly organized it will be difficult to read later on.\n"
   ]
  },
  {
   "cell_type": "markdown",
   "metadata": {},
   "source": [
    "### **Install**\n",
    "```\n",
    "conda create -n dev python=3.7 anaconda -y\n",
    "```"
   ]
  },
  {
   "cell_type": "markdown",
   "metadata": {},
   "source": [
    "### **`Tomorrow I'll start zoom from 5:30pm to help and communicate with you guys, join us if you can`**"
   ]
  },
  {
   "cell_type": "markdown",
   "metadata": {},
   "source": [
    "# =================================="
   ]
  },
  {
   "cell_type": "markdown",
   "metadata": {},
   "source": [
    "### 1.01 Instructor Do: Variables (10 min)"
   ]
  },
  {
   "cell_type": "code",
   "execution_count": 3,
   "metadata": {},
   "outputs": [],
   "source": [
    "# Create variables\n",
    "company_name = \"Rawasy\" #str\n",
    "years_in_business = 24 # int\n",
    "hourly_wage = 65.40 # float\n",
    "expert_status = True # bool"
   ]
  },
  {
   "cell_type": "code",
   "execution_count": 4,
   "metadata": {},
   "outputs": [
    {
     "name": "stdout",
     "output_type": "stream",
     "text": [
      "Rawasy\n"
     ]
    }
   ],
   "source": [
    "# Print the variables\n",
    "print(company_name)"
   ]
  },
  {
   "cell_type": "code",
   "execution_count": 5,
   "metadata": {},
   "outputs": [
    {
     "name": "stdout",
     "output_type": "stream",
     "text": [
      "24\n"
     ]
    }
   ],
   "source": [
    "print(years_in_business)"
   ]
  },
  {
   "cell_type": "code",
   "execution_count": 6,
   "metadata": {},
   "outputs": [
    {
     "name": "stdout",
     "output_type": "stream",
     "text": [
      "65.4\n"
     ]
    }
   ],
   "source": [
    "print(hourly_wage)"
   ]
  },
  {
   "cell_type": "code",
   "execution_count": 7,
   "metadata": {},
   "outputs": [
    {
     "name": "stdout",
     "output_type": "stream",
     "text": [
      "True\n"
     ]
    }
   ],
   "source": [
    "print(expert_status)"
   ]
  },
  {
   "cell_type": "code",
   "execution_count": 8,
   "metadata": {},
   "outputs": [
    {
     "name": "stdout",
     "output_type": "stream",
     "text": [
      "The data type of variable title is <class 'str'>\n",
      "The data type of variable years is <class 'int'>\n",
      "The data type of variable hourly_wage is <class 'float'>\n",
      "The data type of variable expert_status is <class 'bool'>\n"
     ]
    }
   ],
   "source": [
    "# Prints the data type of each declared variable\n",
    "print(\"The data type of variable title is\", type(company_name))\n",
    "print(\"The data type of variable years is\", type(years_in_business))\n",
    "print(\"The data type of variable hourly_wage is\", type(hourly_wage))\n",
    "print(\"The data type of variable expert_status is\", type(expert_status))"
   ]
  },
  {
   "cell_type": "code",
   "execution_count": 9,
   "metadata": {},
   "outputs": [
    {
     "name": "stdout",
     "output_type": "stream",
     "text": [
      "CompanY: 24\n"
     ]
    }
   ],
   "source": [
    "print(\"CompanY: \" + str(years_in_business))"
   ]
  },
  {
   "cell_type": "code",
   "execution_count": 10,
   "metadata": {},
   "outputs": [
    {
     "name": "stdout",
     "output_type": "stream",
     "text": [
      "35.69444444444444\n"
     ]
    }
   ],
   "source": [
    "# Using variable names in calculations\n",
    "total_miles = 257\n",
    "gallons_gas = 7.2\n",
    "miles_per_gallon = total_miles / gallons_gas\n",
    "print(miles_per_gallon)"
   ]
  },
  {
   "cell_type": "code",
   "execution_count": 17,
   "metadata": {},
   "outputs": [],
   "source": [
    "# Updating variables using assignment\n",
    "miles = 48\n",
    "kilometers = 0.621371 * miles"
   ]
  },
  {
   "cell_type": "code",
   "execution_count": 19,
   "metadata": {},
   "outputs": [
    {
     "name": "stdout",
     "output_type": "stream",
     "text": [
      "The total kilometers driven was: 29.825808000000002\n"
     ]
    }
   ],
   "source": [
    "# Substituting/formatting variable\n",
    "message = f\"The total kilometers driven was: {kilometers}\"\n",
    "print(message)"
   ]
  },
  {
   "cell_type": "code",
   "execution_count": 24,
   "metadata": {},
   "outputs": [
    {
     "name": "stdout",
     "output_type": "stream",
     "text": [
      "11.75\n"
     ]
    }
   ],
   "source": [
    "# Two number values will be added\n",
    "transaction_1 = 11.75\n",
    "transaction_2 = 14.99\n",
    "\n",
    "total_transation_cost = transaction_1 + transaction_2\n",
    "print(total_transation_cost)"
   ]
  },
  {
   "cell_type": "code",
   "execution_count": 28,
   "metadata": {},
   "outputs": [
    {
     "name": "stdout",
     "output_type": "stream",
     "text": [
      "Michelle Jones\n",
      "My name is Michelle Jones.\n",
      "My name is Michelle Jones.\n"
     ]
    }
   ],
   "source": [
    "# Two string values will be concatenated\n",
    "first_name = \"Michelle\"\n",
    "last_name = \"Jones\"\n",
    "\n",
    "full_name = first_name + \" \" + last_name\n",
    "print(full_name)\n",
    "print(f\"My name is \" + first_name + \" \" + last_name + \".\")\n",
    "print(f\"My name is {first_name} {last_name}.\")"
   ]
  },
  {
   "cell_type": "code",
   "execution_count": 9,
   "metadata": {},
   "outputs": [],
   "source": [
    "# Variable naming conventions\n",
    "# Bad Example\n",
    "mpg = 24\n",
    "\n",
    "# Better Example\n",
    "miles_per_gallon = 24"
   ]
  },
  {
   "cell_type": "markdown",
   "metadata": {},
   "source": [
    "# =================================="
   ]
  },
  {
   "cell_type": "markdown",
   "metadata": {},
   "source": [
    "### 1.02 Student Do: Percent Increase (10 min)"
   ]
  },
  {
   "cell_type": "markdown",
   "metadata": {},
   "source": [
    "# Hello, Variable World\n",
    "\n",
    "In this activity, you'll create a Python program to do percent increase calculations.\n",
    "\n",
    "## Background\n",
    "\n",
    "For the past week, you've been watching your coworker Harold use a calculator to manually track stock price fluctuations. Harold spends three hours every day tracking his stocks this way, logging the stock's original price (from the day before), the current price, and the percentage of increase or decrease. You know that automating this calculation would streamline Harold's daily process, leaving more time for making investment decisions. Your new Python skills can help you achieve this for him.\n",
    "\n",
    "In this activity, create a Python program to automate Harold's process by programmatically implementing the percent increase calculation.\n",
    "\n",
    "Start small by identifying the percent increase in price for Apple stock. Yesterday at 9:00 a.m., Apple's stock price was \\$198.87. At close of market today, the stock price was \\$254.32. Calculate the percent increase using the following formulas:\n",
    "\n",
    "* Increase = Current Price - Original Price\n",
    "\n",
    "* Percent Increase = Increase / Original x 100\n",
    "\n",
    "## Instructions\n",
    "\n",
    "Using the [starter file](02_Stu_Percent_Increase/Unsolved/percent_increase.py), complete the following steps:\n",
    "\n",
    "1. Create variables for the following:\n",
    "\n",
    "    * `original_price`\n",
    "\n",
    "    * `current_price`\n",
    "\n",
    "    * `increase`\n",
    "\n",
    "    * `percent_increase`\n",
    "\n",
    "2. Calculate `increase`.\n",
    "\n",
    "3. Calculate `percent_increase`.\n",
    "\n",
    "4. Print `original_price`, `current_price`, and `percent_increase` to the screen.\n",
    "\n",
    "5. Use a [format specifier](https://www.python.org/dev/peps/pep-0498/#format-specifiers) with the f-string to print the percent increase with two decimal places (e.g., `27.88%`).\n",
    "\n",
    "## Hint\n",
    "\n",
    "For additional information on f-strings, see this [guide to Python 3's f-strings](https://realpython.com/python-f-strings/).\n"
   ]
  },
  {
   "cell_type": "code",
   "execution_count": 29,
   "metadata": {},
   "outputs": [],
   "source": [
    "# Percent Increase Activity\n",
    "\n",
    "# Increase = Current Price - Original Price\n",
    "# Percent Increase = Increase / Original x 100\n",
    "\n",
    "# Create float variable for original_price\n",
    "original_price = 198.87"
   ]
  },
  {
   "cell_type": "code",
   "execution_count": 30,
   "metadata": {},
   "outputs": [],
   "source": [
    "# Create float variable for current_price\n",
    "current_price = 254.32"
   ]
  },
  {
   "cell_type": "code",
   "execution_count": 31,
   "metadata": {},
   "outputs": [],
   "source": [
    "# Calculate difference between current_price and original_price\n",
    "increase = current_price - original_price"
   ]
  },
  {
   "cell_type": "code",
   "execution_count": 32,
   "metadata": {},
   "outputs": [],
   "source": [
    "# Calculate percent increase\n",
    "percent_increase = (increase / original_price) * 100"
   ]
  },
  {
   "cell_type": "code",
   "execution_count": 33,
   "metadata": {},
   "outputs": [
    {
     "name": "stdout",
     "output_type": "stream",
     "text": [
      "Apple's original stock price was $198.87.\n"
     ]
    }
   ],
   "source": [
    "# Print original_price\n",
    "print(f\"Apple's original stock price was ${original_price}.\")"
   ]
  },
  {
   "cell_type": "code",
   "execution_count": 34,
   "metadata": {},
   "outputs": [
    {
     "name": "stdout",
     "output_type": "stream",
     "text": [
      "Apple's current stock price is $254.32.\n"
     ]
    }
   ],
   "source": [
    "# Print current_price\n",
    "print(f\"Apple's current stock price is ${current_price}.\")"
   ]
  },
  {
   "cell_type": "code",
   "execution_count": 35,
   "metadata": {},
   "outputs": [
    {
     "name": "stdout",
     "output_type": "stream",
     "text": [
      "Apple's stock price increased by 27.88%.\n"
     ]
    }
   ],
   "source": [
    "# Print percent increase\n",
    "print(f\"Apple's stock price increased by {percent_increase:.2f}%.\")"
   ]
  },
  {
   "cell_type": "markdown",
   "metadata": {},
   "source": [
    "# =================================="
   ]
  },
  {
   "cell_type": "markdown",
   "metadata": {},
   "source": [
    "### 1.03 Instructor Do: Python Lists (10 min)"
   ]
  },
  {
   "cell_type": "code",
   "execution_count": null,
   "metadata": {},
   "outputs": [],
   "source": [
    "# -*- coding: utf-8 -*-\n",
    "\"\"\"Instructor Demo: Lists.\n",
    "\n",
    "This script showcases basic operations of Python Lists.\n",
    "\"\"\"\n",
    "\n",
    "# A list in Python is a collection of ordered elements or values, separated by commas, with an index of \"zero\" for the first element.\n"
   ]
  },
  {
   "cell_type": "code",
   "execution_count": 66,
   "metadata": {},
   "outputs": [
    {
     "data": {
      "text/plain": [
       "'purple'"
      ]
     },
     "execution_count": 66,
     "metadata": {},
     "output_type": "execute_result"
    }
   ],
   "source": [
    "# Index: 0 = \"green\", 1 = \"blue\", 2 = \"red\", 3 = \"purple\"\n",
    "color_hats = [\"green\", \"blue\", \"red\", \"purple\"]\n",
    "color_hats[-1]"
   ]
  },
  {
   "cell_type": "code",
   "execution_count": 67,
   "metadata": {},
   "outputs": [
    {
     "data": {
      "text/plain": [
       "['Chocolate', 9]"
      ]
     },
     "execution_count": 67,
     "metadata": {},
     "output_type": "execute_result"
    }
   ],
   "source": [
    "# Lists commonly hold values of the same data type or different data types.\n",
    "# Lists can even hold other lists!\n",
    "\n",
    "my_favorite_things = [\"Chocolate\", 9, [\"beach\", \"mountains\"], \"breakfast_tacos\"]\n",
    "my_favorite_things[0:2]"
   ]
  },
  {
   "cell_type": "code",
   "execution_count": 68,
   "metadata": {},
   "outputs": [
    {
     "name": "stdout",
     "output_type": "stream",
     "text": [
      "We are a diverse group and come from everywhere...\n",
      "['San Francisco, CA', 'Conway, AR', 'Orlando, FL', 'Buffalo, NY', 'Chicago, IL', 'Edison, NJ', 'Avondale, PA']\n",
      "---------------\n"
     ]
    }
   ],
   "source": [
    "# Create a list of places where our class lives from slack responses.\n",
    "print(\"We are a diverse group and come from everywhere...\")\n",
    "where_we_live = [\n",
    "    \"San Francisco, CA\",\n",
    "    \"Conway, AR\",\n",
    "    \"Orlando, FL\",\n",
    "    \"Buffalo, NY\",\n",
    "    \"Chicago, IL\",\n",
    "    \"Edison, NJ\",\n",
    "    \"Avondale, PA\",\n",
    "]\n",
    "print(where_we_live)\n",
    "print(\"---------------\")"
   ]
  },
  {
   "cell_type": "code",
   "execution_count": 69,
   "metadata": {},
   "outputs": [
    {
     "name": "stdout",
     "output_type": "stream",
     "text": [
      "My hometown is at index...\n",
      "Orlando, FL\n"
     ]
    }
   ],
   "source": [
    "# Students should use the index of their hometown.\n",
    "print(\"My hometown is at index...\")\n",
    "print(where_we_live[2])"
   ]
  },
  {
   "cell_type": "code",
   "execution_count": 70,
   "metadata": {},
   "outputs": [
    {
     "name": "stdout",
     "output_type": "stream",
     "text": [
      "My cities index is at...\n",
      "['San Francisco, CA', 'Conway, AR', 'Orlando, FL', 'Buffalo, NY', 'Chicago, IL', 'Edison, NJ', 'Avondale, PA']\n",
      "1\n",
      "---------------\n"
     ]
    }
   ],
   "source": [
    "# Students can check their work with the index method\n",
    "print(\"My cities index is at...\")\n",
    "print(where_we_live)\n",
    "print(where_we_live.index(\"Conway, AR\"))\n",
    "print(\"---------------\")"
   ]
  },
  {
   "cell_type": "code",
   "execution_count": 71,
   "metadata": {},
   "outputs": [
    {
     "name": "stdout",
     "output_type": "stream",
     "text": [
      "We can access a portion of the list with a slice...\n",
      "['Orlando, FL', 'Buffalo, NY', 'Chicago, IL']\n",
      "---------------\n"
     ]
    }
   ],
   "source": [
    "# Set elements from index 2 to index 5 equal to some_of_our_places variable and print\n",
    "print(\"We can access a portion of the list with a slice...\")\n",
    "some_of_our_places = where_we_live[2:5]\n",
    "print(some_of_our_places)\n",
    "print(\"---------------\")"
   ]
  },
  {
   "cell_type": "code",
   "execution_count": 72,
   "metadata": {},
   "outputs": [
    {
     "name": "stdout",
     "output_type": "stream",
     "text": [
      "Printing every other city\n",
      "['San Francisco, CA', 'Orlando, FL', 'Chicago, IL', 'Avondale, PA']\n"
     ]
    }
   ],
   "source": [
    "# Print every other element\n",
    "print(\"Printing every other city\")\n",
    "every_other_city = where_we_live[::2]\n",
    "print(every_other_city)"
   ]
  },
  {
   "cell_type": "code",
   "execution_count": 73,
   "metadata": {},
   "outputs": [
    {
     "name": "stdout",
     "output_type": "stream",
     "text": [
      "The last city is...\n",
      "Avondale, PA\n"
     ]
    }
   ],
   "source": [
    "# Print the last element of the list\n",
    "print(\"The last city is...\")\n",
    "last_city = where_we_live[-1]\n",
    "print(last_city)"
   ]
  },
  {
   "cell_type": "code",
   "execution_count": 74,
   "metadata": {},
   "outputs": [
    {
     "name": "stdout",
     "output_type": "stream",
     "text": [
      "Change the first element in the list...\n",
      "['Las Vegas, NV', 'Conway, AR', 'Orlando, FL', 'Buffalo, NY', 'Chicago, IL', 'Edison, NJ', 'Avondale, PA']\n"
     ]
    }
   ],
   "source": [
    "# Change a specified element within the list at the given index\n",
    "print(\"Change the first element in the list...\")\n",
    "where_we_live[0] = \"Las Vegas, NV\"\n",
    "print(where_we_live)"
   ]
  },
  {
   "cell_type": "code",
   "execution_count": 75,
   "metadata": {},
   "outputs": [
    {
     "name": "stdout",
     "output_type": "stream",
     "text": [
      "Adding a new place to the end of the list...\n",
      "['Las Vegas, NV', 'Conway, AR', 'Orlando, FL', 'Buffalo, NY', 'Chicago, IL', 'Edison, NJ', 'Avondale, PA', 'Honolulu, HI']\n"
     ]
    }
   ],
   "source": [
    "# Add an element to the end of the list\n",
    "print(\"Adding a new place to the end of the list...\")\n",
    "where_we_live.append(\"Honolulu, HI\")\n",
    "print(where_we_live)"
   ]
  },
  {
   "cell_type": "code",
   "execution_count": 76,
   "metadata": {},
   "outputs": [
    {
     "name": "stdout",
     "output_type": "stream",
     "text": [
      "Removing a new place to the end of the list...\n",
      "['Conway, AR', 'Orlando, FL', 'Buffalo, NY', 'Chicago, IL', 'Edison, NJ', 'Avondale, PA', 'Honolulu, HI']\n"
     ]
    }
   ],
   "source": [
    "# Add an element to the end of the list\n",
    "print(\"Removing a new place to the end of the list...\")\n",
    "where_we_live.remove(\"Las Vegas, NV\")\n",
    "print(where_we_live)"
   ]
  },
  {
   "cell_type": "code",
   "execution_count": 77,
   "metadata": {},
   "outputs": [
    {
     "name": "stdout",
     "output_type": "stream",
     "text": [
      "Removing 'Orlando, FL' based off of its index\n",
      "['Conway, AR', 'Buffalo, NY', 'Chicago, IL', 'Edison, NJ', 'Avondale, PA', 'Honolulu, HI']\n",
      "---------------\n"
     ]
    }
   ],
   "source": [
    "# Remove an element from the list based on the given index\n",
    "print(\"Removing 'Orlando, FL' based off of its index\")\n",
    "florida_index = where_we_live.index(\"Orlando, FL\")\n",
    "where_we_live.pop(florida_index)\n",
    "print(where_we_live)\n",
    "print(\"---------------\")"
   ]
  },
  {
   "cell_type": "code",
   "execution_count": 79,
   "metadata": {},
   "outputs": [
    {
     "name": "stdout",
     "output_type": "stream",
     "text": [
      "Calculating the number of places...\n",
      "6\n",
      "---------------\n"
     ]
    }
   ],
   "source": [
    "# Calculate the number of elements within the list\n",
    "print(\"Calculating the number of places...\")\n",
    "print(len(where_we_live))\n",
    "print(\"---------------\")"
   ]
  },
  {
   "cell_type": "markdown",
   "metadata": {},
   "source": [
    "# =================================="
   ]
  },
  {
   "cell_type": "markdown",
   "metadata": {},
   "source": [
    "### 1.04 Student Do: List Manipulation (10 min)"
   ]
  },
  {
   "cell_type": "markdown",
   "metadata": {},
   "source": [
    "Accessing list elements and manipulating lists will be critical to your success in this module, as well the Challenge assignment. In this activity, you'll get additional practice doing both.\n",
    "\n",
    "## Instructions\n",
    "\n",
    "Using the starter file and the `stock_tickers` list, update, add, and remove elements according to the instructions. After each action, print the list to confirm that your syntax is correct.\n",
    "\n",
    "See the following `stock_tickers` list:\n",
    "\n",
    "`stock_tickers = ['AMZN', 'CSCO', 'FB', 'GOOG','INTC', 'MSFT', 'SQ', 'TWTR', 'WRK']`\n",
    "\n",
    "1. Update the ticker `'WRK'` to `'WORK'`. Print `stock_tickers` to confirm your code.\n",
    "\n",
    "2. Add the ticker `'ZM'` to the end of the `stock_tickers` list. Print `stock_tickers` to confirm your code.\n",
    "\n",
    "3. Add the ticker `'AAPL'` to the beginning of the `stock_tickers` list. Print `stock_tickers` to confirm your code.\n",
    "\n",
    "4. Add the ticker `'DELL'` so that it appears between `'CSCO'` and `'FB'`. Print `stock_tickers` to confirm your code.\n",
    "\n",
    "5. Remove the ticker `'INTC'` from the `stock_tickers` list. Print `stock_tickers` to confirm your code.\n",
    "\n",
    "6. Remove the ticker `'SQ'` from the list using the `pop()` method. Print `stock_tickers` to confirm your code.\n",
    "\n",
    "7. Slice a section of the list that includes the tickers `'CSCO'`, `'DELL'`, `'FB'`, and `'GOOG'`. Set this equal to a variable called `stock_tickers_slice`. Print the new variable to confirm your code.\n",
    "\n",
    "## Hint \n",
    "\n",
    "Use this [guide to Python list methods](https://www.programiz.com/python-programming/methods/list) if you have any questions about list operations."
   ]
  },
  {
   "cell_type": "code",
   "execution_count": 90,
   "metadata": {},
   "outputs": [],
   "source": [
    "# Manipulating Lists\n",
    "\n",
    "stock_tickers = [\"AMZN\", \"CSCO\", \"FB\", \"GOOG\", \"INTC\", \"MSFT\", \"SQ\", \"TWTR\", \"WRK\"]"
   ]
  },
  {
   "cell_type": "code",
   "execution_count": 91,
   "metadata": {},
   "outputs": [
    {
     "name": "stdout",
     "output_type": "stream",
     "text": [
      "['AMZN', 'CSCO', 'FB', 'GOOG', 'INTC', 'MSFT', 'SQ', 'TWTR', 'WORK']\n"
     ]
    }
   ],
   "source": [
    "# Update the ticker 'WRK' to 'WORK'\n",
    "stock_tickers[8] = \"WORK\"\n",
    "\n",
    "# Alternatively, you can use -1 to select the index of the last item in the list.\n",
    "# stock_tickers[-1] = 'WORK'\n",
    "\n",
    "print(stock_tickers)"
   ]
  },
  {
   "cell_type": "code",
   "execution_count": 92,
   "metadata": {},
   "outputs": [
    {
     "name": "stdout",
     "output_type": "stream",
     "text": [
      "['AMZN', 'CSCO', 'FB', 'GOOG', 'INTC', 'MSFT', 'SQ', 'TWTR', 'WORK', 'ZM']\n"
     ]
    }
   ],
   "source": [
    "# Add the ticker 'ZM' to the end of the stock_tickers list\n",
    "stock_tickers.append(\"ZM\")\n",
    "print(stock_tickers)"
   ]
  },
  {
   "cell_type": "code",
   "execution_count": 93,
   "metadata": {},
   "outputs": [
    {
     "name": "stdout",
     "output_type": "stream",
     "text": [
      "['AAPL', 'AMZN', 'CSCO', 'DELL', 'FB', 'GOOG', 'INTC', 'MSFT', 'SQ', 'TWTR', 'WORK', 'ZM']\n"
     ]
    }
   ],
   "source": [
    "# Add the ticker 'AAPL' to the beginning of the stock_tickers list.\n",
    "# Add the ticker 'DELL' to it appears between 'CSCO' and 'FB'.\n",
    "stock_tickers.insert(0, \"AAPL\")\n",
    "stock_tickers.insert(3, \"DELL\")\n",
    "print(stock_tickers)"
   ]
  },
  {
   "cell_type": "code",
   "execution_count": 94,
   "metadata": {},
   "outputs": [
    {
     "name": "stdout",
     "output_type": "stream",
     "text": [
      "['AAPL', 'AMZN', 'CSCO', 'DELL', 'FB', 'GOOG', 'MSFT', 'SQ', 'TWTR', 'WORK', 'ZM']\n"
     ]
    }
   ],
   "source": [
    "# Remove the ticker 'INTC' from the stock_tickers list\n",
    "stock_tickers.remove(\"INTC\")\n",
    "print(stock_tickers)"
   ]
  },
  {
   "cell_type": "code",
   "execution_count": 95,
   "metadata": {},
   "outputs": [
    {
     "name": "stdout",
     "output_type": "stream",
     "text": [
      "['AAPL', 'AMZN', 'CSCO', 'DELL', 'FB', 'GOOG', 'MSFT', 'TWTR', 'WORK', 'ZM']\n"
     ]
    }
   ],
   "source": [
    "# Remove the ticker 'SQ' from the list using the pop() method\n",
    "stock_tickers.pop(7)\n",
    "print(stock_tickers)"
   ]
  },
  {
   "cell_type": "code",
   "execution_count": 96,
   "metadata": {},
   "outputs": [
    {
     "name": "stdout",
     "output_type": "stream",
     "text": [
      "['CSCO', 'DELL', 'FB', 'GOOG']\n"
     ]
    }
   ],
   "source": [
    "# Slice a section of the list that inclues the tickers 'CSCO', 'DELL', 'FB', and 'GOOG'.\n",
    "# Set this equal to a variable called stock_tickers_slice.\n",
    "# Print the new variable to confirm your actions.\n",
    "stock_tickers_slice = stock_tickers[2:6]\n",
    "print(stock_tickers_slice)"
   ]
  },
  {
   "cell_type": "markdown",
   "metadata": {},
   "source": [
    "# =================================="
   ]
  },
  {
   "cell_type": "markdown",
   "metadata": {},
   "source": [
    "# Break (10 mins)"
   ]
  },
  {
   "cell_type": "markdown",
   "metadata": {},
   "source": [
    "# =================================="
   ]
  },
  {
   "cell_type": "markdown",
   "metadata": {},
   "source": [
    "### 1.05 Instructor Do: Python Dictionaries (10 min)"
   ]
  },
  {
   "cell_type": "code",
   "execution_count": 98,
   "metadata": {},
   "outputs": [],
   "source": [
    "top_traders_2019 = {\n",
    "    \"january\": \"Karen\",\n",
    "    \"february\": \"Harold\",\n",
    "    \"march\": \"Sam\"\n",
    "}\n"
   ]
  },
  {
   "cell_type": "code",
   "execution_count": 101,
   "metadata": {},
   "outputs": [
    {
     "name": "stdout",
     "output_type": "stream",
     "text": [
      "\n",
      "Dictionary: {'january': 'Karen', 'february': 'Harold', 'march': 'Sam'}\n",
      "\n"
     ]
    }
   ],
   "source": [
    "# -*- coding: utf-8 -*-\n",
    "\"\"\"Instructor Demo: Dictionaries\n",
    "\n",
    "This script showcases basic operations of Python Dicts.\n",
    "\"\"\"\n",
    "\n",
    "# Initialize a dictionary containing top traders for each month in 2019\n",
    "top_traders_2019 = {\"january\": \"Karen\", \"february\": \"Harold\", \"march\": \"Sam\"}\n",
    "\n",
    "print()\n",
    "print(f\"Dictionary: {top_traders_2019}\")\n",
    "print()"
   ]
  },
  {
   "cell_type": "code",
   "execution_count": 103,
   "metadata": {},
   "outputs": [],
   "source": [
    "# Initialize a dictionary\n",
    "trading_pnl = {\n",
    "    \"title\": \"Trading Log\",\n",
    "    \"03-18-2019\": -224,\n",
    "    \"03-19-2019\": 352,\n",
    "    \"03-20-2019\": 252,\n",
    "    \"03-21-2019\": 354,\n",
    "    \"03-22-2019\": -544,\n",
    "    \"03-23-2019\": -650,\n",
    "    \"03-24-2019\": 56,\n",
    "    \"03-25-2019\": 123,\n",
    "    \"03-26-2019\": -43,\n",
    "    \"03-27-2019\": 254,\n",
    "    \"03-28-2019\": 325,\n",
    "    \"03-29-2019\": -123,\n",
    "    \"03-30-2019\": 47,\n",
    "    \"03-31-2019\": 321,\n",
    "    \"04-01-2019\": 123,\n",
    "    \"04-02-2019\": 133,\n",
    "    \"04-03-2019\": -151,\n",
    "    \"04-04-2019\": 613,\n",
    "    \"04-05-2019\": 232,\n",
    "    \"04-06-2019\": -311,\n",
    "}"
   ]
  },
  {
   "cell_type": "code",
   "execution_count": 104,
   "metadata": {},
   "outputs": [
    {
     "name": "stdout",
     "output_type": "stream",
     "text": [
      "\n",
      "Dictionary: {'title': 'Trading Log', '03-18-2019': -224, '03-19-2019': 352, '03-20-2019': 252, '03-21-2019': 354, '03-22-2019': -544, '03-23-2019': -650, '03-24-2019': 56, '03-25-2019': 123, '03-26-2019': -43, '03-27-2019': 254, '03-28-2019': 325, '03-29-2019': -123, '03-30-2019': 47, '03-31-2019': 321, '04-01-2019': 123, '04-02-2019': 133, '04-03-2019': -151, '04-04-2019': 613, '04-05-2019': 232, '04-06-2019': -311}\n",
      "\n"
     ]
    }
   ],
   "source": [
    "# Print out dictionary, initial print() to serve as spacing between command line input\n",
    "print()\n",
    "print(f\"Dictionary: {trading_pnl}\")\n",
    "print()"
   ]
  },
  {
   "cell_type": "code",
   "execution_count": 105,
   "metadata": {},
   "outputs": [
    {
     "name": "stdout",
     "output_type": "stream",
     "text": [
      "03-31-2019: 321\n",
      "\n"
     ]
    }
   ],
   "source": [
    "# Print out specific value of a key\n",
    "print(f\"03-31-2019: {trading_pnl['03-31-2019']}\")\n",
    "print()"
   ]
  },
  {
   "cell_type": "code",
   "execution_count": 106,
   "metadata": {},
   "outputs": [
    {
     "name": "stdout",
     "output_type": "stream",
     "text": [
      "{'title': 'Trading Log', '03-18-2019': -224, '03-19-2019': 352, '03-20-2019': 252, '03-21-2019': 354, '03-22-2019': -544, '03-23-2019': -650, '03-24-2019': 56, '03-25-2019': 123, '03-26-2019': -43, '03-27-2019': 254, '03-28-2019': 325, '03-29-2019': -123, '03-30-2019': 47, '03-31-2019': 321, '04-01-2019': 123, '04-02-2019': 133, '04-03-2019': -151, '04-04-2019': 613, '04-05-2019': 232, '04-06-2019': -311, '04-07-2019': 413}\n",
      "\n"
     ]
    }
   ],
   "source": [
    "# Add a new key-value pair\n",
    "trading_pnl[\"04-07-2019\"] = 413\n",
    "print(trading_pnl)\n",
    "print()"
   ]
  },
  {
   "cell_type": "code",
   "execution_count": 108,
   "metadata": {},
   "outputs": [
    {
     "name": "stdout",
     "output_type": "stream",
     "text": [
      "{'title': 'Trading Log', '03-18-2019': -224, '03-19-2019': 352, '03-20-2019': 252, '03-21-2019': 354, '03-22-2019': -544, '03-23-2019': -650, '03-24-2019': 56, '03-25-2019': 123, '03-26-2019': -43, '03-27-2019': 254, '03-28-2019': 325, '03-29-2019': -123, '03-30-2019': 47, '03-31-2019': 321, '04-01-2019': 123, '04-02-2019': 133, '04-03-2019': -151, '04-04-2019': 613, '04-05-2019': 232, '04-06-2019': -311, '04-07-2019': 542}\n",
      "\n"
     ]
    }
   ],
   "source": [
    "# Modify a key value\n",
    "trading_pnl[\"04-07-2019\"] = 542\n",
    "print(trading_pnl)\n",
    "print()"
   ]
  },
  {
   "cell_type": "code",
   "execution_count": 109,
   "metadata": {},
   "outputs": [
    {
     "name": "stdout",
     "output_type": "stream",
     "text": [
      "-123\n",
      "-123\n"
     ]
    }
   ],
   "source": [
    "# Access a the value of a key using the get() method\n",
    "print(trading_pnl.get(\"03-29-2019\"))\n",
    "print(trading_pnl[\"03-29-2019\"])"
   ]
  },
  {
   "cell_type": "code",
   "execution_count": 110,
   "metadata": {},
   "outputs": [
    {
     "name": "stdout",
     "output_type": "stream",
     "text": [
      "{'title': 'Trading Log', '03-18-2019': -224, '03-19-2019': 352, '03-20-2019': 252, '03-21-2019': 354, '03-22-2019': -544, '03-23-2019': -650, '03-24-2019': 56, '03-25-2019': 123, '03-26-2019': -43, '03-27-2019': 254, '03-28-2019': 325, '03-29-2019': -123, '03-30-2019': 47, '03-31-2019': 321, '04-01-2019': 123, '04-02-2019': 133, '04-03-2019': -151, '04-04-2019': 613, '04-05-2019': 232, '04-06-2019': -311}\n",
      "\n"
     ]
    }
   ],
   "source": [
    "# Delete a key-value pair\n",
    "del trading_pnl[\"04-07-2019\"]\n",
    "print(trading_pnl)\n",
    "print()"
   ]
  },
  {
   "cell_type": "markdown",
   "metadata": {},
   "source": [
    "# =================================="
   ]
  },
  {
   "cell_type": "markdown",
   "metadata": {},
   "source": [
    "### 1.06 Student Do: Working with Dictionaries (10 min)"
   ]
  },
  {
   "cell_type": "markdown",
   "metadata": {},
   "source": [
    "In this activity, you'll practice working with dictionaries, a fundamental data structure in Python.\n",
    "\n",
    "## Instructions\n",
    "\n",
    "Using the [starter code](06_Stu_Working_with_Dictionaries/Unsolved/dictionaries.py), manipulate the following dictionary according to the instructions. \n",
    "\n",
    "    ```python\n",
    "    student_loan_information_aj = {\n",
    "        'student_name': 'Amy Johnson',\n",
    "        'university': 'Yale',\n",
    "        'academic_year': '2015_2016',\n",
    "        'loan_amount': 45000,\n",
    "        'duration_years' : 10,\n",
    "        'payments_started' : False\n",
    "    }\n",
    "    ```\n",
    "\n",
    "1. The student's name is spelled incorrectly. Update the value of the `student_name` key to `Amy Johnston`. Print the dictionary so that you know your code works.\n",
    "\n",
    "    **Hint:** Remember to use bracket notation.\n",
    "\n",
    "2. Every loan should have an interest rate associated with its information. Add a key called `interest_rate` and assign it a value of 3.5% (or 0.035). Print the dictionary so that you know your code works.\n",
    "\n",
    "3. The key for `loan_amount` is spelled incorrectly. Delete the existing key-value pair, and then add a new key-value pair with the correct spelling. You can use the same amount of `45000`. Print the dictionary so that you know your code works.\n"
   ]
  },
  {
   "cell_type": "code",
   "execution_count": 111,
   "metadata": {},
   "outputs": [],
   "source": [
    "# Working with Dictionaries\n",
    "\n",
    "# Following is a Python Dictionary containing student loan information.\n",
    "# Notice all keys are defined as strings, but the values are declared in a variety of data types.\n",
    "\n",
    "student_loan_information_aj = {\n",
    "    \"student_name\": \"Amy Johnson\",\n",
    "    \"university\": \"Yale\",\n",
    "    \"academic_year\": \"2015_2016\",\n",
    "    \"loan_amount\": 45000,\n",
    "    \"duration_years\": 10,\n",
    "    \"payments_started\": False,\n",
    "}"
   ]
  },
  {
   "cell_type": "code",
   "execution_count": 113,
   "metadata": {},
   "outputs": [
    {
     "name": "stdout",
     "output_type": "stream",
     "text": [
      "The original student loan profile {'student_name': 'Amy Johnson', 'university': 'Yale', 'academic_year': '2015_2016', 'loan_amount': 45000, 'duration_years': 10, 'payments_started': False}\n"
     ]
    }
   ],
   "source": [
    "# Using the student_loan_information_aj dictionary provided, complete the following actions:\n",
    "\n",
    "# Print the original 'student_loan_information_aj' dictionary\n",
    "print(\"The original student loan profile\", student_loan_information_aj)"
   ]
  },
  {
   "cell_type": "code",
   "execution_count": 115,
   "metadata": {},
   "outputs": [
    {
     "name": "stdout",
     "output_type": "stream",
     "text": [
      "The amended student loan profile: {'student_name': 'Amy Johnston', 'university': 'Yale', 'academic_year': '2015_2016', 'loan_amount': 45000, 'duration_years': 10, 'payments_started': False}\n"
     ]
    }
   ],
   "source": [
    "# Our student's name was spelled incorrectly.\n",
    "# Update the value of the `student_name' key to `Amy Johnston`.\n",
    "# Be sure to print the dictionary so that you know your changes are working.\n",
    "student_loan_information_aj[\"student_name\"] = \"Amy Johnston\"\n",
    "print(\"The amended student loan profile:\", student_loan_information_aj)"
   ]
  },
  {
   "cell_type": "code",
   "execution_count": 116,
   "metadata": {},
   "outputs": [
    {
     "name": "stdout",
     "output_type": "stream",
     "text": [
      "The amended student loan profile: {'student_name': 'Amy Johnston', 'university': 'Yale', 'academic_year': '2015_2016', 'loan_amount': 45000, 'duration_years': 10, 'payments_started': False, 'interest_rate': 0.035}\n"
     ]
    }
   ],
   "source": [
    "# Every loan should have an interest rate associated with its information.\n",
    "# Add a key called 'interest_rate' and assign it a value of 3.5 percent (or 0.035).\n",
    "# Print the dictionary so that you know your changes are working.\n",
    "student_loan_information_aj[\"interest_rate\"] = 0.035\n",
    "print(\"The amended student loan profile:\", student_loan_information_aj)"
   ]
  },
  {
   "cell_type": "code",
   "execution_count": 118,
   "metadata": {},
   "outputs": [
    {
     "name": "stdout",
     "output_type": "stream",
     "text": [
      "The amended student loan profile: {'student_name': 'Amy Johnston', 'university': 'Yale', 'academic_year': '2015_2016', 'duration_years': 10, 'payments_started': False, 'interest_rate': 0.035, 'loan_amount': 45000}\n"
     ]
    }
   ],
   "source": [
    "# Reviewing the information, it appears that the key for 'loan_amount' has been spelled incorrectly.\n",
    "# You will need to delete the existing key:value pair and add one with the correct spelling.\n",
    "# You can use the same amount of 45000.\n",
    "# Print the dictionary so that you know your changes are working.\n",
    "del student_loan_information_aj[\"loan_amount\"]\n",
    "student_loan_information_aj[\"loan_amount\"] = 45000\n",
    "print(f\"The amended student loan profile: {student_loan_information_aj}\")\n"
   ]
  },
  {
   "cell_type": "markdown",
   "metadata": {},
   "source": [
    "# =================================="
   ]
  },
  {
   "cell_type": "markdown",
   "metadata": {},
   "source": [
    "### Rating Class Objectives\n",
    "\n",
    "* rate your understanding using 1-5 method in each objective"
   ]
  },
  {
   "cell_type": "code",
   "execution_count": 1,
   "metadata": {},
   "outputs": [
    {
     "name": "stdin",
     "output_type": "stream",
     "text": [
      "Navigate Canvas and VS Code to access the async activity files?  4\n",
      "Use Terminal (Mac) or Git Bash (Windows) to run Python script files?  3\n",
      "Declare, assign, and call Python variables?  4\n",
      "Identify the similarities and differences between lists and dictionaries?  5\n"
     ]
    },
    {
     "name": "stdout",
     "output_type": "stream",
     "text": [
      "================================================================================================\n",
      "Self Evaluation for: 01-Financial-Programming-Python - Day 1 - Let's Begin Python\n",
      "------------------------\n",
      "Navigate Canvas and VS Code to access the async activity files. (4/5)\n",
      "Use Terminal (Mac) or Git Bash (Windows) to run Python script files. (3/5)\n",
      "Declare, assign, and call Python variables. (4/5)\n",
      "Identify the similarities and differences between lists and dictionaries. (5/5)\n",
      "----------------------------------------------------------------\n",
      "Average: 4.0\n"
     ]
    }
   ],
   "source": [
    "title = \"01-Financial-Programming-Python - Day 1 - Let's Begin Python\"\n",
    "objectives = [\n",
    "    \"Navigate Canvas and VS Code to access the async activity files\",\n",
    "    \"Use Terminal (Mac) or Git Bash (Windows) to run Python script files\",\n",
    "    \"Declare, assign, and call Python variables\",\n",
    "    \"Identify the similarities and differences between lists and dictionaries\",\n",
    "]\n",
    "rating = []\n",
    "total = 0\n",
    "for i in range(len(objectives)):\n",
    "    rate = input(objectives[i]+\"? \")\n",
    "    total += int(rate)\n",
    "    rating.append(objectives[i] + \". (\" + rate + \"/5)\")\n",
    "print(\"=\"*96)\n",
    "print(f\"Self Evaluation for: {title}\")\n",
    "print(\"-\"*24)\n",
    "for i in rating:\n",
    "    print(i)\n",
    "print(\"-\"*64)\n",
    "print(\"Average: \" + str(total/len(objectives)))"
   ]
  },
  {
   "cell_type": "code",
   "execution_count": null,
   "metadata": {},
   "outputs": [],
   "source": []
  }
 ],
 "metadata": {
  "kernelspec": {
   "display_name": "Python [conda env:.conda-dev]",
   "language": "python",
   "name": "conda-env-.conda-dev-py"
  },
  "language_info": {
   "codemirror_mode": {
    "name": "ipython",
    "version": 3
   },
   "file_extension": ".py",
   "mimetype": "text/x-python",
   "name": "python",
   "nbconvert_exporter": "python",
   "pygments_lexer": "ipython3",
   "version": "3.8.5"
  }
 },
 "nbformat": 4,
 "nbformat_minor": 4
}
