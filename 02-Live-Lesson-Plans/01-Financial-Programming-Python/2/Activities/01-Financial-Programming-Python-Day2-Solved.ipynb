{
 "cells": [
  {
   "cell_type": "markdown",
   "metadata": {},
   "source": [
    "## 01-Financial-Programming-Python - Day 2 - Conditionals, Functions, Iterations"
   ]
  },
  {
   "cell_type": "markdown",
   "metadata": {},
   "source": [
    "### Class Objectives\n",
    "\n",
    "* Articulate how conditional statements are used to make decisions in a program.\n",
    "* Define and call a Python function.\n",
    "* Python loop and iterate over an iterable object.\n",
    "* Iterate over a Python list using a for loop.\n",
    "* Describe how these elements combine to help automate a program.\n",
    "* Create a new repository in GitHub and manually upload a folder to the GitHub GUI.\n"
   ]
  },
  {
   "cell_type": "code",
   "execution_count": 1,
   "metadata": {},
   "outputs": [
    {
     "name": "stdout",
     "output_type": "stream",
     "text": [
      "Python 3.8.8\n"
     ]
    }
   ],
   "source": [
    "!python --version"
   ]
  },
  {
   "cell_type": "markdown",
   "metadata": {},
   "source": [
    "# ===================================="
   ]
  },
  {
   "cell_type": "markdown",
   "metadata": {},
   "source": [
    "### 2.01 Student Do: Variables (10 min)"
   ]
  },
  {
   "cell_type": "markdown",
   "metadata": {},
   "source": [
    "# More Practice with Variables\n",
    "\n",
    "In this activity, you’ll get more practice declaring, printing, and concatenating variables.\n",
    "\n",
    "As a reminder, **concatenating** variables involves using the `+` operator to join two string variables.\n",
    "\n",
    "## Instructions\n",
    "\n",
    "Open the [starter file](01_Stu_Variables/Unsolved/variables.py) and perform the following tasks:\n",
    "\n",
    "**Create string variables.**\n",
    "\n",
    "1. Create a variable called `subject` and assign it a value of `Programmers`.\n",
    "\n",
    "2. Create a variable called `first_name` and assign a value of `Ada`.\n",
    "\n",
    "3. Create a variable called `last_name` and assign it a value of a string, `Lovelace`.\n",
    "\n",
    "4. Create a variable called `full_name` and assign it a value of the combination of `first_name` and `last_name` with a space.\n",
    "\n",
    "5. Create a variable called `profession` and assign it a value of a string, `Computer Programmer`.\n",
    "\n",
    "6. Create a variable called `known_for` and assign it a value of a string, `First Computer Programmer`.\n",
    "\n",
    "7. Create a variable called `first_algorithm` and assign it a value of a string, `Analytical Engine`.\n",
    "\n",
    "8. Create a variable called `city_location` and assign it a value of a string, `London`.\n",
    "\n",
    "9. Create a variable called `country_location` and assign it a value of a string, `England`.\n",
    "\n",
    "10. Create a variable called `nationality` and assign it a value of a string, `British`.\n",
    "\n",
    "**Create integer variables.**\n",
    "\n",
    "1. Create a variable called `birth_year` and assign it with an integer of `1815`.\n",
    "\n",
    "2. Create a variable called `death_year` and assign it with an integer of `1852`.\n",
    "\n",
    "3. Create a variable called `age_at_passing` and assign it a value of `death_year minus birth_year`.\n",
    "\n",
    "4. Create a variable called `year_of_publish` and assign it with an integer of `1842`.\n",
    "\n",
    "**Print the variables.**\n",
    "\n",
    "1. Print `First Name: ` and `first_name`.\n",
    "\n",
    "2. Print `Last Name: ` and `last_name`.\n",
    "\n",
    "3. Print `Profession: ` and `profession`.\n",
    "\n",
    "4. Print `BirthYear: ` and `birth_year`.\n",
    "\n",
    "**Concatenate and print variables.**\n",
    "\n",
    "1. Create and print a variable, `statement_one`, by assigning it a value of a concatenated string: `Programmers: Ada Lovelace is a British Computer Programmer born in 1815.`\n",
    "\n",
    "2. Create and print a variable, `statement_two`, by assigning it a value of a concatenated string: `She is commonly referred to as the First Computer Programmer.`\n",
    "\n",
    "3. Create and print a variable, `statement_three`, by assigning it a value of a concatenated string: `In 1842 she published the first Algorithm, the Analytical Engine, at the age of 27.`\n",
    "\n",
    "4. Create and print a variable, `statement_four`, by assigning it a value of a concatenated string: `She was a British Citizen who lived in London, England until her passing in 1852 at the age of 37.`"
   ]
  },
  {
   "cell_type": "code",
   "execution_count": 1,
   "metadata": {},
   "outputs": [
    {
     "data": {
      "text/plain": [
       "'\\nthis is a multi-line comment\\nYou can comment out many lines at once.\\nFor the most part you will see single line comments\\nbut it is good to see this.\\nAs in single line comments, any code contained within multi-line comments are not run -\\nmeaning that any code commented out is ignored.\\n'"
      ]
     },
     "execution_count": 1,
     "metadata": {},
     "output_type": "execute_result"
    }
   ],
   "source": [
    "# Variables\n",
    "\n",
    "# This is a comment - any code commented out is not run -\n",
    "# meaning that any code or text commented out is ignored.\n",
    "\n",
    "\"\"\"\n",
    "this is a multi-line comment\n",
    "You can comment out many lines at once.\n",
    "For the most part you will see single line comments\n",
    "but it is good to see this.\n",
    "As in single line comments, any code contained within multi-line comments are not run -\n",
    "meaning that any code commented out is ignored.\n",
    "\"\"\""
   ]
  },
  {
   "cell_type": "code",
   "execution_count": 2,
   "metadata": {},
   "outputs": [],
   "source": [
    "# Topic: Strings\n",
    "\n",
    "# Create a variable named `subject` and assign a value of \"Programmers to the variable `subject`.\n",
    "subject = \"Programmers\""
   ]
  },
  {
   "cell_type": "code",
   "execution_count": 3,
   "metadata": {},
   "outputs": [],
   "source": [
    "# Create a variable, `first_name`, and assign it a value of a string, \"Ada\".\n",
    "first_name = \"Ada\""
   ]
  },
  {
   "cell_type": "code",
   "execution_count": 4,
   "metadata": {},
   "outputs": [],
   "source": [
    "# Create a variable, `last_name`, and assign it a value of a string, \"Lovelace\".\n",
    "last_name = \"Lovelace\""
   ]
  },
  {
   "cell_type": "code",
   "execution_count": 5,
   "metadata": {},
   "outputs": [],
   "source": [
    "# Create a variable, `full_name`, and assign it a value of the combination of `first_name` and `last_name` with a space.\n",
    "full_name = f\"{first_name} {last_name}\""
   ]
  },
  {
   "cell_type": "code",
   "execution_count": 6,
   "metadata": {},
   "outputs": [],
   "source": [
    "# Create a variable, `profession`, and assign it a value of a string, \"Computer Programmer\".\n",
    "profession = \"Computer Programmer\""
   ]
  },
  {
   "cell_type": "code",
   "execution_count": null,
   "metadata": {},
   "outputs": [],
   "source": [
    "# Create a variable, `first_algorithm`, and assign it a value of a string, \"Analytical Engine\".\n",
    "first_algorithm = \"Analytical Engine\""
   ]
  },
  {
   "cell_type": "code",
   "execution_count": null,
   "metadata": {},
   "outputs": [],
   "source": [
    "# Create a variable, `city_location`, and assign it a value of a string, \"London\".\n",
    "city_location = \"London\""
   ]
  },
  {
   "cell_type": "code",
   "execution_count": null,
   "metadata": {},
   "outputs": [],
   "source": [
    "# Create a variable, `country_location`, and assign it a value of a string, \"England\".\n",
    "country_location = \"England\""
   ]
  },
  {
   "cell_type": "code",
   "execution_count": null,
   "metadata": {},
   "outputs": [],
   "source": [
    "# Topic: Integers\n",
    "\n",
    "# Create a variable, `birth_year`, and assign it with an integer of 1815.\n",
    "birth_year = 1815"
   ]
  },
  {
   "cell_type": "code",
   "execution_count": null,
   "metadata": {},
   "outputs": [],
   "source": [
    "# Create a variable, death_year, and assign it with an integer of 1852.\n",
    "death_year = 1852"
   ]
  },
  {
   "cell_type": "code",
   "execution_count": null,
   "metadata": {},
   "outputs": [],
   "source": [
    "# Create a variable, age_at_passing, and assign it a value of death_year minus birth_year.\n",
    "age_at_passing = death_year - birth_year\n",
    "\n",
    "nationality = \"British\"\n",
    "\n",
    "known_for = \"First Computer Programmer\""
   ]
  },
  {
   "cell_type": "code",
   "execution_count": null,
   "metadata": {},
   "outputs": [],
   "source": [
    "#Topic: Print\n",
    "\n",
    "# Print: \"First Name: \" and `first_name`.\n",
    "print(f\"First Name: {first_name}\")"
   ]
  },
  {
   "cell_type": "code",
   "execution_count": null,
   "metadata": {},
   "outputs": [],
   "source": [
    "# Print: \"Last Name: \" and `last_name`.\n",
    "print(f\"Last Name: {last_name}\")"
   ]
  },
  {
   "cell_type": "code",
   "execution_count": null,
   "metadata": {},
   "outputs": [],
   "source": [
    "# Print: \"Profession: \" and `profession`.\n",
    "print(f\"Profession: {profession}\")"
   ]
  },
  {
   "cell_type": "code",
   "execution_count": null,
   "metadata": {},
   "outputs": [],
   "source": [
    "# Print: \"BirthYear: \" and `birth_year`.\n",
    "print(f\"Birth Year: {birth_year}\")"
   ]
  },
  {
   "cell_type": "code",
   "execution_count": null,
   "metadata": {},
   "outputs": [],
   "source": [
    "# Topic: Concat Values\n",
    "\n",
    "# Create and print a variable, `statement_one`, by assigning it a value of a string:\n",
    "# \"Programmers: Ada Lovelace is a British Computer Programmer born in 1815.\"\n",
    "statement_one = f\"{subject}: {first_name} {last_name} is a {nationality} {profession} born in {birth_year}.\"\n",
    "print(statement_one)"
   ]
  },
  {
   "cell_type": "code",
   "execution_count": null,
   "metadata": {},
   "outputs": [],
   "source": [
    "# Create and print a variable, `statement_two`, by assigning it a value of a string:\n",
    "# \"She is commonly referred to as the First Computer Programmer.\"\n",
    "statement_two = f\"She is commonly referred to as a {known_for}.\"\n",
    "print(statement_two)"
   ]
  },
  {
   "cell_type": "code",
   "execution_count": null,
   "metadata": {},
   "outputs": [],
   "source": [
    "# Create and print a variable, `statement_four`, by assigning it a value of a string:\n",
    "# \"She was a British Citizen who lived in London, England until her passing in 1852 at the age of 37.\"\n",
    "statement_four = f\"She was a {nationality} Citizen who lived in {city_location}, {country_location} until her passing in {death_year} at the age of {age_at_passing}.\"\n",
    "print(statement_four)"
   ]
  },
  {
   "cell_type": "markdown",
   "metadata": {},
   "source": [
    "# ===================================="
   ]
  },
  {
   "cell_type": "markdown",
   "metadata": {},
   "source": [
    "### 2.02 Student Do: Terminal and GitBash (5 min)"
   ]
  },
  {
   "cell_type": "markdown",
   "metadata": {},
   "source": [
    "# Getting Familiar with Terminal or Git Bash\n",
    "\n",
    "In this activity, you'll practice running commands in the terminal. macOS users access the terminal via the Terminal application. Windows users access it via Git Bash. \n",
    "\n",
    "## Instructions\n",
    "\n",
    "1. Navigate to your `FinTech_Workspace` folder.\n",
    "\n",
    "2. Use the `ls` command to view the contents of that folder.\n",
    "\n",
    "3. Use the `pwd` command to find the current path you're in.\n",
    "\n",
    "4. In `FinTech_Workspace`, create a new directory named `Activity-1`. Then list the contents of the current directory again to check that it worked.\n",
    "\n",
    "5. Navigate into the directory you just created, `Activity-1`.\n",
    "\n",
    "6. Create a new file named `hello.md`. List the contents of the current directory again.\n",
    "\n",
    "7. Rename the `hello.md` file to `coding.md`.\n",
    "\n",
    "8. Inside the `Activity-1` directory, create a new directory named `terminal`.\n",
    "\n",
    "9. Move the `coding.md` file into the `terminal` folder you just made.\n",
    "\n",
    "10. Delete the `terminal` folder.\n",
    "\n",
    "11. Delete the `Activity-1` folder.\n",
    "\n",
    "## Hint\n",
    "\n",
    "Use the Terminal Cheat Sheet if you need guidance on which terminal commands should be used for each step.\n"
   ]
  },
  {
   "cell_type": "markdown",
   "metadata": {},
   "source": [
    "## Solution\n",
    "\n",
    "1. Navigate to your `FinTech_Workspace` folder, as shown in the following image:\n",
    "\n",
    "    ![In the terminal, the user has navigated into the FinTech_Workspace folder.](02_Stu_Terminal_Gitbash/Solved/Images/01.png)\n",
    "\n",
    "2. Use the `ls` command to see the contents of that folder, as shown in the following image:\n",
    "\n",
    "    ![A red arrow calls attention to the ls command in the terminal, listing Module-1 beneath it.](02_Stu_Terminal_Gitbash/Solved/Images/02.png)\n",
    "\n",
    "3. Use the `pwd` command to find the current path you're in, as shown in the following image:\n",
    "\n",
    "    ![A red arrow calls attention to the pwd command in the terminal, listing FinTech_Workspace beneath it.](02_Stu_Terminal_Gitbash/Solved/Images/03.png)\n",
    "\n",
    "4. In `FinTech_Workspace`, create a new directory named `Activity-1`. Then list the contents of the current directory again to make sure it worked. You should see something like the following image:\n",
    "\n",
    "    ![A red arrow points at the mkdir command, creating Activity-1 directory. Another red arrow points at the ls command below.](02_Stu_Terminal_Gitbash/Solved/Images/04.png)\n",
    "\n",
    "5. Navigate into the directory you just created. `Activity-1`, as shown in the following image:\n",
    "\n",
    "    ![A red arrow calls attention to the cd command in the terminal, showing that the user has navigated into Activity-1.](02_Stu_Terminal_Gitbash/Solved/Images/05.png)\n",
    "\n",
    "6. Create a new file named `hello.md`. List the contents of the current directory again. You should see something like the following image:\n",
    "\n",
    "    ![A red arrow points to \"touch hello\" in the terminal. Another red arrow points to the ls command, listing hello.md below.](02_Stu_Terminal_Gitbash/Solved/Images/06.png)\n",
    "\n",
    "7. Rename the `hello.md` file to `coding.md`, as shown in the following image:\n",
    "\n",
    "    ![A red arrow points to command \"mv hello.md coding.md\" in the terminal. Below, coding.md is now listed in contents.](02_Stu_Terminal_Gitbash/Solved/Images/07.png)\n",
    "\n",
    "8. Inside the `Activity-1` directory, create a new directory named `terminal`, as shown in the following image:\n",
    "\n",
    "    ![A red arrow points at \"mkdir terminal\". The ls command reveals the contents as coding.md and terminal.](02_Stu_Terminal_Gitbash/Solved/Images/08.png)\n",
    "\n",
    "9. Move the `coding.md` file into the `terminal` folder you just made. Navigate into the terminal folder to confirm that the file has been moved. You should see something like the following image:\n",
    "\n",
    "    ![A red arrow points to command \"mv coding.md terminal\". Then cd terminal navigates into that directory.](02_Stu_Terminal_Gitbash/Solved/Images/09.png)\n",
    "\n",
    "10. Delete the `terminal` folder. Note that you have to move up a directory to `Activity-1` before you can delete the terminal directory. You cannot delete a directory that you're currently in. You should see something like the following image:\n",
    "\n",
    "    ![Red arrows point to the following commands: \"cd ..\", \"ls\", \"rm -r terminal\", and \"ls\" again.](02_Stu_Terminal_Gitbash/Solved/Images/10.png)\n",
    "\n",
    "11. Delete the `Activity-1` folder. Again, note that you have to move up a directory to `FinTech_Workspace` before you can delete the Activity-1 directory. You should see something like the following image:\n",
    "\n",
    "    ![Red arrows point to the following commands: \"cd ..\", \"rm -r Activity-1\", and \"ls\".](02_Stu_Terminal_Gitbash/Solved/Images/11.png)\n"
   ]
  },
  {
   "cell_type": "markdown",
   "metadata": {},
   "source": [
    "# ===================================="
   ]
  },
  {
   "cell_type": "markdown",
   "metadata": {},
   "source": [
    "### 2.03 Student Do: Conditional Statements (10 min)"
   ]
  },
  {
   "cell_type": "markdown",
   "metadata": {},
   "source": [
    "# Conditional Statements\n",
    "\n",
    "In this activity, you’ll get more practice declaring and manipulating variables, as well as using `if-else` statements.\n",
    "\n",
    "## Instructions\n",
    "\n",
    "Open the starter file and complete the following steps.\n",
    "\n",
    "### Create Character 1\n",
    "\n",
    "1. Create a variable called `c1_name` and set it equal a string \"Mr. Farley\".\n",
    "\n",
    "2. Create a variable called `c1_age` and set it equal an integer, 65.\n",
    "\n",
    "3. Create a variable called `c1_profession` and set it equal to \"Web Developer\".\n",
    "\n",
    "4. Create a variable called `c1_location` and set it equal to \"San Francisco, CA\".\n",
    "\n",
    "### Create Character 2\n",
    "\n",
    "1. Create a variable called `c2_name` and set it equal a string of \"Mr. Snuggles\".\n",
    "\n",
    "2. Create a variable called `c2_age` and set it equal to an integer, 30.\n",
    "\n",
    "3. Create a variable called `c2_profession` and set it equal \"Accountant\".\n",
    "\n",
    "4. Create a variable called `c2_location` and set it equal to \"Oakland, CA\".\n",
    "\n",
    "### Use Conditionals\n",
    "\n",
    "1. Write an `if-else` statement to check if `c1_name` is equal to \"Mr. Farley\", with the following criteria:\n",
    "\n",
    "    * If so, print a string of \"Hello Mr. Farley\", using the `c1_name` variable.\n",
    "\n",
    "    * If not, print a string of \"Hello stranger\".\n",
    "\n",
    "2. Write an `if-else` statement to check if `c2_age` is greater than `c1_age`, with the following criteria:\n",
    "\n",
    "    * If so, print a string of \"Mr. Farley is older than Mr. Snuggles\".\n",
    "\n",
    "    * Else if `c1_age` is greater than `c2_age`, print a string of \"Mr. Snuggles is older than Mr. Farley\".\n",
    "\n",
    "    * Else, `c1_age` must be equal to `c2_age`, therefore, print a string of \"Mr. Farley is the same age as Mr. Snuggles\".\n",
    "\n",
    "3. Write an if-else statement to check if `c1_profession` is equal to \"Web Developer\" AND if `c2_profession` is equal to \"Accountant\", with the following criteria:\n",
    "\n",
    "    * If so, print a string of \"Look a Web Developer and an Accountant\".\n",
    "\n",
    "    * Else, print a string of \"They are professionals.\"\n",
    "\n",
    "4. Write an if-else statement to check if `c1_location` is equal to \"Oakland, CA\".\n",
    "\n",
    "    * If so, print a string of \"Mr. Farley comes from the home of the Raiders!\".\n",
    "\n",
    "    * Else if `c2_location` is equal to a string of \"San Francisco, CA\", print a string of \"Mr. Farley comes from the home of the 49ers!\"\n",
    "\n",
    "    * Else, both conditions must not apply, therefore, print a string of \"Mr. Farley doesn't hail from a sports town.\""
   ]
  },
  {
   "cell_type": "code",
   "execution_count": 1,
   "metadata": {},
   "outputs": [],
   "source": [
    "######################\n",
    "# Create Character One\n",
    "######################\n",
    "\n",
    "# Make a variable called `c1_name` and have it equal a string of \"Mr. Farley\".\n",
    "c1_name = \"Mr. Farley\""
   ]
  },
  {
   "cell_type": "code",
   "execution_count": 2,
   "metadata": {},
   "outputs": [],
   "source": [
    "# Make a variable called `c1_age` and have it equal to an integer of 65.\n",
    "c1_age = 65"
   ]
  },
  {
   "cell_type": "code",
   "execution_count": 3,
   "metadata": {},
   "outputs": [],
   "source": [
    "# Make a variable called `c1_location` and have it equal to \"San Francisco, CA\".\n",
    "c1_location = \"San Francisco, CA\""
   ]
  },
  {
   "cell_type": "code",
   "execution_count": 4,
   "metadata": {},
   "outputs": [],
   "source": [
    "# Make a variable called `c1_profession` and have it equal to \"Web Developer\".\n",
    "c1_profession = \"Web Developer\""
   ]
  },
  {
   "cell_type": "code",
   "execution_count": 5,
   "metadata": {},
   "outputs": [],
   "source": [
    "######################\n",
    "# Create Character Two\n",
    "######################\n",
    "\n",
    "# Make a variable called `c2_name` and have it equal a string of \"Mr. Snuggles\".\n",
    "c2_name = \"Mr. Snuggles\""
   ]
  },
  {
   "cell_type": "code",
   "execution_count": 6,
   "metadata": {},
   "outputs": [],
   "source": [
    "# Make a variable called `c2_age` and have it equal to an integer of 30.\n",
    "c2_age = 30"
   ]
  },
  {
   "cell_type": "code",
   "execution_count": 7,
   "metadata": {},
   "outputs": [],
   "source": [
    "# Make a variable called `c2_location` and have it equal to \"Oakland, CA\".\n",
    "c2_location = \"Oakland, CA\""
   ]
  },
  {
   "cell_type": "code",
   "execution_count": 8,
   "metadata": {},
   "outputs": [],
   "source": [
    "# Make a variable called `c2_profession` and have it equal \"Accountant\"\n",
    "c2_profession = \"Accountant\""
   ]
  },
  {
   "cell_type": "code",
   "execution_count": 9,
   "metadata": {},
   "outputs": [
    {
     "name": "stdout",
     "output_type": "stream",
     "text": [
      "Hello Mr. Farley\n"
     ]
    }
   ],
   "source": [
    "##############\n",
    "# Conditionals\n",
    "##############\n",
    "\n",
    "# Write an if-else statement to check if `c1_name` is equal to \"Mr. Farley\".\n",
    "# If so, print a string of \"Hello Mr. Farley\" using the `c1_name` variable.\n",
    "# If not, print a string of \"Hello stranger\".\n",
    "if c1_name == \"Mr. Farley\":\n",
    "    print(f\"Hello {c1_name}\")\n",
    "else:\n",
    "    print(\"Hello stranger!\")"
   ]
  },
  {
   "cell_type": "code",
   "execution_count": 10,
   "metadata": {},
   "outputs": [
    {
     "name": "stdout",
     "output_type": "stream",
     "text": [
      "Mr. Snuggles is older than Mr. Farley\n"
     ]
    }
   ],
   "source": [
    "# Write an if-else statement to check if `c2_age` is greater than `c1_age`.\n",
    "# If so, print a string of \"Mr. Farley is older than Mr. Snuggles\".\n",
    "# Else if `c1_age` is greater than `c2_age`, print a string of \"Mr. Snuggles is older than Mr. Farley\".\n",
    "# Else, `c1_age` must have to be equal to `c2_age`, therefore print a string of \"Mr. Farley is the same age as Mr. Snuggles\".\n",
    "if c2_age > c1_age:\n",
    "    print(\"Mr. Farley is older than Mr. Snuggles\")\n",
    "elif c1_age > c2_age:\n",
    "    print(\"Mr. Snuggles is older than Mr. Farley\")\n",
    "else:\n",
    "    print(\"Mr. Farley is the same age as Mr. Snuggles\")"
   ]
  },
  {
   "cell_type": "code",
   "execution_count": 11,
   "metadata": {},
   "outputs": [
    {
     "name": "stdout",
     "output_type": "stream",
     "text": [
      "Look a Web Developer and an Accountant\n"
     ]
    }
   ],
   "source": [
    "# Write an if-else statement to check if `c1_profession` is equal to \"Web Developer\" AND `c2_profession` is equal to \"Accountant\".\n",
    "# If so, print a string of \"Look a Web Developer and an Accountant\".\n",
    "# Else, print a string of \"They are professionals.\"\n",
    "if c1_profession == \"Web Developer\" and c2_profession == \"Accountant\":\n",
    "    print(\"Look a Web Developer and an Accountant\")\n",
    "else:\n",
    "    print(\"They are professionals\")"
   ]
  },
  {
   "cell_type": "code",
   "execution_count": 12,
   "metadata": {},
   "outputs": [
    {
     "name": "stdout",
     "output_type": "stream",
     "text": [
      "Mr. Farley doesn't hail from a sports town.\n"
     ]
    }
   ],
   "source": [
    "# Write an if-else statement to check if `c1_location` is equal to \"Oakland, CA\".\n",
    "# If so, print a string of \"Mr. Farley comes from the home of the Raiders!\".\n",
    "# Else if `c2_location` is equal to a string of \"San Francisco, CA\", print a string of \"Mr. Farley comes from the home of the 49ers!\".\n",
    "# Else, both conditions must not apply and therefore print a string \"Mr. Farley doesn't hail from a sports town.\"\n",
    "if c1_location == \"Oakland, CA\":\n",
    "    print(\"Mr. Farley comes from the home of the Raiders!\")\n",
    "elif c2_location == \"San Francisco, CA\":\n",
    "    print(\"Mr. Farley comes from the home of the 49ers!\")\n",
    "else:\n",
    "    print(\"Mr. Farley doesn't hail from a sports town.\")"
   ]
  },
  {
   "cell_type": "markdown",
   "metadata": {},
   "source": [
    "# ===================================="
   ]
  },
  {
   "cell_type": "markdown",
   "metadata": {},
   "source": [
    "### 2.04 Instructor Do: Conditional Statements (10 min)"
   ]
  },
  {
   "cell_type": "markdown",
   "metadata": {},
   "source": [
    "### conditional statement\n",
    "```python\n",
    "if True:\n",
    "  Do something\n",
    "else:\n",
    "  Do something else\n",
    "```"
   ]
  },
  {
   "cell_type": "code",
   "execution_count": 23,
   "metadata": {},
   "outputs": [
    {
     "name": "stdout",
     "output_type": "stream",
     "text": [
      "Oh no! The driver's asleep! What do we do?!\n",
      "\n",
      "All is good. Auto-pilot initiated.\n"
     ]
    }
   ],
   "source": [
    "# Driverless car scenario\n",
    "driverless_car = False\n",
    "\n",
    "if True:\n",
    "    # Do something\n",
    "    print(\"Oh no! The driver's asleep! What do we do?!\")\n",
    "    print()\n",
    "    print(\"All is good. Auto-pilot initiated.\")\n",
    "else:\n",
    "    # Do something else\n",
    "    print(\"Oh no! The driver's asleep! MAYDAY! MAYDAY!\")\n",
    "\n"
   ]
  },
  {
   "cell_type": "code",
   "execution_count": 14,
   "metadata": {},
   "outputs": [
    {
     "name": "stdout",
     "output_type": "stream",
     "text": [
      "Bring an umbrella!\n"
     ]
    }
   ],
   "source": [
    "# Demonstrate conditional with print statement\n",
    "is_raining = True\n",
    "\n",
    "if is_raining:\n",
    "    print(\"Bring an umbrella!\")\n",
    "else:\n",
    "    print(\"Leave the umbrella at home!\")\n",
    "\n",
    "\n"
   ]
  },
  {
   "cell_type": "code",
   "execution_count": 15,
   "metadata": {},
   "outputs": [],
   "source": [
    "# Variable values can be established using conditional statements.\n",
    "pedestrian = False\n",
    "\n",
    "if not pedestrian:\n",
    "    immediate_action = \"drive\"\n",
    "else:\n",
    "    immediate_action = \"stop\"\n",
    "\n",
    "\n"
   ]
  },
  {
   "cell_type": "code",
   "execution_count": 16,
   "metadata": {},
   "outputs": [
    {
     "name": "stdout",
     "output_type": "stream",
     "text": [
      "x is equal to 1\n"
     ]
    }
   ],
   "source": [
    "# Conditionals can be use to evaluate equality\n",
    "x = 1\n",
    "if x == 1:\n",
    "    print(\"x is equal to 1\")\n",
    "\n",
    "y = 5\n",
    "if y == 1:\n",
    "    print(\"x is equal to 1\")\n",
    "\n"
   ]
  },
  {
   "cell_type": "code",
   "execution_count": 17,
   "metadata": {},
   "outputs": [
    {
     "name": "stdout",
     "output_type": "stream",
     "text": [
      "y is not equal to 1\n"
     ]
    }
   ],
   "source": [
    "# Or inequality\n",
    "z = 9\n",
    "if z != 1:\n",
    "    print(\"y is not equal to 1\")\n",
    "\n"
   ]
  },
  {
   "cell_type": "code",
   "execution_count": 18,
   "metadata": {},
   "outputs": [],
   "source": [
    "# Declare variables and values for evaluation\n",
    "x = 1\n",
    "y = 10\n",
    "\n"
   ]
  },
  {
   "cell_type": "code",
   "execution_count": 19,
   "metadata": {},
   "outputs": [
    {
     "name": "stdout",
     "output_type": "stream",
     "text": [
      "Both values returned True\n"
     ]
    }
   ],
   "source": [
    "# Multiple conditional can be utilized\n",
    "if x == 1 and y == 10:\n",
    "    print(\"Both values returned True\")\n",
    "\n",
    "\n"
   ]
  },
  {
   "cell_type": "code",
   "execution_count": 20,
   "metadata": {},
   "outputs": [
    {
     "name": "stdout",
     "output_type": "stream",
     "text": [
      "x is less than 10 and y is greater than 5\n"
     ]
    }
   ],
   "source": [
    "# Nested if statements\n",
    "if x < 10:\n",
    "    if y < 5:\n",
    "        print(\"x is less than 10 and y is less than 5\")\n",
    "    elif y == 5:\n",
    "        print(\"x is less than 10 and y is equal to 5\")\n",
    "    else:\n",
    "        print(\"x is less than 10 and y is greater than 5\")\n",
    "\n"
   ]
  },
  {
   "cell_type": "code",
   "execution_count": 21,
   "metadata": {},
   "outputs": [
    {
     "name": "stdout",
     "output_type": "stream",
     "text": [
      "Insurance premium will increase. True or False?\n"
     ]
    }
   ],
   "source": [
    "# Nested if statements with insurance premium predictor\n",
    "accident = True\n",
    "at_fault = False\n",
    "accident_forgiveness = True\n",
    "elite_status = True\n",
    "\n",
    "increase_insurance_premium = True\n",
    "\n",
    "print(\"Insurance premium will increase. True or False?\")\n",
    "\n"
   ]
  },
  {
   "cell_type": "code",
   "execution_count": 22,
   "metadata": {},
   "outputs": [
    {
     "name": "stdout",
     "output_type": "stream",
     "text": [
      "Prediction: False\n"
     ]
    }
   ],
   "source": [
    "# Nested Conditional Statements\n",
    "if accident:\n",
    "    if at_fault and accident_forgiveness:\n",
    "        increase_insurance_premium = False\n",
    "    elif at_fault and not accident_forgiveness and not elite_status:\n",
    "        increase_insurance_premium = True\n",
    "    else:\n",
    "        increase_insurance_premium = False\n",
    "elif not accident and elite_status:\n",
    "    increase_insurance_premium = False\n",
    "else:\n",
    "    increase_insurance_premium = True\n",
    "\n",
    "print(f\"Prediction: {increase_insurance_premium}\")\n"
   ]
  },
  {
   "cell_type": "markdown",
   "metadata": {},
   "source": [
    "# ===================================="
   ]
  },
  {
   "cell_type": "markdown",
   "metadata": {},
   "source": [
    "### 2.05 Student Do: Conditional Conundrum (10 min)"
   ]
  },
  {
   "cell_type": "markdown",
   "metadata": {},
   "source": [
    "In this activity, you’ll create a Python script that implements conditional statements using comparison and logical operators.\n",
    "\n",
    "## Instructions\n",
    "\n",
    "Review each of the five conditional statement scenarios included in the starter file. Try to determine the results before running the code.\n",
    "\n",
    "1. Open the [starter file](05_Stu_Conditionals/Unsolved/conditionals.py). Review the examples and determine the output for each conditional statement. Do NOT run the code yet; try to guess what might happen. \n",
    "\n",
    "2. Once you've guessed, run the file and confirm if your guess was correct."
   ]
  },
  {
   "cell_type": "code",
   "execution_count": 24,
   "metadata": {},
   "outputs": [
    {
     "name": "stdout",
     "output_type": "stream",
     "text": [
      "Oooo needs some work\n"
     ]
    }
   ],
   "source": [
    "# 1. Output: `Oooo needs some work`\n",
    "x = 5\n",
    "if 2 * x > 10:\n",
    "    print(\"Question 1 works!\")\n",
    "else:\n",
    "    print(\"Oooo needs some work\")"
   ]
  },
  {
   "cell_type": "code",
   "execution_count": 25,
   "metadata": {},
   "outputs": [
    {
     "name": "stdout",
     "output_type": "stream",
     "text": [
      "Question 2 works!\n"
     ]
    }
   ],
   "source": [
    "# 2. Output: `Question 2 works!`\n",
    "x = 5\n",
    "if len(\"Dog\") < x:\n",
    "    print(\"Question 2 works!\")\n",
    "else:\n",
    "    print(\"Still missing out\")"
   ]
  },
  {
   "cell_type": "code",
   "execution_count": 26,
   "metadata": {},
   "outputs": [
    {
     "name": "stdout",
     "output_type": "stream",
     "text": [
      "Argggggh! You think you can hoodwink me?! You're too young to vote!\n"
     ]
    }
   ],
   "source": [
    "# 3. Output: `You are of voting age!`\n",
    "age = 18\n",
    "if age > 18:\n",
    "    print(\"You are of voting age!\")\n",
    "else:\n",
    "    print(\"Argggggh! You think you can hoodwink me?! You're too young to vote!\")"
   ]
  },
  {
   "cell_type": "code",
   "execution_count": 27,
   "metadata": {},
   "outputs": [
    {
     "name": "stdout",
     "output_type": "stream",
     "text": [
      "Can ride bumper cars\n"
     ]
    }
   ],
   "source": [
    "# 4. Output: `Can ride bumper cars`\n",
    "height = 66\n",
    "age = 16\n",
    "adult_permission = True\n",
    "\n",
    "if (height > 70) and (age >= 18):\n",
    "    print(\"Can ride all the roller coasters\")\n",
    "elif (height > 65) and (age >= 18):\n",
    "    print(\"Can ride moderate roller coasters\")\n",
    "elif (height > 60) and (age >= 18):\n",
    "    print(\"Can ride light roller coasters\")\n",
    "elif ((height > 50) and (age >= 18)) or ((adult_permission) and (height > 50)):\n",
    "    print(\"Can ride bumper cars\")\n",
    "else:\n",
    "    print(\"Stick to lazy river\")"
   ]
  },
  {
   "cell_type": "code",
   "execution_count": 28,
   "metadata": {},
   "outputs": [
    {
     "name": "stdout",
     "output_type": "stream",
     "text": [
      "GOT QUESTION 5!\n"
     ]
    }
   ],
   "source": [
    "# 5. Output: `GOT QUESTION 5!`\n",
    "x = 2\n",
    "y = 5\n",
    "if (x ** 3 >= y) and (y ** 2 < 26):\n",
    "    print(\"GOT QUESTION 5!\")\n",
    "else:\n",
    "    print(\"Oh good you can count\")"
   ]
  },
  {
   "cell_type": "markdown",
   "metadata": {},
   "source": [
    "# ===================================="
   ]
  },
  {
   "cell_type": "markdown",
   "metadata": {},
   "source": [
    "### BREAK (0:10)"
   ]
  },
  {
   "cell_type": "markdown",
   "metadata": {},
   "source": [
    "# ===================================="
   ]
  },
  {
   "cell_type": "markdown",
   "metadata": {},
   "source": [
    "### 2.06 Instructor Do: Python Functions (10 min)"
   ]
  },
  {
   "cell_type": "markdown",
   "metadata": {},
   "source": []
  },
  {
   "cell_type": "code",
   "execution_count": 29,
   "metadata": {},
   "outputs": [],
   "source": [
    "# Define a hello function and a main function that accepts a string argument\n",
    "def hello():\n",
    "    print(\"Hi! This is the hello function.\")"
   ]
  },
  {
   "cell_type": "code",
   "execution_count": 30,
   "metadata": {},
   "outputs": [],
   "source": [
    "def main(stock_ticker):\n",
    "    print(stock_ticker + \" is booming right now!\")"
   ]
  },
  {
   "cell_type": "code",
   "execution_count": 31,
   "metadata": {},
   "outputs": [
    {
     "name": "stdout",
     "output_type": "stream",
     "text": [
      "Hi! This is the hello function.\n",
      "AAPL is booming right now!\n"
     ]
    }
   ],
   "source": [
    "# Call the hello and main functions\n",
    "hello()\n",
    "main('AAPL')"
   ]
  },
  {
   "cell_type": "code",
   "execution_count": 32,
   "metadata": {},
   "outputs": [],
   "source": [
    "# Define a calculate_market_cap function that returns and integer, and then call it\n",
    "def calculate_market_cap(market_price, number_of_shares):\n",
    "    cap = market_price * number_of_shares\n",
    "\n",
    "    return cap"
   ]
  },
  {
   "cell_type": "code",
   "execution_count": 33,
   "metadata": {},
   "outputs": [],
   "source": [
    "stock_ticker = \"SBUX\"\n",
    "market_price = 76.06\n",
    "number_of_shares = 1243600000\n",
    "\n",
    "market_cap = calculate_market_cap(market_price, number_of_shares)"
   ]
  },
  {
   "cell_type": "code",
   "execution_count": 34,
   "metadata": {},
   "outputs": [
    {
     "name": "stdout",
     "output_type": "stream",
     "text": [
      "SBUX Market Capitalization: 94588216000.0\n",
      "Data type of market_cap variable is: <class 'float'>\n"
     ]
    }
   ],
   "source": [
    "print(f\"{stock_ticker} Market Capitalization: {market_cap}\")\n",
    "print(f\"Data type of market_cap variable is: {type(market_cap)}\")"
   ]
  },
  {
   "cell_type": "code",
   "execution_count": 35,
   "metadata": {},
   "outputs": [],
   "source": [
    "# Capture function output and print output value and data type\n",
    "def calculate_market_cap(market_price, number_of_shares):\n",
    "    cap = market_price * number_of_shares\n",
    "\n",
    "    return cap"
   ]
  },
  {
   "cell_type": "code",
   "execution_count": 36,
   "metadata": {},
   "outputs": [],
   "source": [
    "market_price = 76.06\n",
    "number_of_shares = 1243600000\n",
    "\n",
    "market_cap = calculate_market_cap(market_price, number_of_shares)"
   ]
  },
  {
   "cell_type": "code",
   "execution_count": 37,
   "metadata": {},
   "outputs": [
    {
     "name": "stdout",
     "output_type": "stream",
     "text": [
      "Market Capitalization: 94588216000.0\n",
      "Data type of market_cap variable is: <class 'float'>\n"
     ]
    }
   ],
   "source": [
    "print(f\"Market Capitalization: {market_cap}\")\n",
    "print(f\"Data type of market_cap variable is: {type(market_cap)}\")"
   ]
  },
  {
   "cell_type": "markdown",
   "metadata": {},
   "source": [
    "# ===================================="
   ]
  },
  {
   "cell_type": "markdown",
   "metadata": {},
   "source": [
    "### 2.07 Student Do: Functions (10 min)"
   ]
  },
  {
   "cell_type": "markdown",
   "metadata": {},
   "source": [
    "# Starting to Function\n",
    "\n",
    "In this activity, you'll practice working with Python functions.\n",
    "\n",
    "## Background\n",
    "\n",
    "Ever since you figured out how to calculate the total cost of the loan for your new car, all of your friends have been asking you to do their calculations.\n",
    "\n",
    "It makes sense to put the future calculation in a function; this way, you only have to write the function once and then call it over and over.\n",
    "\n",
    "Use the instructions and the starter file to create a `calculate_future_value` function and call it using the following `new_car_loan` dictionary:\n",
    "\n",
    "```python\n",
    "new_car_loan = {\n",
    "    \"current_loan_value\" : 25000,\n",
    "    \"months_remaining\" : 6,\n",
    "    \"annual_interest_rate\" : 0.085,\n",
    "    \"repayment_interval\" : \"bullet\"\n",
    "}\n",
    "```\n",
    "\n",
    "## Instructions\n",
    "\n",
    "Open the [starter file](2/Activities/07_Stu_Functions/Unsolved/functions.py) and complete the following steps. Use the following future value formula for reference:\n",
    "\n",
    "     future_value = current_loan_value * (1 + (annual_interest_rate)) ** months_remaining\n",
    "\n",
    "1. Create a function called `calculate_future_value` that fulfills the following criteria. \n",
    "\n",
    "    * The function should take in three arguments: `current_loan_value`, `annual_interest_rate`, and `months_remaining`.\n",
    "\n",
    "    * The function body should contain the `future_value` formula.\n",
    "\n",
    "    * The function should return the `future_value`.\n",
    "\n",
    "3. Call the `calculate_future_value` function, passing the relevant information from the `new_car_loan` dictionary as parameters. Make sure to set the function call equal to a variable called `cost_of_new_car`.\n",
    "\n",
    "4. Print the `cost_of_new_car`. Round the figure to two decimal places."
   ]
  },
  {
   "cell_type": "code",
   "execution_count": 38,
   "metadata": {},
   "outputs": [],
   "source": [
    "# Calculating the cost of a new car\n",
    "\n",
    "# Use the following future value formula from the dicts.py activity as reference\n",
    "# future_value = current_loan_value * (1 + (annual_interest_rate)) ** months_remaining\n",
    "\n",
    "\n",
    "# Create a function call calculate_future_value.\n",
    "# The function should take in 3 arguments, the current_loan_value, the annual_interest_rate and the months_remaining.\n",
    "# The function body should contain the future_value formula.\n",
    "# The function should return the future_value.\n",
    "\n",
    "def calculate_future_value(current_loan_value, annual_interest_rate, months_remaining):\n",
    "    future_value = current_loan_value * (1 + (annual_interest_rate / 12)) ** months_remaining\n",
    "    print(\"fv\", future_value)\n",
    "    return future_value"
   ]
  },
  {
   "cell_type": "code",
   "execution_count": 39,
   "metadata": {},
   "outputs": [
    {
     "name": "stdout",
     "output_type": "stream",
     "text": [
      "fv 26081.493749072288\n"
     ]
    }
   ],
   "source": [
    "# Call the calculate_future_value function, passing the relevant information from the new_car_loan dictionary as parameters.\n",
    "# Be sure to set the function call equal to a variable called cost_of_new_car. # Print the cost_of_new_car. Be sure to round the figure to 2 decimal places.\n",
    "\n",
    "new_car_loan = {\n",
    "    \"current_loan_value\": 25000,\n",
    "    \"months_remaining\": 6,\n",
    "    \"annual_interest_rate\": 0.085\n",
    "}\n",
    "\n",
    "cost_of_new_car = calculate_future_value(new_car_loan[\"current_loan_value\"], new_car_loan[\"annual_interest_rate\"], new_car_loan[\"months_remaining\"])"
   ]
  },
  {
   "cell_type": "code",
   "execution_count": 40,
   "metadata": {},
   "outputs": [
    {
     "name": "stdout",
     "output_type": "stream",
     "text": [
      "The cost of the new car is $ 26081.49.\n"
     ]
    }
   ],
   "source": [
    "print(f\"The cost of the new car is ${cost_of_new_car: .2f}.\")"
   ]
  },
  {
   "cell_type": "markdown",
   "metadata": {},
   "source": [
    "# ===================================="
   ]
  },
  {
   "cell_type": "markdown",
   "metadata": {},
   "source": [
    "### 2.08 Instructor Do: for Loops (15 min)"
   ]
  },
  {
   "cell_type": "markdown",
   "metadata": {},
   "source": []
  },
  {
   "cell_type": "code",
   "execution_count": 41,
   "metadata": {},
   "outputs": [
    {
     "name": "stdout",
     "output_type": "stream",
     "text": [
      "-----------------------------------------\n"
     ]
    }
   ],
   "source": [
    "# Iterating over all of the eggs in a carton\n",
    "\n",
    "# for stock in portfolio:\n",
    "# Evaluate performance\n",
    "\n",
    "print(\"-----------------------------------------\")"
   ]
  },
  {
   "cell_type": "code",
   "execution_count": 42,
   "metadata": {},
   "outputs": [
    {
     "name": "stdout",
     "output_type": "stream",
     "text": [
      "0\n",
      "1\n",
      "2\n",
      "3\n",
      "4\n",
      "-----------------------------------------\n"
     ]
    }
   ],
   "source": [
    "# Loop through a range of numbers (0 through 4)\n",
    "for x in range(5):\n",
    "    print(x)\n",
    "\n",
    "print(\"-----------------------------------------\")"
   ]
  },
  {
   "cell_type": "code",
   "execution_count": 43,
   "metadata": {},
   "outputs": [
    {
     "name": "stdout",
     "output_type": "stream",
     "text": [
      "2\n",
      "3\n",
      "4\n",
      "5\n",
      "6\n",
      "----------------------------------------\n"
     ]
    }
   ],
   "source": [
    "# Loop through a range of numbers (2 through 6 - yes 6! Up to, but not including, 7)\n",
    "for x in range(2, 7):\n",
    "    print(x)\n",
    "\n",
    "print(\"----------------------------------------\")"
   ]
  },
  {
   "cell_type": "code",
   "execution_count": 44,
   "metadata": {},
   "outputs": [
    {
     "name": "stdout",
     "output_type": "stream",
     "text": [
      "F\n",
      "i\n",
      "n\n",
      "T\n",
      "e\n",
      "c\n",
      "h\n",
      " \n",
      "R\n",
      "o\n",
      "c\n",
      "k\n",
      "s\n",
      "!\n",
      "----------------------------------------\n"
     ]
    }
   ],
   "source": [
    "# Iterate through letters in a string\n",
    "word = \"fINtECH rOCKS!\"\n",
    "for letter in word:\n",
    "    print(letter.swapcase())\n",
    "\n",
    "print(\"----------------------------------------\")"
   ]
  },
  {
   "cell_type": "code",
   "execution_count": 45,
   "metadata": {},
   "outputs": [
    {
     "name": "stdout",
     "output_type": "stream",
     "text": [
      "Inside loop: $ 117.95\n",
      "Inside loop: $ 134.95\n",
      "Inside loop: $ 169.95\n",
      "Inside loop: $ 247.77999999999997\n",
      "Inside loop: $ 593.45\n",
      "Inside loop: $ 638.84\n",
      "The total spent on my spending spree was $ 638.84\n",
      "----------------------------------------\n"
     ]
    }
   ],
   "source": [
    "shopping_spree_charges = [117.95, 17, 35, 77.83, 345.67, 45.39]\n",
    "spending_total = 0.00\n",
    "\n",
    "for charge in shopping_spree_charges:\n",
    "    spending_total += charge\n",
    "    print(\"Inside loop: $\", spending_total)\n",
    "\n",
    "print(\"The total spent on my spending spree was $\", round(spending_total, 2))\n",
    "\n",
    "\n",
    "print(\"----------------------------------------\")"
   ]
  },
  {
   "cell_type": "code",
   "execution_count": 46,
   "metadata": {},
   "outputs": [],
   "source": [
    "trading_pnl = {\n",
    "    \"03-18-2019\": -224,\n",
    "    \"03-19-2019\": 352,\n",
    "    \"03-20-2019\": 252,\n",
    "    \"03-21-2019\": 354,\n",
    "    \"03-22-2019\": -544,\n",
    "    \"03-23-2019\": -650,\n",
    "    \"03-24-2019\": 56,\n",
    "    \"03-25-2019\": 123,\n",
    "    \"03-26-2019\": -43,\n",
    "    \"03-27-2019\": 254,\n",
    "    \"03-28-2019\": 325,\n",
    "    \"03-29-2019\": -123,\n",
    "    \"03-30-2019\": 47,\n",
    "    \"03-31-2019\": 321,\n",
    "    \"04-01-2019\": 123,\n",
    "    \"04-02-2019\": 133,\n",
    "    \"04-03-2019\": -151,\n",
    "    \"04-04-2019\": 613,\n",
    "    \"04-05-2019\": 232,\n",
    "    \"04-06-2019\": -311\n",
    "}"
   ]
  },
  {
   "cell_type": "code",
   "execution_count": 47,
   "metadata": {},
   "outputs": [
    {
     "name": "stdout",
     "output_type": "stream",
     "text": [
      "03-18-2019\n",
      "03-19-2019\n",
      "03-20-2019\n",
      "03-21-2019\n",
      "03-22-2019\n",
      "03-23-2019\n",
      "03-24-2019\n",
      "03-25-2019\n",
      "03-26-2019\n",
      "03-27-2019\n",
      "03-28-2019\n",
      "03-29-2019\n",
      "03-30-2019\n",
      "03-31-2019\n",
      "04-01-2019\n",
      "04-02-2019\n",
      "04-03-2019\n",
      "04-04-2019\n",
      "04-05-2019\n",
      "04-06-2019\n"
     ]
    }
   ],
   "source": [
    "# Print just the keys\n",
    "for key in trading_pnl:\n",
    "    print(key)"
   ]
  },
  {
   "cell_type": "code",
   "execution_count": 48,
   "metadata": {},
   "outputs": [
    {
     "name": "stdout",
     "output_type": "stream",
     "text": [
      "-224\n",
      "352\n",
      "252\n",
      "354\n",
      "-544\n",
      "-650\n",
      "56\n",
      "123\n",
      "-43\n",
      "254\n",
      "325\n",
      "-123\n",
      "47\n",
      "321\n",
      "123\n",
      "133\n",
      "-151\n",
      "613\n",
      "232\n",
      "-311\n"
     ]
    }
   ],
   "source": [
    "# Printing the values\n",
    "for key in trading_pnl:\n",
    "    print(trading_pnl[key])"
   ]
  },
  {
   "cell_type": "code",
   "execution_count": 49,
   "metadata": {},
   "outputs": [
    {
     "name": "stdout",
     "output_type": "stream",
     "text": [
      "Inside loop: -224.0\n",
      "Inside loop: 128.0\n",
      "Inside loop: 380.0\n",
      "Inside loop: 734.0\n",
      "Inside loop: 190.0\n",
      "Inside loop: -460.0\n",
      "Inside loop: -404.0\n",
      "Inside loop: -281.0\n",
      "Inside loop: -324.0\n",
      "Inside loop: -70.0\n",
      "Inside loop: 255.0\n",
      "Inside loop: 132.0\n",
      "Inside loop: 179.0\n",
      "Inside loop: 500.0\n",
      "Inside loop: 623.0\n",
      "Inside loop: 756.0\n",
      "Inside loop: 605.0\n",
      "Inside loop: 1218.0\n",
      "Inside loop: 1450.0\n",
      "Inside loop: 1139.0\n",
      "The net pnl for the period was $ 1139.0\n"
     ]
    }
   ],
   "source": [
    "# Calculations using the values\n",
    "net_pnl = 0.00\n",
    "\n",
    "for key in trading_pnl:\n",
    "    net_pnl += trading_pnl[key]\n",
    "    print(\"Inside loop:\", net_pnl)\n",
    "\n",
    "print(\"The net pnl for the period was $\", round(net_pnl, 2))"
   ]
  },
  {
   "cell_type": "markdown",
   "metadata": {},
   "source": [
    "# ===================================="
   ]
  },
  {
   "cell_type": "markdown",
   "metadata": {},
   "source": [
    "### 2.09 Student Do: Loop-De-Loop (15 min)"
   ]
  },
  {
   "cell_type": "markdown",
   "metadata": {},
   "source": [
    "# Loop De Loop\n",
    "\n",
    "In this activity, you’ll explore a number of use cases for loops. This will help you gain more experience iterating through both lists and dictionaries.\n",
    "\n",
    "## Background\n",
    "\n",
    "You’re reviewing the performance of your portfolio during the month of February 2019. In this activity, you'll use loops to help determine the net total of gains and losses for the period. You will also use loops to determine the days that had big gains versus the days that had big losses.\n",
    "\n",
    "## Instructions\n",
    "\n",
    "Using the [starter code](2/Activities/09_Stu_Loops/Unsolved/loops.py) provided, loop through the provided list and dictionary to find the information specified by the instructions.\n",
    "\n",
    "### Loop Through a List\n",
    "\n",
    "Here is the list of portfolio gains and losses for the investment period of February 2019:\n",
    "\n",
    "```python\n",
    "portfolio_gain_loss_list = [\n",
    "    168.48, 2445.21, 1461.00, -461.98,\n",
    "    -3368.62, 427.03, 193.99, 4443.63,\n",
    "    1132.76, -779.18, 3372.93, 604.64,\n",
    "    703.99, -1249.01, 2156.62, 475.81,\n",
    "    -250.61, -150.43, -653.08\n",
    "]\n",
    "```\n",
    "\n",
    "1. Using a `for` loop, calculate the total sum of gains and losses for the period. Print the result.\n",
    "\n",
    "2. Using the `len` function, determine the number of days in the investment period. Set that value equal to a variable called `number_of_days`. Print the value.\n",
    "\n",
    "3. Use the `sum_list` and `number_of_days` variables to determine the `average_gain_loss_per_day` value.  Print that value, rounding it to two decimal places.\n",
    "\n",
    "#### Looping Through a Dictionary\n",
    "\n",
    "Here is the dictionary of portfolio gains and losses for the investment period of February 2019:\n",
    "\n",
    "```python\n",
    "portfolio_gain_loss_dict = {\n",
    "    \"02-01-2019\": 168.48,\n",
    "    \"02_04-2019\": 2445.21,\n",
    "    \"02-05-2019\": 1461.00,\n",
    "    \"02-06-2019\": -461.98,\n",
    "    \"02-07-2019\": -3368.62,\n",
    "    \"02-08-2019\": 427.03,\n",
    "    \"02-11-2019\": 193.99,\n",
    "    \"02-12-2019\": 4443.63,\n",
    "    \"02-13-2019\": 1132.76,\n",
    "    \"02-14-2019\": -779.18,\n",
    "    \"02-15-2019\": 3372.93,\n",
    "    \"02-19-2019\": 604.64,\n",
    "    \"02-20-2019\": 703.99,\n",
    "    \"02-21-2019\": -1249.01,\n",
    "    \"02-22-2019\": 2156.62,\n",
    "    \"02-25-2019\": 475.81,\n",
    "    \"02-26-2019\": -250.61,\n",
    "    \"02-27-2019\": -150.43,\n",
    "    \"02-28-2019\": -653.08\n",
    "}\n",
    "```\n",
    "\n",
    "1. Using a `for` loop, calculate the total sum of gains and losses for the period. Print the result.\n",
    "\n",
    "    **Hint:** This total should match the one calculated from looping through the list.\n",
    "\n",
    "2. Conditionally filter the dictionary to find the days with a gain greater than or equal to $1,000, or a loss of less than or equal to -$1,000. Add these gain or loss values only to either the `big_gains` list or `big_losses` list. Print both lists.\n",
    "\n",
    "6. Loop through both the `big_gains` and `big_losses` lists to determine whether the days with the big gains were more profitable than the days with the big losses were painful."
   ]
  },
  {
   "cell_type": "code",
   "execution_count": 50,
   "metadata": {},
   "outputs": [],
   "source": [
    "# Loop-De_Loop - Solution\n",
    "\n",
    "# List of Portfolio gains and losses for the investment period of February, 2019.\n",
    "portfolio_gain_loss_list = [\n",
    "    168.48, 2445.21, 1461.00, -461.98,\n",
    "    -3368.62, 427.03, 193.99, 4443.63,\n",
    "    1132.76, -779.18, 3372.93, 604.64,\n",
    "    703.99, -1249.01, 2156.62, 475.81,\n",
    "    -250.61, -150.43, -653.08\n",
    "]"
   ]
  },
  {
   "cell_type": "code",
   "execution_count": 51,
   "metadata": {},
   "outputs": [
    {
     "name": "stdout",
     "output_type": "stream",
     "text": [
      "Total gain_loss 10673.18\n"
     ]
    }
   ],
   "source": [
    "# Using a for loop calculate the total sum of gains and losses for the period. Print the result rounded to 2 decimal places.\n",
    "\n",
    "sum_list = 0.00\n",
    "\n",
    "for day in portfolio_gain_loss_list:\n",
    "    sum_list += day\n",
    "\n",
    "print(\"Total gain_loss\", round(sum_list, 2))"
   ]
  },
  {
   "cell_type": "code",
   "execution_count": 52,
   "metadata": {},
   "outputs": [
    {
     "name": "stdout",
     "output_type": "stream",
     "text": [
      "The number of days in the period was 19\n"
     ]
    }
   ],
   "source": [
    "# Using the len() method determine the number of days in the investment period. Set that value equal to a variable called `number_of_days`. Print the value.\n",
    "\n",
    "number_of_days = len(portfolio_gain_loss_list)\n",
    "print(\"The number of days in the period was\", number_of_days)"
   ]
  },
  {
   "cell_type": "code",
   "execution_count": 53,
   "metadata": {},
   "outputs": [
    {
     "name": "stdout",
     "output_type": "stream",
     "text": [
      "The average gain/loss per day was 561.75\n"
     ]
    }
   ],
   "source": [
    "# Use the sum_list and number_of_days variables to determine the `average_gain_loss_per_day` value. Print that value, rounding it to 2 decimal places.\n",
    "\n",
    "average_gain_loss_per_day = sum_list / number_of_days\n",
    "\n",
    "print(\"The average gain/loss per day was\", round(average_gain_loss_per_day, 2))"
   ]
  },
  {
   "cell_type": "code",
   "execution_count": 54,
   "metadata": {},
   "outputs": [],
   "source": [
    "# Looping through a dictionary\n",
    "\n",
    "# Dictionary of portfolio gains and losses for the investment period of February, 2019.\n",
    "portfolio_gain_loss_dict = {\n",
    "    \"02-01-2019\": 168.48,\n",
    "    \"02_04-2019\": 2445.21,\n",
    "    \"02-05-2019\": 1461.00,\n",
    "    \"02-06-2019\": -461.98,\n",
    "    \"02-07-2019\": -3368.62,\n",
    "    \"02-08-2019\": 427.03,\n",
    "    \"02-11-2019\": 193.99,\n",
    "    \"02-12-2019\": 4443.63,\n",
    "    \"02-13-2019\": 1132.76,\n",
    "    \"02-14-2019\": -779.18,\n",
    "    \"02-15-2019\": 3372.93,\n",
    "    \"02-19-2019\": 604.64,\n",
    "    \"02-20-2019\": 703.99,\n",
    "    \"02-21-2019\": -1249.01,\n",
    "    \"02-22-2019\": 2156.62,\n",
    "    \"02-25-2019\": 475.81,\n",
    "    \"02-26-2019\": -250.61,\n",
    "    \"02-27-2019\": -150.43,\n",
    "    \"02-28-2019\": -653.08\n",
    "}"
   ]
  },
  {
   "cell_type": "code",
   "execution_count": 55,
   "metadata": {},
   "outputs": [
    {
     "name": "stdout",
     "output_type": "stream",
     "text": [
      "Total gain_loss 10673.18\n"
     ]
    }
   ],
   "source": [
    "# Using a for loop calculate the total sum of gains and losses for the period. Print the result rounded to 2 decimal places.\n",
    "# Hint - This total should match the one calculated from looping through the list.\n",
    "\n",
    "sum_dict = 0.00\n",
    "\n",
    "for key in portfolio_gain_loss_dict:\n",
    "    sum_dict += portfolio_gain_loss_dict[key]\n",
    "\n",
    "print(\"Total gain_loss\", round(sum_dict, 2))"
   ]
  },
  {
   "cell_type": "code",
   "execution_count": 56,
   "metadata": {},
   "outputs": [
    {
     "name": "stdout",
     "output_type": "stream",
     "text": [
      "The biggest gains were: [2445.21, 1461.0, 4443.63, 1132.76, 3372.93, 2156.62]\n",
      "The biggest losses were: [-3368.62, -1249.01]\n"
     ]
    }
   ],
   "source": [
    "#  Conditionally filter the dictionary to find the days with a gain greater than or equal to $1000, or a loss less than or equal to -$1000. Add these gain or loss VALUES only to the appropriate list. Print both lists.\n",
    "\n",
    "big_gains = []\n",
    "big_losses = []\n",
    "\n",
    "for key in portfolio_gain_loss_dict:\n",
    "    if portfolio_gain_loss_dict[key] >= 1000:\n",
    "        big_gains.append(portfolio_gain_loss_dict[key])\n",
    "    if portfolio_gain_loss_dict[key] <= -1000:\n",
    "        big_losses.append(portfolio_gain_loss_dict[key])\n",
    "\n",
    "print(\"The biggest gains were:\", big_gains)\n",
    "print(\"The biggest losses were:\", big_losses)"
   ]
  },
  {
   "cell_type": "code",
   "execution_count": 57,
   "metadata": {},
   "outputs": [
    {
     "name": "stdout",
     "output_type": "stream",
     "text": [
      "The big gains total was 15012.15\n",
      "The big losses total was -4617.63\n"
     ]
    }
   ],
   "source": [
    "# Loop through both lists to determine if the days with the big gains were more profitable than the days with the big losses\n",
    "\n",
    "total_big_gains = 0.00\n",
    "total_big_losses = 0.00\n",
    "\n",
    "for gain in big_gains:\n",
    "    total_big_gains += gain\n",
    "\n",
    "for loss in big_losses:\n",
    "    total_big_losses += loss\n",
    "\n",
    "print(\"The big gains total was\", round(total_big_gains, 2))\n",
    "print(\"The big losses total was\", round(total_big_losses, 2))"
   ]
  },
  {
   "cell_type": "markdown",
   "metadata": {},
   "source": [
    "# ===================================="
   ]
  },
  {
   "cell_type": "markdown",
   "metadata": {},
   "source": [
    "### 2.09 Instructor Do: GitHub (10 min)"
   ]
  },
  {
   "cell_type": "markdown",
   "metadata": {},
   "source": [
    "* Login your account in https://github.com/\n",
    "* Create `New repository`\n",
    "* In `Create a new repository` page:\n",
    "   - Name it `first_repo`\n",
    "   - Choose `Public`\n",
    "   - Check `Add a README file`\n",
    "   - Check `Add .gitignore` and choose `python` from the dropdown list.\n",
    "   - Click `Create repository`\n",
    "* In your `Desktop` create folder and name it `'Github_Upload` and open it in `VS Code`\n",
    "* In `VS Code` create a new file `main.py` and add this line\n",
    "```python\n",
    "print(\"Hello, My name is <your name here>.\")\n",
    "```\n",
    "* In your github repository `first_repo` click on `Add file` and `Upload files` from the drop menu.\n",
    "* Drag and drop your `Github_Upload` folder from your desktop into the appropriate space on the file upload window\n",
    "\n",
    "   "
   ]
  },
  {
   "cell_type": "markdown",
   "metadata": {},
   "source": [
    "# ===================================="
   ]
  },
  {
   "cell_type": "markdown",
   "metadata": {},
   "source": [
    "### Rating Class Objectives\n",
    "\n",
    "* rate your understanding using 1-5 method in each objective"
   ]
  },
  {
   "cell_type": "code",
   "execution_count": null,
   "metadata": {},
   "outputs": [],
   "source": [
    "objectives = [\n",
    "    \"Articulate how conditional statements are used to make decisions in a program\",\n",
    "    \"Define and call a Python function\",\n",
    "    \"Python loop and iterate over an iterable object\",\n",
    "    \"Iterate over a Python list using a for loop\",\n",
    "    \"Create a new repository in GitHub and manually upload a folder to the GitHub GUI\",\n",
    "]\n",
    "rating = []\n",
    "total = 0\n",
    "for i in range(len(objectives)):\n",
    "    rate = input(objectives[i]+\"? \")\n",
    "    total += int(rate)\n",
    "    rating.append(objectives[i] + \". (\" + rate + \"/5)\")\n",
    "print(\"=\"*96)\n",
    "print(\"My rating today is:\")\n",
    "print(\"-\"*24)\n",
    "for i in rating:\n",
    "    print(i)\n",
    "print(\"-\"*64)\n",
    "print(\"Average: \" + str(total/len(objectives)))"
   ]
  }
 ],
 "metadata": {
  "kernelspec": {
   "display_name": "Python [conda env:root] *",
   "language": "python",
   "name": "conda-root-py"
  },
  "language_info": {
   "codemirror_mode": {
    "name": "ipython",
    "version": 3
   },
   "file_extension": ".py",
   "mimetype": "text/x-python",
   "name": "python",
   "nbconvert_exporter": "python",
   "pygments_lexer": "ipython3",
   "version": "3.8.8"
  }
 },
 "nbformat": 4,
 "nbformat_minor": 4
}
