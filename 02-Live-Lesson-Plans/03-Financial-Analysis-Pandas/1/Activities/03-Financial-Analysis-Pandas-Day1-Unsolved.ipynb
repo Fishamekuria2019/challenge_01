{
 "cells": [
  {
   "cell_type": "markdown",
   "metadata": {},
   "source": [
    "## 03-Financial-Analysis-Pandas - Day 1 - JupyterLab & Pandas"
   ]
  },
  {
   "cell_type": "markdown",
   "metadata": {},
   "source": [
    "### Class Objectives\n",
    "\n",
    "* Work comfortably in the JupyterLab IDE.\n",
    "* Understand the relationship between Python and Pandas.\n",
    "* Understand the benefits of Pandas over spreadsheets to manipulate data for financial use cases.\n",
    "* Create Pandas Series and DataFrame structures from scratch and be able to manipulate them.\n",
    "* Create DataFrames from CSV files.\n"
   ]
  },
  {
   "cell_type": "markdown",
   "metadata": {},
   "source": [
    "### Resorces:\n",
    "* [JupyterLab Overview](https://jupyterlab.readthedocs.io/en/stable/getting_started/overview.html)\n",
    "* [Getting Started with Pandas](https://pandas.pydata.org/docs/getting_started/index.html)\n",
    "* [Pandas Series](https://pandas.pydata.org/pandas-docs/stable/reference/api/pandas.Series.html)\n",
    "* [Pandas DataFrame](https://pandas.pydata.org/pandas-docs/stable/reference/api/pandas.DataFrame.html)"
   ]
  },
  {
   "cell_type": "markdown",
   "metadata": {},
   "source": [
    "### Install:\n",
    "* `conda install pandas -y` or `pip install pandas`\n",
    "```bash\n",
    "conda install -c conda-forge nb_conda_kernels -y\n",
    "conda activate dev\n",
    "conda install ipykernel -y\n",
    "conda deactivate\n",
    "```"
   ]
  },
  {
   "cell_type": "markdown",
   "metadata": {},
   "source": [
    "# ================================"
   ]
  },
  {
   "cell_type": "markdown",
   "metadata": {},
   "source": [
    "### 1.01 Instructor Do: Introducing JupyterLab (10 mins)"
   ]
  },
  {
   "cell_type": "markdown",
   "metadata": {},
   "source": [
    "#### This instructor-led activity is designed to build student confidence with regard to working in the JupyterLab interface. "
   ]
  },
  {
   "cell_type": "code",
   "execution_count": 1,
   "metadata": {},
   "outputs": [],
   "source": [
    "# A comment begins with a hashtag\n",
    "# Run this cell by hitting the \"single-play\" arrow icon\n",
    "\n",
    "num_1 = 3\n",
    "num_2 = 7"
   ]
  },
  {
   "cell_type": "code",
   "execution_count": 2,
   "metadata": {},
   "outputs": [
    {
     "data": {
      "text/plain": [
       "10"
      ]
     },
     "execution_count": 2,
     "metadata": {},
     "output_type": "execute_result"
    }
   ],
   "source": [
    "# Create the variable\n",
    "sum = num_1 + num_2\n",
    "\n",
    "# Print the variable\n",
    "sum"
   ]
  },
  {
   "cell_type": "code",
   "execution_count": 3,
   "metadata": {},
   "outputs": [
    {
     "name": "stdout",
     "output_type": "stream",
     "text": [
      "10\n"
     ]
    }
   ],
   "source": [
    "# Content can also be printed using the print function\n",
    "print(num_1 + num_2)"
   ]
  },
  {
   "cell_type": "code",
   "execution_count": 4,
   "metadata": {},
   "outputs": [],
   "source": [
    "# A cell can be added with the \"+\" icon\n",
    "# Once a cell is added it can be a designated as a \"Code\" cell or a \"Markdown\" cell\n"
   ]
  },
  {
   "cell_type": "markdown",
   "metadata": {},
   "source": [
    "## Markdown Cells\n",
    "\n",
    "A Markdown cell is created by selecting the Markdown option from the dropdown menu associated with the Launcher menu. \n",
    "A Markdown cell allows you to use Markdown syntax to communicate insights via text.\n",
    "All markdown syntax works in a Markdown cell. "
   ]
  },
  {
   "cell_type": "code",
   "execution_count": 5,
   "metadata": {},
   "outputs": [],
   "source": [
    "# This cell can be removed with the scissors icon"
   ]
  },
  {
   "cell_type": "code",
   "execution_count": 6,
   "metadata": {},
   "outputs": [],
   "source": [
    "# Additional cell functionality is found under \"Edit\" on the Main Menu bar\n",
    "# This functionality includes moving cells up and down, splitting cells or merging cells"
   ]
  },
  {
   "cell_type": "code",
   "execution_count": 7,
   "metadata": {},
   "outputs": [],
   "source": [
    "banks_list = [\"Chase\", \"Fifth Third\", \"Wachovia\", \"Bank of America\"]"
   ]
  },
  {
   "cell_type": "code",
   "execution_count": 8,
   "metadata": {},
   "outputs": [],
   "source": [
    "# Cells must be run in order in order to variables to be put into memory correctly"
   ]
  },
  {
   "cell_type": "code",
   "execution_count": 9,
   "metadata": {},
   "outputs": [
    {
     "name": "stdout",
     "output_type": "stream",
     "text": [
      "The name of the bank in index position 0 is Chase.\n",
      "The name of the bank in index position 1 is Fifth Third.\n",
      "The name of the bank in index position 2 is Wachovia.\n",
      "The name of the bank in index position 3 is Bank of America.\n"
     ]
    }
   ],
   "source": [
    "# You can write functions and use f-strings\n",
    "i = 0\n",
    "\n",
    "for bank in banks_list:\n",
    "    print(f\"The name of the bank in index position {i} is {bank}.\")\n",
    "    i += 1"
   ]
  },
  {
   "cell_type": "code",
   "execution_count": 10,
   "metadata": {},
   "outputs": [],
   "source": [
    "# The entire notebook can be cleared and rerun from top to bottom\n",
    "# by selecting the \"double-play\" arrow icon. "
   ]
  },
  {
   "cell_type": "markdown",
   "metadata": {},
   "source": [
    "# ================================"
   ]
  },
  {
   "cell_type": "markdown",
   "metadata": {},
   "source": [
    "### 1.02 Student Do: Working in JupyterLab (10 mins)"
   ]
  },
  {
   "cell_type": "markdown",
   "metadata": {},
   "source": [
    "# Working in JupyterLab\n",
    "\n",
    "In this activity, you will build familiarity working with a Jupyter notebook inside the JupyterLab environment.\n",
    "\n",
    "\n",
    "## Instructions\n",
    "\n",
    "1. Create a folder called `JupyterLab_Practice` on your computer's desktop.\n",
    "\n",
    "2. Open your terminal (Terminal for Mac users and Git Bash for Windows users) and navigate to the `JupyterLab_Practice` folder.\n",
    "\n",
    "3. Activate your Conda `dev` environment.\n",
    "\n",
    "4. With the `dev` environment active, launch JupyterLab.\n",
    "\n",
    "5. Open the visible Launcher tab  as a Python 3 notebook.\n",
    "\n",
    "6. Right-click on the tab and select \"Rename Notebook...\" Name the notebook `notebook_practice.ipynb`.\n",
    "\n",
    "7. In `notebook_practice.ipynb`, complete the following actions:\n",
    "\n",
    "    * Add a new cell that contains two variables. Assign the variables numeric values.\n",
    "    \n",
    "    * Add a new cell and assign it as a Markdown cell. Include a header and some text.\n",
    "    \n",
    "    * Add a new cell that includes both a comment and a variable and that adds together the two numeric variables you created earlier. Write the code to print the value of this variable.\n",
    "    \n",
    "    * Navigate back to the first cell and run each cell individually using the single-play arrow icon.\n",
    "    \n",
    "    * Add a new cell that includes a variable and that multiplies the two numeric variables you created earlier. Write the code to print the value of this variable,  using the `print` function and an f-string.\n",
    "    \n",
    "    * Using the double-play arrow icon, restart and run the notebook from the beginning.\n",
    "    \n",
    "    * Cut the Markdown cell that was created above."
   ]
  },
  {
   "cell_type": "code",
   "execution_count": 11,
   "metadata": {},
   "outputs": [],
   "source": [
    "# Create 2 variables and give them numeric values.\n",
    "# YOUR CODE HERE!"
   ]
  },
  {
   "cell_type": "markdown",
   "metadata": {},
   "source": [
    "## Markdown Cell\n",
    "\n",
    "To create a Markdown cell, you add a **new** cell to the notebook, and the select Markdown from the dropdown menu associated with the tab. "
   ]
  },
  {
   "cell_type": "code",
   "execution_count": 12,
   "metadata": {},
   "outputs": [
    {
     "data": {
      "text/plain": [
       "743.7"
      ]
     },
     "execution_count": 12,
     "metadata": {},
     "output_type": "execute_result"
    }
   ],
   "source": [
    "# Add a new cell that includes both a comment and a variable that \n",
    "# adds together the two numberic variables you created earlier. \n",
    "# Write the code to print the value of this variable.\n",
    "\n",
    "# Write the code to print the value of this variable.\n",
    "# YOUR CODE HERE!"
   ]
  },
  {
   "cell_type": "code",
   "execution_count": 13,
   "metadata": {},
   "outputs": [
    {
     "name": "stdout",
     "output_type": "stream",
     "text": [
      "You can use f-strings to print the value of variables like 425.7 and 318, as well as the result 135372.6.\n"
     ]
    }
   ],
   "source": [
    "# Add a new cell that includes a variable that multiplies together \n",
    "# the two numeric variables you created earlier. \n",
    "\n",
    "\n",
    "# Write the code to print the value this variable using the print function and an f-string.\n",
    "# YOUR CODE HERE!"
   ]
  },
  {
   "cell_type": "markdown",
   "metadata": {},
   "source": [
    "# ================================"
   ]
  },
  {
   "cell_type": "markdown",
   "metadata": {},
   "source": [
    "### 1.03 Instructor Do: Introducing the Pandas Series (15 mins)"
   ]
  },
  {
   "cell_type": "markdown",
   "metadata": {},
   "source": [
    "[Pandas Series](https://pandas.pydata.org/pandas-docs/stable/reference/api/pandas.Series.html)\n",
    "\n",
    "```bash\n",
    "conda activate dev\n",
    "conda list\n",
    "```"
   ]
  },
  {
   "cell_type": "code",
   "execution_count": 1,
   "metadata": {},
   "outputs": [],
   "source": [
    "# Import the pandas module and alias it as 'pd'\n",
    "import pandas as pd"
   ]
  },
  {
   "cell_type": "markdown",
   "metadata": {},
   "source": [
    " # List Example"
   ]
  },
  {
   "cell_type": "code",
   "execution_count": 2,
   "metadata": {},
   "outputs": [],
   "source": [
    "# Create a list\n",
    "list_of_numbers = [12, 0, 55, 12, 12]"
   ]
  },
  {
   "cell_type": "markdown",
   "metadata": {},
   "source": [
    " ## Type Checking"
   ]
  },
  {
   "cell_type": "code",
   "execution_count": 4,
   "metadata": {},
   "outputs": [
    {
     "data": {
      "text/plain": [
       "[12, 0, 55, 12, 12]"
      ]
     },
     "execution_count": 4,
     "metadata": {},
     "output_type": "execute_result"
    }
   ],
   "source": [
    "# Check type of list_of_numbers\n",
    "type(list_of_numbers)"
   ]
  },
  {
   "cell_type": "code",
   "execution_count": 5,
   "metadata": {},
   "outputs": [
    {
     "data": {
      "text/plain": [
       "int"
      ]
     },
     "execution_count": 5,
     "metadata": {},
     "output_type": "execute_result"
    }
   ],
   "source": [
    "# Check type of an element in list_of_numbers\n",
    "type(list_of_numbers[0])"
   ]
  },
  {
   "cell_type": "code",
   "execution_count": 6,
   "metadata": {},
   "outputs": [],
   "source": [
    "# Create a Series from the list\n",
    "series_of_numbers = pd.Series(list_of_numbers)"
   ]
  },
  {
   "cell_type": "code",
   "execution_count": 9,
   "metadata": {},
   "outputs": [
    {
     "data": {
      "text/plain": [
       "pandas.core.series.Series"
      ]
     },
     "execution_count": 9,
     "metadata": {},
     "output_type": "execute_result"
    }
   ],
   "source": [
    "# Check type of series_of_numbers\n",
    "type(series_of_numbers)"
   ]
  },
  {
   "cell_type": "code",
   "execution_count": 10,
   "metadata": {},
   "outputs": [
    {
     "name": "stdout",
     "output_type": "stream",
     "text": [
      "0    12\n",
      "1     0\n",
      "2    55\n",
      "3    12\n",
      "4    12\n",
      "dtype: int64\n"
     ]
    }
   ],
   "source": [
    "# Print the Series\n",
    "print(series_of_numbers)"
   ]
  },
  {
   "cell_type": "markdown",
   "metadata": {},
   "source": [
    " # Series Attributes"
   ]
  },
  {
   "cell_type": "code",
   "execution_count": 11,
   "metadata": {},
   "outputs": [
    {
     "data": {
      "text/plain": [
       "dtype('int64')"
      ]
     },
     "execution_count": 11,
     "metadata": {},
     "output_type": "execute_result"
    }
   ],
   "source": [
    "# Return the data type of the elements in the series\n",
    "series_of_numbers.dtypes"
   ]
  },
  {
   "cell_type": "code",
   "execution_count": 16,
   "metadata": {},
   "outputs": [
    {
     "data": {
      "text/plain": [
       "12"
      ]
     },
     "execution_count": 16,
     "metadata": {},
     "output_type": "execute_result"
    }
   ],
   "source": [
    "# Return the element at index 0 using iloc\n",
    "series_of_numbers.iloc[0]"
   ]
  },
  {
   "cell_type": "code",
   "execution_count": 23,
   "metadata": {},
   "outputs": [
    {
     "data": {
      "text/plain": [
       "12"
      ]
     },
     "execution_count": 23,
     "metadata": {},
     "output_type": "execute_result"
    }
   ],
   "source": [
    "# Return the element at index 0 using list syntax\n",
    "series_of_numbers[0]"
   ]
  },
  {
   "cell_type": "markdown",
   "metadata": {},
   "source": [
    " # Series Methods"
   ]
  },
  {
   "cell_type": "code",
   "execution_count": 17,
   "metadata": {},
   "outputs": [
    {
     "data": {
      "text/plain": [
       "12    3\n",
       "55    1\n",
       "0     1\n",
       "dtype: int64"
      ]
     },
     "execution_count": 17,
     "metadata": {},
     "output_type": "execute_result"
    }
   ],
   "source": [
    "# Get the count of the number of times a value occurs in a Series\n",
    "series_of_numbers.value_counts()"
   ]
  },
  {
   "cell_type": "code",
   "execution_count": 18,
   "metadata": {},
   "outputs": [
    {
     "data": {
      "text/plain": [
       "array([12,  0, 55], dtype=int64)"
      ]
     },
     "execution_count": 18,
     "metadata": {},
     "output_type": "execute_result"
    }
   ],
   "source": [
    "# Get the unique values of a Series\n",
    "series_of_numbers.unique()"
   ]
  },
  {
   "cell_type": "code",
   "execution_count": 20,
   "metadata": {},
   "outputs": [
    {
     "data": {
      "text/plain": [
       "0     36\n",
       "1      0\n",
       "2    165\n",
       "3     36\n",
       "4     36\n",
       "dtype: int64"
      ]
     },
     "execution_count": 20,
     "metadata": {},
     "output_type": "execute_result"
    }
   ],
   "source": [
    "# A function to triple any value\n",
    "def triple_value(some_value):\n",
    "    return some_value * 3\n",
    "\n",
    "# Apply triple value to series_of_numbers\n",
    "series_of_numbers.apply(triple_value)"
   ]
  },
  {
   "cell_type": "markdown",
   "metadata": {},
   "source": [
    " # Dictionary Example"
   ]
  },
  {
   "cell_type": "code",
   "execution_count": 22,
   "metadata": {},
   "outputs": [
    {
     "data": {
      "text/plain": [
       "{'MSFT': 160, 'AAPL': '75.09', 'TWTR': 32.3}"
      ]
     },
     "execution_count": 22,
     "metadata": {},
     "output_type": "execute_result"
    }
   ],
   "source": [
    "# A dictionary of stock values\n",
    "stock_values = {\"MSFT\": 160, \"AAPL\": \"75.09\", \"TWTR\": 32.3}\n",
    "stock_values"
   ]
  },
  {
   "cell_type": "code",
   "execution_count": 23,
   "metadata": {},
   "outputs": [
    {
     "name": "stdout",
     "output_type": "stream",
     "text": [
      "MSFT      160\n",
      "AAPL    75.09\n",
      "TWTR     32.3\n",
      "dtype: object\n"
     ]
    }
   ],
   "source": [
    "# Create series object from dictionary\n",
    "stock_series = pd.Series(stock_values)\n",
    "\n",
    "print(stock_series)"
   ]
  },
  {
   "cell_type": "code",
   "execution_count": 29,
   "metadata": {},
   "outputs": [],
   "source": [
    " ## Datatype conversion"
   ]
  },
  {
   "cell_type": "code",
   "execution_count": 24,
   "metadata": {},
   "outputs": [
    {
     "data": {
      "text/plain": [
       "dtype('O')"
      ]
     },
     "execution_count": 24,
     "metadata": {},
     "output_type": "execute_result"
    }
   ],
   "source": [
    "# Return the data type of the elements in the series\n",
    "stock_series.dtypes"
   ]
  },
  {
   "cell_type": "code",
   "execution_count": 25,
   "metadata": {},
   "outputs": [],
   "source": [
    "# Apply float to each item in the series\n",
    "stock_series = stock_series.apply(float)"
   ]
  },
  {
   "cell_type": "code",
   "execution_count": 26,
   "metadata": {},
   "outputs": [
    {
     "name": "stdout",
     "output_type": "stream",
     "text": [
      "MSFT    160.00\n",
      "AAPL     75.09\n",
      "TWTR     32.30\n",
      "dtype: float64\n"
     ]
    }
   ],
   "source": [
    "# Return the data type of the elements in the series\n",
    "stock_series.dtypes\n",
    "print(stock_series)"
   ]
  },
  {
   "cell_type": "markdown",
   "metadata": {},
   "source": [
    " ## Different Methods to Access Values"
   ]
  },
  {
   "cell_type": "code",
   "execution_count": 28,
   "metadata": {},
   "outputs": [
    {
     "name": "stdout",
     "output_type": "stream",
     "text": [
      "160.0\n",
      "75.09\n",
      "160.0\n",
      "160.0\n"
     ]
    }
   ],
   "source": [
    "# Access value at index location 0 using iloc\n",
    "print(stock_series.iloc[0])\n",
    "print(stock_series.loc[\"AAPL\"])\n",
    "\n",
    "# Access value at index location 0 using list syntax\n",
    "print(stock_series[0])\n",
    "\n",
    "# Access value at index MSFT\n",
    "print(stock_series[\"MSFT\"])"
   ]
  },
  {
   "cell_type": "markdown",
   "metadata": {},
   "source": [
    " ## Appending Data to Series"
   ]
  },
  {
   "cell_type": "code",
   "execution_count": 30,
   "metadata": {},
   "outputs": [
    {
     "data": {
      "text/plain": [
       "GOOGL    1754.4\n",
       "dtype: float64"
      ]
     },
     "execution_count": 30,
     "metadata": {},
     "output_type": "execute_result"
    }
   ],
   "source": [
    "# Create a new stock series for google stock. The dictionary is passed in directly.\n",
    "google_stock_series = pd.Series({\"GOOGL\": 1754.40})\n",
    "google_stock_series"
   ]
  },
  {
   "cell_type": "code",
   "execution_count": 33,
   "metadata": {},
   "outputs": [
    {
     "data": {
      "text/plain": [
       "MSFT      160.00\n",
       "AAPL       75.09\n",
       "TWTR       32.30\n",
       "GOOGL    1754.40\n",
       "dtype: float64"
      ]
     },
     "execution_count": 33,
     "metadata": {},
     "output_type": "execute_result"
    }
   ],
   "source": [
    "# Append the new data without reassignment\n",
    "stock_series.append(google_stock_series)"
   ]
  },
  {
   "cell_type": "code",
   "execution_count": 37,
   "metadata": {},
   "outputs": [
    {
     "name": "stdout",
     "output_type": "stream",
     "text": [
      "MSFT      160.00\n",
      "AAPL       75.09\n",
      "TWTR       32.30\n",
      "GOOGL    1754.40\n",
      "GOOGL    1754.40\n",
      "GOOGL    1754.40\n",
      "GOOGL    1754.40\n",
      "dtype: float64\n"
     ]
    }
   ],
   "source": [
    "# Append the new data with reassignment\n",
    "stock_series = stock_series.append(google_stock_series)\n",
    "\n",
    "print(stock_series)"
   ]
  },
  {
   "cell_type": "markdown",
   "metadata": {},
   "source": [
    " ## Removing Data from Series"
   ]
  },
  {
   "cell_type": "code",
   "execution_count": 39,
   "metadata": {},
   "outputs": [
    {
     "name": "stdout",
     "output_type": "stream",
     "text": [
      "AAPL    75.09\n",
      "TWTR    32.30\n",
      "dtype: float64\n"
     ]
    }
   ],
   "source": [
    "# Drop MSFT in-place\n",
    "stock_series.drop(\"GOOGL\", inplace=True)\n",
    "\n",
    "print(stock_series)"
   ]
  },
  {
   "cell_type": "markdown",
   "metadata": {},
   "source": [
    " ## Updating Series Data"
   ]
  },
  {
   "cell_type": "code",
   "execution_count": 41,
   "metadata": {},
   "outputs": [
    {
     "name": "stdout",
     "output_type": "stream",
     "text": [
      "AAPL    75.09\n",
      "TWTR    35.00\n",
      "dtype: float64\n"
     ]
    }
   ],
   "source": [
    "# Update using list syntax\n",
    "stock_series[1] = 35\n",
    "\n",
    "print(stock_series)"
   ]
  },
  {
   "cell_type": "code",
   "execution_count": 42,
   "metadata": {},
   "outputs": [
    {
     "name": "stdout",
     "output_type": "stream",
     "text": [
      "AAPL    50.0\n",
      "TWTR    35.0\n",
      "dtype: float64\n"
     ]
    }
   ],
   "source": [
    "# Update using named index label\n",
    "stock_series[\"AAPL\"] = 50\n",
    "\n",
    "print(stock_series)\n"
   ]
  },
  {
   "cell_type": "markdown",
   "metadata": {},
   "source": [
    " ## Iterating Over Series"
   ]
  },
  {
   "cell_type": "code",
   "execution_count": 44,
   "metadata": {},
   "outputs": [
    {
     "name": "stdout",
     "output_type": "stream",
     "text": [
      "50.0\n",
      "35.0\n"
     ]
    }
   ],
   "source": [
    "# Print prices\n",
    "for price in stock_series:\n",
    "    print(price)"
   ]
  },
  {
   "cell_type": "code",
   "execution_count": 45,
   "metadata": {},
   "outputs": [
    {
     "name": "stdout",
     "output_type": "stream",
     "text": [
      "AAPL - 50.0\n",
      "TWTR - 35.0\n"
     ]
    }
   ],
   "source": [
    "# Print symbol and price\n",
    "for symbol, price in stock_series.items():\n",
    "    print(f\"{symbol} - {price}\")"
   ]
  },
  {
   "cell_type": "markdown",
   "metadata": {},
   "source": [
    "# ================================"
   ]
  },
  {
   "cell_type": "markdown",
   "metadata": {},
   "source": [
    "### 1.04 Student Do: A Series of New Friends (10 mins)"
   ]
  },
  {
   "cell_type": "markdown",
   "metadata": {},
   "source": [
    "# A Series of New Friends\n",
    "\n",
    "In this activity, you will learn more about your classmates by collecting their names and current job roles and then storing them in a Series.\n",
    "\n",
    "## Instructions\n",
    "\n",
    "1. Import the required libraries and dependencies.\n",
    "\n",
    "2. Each person in the breakout group should share their name and current job role. Then, create a dictionary where the keys are your classmates' names and the values are their current job roles.\n",
    "\n",
    "3. Create a Series from the dictionary.\n",
    "\n",
    "4. Create a new dictionary and a new Series that has one or more of your personal heroes and their job role(s).\n",
    "\n",
    "5. Append the Series of personal heroes to the Series containing your classmates' information.\n",
    "\n",
    "6. Iterate over the Series and, in a nicely formatted way, print the names and job roles in the Series.\n",
    "\n",
    "When you return from the breakout room, paste your solution in the class Slack channel."
   ]
  },
  {
   "cell_type": "code",
   "execution_count": 42,
   "metadata": {},
   "outputs": [],
   "source": [
    "# Import the Pandas Library\n",
    "# YOUR CODE HERE"
   ]
  },
  {
   "cell_type": "markdown",
   "metadata": {},
   "source": [
    "## Ask each classmate in the breakout group their name and current job role. Create a dictionary where the keys are your classmates' names and the values are their current job role."
   ]
  },
  {
   "cell_type": "code",
   "execution_count": 43,
   "metadata": {},
   "outputs": [],
   "source": [
    "# Create dictionary of classmates and their job roles\n",
    "# YOUR CODE HERE"
   ]
  },
  {
   "cell_type": "markdown",
   "metadata": {},
   "source": [
    "## Create a `Series` from the dictionary."
   ]
  },
  {
   "cell_type": "code",
   "execution_count": 44,
   "metadata": {},
   "outputs": [
    {
     "data": {
      "text/plain": [
       "David        Financial Analyst\n",
       "Susan       Software Developer\n",
       "Zachary         Account Manger\n",
       "Kris       Electrical Engineer\n",
       "dtype: object"
      ]
     },
     "execution_count": 44,
     "metadata": {},
     "output_type": "execute_result"
    }
   ],
   "source": [
    "# Create a series from the dictionary\n",
    "# YOUR CODE HERE\n",
    "\n",
    "# View the Series\n",
    "# YOUR CODE HERE"
   ]
  },
  {
   "cell_type": "markdown",
   "metadata": {},
   "source": [
    "## Create both a new dictionary and new `Series` that has one or more of your personal heroes and their job role(s)."
   ]
  },
  {
   "cell_type": "code",
   "execution_count": 45,
   "metadata": {},
   "outputs": [],
   "source": [
    "# Create a dictionary of personal heroes\n",
    "# YOUR CODE HERE"
   ]
  },
  {
   "cell_type": "code",
   "execution_count": 46,
   "metadata": {},
   "outputs": [
    {
     "data": {
      "text/plain": [
       "Claude Shannon       Information Scientist\n",
       "Benoit Mandelbrot            Mathematician\n",
       "Noam Chomsky                      Linguist\n",
       "dtype: object"
      ]
     },
     "execution_count": 46,
     "metadata": {},
     "output_type": "execute_result"
    }
   ],
   "source": [
    "# Create a series from the dictionary\n",
    "# YOUR CODE HERE\n",
    "\n",
    "# View the Series\n",
    "# YOUR CODE HERE"
   ]
  },
  {
   "cell_type": "markdown",
   "metadata": {},
   "source": [
    "## Append the `Series` of personal heroes to the Series containing your classmates information."
   ]
  },
  {
   "cell_type": "code",
   "execution_count": 47,
   "metadata": {},
   "outputs": [],
   "source": [
    "# Append the series_of_heroes to the series_of_interesting_people\n",
    "# YOUR CODE HERE"
   ]
  },
  {
   "cell_type": "markdown",
   "metadata": {},
   "source": [
    "## Iterate over the `Series` and, in a nicely formatted way, print the names and job roles in the `Series`."
   ]
  },
  {
   "cell_type": "code",
   "execution_count": 48,
   "metadata": {},
   "outputs": [
    {
     "name": "stdout",
     "output_type": "stream",
     "text": [
      "David - Financial Analyst\n",
      "Susan - Software Developer\n",
      "Zachary - Account Manger\n",
      "Kris - Electrical Engineer\n",
      "Claude Shannon - Information Scientist\n",
      "Benoit Mandelbrot - Mathematician\n",
      "Noam Chomsky - Linguist\n"
     ]
    }
   ],
   "source": [
    "# Iterate over the series_of_interesting_people and print names and job role of each\n",
    "# YOUR CODE HERE"
   ]
  },
  {
   "cell_type": "markdown",
   "metadata": {},
   "source": [
    "# ================================"
   ]
  },
  {
   "cell_type": "markdown",
   "metadata": {},
   "source": [
    "### 1.05 Instructor Do: Introduce the Pandas Dataframe (15 mins)"
   ]
  },
  {
   "cell_type": "markdown",
   "metadata": {},
   "source": [
    "[Pandas DataFrame](https://pandas.pydata.org/pandas-docs/stable/reference/api/pandas.DataFrame.html)"
   ]
  },
  {
   "cell_type": "code",
   "execution_count": 49,
   "metadata": {},
   "outputs": [],
   "source": [
    "# Import Modules\n",
    "import pandas as pd"
   ]
  },
  {
   "cell_type": "markdown",
   "metadata": {},
   "source": [
    " # DataFrame from Series"
   ]
  },
  {
   "cell_type": "code",
   "execution_count": 48,
   "metadata": {},
   "outputs": [
    {
     "data": {
      "text/plain": [
       "[{'MSFT': 160.32, 'AAPL': 75.11, 'TWTR': 32.52},\n",
       " {'MSFT': 158.23, 'AAPL': 77.65, 'TWTR': 33.08}]"
      ]
     },
     "execution_count": 48,
     "metadata": {},
     "output_type": "execute_result"
    }
   ],
   "source": [
    "my_dict = [\n",
    "    {\"MSFT\": 160.32, \"AAPL\": 75.11, \"TWTR\": 32.52},\n",
    "    {\"MSFT\": 158.23, \"AAPL\": 77.65, \"TWTR\": 33.08}\n",
    "]\n",
    "my_dict"
   ]
  },
  {
   "cell_type": "code",
   "execution_count": 50,
   "metadata": {},
   "outputs": [],
   "source": [
    "my_list = {\n",
    "    \"MSFT\": [160.32, 158.23],\n",
    "    \"AAPL\": [75.11, 77.65],\n",
    "    \"TWTR\": [32.52, 33.08]\n",
    "}"
   ]
  },
  {
   "cell_type": "code",
   "execution_count": 54,
   "metadata": {},
   "outputs": [
    {
     "data": {
      "text/html": [
       "<div>\n",
       "<style scoped>\n",
       "    .dataframe tbody tr th:only-of-type {\n",
       "        vertical-align: middle;\n",
       "    }\n",
       "\n",
       "    .dataframe tbody tr th {\n",
       "        vertical-align: top;\n",
       "    }\n",
       "\n",
       "    .dataframe thead th {\n",
       "        text-align: right;\n",
       "    }\n",
       "</style>\n",
       "<table border=\"1\" class=\"dataframe\">\n",
       "  <thead>\n",
       "    <tr style=\"text-align: right;\">\n",
       "      <th></th>\n",
       "      <th>MSFT</th>\n",
       "      <th>AAPL</th>\n",
       "      <th>TWTR</th>\n",
       "    </tr>\n",
       "  </thead>\n",
       "  <tbody>\n",
       "    <tr>\n",
       "      <th>Open</th>\n",
       "      <td>160.32</td>\n",
       "      <td>75.11</td>\n",
       "      <td>32.52</td>\n",
       "    </tr>\n",
       "    <tr>\n",
       "      <th>Close</th>\n",
       "      <td>158.23</td>\n",
       "      <td>77.65</td>\n",
       "      <td>33.08</td>\n",
       "    </tr>\n",
       "  </tbody>\n",
       "</table>\n",
       "</div>"
      ],
      "text/plain": [
       "         MSFT   AAPL   TWTR\n",
       "Open   160.32  75.11  32.52\n",
       "Close  158.23  77.65  33.08"
      ]
     },
     "execution_count": 54,
     "metadata": {},
     "output_type": "execute_result"
    }
   ],
   "source": [
    "pd.DataFrame(my_dict, index=[\"Open\", \"Close\"])"
   ]
  },
  {
   "cell_type": "code",
   "execution_count": 70,
   "metadata": {},
   "outputs": [
    {
     "data": {
      "text/html": [
       "<div>\n",
       "<style scoped>\n",
       "    .dataframe tbody tr th:only-of-type {\n",
       "        vertical-align: middle;\n",
       "    }\n",
       "\n",
       "    .dataframe tbody tr th {\n",
       "        vertical-align: top;\n",
       "    }\n",
       "\n",
       "    .dataframe thead th {\n",
       "        text-align: right;\n",
       "    }\n",
       "</style>\n",
       "<table border=\"1\" class=\"dataframe\">\n",
       "  <thead>\n",
       "    <tr style=\"text-align: right;\">\n",
       "      <th></th>\n",
       "      <th>Open</th>\n",
       "      <th>Close</th>\n",
       "    </tr>\n",
       "  </thead>\n",
       "  <tbody>\n",
       "    <tr>\n",
       "      <th>MSFT</th>\n",
       "      <td>160.32</td>\n",
       "      <td>158.23</td>\n",
       "    </tr>\n",
       "    <tr>\n",
       "      <th>AAPL</th>\n",
       "      <td>75.11</td>\n",
       "      <td>77.65</td>\n",
       "    </tr>\n",
       "    <tr>\n",
       "      <th>TWTR</th>\n",
       "      <td>32.52</td>\n",
       "      <td>33.08</td>\n",
       "    </tr>\n",
       "  </tbody>\n",
       "</table>\n",
       "</div>"
      ],
      "text/plain": [
       "        Open   Close\n",
       "MSFT  160.32  158.23\n",
       "AAPL   75.11   77.65\n",
       "TWTR   32.52   33.08"
      ]
     },
     "execution_count": 70,
     "metadata": {},
     "output_type": "execute_result"
    }
   ],
   "source": [
    "pd.DataFrame(my_list, index=[\"Open\", \"Close\"]).transpose()\n"
   ]
  },
  {
   "cell_type": "code",
   "execution_count": null,
   "metadata": {},
   "outputs": [],
   "source": []
  },
  {
   "cell_type": "code",
   "execution_count": 53,
   "metadata": {},
   "outputs": [],
   "source": [
    "# Create two series\n",
    "opening_prices = pd.Series(\n",
    "    {\"MSFT\": 160.32, \"AAPL\": 75.11, \"TWTR\": 32.52}, name=\"Opening Price\"\n",
    ")\n",
    "\n",
    "closing_prices = pd.Series(\n",
    "    {\"MSFT\": 158.23, \"AAPL\": 77.65, \"TWTR\": 33.08}, name=\"Closing Price\"\n",
    ")"
   ]
  },
  {
   "cell_type": "code",
   "execution_count": 56,
   "metadata": {},
   "outputs": [
    {
     "data": {
      "text/html": [
       "<div>\n",
       "<style scoped>\n",
       "    .dataframe tbody tr th:only-of-type {\n",
       "        vertical-align: middle;\n",
       "    }\n",
       "\n",
       "    .dataframe tbody tr th {\n",
       "        vertical-align: top;\n",
       "    }\n",
       "\n",
       "    .dataframe thead th {\n",
       "        text-align: right;\n",
       "    }\n",
       "</style>\n",
       "<table border=\"1\" class=\"dataframe\">\n",
       "  <thead>\n",
       "    <tr style=\"text-align: right;\">\n",
       "      <th></th>\n",
       "      <th>MSFT</th>\n",
       "      <th>AAPL</th>\n",
       "      <th>TWTR</th>\n",
       "    </tr>\n",
       "  </thead>\n",
       "  <tbody>\n",
       "    <tr>\n",
       "      <th>Opening Price</th>\n",
       "      <td>160.32</td>\n",
       "      <td>75.11</td>\n",
       "      <td>32.52</td>\n",
       "    </tr>\n",
       "    <tr>\n",
       "      <th>Closing Price</th>\n",
       "      <td>158.23</td>\n",
       "      <td>77.65</td>\n",
       "      <td>33.08</td>\n",
       "    </tr>\n",
       "  </tbody>\n",
       "</table>\n",
       "</div>"
      ],
      "text/plain": [
       "                 MSFT   AAPL   TWTR\n",
       "Opening Price  160.32  75.11  32.52\n",
       "Closing Price  158.23  77.65  33.08"
      ]
     },
     "execution_count": 56,
     "metadata": {},
     "output_type": "execute_result"
    }
   ],
   "source": [
    "# Create DataFrame\n",
    "prices_df = pd.DataFrame(data=[opening_prices, closing_prices])\n",
    "\n",
    "# Show DataFrame\n",
    "prices_df"
   ]
  },
  {
   "cell_type": "markdown",
   "metadata": {},
   "source": [
    " ## Transposition"
   ]
  },
  {
   "cell_type": "code",
   "execution_count": 71,
   "metadata": {},
   "outputs": [
    {
     "data": {
      "text/html": [
       "<div>\n",
       "<style scoped>\n",
       "    .dataframe tbody tr th:only-of-type {\n",
       "        vertical-align: middle;\n",
       "    }\n",
       "\n",
       "    .dataframe tbody tr th {\n",
       "        vertical-align: top;\n",
       "    }\n",
       "\n",
       "    .dataframe thead th {\n",
       "        text-align: right;\n",
       "    }\n",
       "</style>\n",
       "<table border=\"1\" class=\"dataframe\">\n",
       "  <thead>\n",
       "    <tr style=\"text-align: right;\">\n",
       "      <th></th>\n",
       "      <th>Opening Price</th>\n",
       "      <th>Closing Price</th>\n",
       "    </tr>\n",
       "  </thead>\n",
       "  <tbody>\n",
       "    <tr>\n",
       "      <th>MSFT</th>\n",
       "      <td>160.32</td>\n",
       "      <td>158.23</td>\n",
       "    </tr>\n",
       "    <tr>\n",
       "      <th>AAPL</th>\n",
       "      <td>75.11</td>\n",
       "      <td>77.65</td>\n",
       "    </tr>\n",
       "    <tr>\n",
       "      <th>TWTR</th>\n",
       "      <td>32.52</td>\n",
       "      <td>33.08</td>\n",
       "    </tr>\n",
       "  </tbody>\n",
       "</table>\n",
       "</div>"
      ],
      "text/plain": [
       "      Opening Price  Closing Price\n",
       "MSFT         160.32         158.23\n",
       "AAPL          75.11          77.65\n",
       "TWTR          32.52          33.08"
      ]
     },
     "execution_count": 71,
     "metadata": {},
     "output_type": "execute_result"
    }
   ],
   "source": [
    "# Transpose prices_df\n",
    "prices_df.T"
   ]
  },
  {
   "cell_type": "code",
   "execution_count": 72,
   "metadata": {},
   "outputs": [
    {
     "data": {
      "text/html": [
       "<div>\n",
       "<style scoped>\n",
       "    .dataframe tbody tr th:only-of-type {\n",
       "        vertical-align: middle;\n",
       "    }\n",
       "\n",
       "    .dataframe tbody tr th {\n",
       "        vertical-align: top;\n",
       "    }\n",
       "\n",
       "    .dataframe thead th {\n",
       "        text-align: right;\n",
       "    }\n",
       "</style>\n",
       "<table border=\"1\" class=\"dataframe\">\n",
       "  <thead>\n",
       "    <tr style=\"text-align: right;\">\n",
       "      <th></th>\n",
       "      <th>Opening Price</th>\n",
       "      <th>Closing Price</th>\n",
       "    </tr>\n",
       "  </thead>\n",
       "  <tbody>\n",
       "    <tr>\n",
       "      <th>MSFT</th>\n",
       "      <td>160.32</td>\n",
       "      <td>158.23</td>\n",
       "    </tr>\n",
       "    <tr>\n",
       "      <th>AAPL</th>\n",
       "      <td>75.11</td>\n",
       "      <td>77.65</td>\n",
       "    </tr>\n",
       "    <tr>\n",
       "      <th>TWTR</th>\n",
       "      <td>32.52</td>\n",
       "      <td>33.08</td>\n",
       "    </tr>\n",
       "  </tbody>\n",
       "</table>\n",
       "</div>"
      ],
      "text/plain": [
       "      Opening Price  Closing Price\n",
       "MSFT         160.32         158.23\n",
       "AAPL          75.11          77.65\n",
       "TWTR          32.52          33.08"
      ]
     },
     "execution_count": 72,
     "metadata": {},
     "output_type": "execute_result"
    }
   ],
   "source": [
    "# Save T output to prices_df\n",
    "prices_df = prices_df.T\n",
    "\n",
    "# Show DataFrame\n",
    "prices_df"
   ]
  },
  {
   "cell_type": "markdown",
   "metadata": {},
   "source": [
    " ## Accessing Columns"
   ]
  },
  {
   "cell_type": "code",
   "execution_count": 73,
   "metadata": {},
   "outputs": [
    {
     "data": {
      "text/plain": [
       "MSFT    160.32\n",
       "AAPL     75.11\n",
       "TWTR     32.52\n",
       "Name: Opening Price, dtype: float64"
      ]
     },
     "execution_count": 73,
     "metadata": {},
     "output_type": "execute_result"
    }
   ],
   "source": [
    "# Access the Opening Price column\n",
    "prices_df[\"Opening Price\"]"
   ]
  },
  {
   "cell_type": "code",
   "execution_count": 76,
   "metadata": {},
   "outputs": [
    {
     "data": {
      "text/plain": [
       "pandas.core.series.Series"
      ]
     },
     "execution_count": 76,
     "metadata": {},
     "output_type": "execute_result"
    }
   ],
   "source": [
    "# Check type of column\n",
    "type(prices_df[\"Opening Price\"])"
   ]
  },
  {
   "cell_type": "code",
   "execution_count": 77,
   "metadata": {},
   "outputs": [
    {
     "data": {
      "text/plain": [
       "75.11"
      ]
     },
     "execution_count": 77,
     "metadata": {},
     "output_type": "execute_result"
    }
   ],
   "source": [
    "# Retrieve AAPL opening price by location\n",
    "prices_df[\"Opening Price\"][1]"
   ]
  },
  {
   "cell_type": "code",
   "execution_count": 78,
   "metadata": {},
   "outputs": [
    {
     "data": {
      "text/plain": [
       "75.11"
      ]
     },
     "execution_count": 78,
     "metadata": {},
     "output_type": "execute_result"
    }
   ],
   "source": [
    "# Retrieve AAPL opening price by key\n",
    "prices_df[\"Opening Price\"][\"AAPL\"]"
   ]
  },
  {
   "cell_type": "markdown",
   "metadata": {},
   "source": [
    " ## Accessing Rows"
   ]
  },
  {
   "cell_type": "code",
   "execution_count": 83,
   "metadata": {},
   "outputs": [
    {
     "data": {
      "text/plain": [
       "Opening Price    160.32\n",
       "Closing Price    158.23\n",
       "Name: MSFT, dtype: float64"
      ]
     },
     "execution_count": 83,
     "metadata": {},
     "output_type": "execute_result"
    }
   ],
   "source": [
    "# Retrieve the MSFT row\n",
    "prices_df.loc[\"MSFT\", [\"Opening Price\", \"Closing Price\"]]"
   ]
  },
  {
   "cell_type": "code",
   "execution_count": 84,
   "metadata": {},
   "outputs": [
    {
     "data": {
      "text/plain": [
       "pandas.core.series.Series"
      ]
     },
     "execution_count": 84,
     "metadata": {},
     "output_type": "execute_result"
    }
   ],
   "source": [
    "# Check type\n",
    "type(prices_df.loc[\"MSFT\"])"
   ]
  },
  {
   "cell_type": "code",
   "execution_count": 85,
   "metadata": {},
   "outputs": [
    {
     "data": {
      "text/plain": [
       "158.23"
      ]
     },
     "execution_count": 85,
     "metadata": {},
     "output_type": "execute_result"
    }
   ],
   "source": [
    "# Retrieve MSFT closing price by key\n",
    "prices_df.loc[\"MSFT\"][\"Closing Price\"]"
   ]
  },
  {
   "cell_type": "code",
   "execution_count": 86,
   "metadata": {},
   "outputs": [
    {
     "data": {
      "text/plain": [
       "158.23"
      ]
     },
     "execution_count": 86,
     "metadata": {},
     "output_type": "execute_result"
    }
   ],
   "source": [
    "# Retrieve MSFT closing price by location\n",
    "prices_df.loc[\"MSFT\"][1]"
   ]
  },
  {
   "cell_type": "markdown",
   "metadata": {},
   "source": [
    " # DataFrame from Dictionary of a list"
   ]
  },
  {
   "cell_type": "code",
   "execution_count": 88,
   "metadata": {},
   "outputs": [],
   "source": [
    "# Dictionary of temperature values\n",
    "daily_temperature_range = {\n",
    "    \"Monday\": [50, 75],\n",
    "    \"Tuesday\": [52, 73],\n",
    "    \"Wednesday\": [53, 73],\n",
    "    \"Thursday\": [55, 80],\n",
    "    \"Friday\": [56, 79],\n",
    "    \"Saturday\": [55, 81],\n",
    "    \"Sunday\": [55, 80],\n",
    "}"
   ]
  },
  {
   "cell_type": "code",
   "execution_count": 89,
   "metadata": {},
   "outputs": [
    {
     "data": {
      "text/html": [
       "<div>\n",
       "<style scoped>\n",
       "    .dataframe tbody tr th:only-of-type {\n",
       "        vertical-align: middle;\n",
       "    }\n",
       "\n",
       "    .dataframe tbody tr th {\n",
       "        vertical-align: top;\n",
       "    }\n",
       "\n",
       "    .dataframe thead th {\n",
       "        text-align: right;\n",
       "    }\n",
       "</style>\n",
       "<table border=\"1\" class=\"dataframe\">\n",
       "  <thead>\n",
       "    <tr style=\"text-align: right;\">\n",
       "      <th></th>\n",
       "      <th>Monday</th>\n",
       "      <th>Tuesday</th>\n",
       "      <th>Wednesday</th>\n",
       "      <th>Thursday</th>\n",
       "      <th>Friday</th>\n",
       "      <th>Saturday</th>\n",
       "      <th>Sunday</th>\n",
       "    </tr>\n",
       "  </thead>\n",
       "  <tbody>\n",
       "    <tr>\n",
       "      <th>Low</th>\n",
       "      <td>50</td>\n",
       "      <td>52</td>\n",
       "      <td>53</td>\n",
       "      <td>55</td>\n",
       "      <td>56</td>\n",
       "      <td>55</td>\n",
       "      <td>55</td>\n",
       "    </tr>\n",
       "    <tr>\n",
       "      <th>High</th>\n",
       "      <td>75</td>\n",
       "      <td>73</td>\n",
       "      <td>73</td>\n",
       "      <td>80</td>\n",
       "      <td>79</td>\n",
       "      <td>81</td>\n",
       "      <td>80</td>\n",
       "    </tr>\n",
       "  </tbody>\n",
       "</table>\n",
       "</div>"
      ],
      "text/plain": [
       "      Monday  Tuesday  Wednesday  Thursday  Friday  Saturday  Sunday\n",
       "Low       50       52         53        55      56        55      55\n",
       "High      75       73         73        80      79        81      80"
      ]
     },
     "execution_count": 89,
     "metadata": {},
     "output_type": "execute_result"
    }
   ],
   "source": [
    "# Create DataFrame\n",
    "temperature_df = pd.DataFrame(data=daily_temperature_range, index=[\"Low\", \"High\"])\n",
    "\n",
    "# Show DataFrame\n",
    "temperature_df"
   ]
  },
  {
   "cell_type": "code",
   "execution_count": 90,
   "metadata": {},
   "outputs": [
    {
     "data": {
      "text/html": [
       "<div>\n",
       "<style scoped>\n",
       "    .dataframe tbody tr th:only-of-type {\n",
       "        vertical-align: middle;\n",
       "    }\n",
       "\n",
       "    .dataframe tbody tr th {\n",
       "        vertical-align: top;\n",
       "    }\n",
       "\n",
       "    .dataframe thead th {\n",
       "        text-align: right;\n",
       "    }\n",
       "</style>\n",
       "<table border=\"1\" class=\"dataframe\">\n",
       "  <thead>\n",
       "    <tr style=\"text-align: right;\">\n",
       "      <th></th>\n",
       "      <th>Low</th>\n",
       "      <th>High</th>\n",
       "    </tr>\n",
       "  </thead>\n",
       "  <tbody>\n",
       "    <tr>\n",
       "      <th>Monday</th>\n",
       "      <td>50</td>\n",
       "      <td>75</td>\n",
       "    </tr>\n",
       "    <tr>\n",
       "      <th>Tuesday</th>\n",
       "      <td>52</td>\n",
       "      <td>73</td>\n",
       "    </tr>\n",
       "    <tr>\n",
       "      <th>Wednesday</th>\n",
       "      <td>53</td>\n",
       "      <td>73</td>\n",
       "    </tr>\n",
       "    <tr>\n",
       "      <th>Thursday</th>\n",
       "      <td>55</td>\n",
       "      <td>80</td>\n",
       "    </tr>\n",
       "    <tr>\n",
       "      <th>Friday</th>\n",
       "      <td>56</td>\n",
       "      <td>79</td>\n",
       "    </tr>\n",
       "    <tr>\n",
       "      <th>Saturday</th>\n",
       "      <td>55</td>\n",
       "      <td>81</td>\n",
       "    </tr>\n",
       "    <tr>\n",
       "      <th>Sunday</th>\n",
       "      <td>55</td>\n",
       "      <td>80</td>\n",
       "    </tr>\n",
       "  </tbody>\n",
       "</table>\n",
       "</div>"
      ],
      "text/plain": [
       "           Low  High\n",
       "Monday      50    75\n",
       "Tuesday     52    73\n",
       "Wednesday   53    73\n",
       "Thursday    55    80\n",
       "Friday      56    79\n",
       "Saturday    55    81\n",
       "Sunday      55    80"
      ]
     },
     "execution_count": 90,
     "metadata": {},
     "output_type": "execute_result"
    }
   ],
   "source": [
    "# DataFrame transposition\n",
    "temperature_df = temperature_df.T\n",
    "\n",
    "# Show the DataFrame\n",
    "temperature_df"
   ]
  },
  {
   "cell_type": "code",
   "execution_count": 91,
   "metadata": {},
   "outputs": [
    {
     "data": {
      "text/plain": [
       "pandas.core.series.Series"
      ]
     },
     "execution_count": 91,
     "metadata": {},
     "output_type": "execute_result"
    }
   ],
   "source": [
    "# Check type\n",
    "type(temperature_df[\"Low\"])"
   ]
  },
  {
   "cell_type": "code",
   "execution_count": 92,
   "metadata": {},
   "outputs": [
    {
     "data": {
      "text/plain": [
       "pandas.core.series.Series"
      ]
     },
     "execution_count": 92,
     "metadata": {},
     "output_type": "execute_result"
    }
   ],
   "source": [
    "# Check type\n",
    "type(temperature_df.loc[\"Monday\"])"
   ]
  },
  {
   "cell_type": "markdown",
   "metadata": {},
   "source": [
    "# ================================"
   ]
  },
  {
   "cell_type": "markdown",
   "metadata": {},
   "source": [
    "### 1.06 Student Do: A Friends DataFrame (15 mins)"
   ]
  },
  {
   "cell_type": "markdown",
   "metadata": {},
   "source": [
    "# A Friends DataFrame\n",
    "\n",
    "In this group activity, you will share your name, location, years of software experience, and technologies you have used. You will then create a DataFrame to store the data and calculate the average age of your group using the `mean` method.\n",
    "\n",
    "## Background\n",
    "\n",
    "To learn more about the `mean` method, refer to the [\"Methods\" section in the Pandas documentation](https://pandas.pydata.org/pandas-docs/stable/reference/api/pandas.DataFrame.html). \n",
    "\n",
    "## Instructions\n",
    "\n",
    "1. Import the required libraries and dependencies.\n",
    "\n",
    "2. Each person in the breakout room should share their name, location, years of software experience, and technologies they have used. Create a dictionary where the keys are your classmates' names and the other values are stored in a list.\n",
    "\n",
    "For example:\n",
    "\n",
    "```python\n",
    "my_classmates = {\n",
    "  \"Anna\": [\"London\",1,\"Java\"],\n",
    "  \"Mohammad\" : [\"Chicago\",0,\"Microsoft Office\"],\n",
    "}\n",
    "```\n",
    "\n",
    "3. Create a Pandas DataFrame, using the my_classmates dictionary as the data. **Hint:** Use the `index` parameter and label the column names with [\"City\", \"Software Experience\", \"Technologies Used\"]. \n",
    "\n",
    "4. Transpose the DataFrame.\n",
    "\n",
    "5. View the data in the DataFrame's City column.\n",
    "\n",
    "6. Using the `mean` method, calculate the average years of software experience of the group.\n",
    "\n",
    "7. For one of your classmates, increase their years of software experience by 1 year.\n",
    "\n",
    "Be prepared to share some of your solutions with the class when you return from the breakout room."
   ]
  },
  {
   "cell_type": "markdown",
   "metadata": {},
   "source": [
    "## Import the required libraries and dependencies."
   ]
  },
  {
   "cell_type": "code",
   "execution_count": 67,
   "metadata": {},
   "outputs": [],
   "source": [
    "# Import the Pandas library\n",
    "# YOUR CODE HERE"
   ]
  },
  {
   "cell_type": "markdown",
   "metadata": {},
   "source": [
    "### Ask each classmate in the breakout room their name, location, how many years of software experience they have and what previous technologies they have used. Create a dictionary where the keys are your classmates' names and the other values are stored in a list."
   ]
  },
  {
   "cell_type": "code",
   "execution_count": 68,
   "metadata": {},
   "outputs": [],
   "source": [
    "# Create Dictionary\n",
    "# YOUR CODE HERE"
   ]
  },
  {
   "cell_type": "markdown",
   "metadata": {},
   "source": [
    "## Create a Pandas `DataFrame` using the my_classmates dictionary as the data."
   ]
  },
  {
   "cell_type": "code",
   "execution_count": 69,
   "metadata": {},
   "outputs": [
    {
     "data": {
      "text/html": [
       "<div>\n",
       "<style scoped>\n",
       "    .dataframe tbody tr th:only-of-type {\n",
       "        vertical-align: middle;\n",
       "    }\n",
       "\n",
       "    .dataframe tbody tr th {\n",
       "        vertical-align: top;\n",
       "    }\n",
       "\n",
       "    .dataframe thead th {\n",
       "        text-align: right;\n",
       "    }\n",
       "</style>\n",
       "<table border=\"1\" class=\"dataframe\">\n",
       "  <thead>\n",
       "    <tr style=\"text-align: right;\">\n",
       "      <th></th>\n",
       "      <th>Anna</th>\n",
       "      <th>Mohammad</th>\n",
       "      <th>Viral</th>\n",
       "      <th>Lizette</th>\n",
       "    </tr>\n",
       "  </thead>\n",
       "  <tbody>\n",
       "    <tr>\n",
       "      <th>City</th>\n",
       "      <td>London</td>\n",
       "      <td>Hong Kong</td>\n",
       "      <td>Seattle</td>\n",
       "      <td>Chicago</td>\n",
       "    </tr>\n",
       "    <tr>\n",
       "      <th>Software Experience</th>\n",
       "      <td>7</td>\n",
       "      <td>0</td>\n",
       "      <td>5</td>\n",
       "      <td>2</td>\n",
       "    </tr>\n",
       "    <tr>\n",
       "      <th>Technologies Used</th>\n",
       "      <td>Java</td>\n",
       "      <td>Microsoft Office</td>\n",
       "      <td>C#</td>\n",
       "      <td>JavaScript</td>\n",
       "    </tr>\n",
       "  </tbody>\n",
       "</table>\n",
       "</div>"
      ],
      "text/plain": [
       "                       Anna          Mohammad    Viral     Lizette\n",
       "City                 London         Hong Kong  Seattle     Chicago\n",
       "Software Experience       7                 0        5           2\n",
       "Technologies Used      Java  Microsoft Office       C#  JavaScript"
      ]
     },
     "execution_count": 69,
     "metadata": {},
     "output_type": "execute_result"
    }
   ],
   "source": [
    "# Create DataFrame from the my_classmates dictionary\n",
    "# Hint - Use the `index` parameter and label the \n",
    "# column names with [\"City\", \"Software Experience\", \"Technologies Used\"]\n",
    "# YOUR CODE HERE\n",
    "\n",
    "# View the resulting DataFrame\n",
    "# YOUR CODE HERE"
   ]
  },
  {
   "cell_type": "markdown",
   "metadata": {},
   "source": [
    "## Transpose the `DataFrame`."
   ]
  },
  {
   "cell_type": "code",
   "execution_count": 70,
   "metadata": {},
   "outputs": [
    {
     "data": {
      "text/html": [
       "<div>\n",
       "<style scoped>\n",
       "    .dataframe tbody tr th:only-of-type {\n",
       "        vertical-align: middle;\n",
       "    }\n",
       "\n",
       "    .dataframe tbody tr th {\n",
       "        vertical-align: top;\n",
       "    }\n",
       "\n",
       "    .dataframe thead th {\n",
       "        text-align: right;\n",
       "    }\n",
       "</style>\n",
       "<table border=\"1\" class=\"dataframe\">\n",
       "  <thead>\n",
       "    <tr style=\"text-align: right;\">\n",
       "      <th></th>\n",
       "      <th>City</th>\n",
       "      <th>Software Experience</th>\n",
       "      <th>Technologies Used</th>\n",
       "    </tr>\n",
       "  </thead>\n",
       "  <tbody>\n",
       "    <tr>\n",
       "      <th>Anna</th>\n",
       "      <td>London</td>\n",
       "      <td>7</td>\n",
       "      <td>Java</td>\n",
       "    </tr>\n",
       "    <tr>\n",
       "      <th>Mohammad</th>\n",
       "      <td>Hong Kong</td>\n",
       "      <td>0</td>\n",
       "      <td>Microsoft Office</td>\n",
       "    </tr>\n",
       "    <tr>\n",
       "      <th>Viral</th>\n",
       "      <td>Seattle</td>\n",
       "      <td>5</td>\n",
       "      <td>C#</td>\n",
       "    </tr>\n",
       "    <tr>\n",
       "      <th>Lizette</th>\n",
       "      <td>Chicago</td>\n",
       "      <td>2</td>\n",
       "      <td>JavaScript</td>\n",
       "    </tr>\n",
       "  </tbody>\n",
       "</table>\n",
       "</div>"
      ],
      "text/plain": [
       "               City Software Experience Technologies Used\n",
       "Anna         London                   7              Java\n",
       "Mohammad  Hong Kong                   0  Microsoft Office\n",
       "Viral       Seattle                   5                C#\n",
       "Lizette     Chicago                   2        JavaScript"
      ]
     },
     "execution_count": 70,
     "metadata": {},
     "output_type": "execute_result"
    }
   ],
   "source": [
    "# Transpose DataFrame \n",
    "# YOUR CODE HERE\n",
    "\n",
    "# View the transposed DataFrame\n",
    "# YOUR CODE HERE"
   ]
  },
  {
   "cell_type": "markdown",
   "metadata": {},
   "source": [
    "## View the data in the DataFrame's 'City' column. "
   ]
  },
  {
   "cell_type": "code",
   "execution_count": 71,
   "metadata": {},
   "outputs": [
    {
     "data": {
      "text/plain": [
       "Anna           London\n",
       "Mohammad    Hong Kong\n",
       "Viral         Seattle\n",
       "Lizette       Chicago\n",
       "Name: City, dtype: object"
      ]
     },
     "execution_count": 71,
     "metadata": {},
     "output_type": "execute_result"
    }
   ],
   "source": [
    "# View the entries in the DataFrame's \"City\" column\n",
    "# YOUR CODE HERE"
   ]
  },
  {
   "cell_type": "markdown",
   "metadata": {},
   "source": [
    "## Using the `mean()` method, calculate the average years of software experience of the group."
   ]
  },
  {
   "cell_type": "code",
   "execution_count": 72,
   "metadata": {},
   "outputs": [
    {
     "data": {
      "text/plain": [
       "3.5"
      ]
     },
     "execution_count": 72,
     "metadata": {},
     "output_type": "execute_result"
    }
   ],
   "source": [
    "# Calculate mean value of the group's software experience\n",
    "# YOUR CODE HERE"
   ]
  },
  {
   "cell_type": "markdown",
   "metadata": {},
   "source": [
    "## For one of your classmates, increase their years of software experience by 1 year. "
   ]
  },
  {
   "cell_type": "code",
   "execution_count": 73,
   "metadata": {},
   "outputs": [
    {
     "data": {
      "text/html": [
       "<div>\n",
       "<style scoped>\n",
       "    .dataframe tbody tr th:only-of-type {\n",
       "        vertical-align: middle;\n",
       "    }\n",
       "\n",
       "    .dataframe tbody tr th {\n",
       "        vertical-align: top;\n",
       "    }\n",
       "\n",
       "    .dataframe thead th {\n",
       "        text-align: right;\n",
       "    }\n",
       "</style>\n",
       "<table border=\"1\" class=\"dataframe\">\n",
       "  <thead>\n",
       "    <tr style=\"text-align: right;\">\n",
       "      <th></th>\n",
       "      <th>City</th>\n",
       "      <th>Software Experience</th>\n",
       "      <th>Technologies Used</th>\n",
       "    </tr>\n",
       "  </thead>\n",
       "  <tbody>\n",
       "    <tr>\n",
       "      <th>Anna</th>\n",
       "      <td>London</td>\n",
       "      <td>7</td>\n",
       "      <td>Java</td>\n",
       "    </tr>\n",
       "    <tr>\n",
       "      <th>Mohammad</th>\n",
       "      <td>Hong Kong</td>\n",
       "      <td>1</td>\n",
       "      <td>Microsoft Office</td>\n",
       "    </tr>\n",
       "    <tr>\n",
       "      <th>Viral</th>\n",
       "      <td>Seattle</td>\n",
       "      <td>5</td>\n",
       "      <td>C#</td>\n",
       "    </tr>\n",
       "    <tr>\n",
       "      <th>Lizette</th>\n",
       "      <td>Chicago</td>\n",
       "      <td>2</td>\n",
       "      <td>JavaScript</td>\n",
       "    </tr>\n",
       "  </tbody>\n",
       "</table>\n",
       "</div>"
      ],
      "text/plain": [
       "               City Software Experience Technologies Used\n",
       "Anna         London                   7              Java\n",
       "Mohammad  Hong Kong                   1  Microsoft Office\n",
       "Viral       Seattle                   5                C#\n",
       "Lizette     Chicago                   2        JavaScript"
      ]
     },
     "execution_count": 73,
     "metadata": {},
     "output_type": "execute_result"
    }
   ],
   "source": [
    "# For one of your classmates, increase their years of software experience by 1 year. \n",
    "# YOUR CODE HERE\n",
    "\n",
    "# Confirm that the change has been made by viewing the DataFrame\n",
    "# YOUR CODE HERE"
   ]
  },
  {
   "cell_type": "markdown",
   "metadata": {},
   "source": [
    "# ================================"
   ]
  },
  {
   "cell_type": "markdown",
   "metadata": {},
   "source": [
    "### 1.07 Instructor Do: Reading CSV Files with Pandas (10 mins)"
   ]
  },
  {
   "cell_type": "code",
   "execution_count": 74,
   "metadata": {},
   "outputs": [],
   "source": [
    "import pandas as pd\n",
    "from pathlib import Path"
   ]
  },
  {
   "cell_type": "markdown",
   "metadata": {},
   "source": [
    "# Reading a CSV file as a Pandas DataFrame"
   ]
  },
  {
   "cell_type": "markdown",
   "metadata": {},
   "source": [
    "### Step 1: Create a path to the file"
   ]
  },
  {
   "cell_type": "code",
   "execution_count": 75,
   "metadata": {},
   "outputs": [],
   "source": [
    "# Detail the relative path to the CSV file being imported\n",
    "csvpath = Path(\"07-Ins_Reading_CSVs/Resources/sales.csv\")"
   ]
  },
  {
   "cell_type": "markdown",
   "metadata": {},
   "source": [
    "### Step 2: Read the CSV into a DataFrame using Pandas"
   ]
  },
  {
   "cell_type": "code",
   "execution_count": 76,
   "metadata": {},
   "outputs": [],
   "source": [
    "# Use the Pandas read_csv function, specifiying the relative Path\n",
    "sales_dataframe = pd.read_csv(csvpath)"
   ]
  },
  {
   "cell_type": "markdown",
   "metadata": {},
   "source": [
    "## Step 3: Review the DataFrame"
   ]
  },
  {
   "cell_type": "code",
   "execution_count": 77,
   "metadata": {},
   "outputs": [
    {
     "data": {
      "text/html": [
       "<div>\n",
       "<style scoped>\n",
       "    .dataframe tbody tr th:only-of-type {\n",
       "        vertical-align: middle;\n",
       "    }\n",
       "\n",
       "    .dataframe tbody tr th {\n",
       "        vertical-align: top;\n",
       "    }\n",
       "\n",
       "    .dataframe thead th {\n",
       "        text-align: right;\n",
       "    }\n",
       "</style>\n",
       "<table border=\"1\" class=\"dataframe\">\n",
       "  <thead>\n",
       "    <tr style=\"text-align: right;\">\n",
       "      <th></th>\n",
       "      <th>FullName</th>\n",
       "      <th>Email</th>\n",
       "      <th>Address</th>\n",
       "      <th>Zip</th>\n",
       "      <th>CreditCard</th>\n",
       "      <th>SalePrice</th>\n",
       "    </tr>\n",
       "  </thead>\n",
       "  <tbody>\n",
       "    <tr>\n",
       "      <th>0</th>\n",
       "      <td>Elwanda White</td>\n",
       "      <td>alyre2036@live.com</td>\n",
       "      <td>352 Lakeshore Mall</td>\n",
       "      <td>9236</td>\n",
       "      <td>5327 0855 9720 7055</td>\n",
       "      <td>84.33</td>\n",
       "    </tr>\n",
       "    <tr>\n",
       "      <th>1</th>\n",
       "      <td>Lyndon Elliott</td>\n",
       "      <td>arrowy1873@outlook.com</td>\n",
       "      <td>1234 Avery Plaza</td>\n",
       "      <td>1330</td>\n",
       "      <td>3717 498777 19636</td>\n",
       "      <td>879.95</td>\n",
       "    </tr>\n",
       "    <tr>\n",
       "      <th>2</th>\n",
       "      <td>Daisey Sellers</td>\n",
       "      <td>toucan2024@outlook.com</td>\n",
       "      <td>469 Elwood Street</td>\n",
       "      <td>7631</td>\n",
       "      <td>3758 579477 35734</td>\n",
       "      <td>907.58</td>\n",
       "    </tr>\n",
       "    <tr>\n",
       "      <th>3</th>\n",
       "      <td>Issac Reeves</td>\n",
       "      <td>asarin1958@gmail.com</td>\n",
       "      <td>565 Phelps Field</td>\n",
       "      <td>81168</td>\n",
       "      <td>4400 0380 4162 1622</td>\n",
       "      <td>545.88</td>\n",
       "    </tr>\n",
       "    <tr>\n",
       "      <th>4</th>\n",
       "      <td>Bradford Kinney</td>\n",
       "      <td>mibound1801@yandex.com</td>\n",
       "      <td>853 Mission Rock Freeway</td>\n",
       "      <td>41721</td>\n",
       "      <td>3712 263405 60178</td>\n",
       "      <td>517.49</td>\n",
       "    </tr>\n",
       "  </tbody>\n",
       "</table>\n",
       "</div>"
      ],
      "text/plain": [
       "          FullName                   Email                   Address    Zip  \\\n",
       "0    Elwanda White      alyre2036@live.com        352 Lakeshore Mall   9236   \n",
       "1   Lyndon Elliott  arrowy1873@outlook.com          1234 Avery Plaza   1330   \n",
       "2   Daisey Sellers  toucan2024@outlook.com         469 Elwood Street   7631   \n",
       "3     Issac Reeves    asarin1958@gmail.com          565 Phelps Field  81168   \n",
       "4  Bradford Kinney  mibound1801@yandex.com  853 Mission Rock Freeway  41721   \n",
       "\n",
       "            CreditCard  SalePrice  \n",
       "0  5327 0855 9720 7055      84.33  \n",
       "1    3717 498777 19636     879.95  \n",
       "2    3758 579477 35734     907.58  \n",
       "3  4400 0380 4162 1622     545.88  \n",
       "4    3712 263405 60178     517.49  "
      ]
     },
     "execution_count": 77,
     "metadata": {},
     "output_type": "execute_result"
    }
   ],
   "source": [
    "# Review the first five rows of the DataFrame with the head function\n",
    "sales_dataframe.head()"
   ]
  },
  {
   "cell_type": "code",
   "execution_count": 78,
   "metadata": {},
   "outputs": [
    {
     "data": {
      "text/html": [
       "<div>\n",
       "<style scoped>\n",
       "    .dataframe tbody tr th:only-of-type {\n",
       "        vertical-align: middle;\n",
       "    }\n",
       "\n",
       "    .dataframe tbody tr th {\n",
       "        vertical-align: top;\n",
       "    }\n",
       "\n",
       "    .dataframe thead th {\n",
       "        text-align: right;\n",
       "    }\n",
       "</style>\n",
       "<table border=\"1\" class=\"dataframe\">\n",
       "  <thead>\n",
       "    <tr style=\"text-align: right;\">\n",
       "      <th></th>\n",
       "      <th>FullName</th>\n",
       "      <th>Email</th>\n",
       "      <th>Address</th>\n",
       "      <th>Zip</th>\n",
       "      <th>CreditCard</th>\n",
       "      <th>SalePrice</th>\n",
       "    </tr>\n",
       "  </thead>\n",
       "  <tbody>\n",
       "    <tr>\n",
       "      <th>95</th>\n",
       "      <td>Basil Rios</td>\n",
       "      <td>holloo1814@yahoo.com</td>\n",
       "      <td>605 Sloat Terrace</td>\n",
       "      <td>8108</td>\n",
       "      <td>5581 7245 8451 9384</td>\n",
       "      <td>937.14</td>\n",
       "    </tr>\n",
       "    <tr>\n",
       "      <th>96</th>\n",
       "      <td>Hipolito Rios</td>\n",
       "      <td>calefacient2049@gmail.com</td>\n",
       "      <td>1248 Fountain Boulevard</td>\n",
       "      <td>37077</td>\n",
       "      <td>2333 0264 5343 2022</td>\n",
       "      <td>645.82</td>\n",
       "    </tr>\n",
       "    <tr>\n",
       "      <th>97</th>\n",
       "      <td>Clayton Robertson</td>\n",
       "      <td>coner2015@live.com</td>\n",
       "      <td>230 Paper Parkway</td>\n",
       "      <td>57242</td>\n",
       "      <td>2414 3939 6501 2607</td>\n",
       "      <td>128.73</td>\n",
       "    </tr>\n",
       "    <tr>\n",
       "      <th>98</th>\n",
       "      <td>Tony Chandler</td>\n",
       "      <td>sexillion2061@live.com</td>\n",
       "      <td>118 Flood Plantation</td>\n",
       "      <td>70135</td>\n",
       "      <td>5581 8059 1883 1841</td>\n",
       "      <td>820.00</td>\n",
       "    </tr>\n",
       "    <tr>\n",
       "      <th>99</th>\n",
       "      <td>Cuc Mcgowan</td>\n",
       "      <td>dispatched1820@gmail.com</td>\n",
       "      <td>87 Louisiana Grove</td>\n",
       "      <td>70959</td>\n",
       "      <td>2678 4140 5531 3894</td>\n",
       "      <td>764.69</td>\n",
       "    </tr>\n",
       "  </tbody>\n",
       "</table>\n",
       "</div>"
      ],
      "text/plain": [
       "             FullName                      Email                  Address  \\\n",
       "95         Basil Rios       holloo1814@yahoo.com        605 Sloat Terrace   \n",
       "96      Hipolito Rios  calefacient2049@gmail.com  1248 Fountain Boulevard   \n",
       "97  Clayton Robertson         coner2015@live.com        230 Paper Parkway   \n",
       "98      Tony Chandler     sexillion2061@live.com     118 Flood Plantation   \n",
       "99        Cuc Mcgowan   dispatched1820@gmail.com       87 Louisiana Grove   \n",
       "\n",
       "      Zip           CreditCard  SalePrice  \n",
       "95   8108  5581 7245 8451 9384     937.14  \n",
       "96  37077  2333 0264 5343 2022     645.82  \n",
       "97  57242  2414 3939 6501 2607     128.73  \n",
       "98  70135  5581 8059 1883 1841     820.00  \n",
       "99  70959  2678 4140 5531 3894     764.69  "
      ]
     },
     "execution_count": 78,
     "metadata": {},
     "output_type": "execute_result"
    }
   ],
   "source": [
    "# Review the last five rows of the DataFrame with the head function\n",
    "# The nubmer of rows viewed can be altered\n",
    "sales_dataframe.tail()"
   ]
  },
  {
   "cell_type": "code",
   "execution_count": 79,
   "metadata": {},
   "outputs": [
    {
     "data": {
      "text/html": [
       "<div>\n",
       "<style scoped>\n",
       "    .dataframe tbody tr th:only-of-type {\n",
       "        vertical-align: middle;\n",
       "    }\n",
       "\n",
       "    .dataframe tbody tr th {\n",
       "        vertical-align: top;\n",
       "    }\n",
       "\n",
       "    .dataframe thead th {\n",
       "        text-align: right;\n",
       "    }\n",
       "</style>\n",
       "<table border=\"1\" class=\"dataframe\">\n",
       "  <thead>\n",
       "    <tr style=\"text-align: right;\">\n",
       "      <th></th>\n",
       "      <th>FullName</th>\n",
       "      <th>Email</th>\n",
       "      <th>Address</th>\n",
       "      <th>Zip</th>\n",
       "      <th>CreditCard</th>\n",
       "      <th>SalePrice</th>\n",
       "    </tr>\n",
       "  </thead>\n",
       "  <tbody>\n",
       "    <tr>\n",
       "      <th>0</th>\n",
       "      <td>Elwanda White</td>\n",
       "      <td>alyre2036@live.com</td>\n",
       "      <td>352 Lakeshore Mall</td>\n",
       "      <td>9236</td>\n",
       "      <td>5327 0855 9720 7055</td>\n",
       "      <td>84.33</td>\n",
       "    </tr>\n",
       "    <tr>\n",
       "      <th>1</th>\n",
       "      <td>Lyndon Elliott</td>\n",
       "      <td>arrowy1873@outlook.com</td>\n",
       "      <td>1234 Avery Plaza</td>\n",
       "      <td>1330</td>\n",
       "      <td>3717 498777 19636</td>\n",
       "      <td>879.95</td>\n",
       "    </tr>\n",
       "    <tr>\n",
       "      <th>2</th>\n",
       "      <td>Daisey Sellers</td>\n",
       "      <td>toucan2024@outlook.com</td>\n",
       "      <td>469 Elwood Street</td>\n",
       "      <td>7631</td>\n",
       "      <td>3758 579477 35734</td>\n",
       "      <td>907.58</td>\n",
       "    </tr>\n",
       "    <tr>\n",
       "      <th>3</th>\n",
       "      <td>Issac Reeves</td>\n",
       "      <td>asarin1958@gmail.com</td>\n",
       "      <td>565 Phelps Field</td>\n",
       "      <td>81168</td>\n",
       "      <td>4400 0380 4162 1622</td>\n",
       "      <td>545.88</td>\n",
       "    </tr>\n",
       "    <tr>\n",
       "      <th>4</th>\n",
       "      <td>Bradford Kinney</td>\n",
       "      <td>mibound1801@yandex.com</td>\n",
       "      <td>853 Mission Rock Freeway</td>\n",
       "      <td>41721</td>\n",
       "      <td>3712 263405 60178</td>\n",
       "      <td>517.49</td>\n",
       "    </tr>\n",
       "  </tbody>\n",
       "</table>\n",
       "</div>"
      ],
      "text/plain": [
       "          FullName                   Email                   Address    Zip  \\\n",
       "0    Elwanda White      alyre2036@live.com        352 Lakeshore Mall   9236   \n",
       "1   Lyndon Elliott  arrowy1873@outlook.com          1234 Avery Plaza   1330   \n",
       "2   Daisey Sellers  toucan2024@outlook.com         469 Elwood Street   7631   \n",
       "3     Issac Reeves    asarin1958@gmail.com          565 Phelps Field  81168   \n",
       "4  Bradford Kinney  mibound1801@yandex.com  853 Mission Rock Freeway  41721   \n",
       "\n",
       "            CreditCard  SalePrice  \n",
       "0  5327 0855 9720 7055      84.33  \n",
       "1    3717 498777 19636     879.95  \n",
       "2    3758 579477 35734     907.58  \n",
       "3  4400 0380 4162 1622     545.88  \n",
       "4    3712 263405 60178     517.49  "
      ]
     },
     "metadata": {},
     "output_type": "display_data"
    },
    {
     "data": {
      "text/html": [
       "<div>\n",
       "<style scoped>\n",
       "    .dataframe tbody tr th:only-of-type {\n",
       "        vertical-align: middle;\n",
       "    }\n",
       "\n",
       "    .dataframe tbody tr th {\n",
       "        vertical-align: top;\n",
       "    }\n",
       "\n",
       "    .dataframe thead th {\n",
       "        text-align: right;\n",
       "    }\n",
       "</style>\n",
       "<table border=\"1\" class=\"dataframe\">\n",
       "  <thead>\n",
       "    <tr style=\"text-align: right;\">\n",
       "      <th></th>\n",
       "      <th>FullName</th>\n",
       "      <th>Email</th>\n",
       "      <th>Address</th>\n",
       "      <th>Zip</th>\n",
       "      <th>CreditCard</th>\n",
       "      <th>SalePrice</th>\n",
       "    </tr>\n",
       "  </thead>\n",
       "  <tbody>\n",
       "    <tr>\n",
       "      <th>93</th>\n",
       "      <td>Jerrold Luna</td>\n",
       "      <td>cherish1912@yahoo.com</td>\n",
       "      <td>1383 Merrie Crescent</td>\n",
       "      <td>555</td>\n",
       "      <td>4431 5573 4636 2445</td>\n",
       "      <td>126.06</td>\n",
       "    </tr>\n",
       "    <tr>\n",
       "      <th>94</th>\n",
       "      <td>Jonas Larsen</td>\n",
       "      <td>going1804@yandex.com</td>\n",
       "      <td>1323 Van Dyke Arcade</td>\n",
       "      <td>7839</td>\n",
       "      <td>2672 8966 5206 2195</td>\n",
       "      <td>323.13</td>\n",
       "    </tr>\n",
       "    <tr>\n",
       "      <th>95</th>\n",
       "      <td>Basil Rios</td>\n",
       "      <td>holloo1814@yahoo.com</td>\n",
       "      <td>605 Sloat Terrace</td>\n",
       "      <td>8108</td>\n",
       "      <td>5581 7245 8451 9384</td>\n",
       "      <td>937.14</td>\n",
       "    </tr>\n",
       "    <tr>\n",
       "      <th>96</th>\n",
       "      <td>Hipolito Rios</td>\n",
       "      <td>calefacient2049@gmail.com</td>\n",
       "      <td>1248 Fountain Boulevard</td>\n",
       "      <td>37077</td>\n",
       "      <td>2333 0264 5343 2022</td>\n",
       "      <td>645.82</td>\n",
       "    </tr>\n",
       "    <tr>\n",
       "      <th>97</th>\n",
       "      <td>Clayton Robertson</td>\n",
       "      <td>coner2015@live.com</td>\n",
       "      <td>230 Paper Parkway</td>\n",
       "      <td>57242</td>\n",
       "      <td>2414 3939 6501 2607</td>\n",
       "      <td>128.73</td>\n",
       "    </tr>\n",
       "    <tr>\n",
       "      <th>98</th>\n",
       "      <td>Tony Chandler</td>\n",
       "      <td>sexillion2061@live.com</td>\n",
       "      <td>118 Flood Plantation</td>\n",
       "      <td>70135</td>\n",
       "      <td>5581 8059 1883 1841</td>\n",
       "      <td>820.00</td>\n",
       "    </tr>\n",
       "    <tr>\n",
       "      <th>99</th>\n",
       "      <td>Cuc Mcgowan</td>\n",
       "      <td>dispatched1820@gmail.com</td>\n",
       "      <td>87 Louisiana Grove</td>\n",
       "      <td>70959</td>\n",
       "      <td>2678 4140 5531 3894</td>\n",
       "      <td>764.69</td>\n",
       "    </tr>\n",
       "  </tbody>\n",
       "</table>\n",
       "</div>"
      ],
      "text/plain": [
       "             FullName                      Email                  Address  \\\n",
       "93       Jerrold Luna      cherish1912@yahoo.com     1383 Merrie Crescent   \n",
       "94       Jonas Larsen       going1804@yandex.com     1323 Van Dyke Arcade   \n",
       "95         Basil Rios       holloo1814@yahoo.com        605 Sloat Terrace   \n",
       "96      Hipolito Rios  calefacient2049@gmail.com  1248 Fountain Boulevard   \n",
       "97  Clayton Robertson         coner2015@live.com        230 Paper Parkway   \n",
       "98      Tony Chandler     sexillion2061@live.com     118 Flood Plantation   \n",
       "99        Cuc Mcgowan   dispatched1820@gmail.com       87 Louisiana Grove   \n",
       "\n",
       "      Zip           CreditCard  SalePrice  \n",
       "93    555  4431 5573 4636 2445     126.06  \n",
       "94   7839  2672 8966 5206 2195     323.13  \n",
       "95   8108  5581 7245 8451 9384     937.14  \n",
       "96  37077  2333 0264 5343 2022     645.82  \n",
       "97  57242  2414 3939 6501 2607     128.73  \n",
       "98  70135  5581 8059 1883 1841     820.00  \n",
       "99  70959  2678 4140 5531 3894     764.69  "
      ]
     },
     "metadata": {},
     "output_type": "display_data"
    }
   ],
   "source": [
    "# Review both the head and the tail by incorporating the display function\n",
    "display(sales_dataframe.head())\n",
    "display(sales_dataframe.tail(7))"
   ]
  },
  {
   "cell_type": "code",
   "execution_count": 80,
   "metadata": {},
   "outputs": [
    {
     "name": "stdout",
     "output_type": "stream",
     "text": [
      "<class 'pandas.core.frame.DataFrame'>\n",
      "RangeIndex: 100 entries, 0 to 99\n",
      "Data columns (total 6 columns):\n",
      " #   Column      Non-Null Count  Dtype  \n",
      "---  ------      --------------  -----  \n",
      " 0   FullName    100 non-null    object \n",
      " 1   Email       100 non-null    object \n",
      " 2   Address     100 non-null    object \n",
      " 3   Zip         100 non-null    int64  \n",
      " 4   CreditCard  100 non-null    object \n",
      " 5   SalePrice   100 non-null    float64\n",
      "dtypes: float64(1), int64(1), object(4)\n",
      "memory usage: 4.8+ KB\n"
     ]
    }
   ],
   "source": [
    "# Generate a concise summary of the DataFrame with the info function\n",
    "# This includes number of columns, the name of the columns, the count of each column, and data type\n",
    "sales_dataframe.info()"
   ]
  },
  {
   "cell_type": "code",
   "execution_count": 81,
   "metadata": {},
   "outputs": [
    {
     "data": {
      "text/html": [
       "<div>\n",
       "<style scoped>\n",
       "    .dataframe tbody tr th:only-of-type {\n",
       "        vertical-align: middle;\n",
       "    }\n",
       "\n",
       "    .dataframe tbody tr th {\n",
       "        vertical-align: top;\n",
       "    }\n",
       "\n",
       "    .dataframe thead th {\n",
       "        text-align: right;\n",
       "    }\n",
       "</style>\n",
       "<table border=\"1\" class=\"dataframe\">\n",
       "  <thead>\n",
       "    <tr style=\"text-align: right;\">\n",
       "      <th></th>\n",
       "      <th>Zip</th>\n",
       "      <th>SalePrice</th>\n",
       "    </tr>\n",
       "  </thead>\n",
       "  <tbody>\n",
       "    <tr>\n",
       "      <th>count</th>\n",
       "      <td>100.000000</td>\n",
       "      <td>100.000000</td>\n",
       "    </tr>\n",
       "    <tr>\n",
       "      <th>mean</th>\n",
       "      <td>40952.160000</td>\n",
       "      <td>533.007200</td>\n",
       "    </tr>\n",
       "    <tr>\n",
       "      <th>std</th>\n",
       "      <td>30207.118496</td>\n",
       "      <td>275.531072</td>\n",
       "    </tr>\n",
       "    <tr>\n",
       "      <th>min</th>\n",
       "      <td>555.000000</td>\n",
       "      <td>29.720000</td>\n",
       "    </tr>\n",
       "    <tr>\n",
       "      <th>25%</th>\n",
       "      <td>11109.750000</td>\n",
       "      <td>328.507500</td>\n",
       "    </tr>\n",
       "    <tr>\n",
       "      <th>50%</th>\n",
       "      <td>40033.500000</td>\n",
       "      <td>536.110000</td>\n",
       "    </tr>\n",
       "    <tr>\n",
       "      <th>75%</th>\n",
       "      <td>65834.750000</td>\n",
       "      <td>767.885000</td>\n",
       "    </tr>\n",
       "    <tr>\n",
       "      <th>max</th>\n",
       "      <td>99877.000000</td>\n",
       "      <td>998.760000</td>\n",
       "    </tr>\n",
       "  </tbody>\n",
       "</table>\n",
       "</div>"
      ],
      "text/plain": [
       "                Zip   SalePrice\n",
       "count    100.000000  100.000000\n",
       "mean   40952.160000  533.007200\n",
       "std    30207.118496  275.531072\n",
       "min      555.000000   29.720000\n",
       "25%    11109.750000  328.507500\n",
       "50%    40033.500000  536.110000\n",
       "75%    65834.750000  767.885000\n",
       "max    99877.000000  998.760000"
      ]
     },
     "execution_count": 81,
     "metadata": {},
     "output_type": "execute_result"
    }
   ],
   "source": [
    "# Generate summary statistics of the DataFrame with the describe function\n",
    "# This will only generate information for numeric columns\n",
    "# This contains information like count, average, standard deviation, min and max values\n",
    "sales_dataframe.describe()"
   ]
  },
  {
   "cell_type": "markdown",
   "metadata": {},
   "source": [
    "# ================================"
   ]
  },
  {
   "cell_type": "markdown",
   "metadata": {},
   "source": [
    "### 1.08 Student Do: From CSV to DataFrame (10 mins)"
   ]
  },
  {
   "cell_type": "markdown",
   "metadata": {},
   "source": [
    "In this activity, you will import a CSV file and create a DataFrame with a `DatetimeIndex`.\n",
    "\n",
    "## Instructions\n",
    "\n",
    "1. Import the required libraries and dependencies.\n",
    "\n",
    "2. Using the Pandas `read_csv` function, import the `prices.csv` file from the `Resources` folder into a Pandas DataFrame. The `read_csv` function will take in four parameters: \n",
    "\n",
    "    * Using the Path module, specify the relative path to the `prices.csv` file.\n",
    "    \n",
    "    * Set the `index_col` parameter to specify the Date column as the index for the DataFrame.\n",
    "    \n",
    "    * Set the `parse_dates` parameter to `True`.\n",
    "    \n",
    "    * Set the `infer_datetime_format` parameter to `True`.\n",
    "\n",
    "3. Review the first five rows of the DataFrame using the Pandas `head` function.\n",
    "\n",
    "4. Review the last five rows of the DataFrame using the Pandas `tail` function.\n",
    "\n",
    "5. Review both the first and last seven rows of the DataFrame from one cell by calling the Pandas `display` function in conjunction with the `head` and `tail` functions.\n",
    "\n",
    "6. Review the basic information of the DataFrame by calling the Pandas `info` function.\n",
    "\n",
    "7. Generate the summary statistics for the DataFrame by calling the Pandas `describe` function."
   ]
  },
  {
   "cell_type": "code",
   "execution_count": 82,
   "metadata": {},
   "outputs": [],
   "source": [
    "# Import the Pandas library\n",
    "# YOUR CODE HERE\n",
    "\n",
    "# Import the Path module from the pathlib library\n",
    "# YOUR CODE HERE"
   ]
  },
  {
   "cell_type": "markdown",
   "metadata": {},
   "source": [
    "## Using the Pandas `read_csv` function, create a Pandas Dataframe by importing the \"prices.csv\" file from the Resources folder.\n",
    "\n",
    "The `read_csv` function should take in 4 parameters:\n",
    "\n",
    "1. Using the Path module, specify the relative path to the \"prices.csv\" file.\n",
    "2. Set the `index_col` parameter to specify the \"Date\" column as the index for the Pandas DataFrame.\n",
    "3. Set the `parse_dates` parameter to True.\n",
    "4. Set the `infer_datetime_format` parameter to True. "
   ]
  },
  {
   "cell_type": "code",
   "execution_count": 83,
   "metadata": {},
   "outputs": [],
   "source": [
    "# Use the `read_csv` function to create the Pandas DataFrame\n",
    "# YOUR CODE HERE"
   ]
  },
  {
   "cell_type": "code",
   "execution_count": 84,
   "metadata": {},
   "outputs": [
    {
     "data": {
      "text/html": [
       "<div>\n",
       "<style scoped>\n",
       "    .dataframe tbody tr th:only-of-type {\n",
       "        vertical-align: middle;\n",
       "    }\n",
       "\n",
       "    .dataframe tbody tr th {\n",
       "        vertical-align: top;\n",
       "    }\n",
       "\n",
       "    .dataframe thead th {\n",
       "        text-align: right;\n",
       "    }\n",
       "</style>\n",
       "<table border=\"1\" class=\"dataframe\">\n",
       "  <thead>\n",
       "    <tr style=\"text-align: right;\">\n",
       "      <th></th>\n",
       "      <th>MSFT</th>\n",
       "      <th>AAPL</th>\n",
       "      <th>TWTR</th>\n",
       "    </tr>\n",
       "    <tr>\n",
       "      <th>Date</th>\n",
       "      <th></th>\n",
       "      <th></th>\n",
       "      <th></th>\n",
       "    </tr>\n",
       "  </thead>\n",
       "  <tbody>\n",
       "    <tr>\n",
       "      <th>2020-01-02</th>\n",
       "      <td>160.62</td>\n",
       "      <td>75.09</td>\n",
       "      <td>32.30</td>\n",
       "    </tr>\n",
       "    <tr>\n",
       "      <th>2020-01-03</th>\n",
       "      <td>158.62</td>\n",
       "      <td>74.36</td>\n",
       "      <td>31.52</td>\n",
       "    </tr>\n",
       "    <tr>\n",
       "      <th>2020-01-06</th>\n",
       "      <td>159.03</td>\n",
       "      <td>74.95</td>\n",
       "      <td>31.64</td>\n",
       "    </tr>\n",
       "    <tr>\n",
       "      <th>2020-01-07</th>\n",
       "      <td>157.58</td>\n",
       "      <td>74.60</td>\n",
       "      <td>32.54</td>\n",
       "    </tr>\n",
       "    <tr>\n",
       "      <th>2020-01-08</th>\n",
       "      <td>160.09</td>\n",
       "      <td>75.80</td>\n",
       "      <td>33.05</td>\n",
       "    </tr>\n",
       "  </tbody>\n",
       "</table>\n",
       "</div>"
      ],
      "text/plain": [
       "              MSFT   AAPL   TWTR\n",
       "Date                            \n",
       "2020-01-02  160.62  75.09  32.30\n",
       "2020-01-03  158.62  74.36  31.52\n",
       "2020-01-06  159.03  74.95  31.64\n",
       "2020-01-07  157.58  74.60  32.54\n",
       "2020-01-08  160.09  75.80  33.05"
      ]
     },
     "execution_count": 84,
     "metadata": {},
     "output_type": "execute_result"
    }
   ],
   "source": [
    "# Review the first five rows of the DataFrame\n",
    "# YOUR CODE HERE"
   ]
  },
  {
   "cell_type": "code",
   "execution_count": 85,
   "metadata": {},
   "outputs": [
    {
     "data": {
      "text/html": [
       "<div>\n",
       "<style scoped>\n",
       "    .dataframe tbody tr th:only-of-type {\n",
       "        vertical-align: middle;\n",
       "    }\n",
       "\n",
       "    .dataframe tbody tr th {\n",
       "        vertical-align: top;\n",
       "    }\n",
       "\n",
       "    .dataframe thead th {\n",
       "        text-align: right;\n",
       "    }\n",
       "</style>\n",
       "<table border=\"1\" class=\"dataframe\">\n",
       "  <thead>\n",
       "    <tr style=\"text-align: right;\">\n",
       "      <th></th>\n",
       "      <th>MSFT</th>\n",
       "      <th>AAPL</th>\n",
       "      <th>TWTR</th>\n",
       "    </tr>\n",
       "    <tr>\n",
       "      <th>Date</th>\n",
       "      <th></th>\n",
       "      <th></th>\n",
       "      <th></th>\n",
       "    </tr>\n",
       "  </thead>\n",
       "  <tbody>\n",
       "    <tr>\n",
       "      <th>2020-03-25</th>\n",
       "      <td>146.92</td>\n",
       "      <td>61.38</td>\n",
       "      <td>25.97</td>\n",
       "    </tr>\n",
       "    <tr>\n",
       "      <th>2020-03-26</th>\n",
       "      <td>156.11</td>\n",
       "      <td>64.61</td>\n",
       "      <td>26.41</td>\n",
       "    </tr>\n",
       "    <tr>\n",
       "      <th>2020-03-27</th>\n",
       "      <td>149.70</td>\n",
       "      <td>61.94</td>\n",
       "      <td>25.29</td>\n",
       "    </tr>\n",
       "    <tr>\n",
       "      <th>2020-03-30</th>\n",
       "      <td>160.23</td>\n",
       "      <td>63.70</td>\n",
       "      <td>25.59</td>\n",
       "    </tr>\n",
       "    <tr>\n",
       "      <th>2020-03-31</th>\n",
       "      <td>157.71</td>\n",
       "      <td>63.57</td>\n",
       "      <td>24.56</td>\n",
       "    </tr>\n",
       "  </tbody>\n",
       "</table>\n",
       "</div>"
      ],
      "text/plain": [
       "              MSFT   AAPL   TWTR\n",
       "Date                            \n",
       "2020-03-25  146.92  61.38  25.97\n",
       "2020-03-26  156.11  64.61  26.41\n",
       "2020-03-27  149.70  61.94  25.29\n",
       "2020-03-30  160.23  63.70  25.59\n",
       "2020-03-31  157.71  63.57  24.56"
      ]
     },
     "execution_count": 85,
     "metadata": {},
     "output_type": "execute_result"
    }
   ],
   "source": [
    "# Review the last five rows of the DataFrame\n",
    "# YOUR CODE HERE"
   ]
  },
  {
   "cell_type": "markdown",
   "metadata": {},
   "source": [
    "## Review both the first and last seven rows of the DataFrame from one cell by calling the Pandas `display` function in conjunction with the `head` and `tail` functions. "
   ]
  },
  {
   "cell_type": "code",
   "execution_count": 86,
   "metadata": {},
   "outputs": [
    {
     "data": {
      "text/html": [
       "<div>\n",
       "<style scoped>\n",
       "    .dataframe tbody tr th:only-of-type {\n",
       "        vertical-align: middle;\n",
       "    }\n",
       "\n",
       "    .dataframe tbody tr th {\n",
       "        vertical-align: top;\n",
       "    }\n",
       "\n",
       "    .dataframe thead th {\n",
       "        text-align: right;\n",
       "    }\n",
       "</style>\n",
       "<table border=\"1\" class=\"dataframe\">\n",
       "  <thead>\n",
       "    <tr style=\"text-align: right;\">\n",
       "      <th></th>\n",
       "      <th>MSFT</th>\n",
       "      <th>AAPL</th>\n",
       "      <th>TWTR</th>\n",
       "    </tr>\n",
       "    <tr>\n",
       "      <th>Date</th>\n",
       "      <th></th>\n",
       "      <th></th>\n",
       "      <th></th>\n",
       "    </tr>\n",
       "  </thead>\n",
       "  <tbody>\n",
       "    <tr>\n",
       "      <th>2020-01-02</th>\n",
       "      <td>160.62</td>\n",
       "      <td>75.09</td>\n",
       "      <td>32.30</td>\n",
       "    </tr>\n",
       "    <tr>\n",
       "      <th>2020-01-03</th>\n",
       "      <td>158.62</td>\n",
       "      <td>74.36</td>\n",
       "      <td>31.52</td>\n",
       "    </tr>\n",
       "    <tr>\n",
       "      <th>2020-01-06</th>\n",
       "      <td>159.03</td>\n",
       "      <td>74.95</td>\n",
       "      <td>31.64</td>\n",
       "    </tr>\n",
       "    <tr>\n",
       "      <th>2020-01-07</th>\n",
       "      <td>157.58</td>\n",
       "      <td>74.60</td>\n",
       "      <td>32.54</td>\n",
       "    </tr>\n",
       "    <tr>\n",
       "      <th>2020-01-08</th>\n",
       "      <td>160.09</td>\n",
       "      <td>75.80</td>\n",
       "      <td>33.05</td>\n",
       "    </tr>\n",
       "    <tr>\n",
       "      <th>2020-01-09</th>\n",
       "      <td>162.09</td>\n",
       "      <td>77.41</td>\n",
       "      <td>33.22</td>\n",
       "    </tr>\n",
       "    <tr>\n",
       "      <th>2020-01-10</th>\n",
       "      <td>161.34</td>\n",
       "      <td>77.58</td>\n",
       "      <td>32.78</td>\n",
       "    </tr>\n",
       "  </tbody>\n",
       "</table>\n",
       "</div>"
      ],
      "text/plain": [
       "              MSFT   AAPL   TWTR\n",
       "Date                            \n",
       "2020-01-02  160.62  75.09  32.30\n",
       "2020-01-03  158.62  74.36  31.52\n",
       "2020-01-06  159.03  74.95  31.64\n",
       "2020-01-07  157.58  74.60  32.54\n",
       "2020-01-08  160.09  75.80  33.05\n",
       "2020-01-09  162.09  77.41  33.22\n",
       "2020-01-10  161.34  77.58  32.78"
      ]
     },
     "metadata": {},
     "output_type": "display_data"
    },
    {
     "data": {
      "text/html": [
       "<div>\n",
       "<style scoped>\n",
       "    .dataframe tbody tr th:only-of-type {\n",
       "        vertical-align: middle;\n",
       "    }\n",
       "\n",
       "    .dataframe tbody tr th {\n",
       "        vertical-align: top;\n",
       "    }\n",
       "\n",
       "    .dataframe thead th {\n",
       "        text-align: right;\n",
       "    }\n",
       "</style>\n",
       "<table border=\"1\" class=\"dataframe\">\n",
       "  <thead>\n",
       "    <tr style=\"text-align: right;\">\n",
       "      <th></th>\n",
       "      <th>MSFT</th>\n",
       "      <th>AAPL</th>\n",
       "      <th>TWTR</th>\n",
       "    </tr>\n",
       "    <tr>\n",
       "      <th>Date</th>\n",
       "      <th></th>\n",
       "      <th></th>\n",
       "      <th></th>\n",
       "    </tr>\n",
       "  </thead>\n",
       "  <tbody>\n",
       "    <tr>\n",
       "      <th>2020-03-23</th>\n",
       "      <td>135.98</td>\n",
       "      <td>56.09</td>\n",
       "      <td>24.69</td>\n",
       "    </tr>\n",
       "    <tr>\n",
       "      <th>2020-03-24</th>\n",
       "      <td>148.34</td>\n",
       "      <td>61.72</td>\n",
       "      <td>25.85</td>\n",
       "    </tr>\n",
       "    <tr>\n",
       "      <th>2020-03-25</th>\n",
       "      <td>146.92</td>\n",
       "      <td>61.38</td>\n",
       "      <td>25.97</td>\n",
       "    </tr>\n",
       "    <tr>\n",
       "      <th>2020-03-26</th>\n",
       "      <td>156.11</td>\n",
       "      <td>64.61</td>\n",
       "      <td>26.41</td>\n",
       "    </tr>\n",
       "    <tr>\n",
       "      <th>2020-03-27</th>\n",
       "      <td>149.70</td>\n",
       "      <td>61.94</td>\n",
       "      <td>25.29</td>\n",
       "    </tr>\n",
       "    <tr>\n",
       "      <th>2020-03-30</th>\n",
       "      <td>160.23</td>\n",
       "      <td>63.70</td>\n",
       "      <td>25.59</td>\n",
       "    </tr>\n",
       "    <tr>\n",
       "      <th>2020-03-31</th>\n",
       "      <td>157.71</td>\n",
       "      <td>63.57</td>\n",
       "      <td>24.56</td>\n",
       "    </tr>\n",
       "  </tbody>\n",
       "</table>\n",
       "</div>"
      ],
      "text/plain": [
       "              MSFT   AAPL   TWTR\n",
       "Date                            \n",
       "2020-03-23  135.98  56.09  24.69\n",
       "2020-03-24  148.34  61.72  25.85\n",
       "2020-03-25  146.92  61.38  25.97\n",
       "2020-03-26  156.11  64.61  26.41\n",
       "2020-03-27  149.70  61.94  25.29\n",
       "2020-03-30  160.23  63.70  25.59\n",
       "2020-03-31  157.71  63.57  24.56"
      ]
     },
     "metadata": {},
     "output_type": "display_data"
    }
   ],
   "source": [
    "# Review the first and last seven rows of the DataFrame from the same cell\n",
    "# YOUR CODE HERE\n",
    "# YOUR CODE HERE"
   ]
  },
  {
   "cell_type": "code",
   "execution_count": 87,
   "metadata": {},
   "outputs": [
    {
     "name": "stdout",
     "output_type": "stream",
     "text": [
      "<class 'pandas.core.frame.DataFrame'>\n",
      "DatetimeIndex: 62 entries, 2020-01-02 to 2020-03-31\n",
      "Data columns (total 3 columns):\n",
      " #   Column  Non-Null Count  Dtype  \n",
      "---  ------  --------------  -----  \n",
      " 0   MSFT    62 non-null     float64\n",
      " 1   AAPL    62 non-null     float64\n",
      " 2   TWTR    62 non-null     float64\n",
      "dtypes: float64(3)\n",
      "memory usage: 1.9 KB\n"
     ]
    }
   ],
   "source": [
    "# Review basic information about the DataFrame\n",
    "# YOUR CODE HERE"
   ]
  },
  {
   "cell_type": "code",
   "execution_count": 88,
   "metadata": {},
   "outputs": [
    {
     "data": {
      "text/html": [
       "<div>\n",
       "<style scoped>\n",
       "    .dataframe tbody tr th:only-of-type {\n",
       "        vertical-align: middle;\n",
       "    }\n",
       "\n",
       "    .dataframe tbody tr th {\n",
       "        vertical-align: top;\n",
       "    }\n",
       "\n",
       "    .dataframe thead th {\n",
       "        text-align: right;\n",
       "    }\n",
       "</style>\n",
       "<table border=\"1\" class=\"dataframe\">\n",
       "  <thead>\n",
       "    <tr style=\"text-align: right;\">\n",
       "      <th></th>\n",
       "      <th>MSFT</th>\n",
       "      <th>AAPL</th>\n",
       "      <th>TWTR</th>\n",
       "    </tr>\n",
       "  </thead>\n",
       "  <tbody>\n",
       "    <tr>\n",
       "      <th>count</th>\n",
       "      <td>62.000000</td>\n",
       "      <td>62.000000</td>\n",
       "      <td>62.000000</td>\n",
       "    </tr>\n",
       "    <tr>\n",
       "      <th>mean</th>\n",
       "      <td>164.449032</td>\n",
       "      <td>73.541452</td>\n",
       "      <td>32.349355</td>\n",
       "    </tr>\n",
       "    <tr>\n",
       "      <th>std</th>\n",
       "      <td>13.675092</td>\n",
       "      <td>7.303351</td>\n",
       "      <td>4.341601</td>\n",
       "    </tr>\n",
       "    <tr>\n",
       "      <th>min</th>\n",
       "      <td>135.420000</td>\n",
       "      <td>56.090000</td>\n",
       "      <td>22.000000</td>\n",
       "    </tr>\n",
       "    <tr>\n",
       "      <th>25%</th>\n",
       "      <td>158.290000</td>\n",
       "      <td>68.500000</td>\n",
       "      <td>31.550000</td>\n",
       "    </tr>\n",
       "    <tr>\n",
       "      <th>50%</th>\n",
       "      <td>163.895000</td>\n",
       "      <td>75.745000</td>\n",
       "      <td>33.220000</td>\n",
       "    </tr>\n",
       "    <tr>\n",
       "      <th>75%</th>\n",
       "      <td>172.307500</td>\n",
       "      <td>79.655000</td>\n",
       "      <td>34.960000</td>\n",
       "    </tr>\n",
       "    <tr>\n",
       "      <th>max</th>\n",
       "      <td>188.700000</td>\n",
       "      <td>81.800000</td>\n",
       "      <td>39.050000</td>\n",
       "    </tr>\n",
       "  </tbody>\n",
       "</table>\n",
       "</div>"
      ],
      "text/plain": [
       "             MSFT       AAPL       TWTR\n",
       "count   62.000000  62.000000  62.000000\n",
       "mean   164.449032  73.541452  32.349355\n",
       "std     13.675092   7.303351   4.341601\n",
       "min    135.420000  56.090000  22.000000\n",
       "25%    158.290000  68.500000  31.550000\n",
       "50%    163.895000  75.745000  33.220000\n",
       "75%    172.307500  79.655000  34.960000\n",
       "max    188.700000  81.800000  39.050000"
      ]
     },
     "execution_count": 88,
     "metadata": {},
     "output_type": "execute_result"
    }
   ],
   "source": [
    "# Generate the summary statistics for the DataFrame\n",
    "# YOUR CODE HERE"
   ]
  },
  {
   "cell_type": "markdown",
   "metadata": {},
   "source": [
    "# ================================"
   ]
  },
  {
   "cell_type": "markdown",
   "metadata": {},
   "source": [
    "### 1.09 Instructor Do: Column Manipulation (10 mins)"
   ]
  },
  {
   "cell_type": "code",
   "execution_count": 89,
   "metadata": {},
   "outputs": [],
   "source": [
    "import pandas as pd\n",
    "from pathlib import Path"
   ]
  },
  {
   "cell_type": "code",
   "execution_count": 90,
   "metadata": {},
   "outputs": [],
   "source": [
    "csvpath = Path(\"09-Ins_Column_Manipulation/Resources/customers.csv\")"
   ]
  },
  {
   "cell_type": "code",
   "execution_count": 91,
   "metadata": {},
   "outputs": [
    {
     "data": {
      "text/html": [
       "<div>\n",
       "<style scoped>\n",
       "    .dataframe tbody tr th:only-of-type {\n",
       "        vertical-align: middle;\n",
       "    }\n",
       "\n",
       "    .dataframe tbody tr th {\n",
       "        vertical-align: top;\n",
       "    }\n",
       "\n",
       "    .dataframe thead th {\n",
       "        text-align: right;\n",
       "    }\n",
       "</style>\n",
       "<table border=\"1\" class=\"dataframe\">\n",
       "  <thead>\n",
       "    <tr style=\"text-align: right;\">\n",
       "      <th></th>\n",
       "      <th>FullName</th>\n",
       "      <th>Email</th>\n",
       "      <th>Address</th>\n",
       "      <th>Zip</th>\n",
       "      <th>CreditCard</th>\n",
       "      <th>Balance</th>\n",
       "    </tr>\n",
       "  </thead>\n",
       "  <tbody>\n",
       "    <tr>\n",
       "      <th>0</th>\n",
       "      <td>Altha Frederick</td>\n",
       "      <td>unhideable1966@gmail.com</td>\n",
       "      <td>67 John Maher Extension</td>\n",
       "      <td>31353</td>\n",
       "      <td>2524 2317 2139 4751</td>\n",
       "      <td>21511</td>\n",
       "    </tr>\n",
       "    <tr>\n",
       "      <th>1</th>\n",
       "      <td>Nickolas Harvey</td>\n",
       "      <td>allgood1803@outlook.com</td>\n",
       "      <td>1200 Madera Plaza</td>\n",
       "      <td>1922</td>\n",
       "      <td>4756 0997 9568 1329</td>\n",
       "      <td>13850</td>\n",
       "    </tr>\n",
       "    <tr>\n",
       "      <th>2</th>\n",
       "      <td>Jesusita Kinney</td>\n",
       "      <td>satsumas1954@yahoo.com</td>\n",
       "      <td>943 Gibb Highway</td>\n",
       "      <td>41535</td>\n",
       "      <td>3717 863466 48574</td>\n",
       "      <td>21254</td>\n",
       "    </tr>\n",
       "    <tr>\n",
       "      <th>3</th>\n",
       "      <td>Mose Gordon</td>\n",
       "      <td>antifowl1875@gmail.com</td>\n",
       "      <td>1073 Fell Trace</td>\n",
       "      <td>16098</td>\n",
       "      <td>5413 1700 6989 2835</td>\n",
       "      <td>5221</td>\n",
       "    </tr>\n",
       "    <tr>\n",
       "      <th>4</th>\n",
       "      <td>Cesar Valentine</td>\n",
       "      <td>acetaminol1979@yahoo.com</td>\n",
       "      <td>805 Marshall Promenade</td>\n",
       "      <td>99895</td>\n",
       "      <td>5173 4883 9215 4743</td>\n",
       "      <td>8300</td>\n",
       "    </tr>\n",
       "  </tbody>\n",
       "</table>\n",
       "</div>"
      ],
      "text/plain": [
       "          FullName                     Email                  Address    Zip  \\\n",
       "0  Altha Frederick  unhideable1966@gmail.com  67 John Maher Extension  31353   \n",
       "1  Nickolas Harvey   allgood1803@outlook.com        1200 Madera Plaza   1922   \n",
       "2  Jesusita Kinney    satsumas1954@yahoo.com         943 Gibb Highway  41535   \n",
       "3      Mose Gordon    antifowl1875@gmail.com          1073 Fell Trace  16098   \n",
       "4  Cesar Valentine  acetaminol1979@yahoo.com   805 Marshall Promenade  99895   \n",
       "\n",
       "            CreditCard  Balance  \n",
       "0  2524 2317 2139 4751    21511  \n",
       "1  4756 0997 9568 1329    13850  \n",
       "2    3717 863466 48574    21254  \n",
       "3  5413 1700 6989 2835     5221  \n",
       "4  5173 4883 9215 4743     8300  "
      ]
     },
     "execution_count": 91,
     "metadata": {},
     "output_type": "execute_result"
    }
   ],
   "source": [
    "customer_dataframe = pd.read_csv(csvpath)\n",
    "customer_dataframe.head()"
   ]
  },
  {
   "cell_type": "markdown",
   "metadata": {},
   "source": [
    "### Replace Columns"
   ]
  },
  {
   "cell_type": "code",
   "execution_count": 92,
   "metadata": {},
   "outputs": [
    {
     "data": {
      "text/plain": [
       "Index(['FullName', 'Email', 'Address', 'Zip', 'CreditCard', 'Balance'], dtype='object')"
      ]
     },
     "execution_count": 92,
     "metadata": {},
     "output_type": "execute_result"
    }
   ],
   "source": [
    "# Display column names\n",
    "customer_dataframe.columns"
   ]
  },
  {
   "cell_type": "code",
   "execution_count": 93,
   "metadata": {},
   "outputs": [
    {
     "data": {
      "text/html": [
       "<div>\n",
       "<style scoped>\n",
       "    .dataframe tbody tr th:only-of-type {\n",
       "        vertical-align: middle;\n",
       "    }\n",
       "\n",
       "    .dataframe tbody tr th {\n",
       "        vertical-align: top;\n",
       "    }\n",
       "\n",
       "    .dataframe thead th {\n",
       "        text-align: right;\n",
       "    }\n",
       "</style>\n",
       "<table border=\"1\" class=\"dataframe\">\n",
       "  <thead>\n",
       "    <tr style=\"text-align: right;\">\n",
       "      <th></th>\n",
       "      <th>Full Name</th>\n",
       "      <th>Email</th>\n",
       "      <th>Address</th>\n",
       "      <th>Zip Code</th>\n",
       "      <th>Credit Card Number</th>\n",
       "      <th>Account Balance</th>\n",
       "    </tr>\n",
       "  </thead>\n",
       "  <tbody>\n",
       "    <tr>\n",
       "      <th>0</th>\n",
       "      <td>Altha Frederick</td>\n",
       "      <td>unhideable1966@gmail.com</td>\n",
       "      <td>67 John Maher Extension</td>\n",
       "      <td>31353</td>\n",
       "      <td>2524 2317 2139 4751</td>\n",
       "      <td>21511</td>\n",
       "    </tr>\n",
       "    <tr>\n",
       "      <th>1</th>\n",
       "      <td>Nickolas Harvey</td>\n",
       "      <td>allgood1803@outlook.com</td>\n",
       "      <td>1200 Madera Plaza</td>\n",
       "      <td>1922</td>\n",
       "      <td>4756 0997 9568 1329</td>\n",
       "      <td>13850</td>\n",
       "    </tr>\n",
       "    <tr>\n",
       "      <th>2</th>\n",
       "      <td>Jesusita Kinney</td>\n",
       "      <td>satsumas1954@yahoo.com</td>\n",
       "      <td>943 Gibb Highway</td>\n",
       "      <td>41535</td>\n",
       "      <td>3717 863466 48574</td>\n",
       "      <td>21254</td>\n",
       "    </tr>\n",
       "    <tr>\n",
       "      <th>3</th>\n",
       "      <td>Mose Gordon</td>\n",
       "      <td>antifowl1875@gmail.com</td>\n",
       "      <td>1073 Fell Trace</td>\n",
       "      <td>16098</td>\n",
       "      <td>5413 1700 6989 2835</td>\n",
       "      <td>5221</td>\n",
       "    </tr>\n",
       "    <tr>\n",
       "      <th>4</th>\n",
       "      <td>Cesar Valentine</td>\n",
       "      <td>acetaminol1979@yahoo.com</td>\n",
       "      <td>805 Marshall Promenade</td>\n",
       "      <td>99895</td>\n",
       "      <td>5173 4883 9215 4743</td>\n",
       "      <td>8300</td>\n",
       "    </tr>\n",
       "  </tbody>\n",
       "</table>\n",
       "</div>"
      ],
      "text/plain": [
       "         Full Name                     Email                  Address  \\\n",
       "0  Altha Frederick  unhideable1966@gmail.com  67 John Maher Extension   \n",
       "1  Nickolas Harvey   allgood1803@outlook.com        1200 Madera Plaza   \n",
       "2  Jesusita Kinney    satsumas1954@yahoo.com         943 Gibb Highway   \n",
       "3      Mose Gordon    antifowl1875@gmail.com          1073 Fell Trace   \n",
       "4  Cesar Valentine  acetaminol1979@yahoo.com   805 Marshall Promenade   \n",
       "\n",
       "   Zip Code   Credit Card Number  Account Balance  \n",
       "0     31353  2524 2317 2139 4751            21511  \n",
       "1      1922  4756 0997 9568 1329            13850  \n",
       "2     41535    3717 863466 48574            21254  \n",
       "3     16098  5413 1700 6989 2835             5221  \n",
       "4     99895  5173 4883 9215 4743             8300  "
      ]
     },
     "execution_count": 93,
     "metadata": {},
     "output_type": "execute_result"
    }
   ],
   "source": [
    "# Rewrite the column names\n",
    "columns = [\"Full Name\", \"Email\", \"Address\", \"Zip Code\", \"Credit Card Number\", \"Account Balance\"]\n",
    "customer_dataframe.columns = columns\n",
    "customer_dataframe.head()"
   ]
  },
  {
   "cell_type": "markdown",
   "metadata": {},
   "source": [
    "### Rename Columns"
   ]
  },
  {
   "cell_type": "code",
   "execution_count": 94,
   "metadata": {},
   "outputs": [
    {
     "data": {
      "text/html": [
       "<div>\n",
       "<style scoped>\n",
       "    .dataframe tbody tr th:only-of-type {\n",
       "        vertical-align: middle;\n",
       "    }\n",
       "\n",
       "    .dataframe tbody tr th {\n",
       "        vertical-align: top;\n",
       "    }\n",
       "\n",
       "    .dataframe thead th {\n",
       "        text-align: right;\n",
       "    }\n",
       "</style>\n",
       "<table border=\"1\" class=\"dataframe\">\n",
       "  <thead>\n",
       "    <tr style=\"text-align: right;\">\n",
       "      <th></th>\n",
       "      <th>full_name</th>\n",
       "      <th>Email</th>\n",
       "      <th>Address</th>\n",
       "      <th>Zip Code</th>\n",
       "      <th>credit_card_number</th>\n",
       "      <th>Account Balance</th>\n",
       "    </tr>\n",
       "  </thead>\n",
       "  <tbody>\n",
       "    <tr>\n",
       "      <th>0</th>\n",
       "      <td>Altha Frederick</td>\n",
       "      <td>unhideable1966@gmail.com</td>\n",
       "      <td>67 John Maher Extension</td>\n",
       "      <td>31353</td>\n",
       "      <td>2524 2317 2139 4751</td>\n",
       "      <td>21511</td>\n",
       "    </tr>\n",
       "    <tr>\n",
       "      <th>1</th>\n",
       "      <td>Nickolas Harvey</td>\n",
       "      <td>allgood1803@outlook.com</td>\n",
       "      <td>1200 Madera Plaza</td>\n",
       "      <td>1922</td>\n",
       "      <td>4756 0997 9568 1329</td>\n",
       "      <td>13850</td>\n",
       "    </tr>\n",
       "    <tr>\n",
       "      <th>2</th>\n",
       "      <td>Jesusita Kinney</td>\n",
       "      <td>satsumas1954@yahoo.com</td>\n",
       "      <td>943 Gibb Highway</td>\n",
       "      <td>41535</td>\n",
       "      <td>3717 863466 48574</td>\n",
       "      <td>21254</td>\n",
       "    </tr>\n",
       "    <tr>\n",
       "      <th>3</th>\n",
       "      <td>Mose Gordon</td>\n",
       "      <td>antifowl1875@gmail.com</td>\n",
       "      <td>1073 Fell Trace</td>\n",
       "      <td>16098</td>\n",
       "      <td>5413 1700 6989 2835</td>\n",
       "      <td>5221</td>\n",
       "    </tr>\n",
       "    <tr>\n",
       "      <th>4</th>\n",
       "      <td>Cesar Valentine</td>\n",
       "      <td>acetaminol1979@yahoo.com</td>\n",
       "      <td>805 Marshall Promenade</td>\n",
       "      <td>99895</td>\n",
       "      <td>5173 4883 9215 4743</td>\n",
       "      <td>8300</td>\n",
       "    </tr>\n",
       "  </tbody>\n",
       "</table>\n",
       "</div>"
      ],
      "text/plain": [
       "         full_name                     Email                  Address  \\\n",
       "0  Altha Frederick  unhideable1966@gmail.com  67 John Maher Extension   \n",
       "1  Nickolas Harvey   allgood1803@outlook.com        1200 Madera Plaza   \n",
       "2  Jesusita Kinney    satsumas1954@yahoo.com         943 Gibb Highway   \n",
       "3      Mose Gordon    antifowl1875@gmail.com          1073 Fell Trace   \n",
       "4  Cesar Valentine  acetaminol1979@yahoo.com   805 Marshall Promenade   \n",
       "\n",
       "   Zip Code   credit_card_number  Account Balance  \n",
       "0     31353  2524 2317 2139 4751            21511  \n",
       "1      1922  4756 0997 9568 1329            13850  \n",
       "2     41535    3717 863466 48574            21254  \n",
       "3     16098  5413 1700 6989 2835             5221  \n",
       "4     99895  5173 4883 9215 4743             8300  "
      ]
     },
     "execution_count": 94,
     "metadata": {},
     "output_type": "execute_result"
    }
   ],
   "source": [
    "customer_dataframe = customer_dataframe.rename(columns={\n",
    "    \"Full Name\": \"full_name\",\n",
    "    \"Credit Card Number\": \"credit_card_number\"\n",
    "})\n",
    "\n",
    "customer_dataframe.head()"
   ]
  },
  {
   "cell_type": "markdown",
   "metadata": {},
   "source": [
    "### Reorder Columns"
   ]
  },
  {
   "cell_type": "code",
   "execution_count": 95,
   "metadata": {},
   "outputs": [
    {
     "data": {
      "text/html": [
       "<div>\n",
       "<style scoped>\n",
       "    .dataframe tbody tr th:only-of-type {\n",
       "        vertical-align: middle;\n",
       "    }\n",
       "\n",
       "    .dataframe tbody tr th {\n",
       "        vertical-align: top;\n",
       "    }\n",
       "\n",
       "    .dataframe thead th {\n",
       "        text-align: right;\n",
       "    }\n",
       "</style>\n",
       "<table border=\"1\" class=\"dataframe\">\n",
       "  <thead>\n",
       "    <tr style=\"text-align: right;\">\n",
       "      <th></th>\n",
       "      <th>credit_card_number</th>\n",
       "      <th>Account Balance</th>\n",
       "      <th>full_name</th>\n",
       "      <th>Email</th>\n",
       "      <th>Address</th>\n",
       "      <th>Zip Code</th>\n",
       "    </tr>\n",
       "  </thead>\n",
       "  <tbody>\n",
       "    <tr>\n",
       "      <th>0</th>\n",
       "      <td>2524 2317 2139 4751</td>\n",
       "      <td>21511</td>\n",
       "      <td>Altha Frederick</td>\n",
       "      <td>unhideable1966@gmail.com</td>\n",
       "      <td>67 John Maher Extension</td>\n",
       "      <td>31353</td>\n",
       "    </tr>\n",
       "    <tr>\n",
       "      <th>1</th>\n",
       "      <td>4756 0997 9568 1329</td>\n",
       "      <td>13850</td>\n",
       "      <td>Nickolas Harvey</td>\n",
       "      <td>allgood1803@outlook.com</td>\n",
       "      <td>1200 Madera Plaza</td>\n",
       "      <td>1922</td>\n",
       "    </tr>\n",
       "    <tr>\n",
       "      <th>2</th>\n",
       "      <td>3717 863466 48574</td>\n",
       "      <td>21254</td>\n",
       "      <td>Jesusita Kinney</td>\n",
       "      <td>satsumas1954@yahoo.com</td>\n",
       "      <td>943 Gibb Highway</td>\n",
       "      <td>41535</td>\n",
       "    </tr>\n",
       "    <tr>\n",
       "      <th>3</th>\n",
       "      <td>5413 1700 6989 2835</td>\n",
       "      <td>5221</td>\n",
       "      <td>Mose Gordon</td>\n",
       "      <td>antifowl1875@gmail.com</td>\n",
       "      <td>1073 Fell Trace</td>\n",
       "      <td>16098</td>\n",
       "    </tr>\n",
       "    <tr>\n",
       "      <th>4</th>\n",
       "      <td>5173 4883 9215 4743</td>\n",
       "      <td>8300</td>\n",
       "      <td>Cesar Valentine</td>\n",
       "      <td>acetaminol1979@yahoo.com</td>\n",
       "      <td>805 Marshall Promenade</td>\n",
       "      <td>99895</td>\n",
       "    </tr>\n",
       "  </tbody>\n",
       "</table>\n",
       "</div>"
      ],
      "text/plain": [
       "    credit_card_number  Account Balance        full_name  \\\n",
       "0  2524 2317 2139 4751            21511  Altha Frederick   \n",
       "1  4756 0997 9568 1329            13850  Nickolas Harvey   \n",
       "2    3717 863466 48574            21254  Jesusita Kinney   \n",
       "3  5413 1700 6989 2835             5221      Mose Gordon   \n",
       "4  5173 4883 9215 4743             8300  Cesar Valentine   \n",
       "\n",
       "                      Email                  Address  Zip Code  \n",
       "0  unhideable1966@gmail.com  67 John Maher Extension     31353  \n",
       "1   allgood1803@outlook.com        1200 Madera Plaza      1922  \n",
       "2    satsumas1954@yahoo.com         943 Gibb Highway     41535  \n",
       "3    antifowl1875@gmail.com          1073 Fell Trace     16098  \n",
       "4  acetaminol1979@yahoo.com   805 Marshall Promenade     99895  "
      ]
     },
     "execution_count": 95,
     "metadata": {},
     "output_type": "execute_result"
    }
   ],
   "source": [
    "customer_dataframe = customer_dataframe[['credit_card_number', 'Account Balance', 'full_name', 'Email', 'Address', 'Zip Code']]\n",
    "customer_dataframe.head()"
   ]
  },
  {
   "cell_type": "markdown",
   "metadata": {},
   "source": [
    "### Create Columns"
   ]
  },
  {
   "cell_type": "code",
   "execution_count": 96,
   "metadata": {},
   "outputs": [
    {
     "data": {
      "text/html": [
       "<div>\n",
       "<style scoped>\n",
       "    .dataframe tbody tr th:only-of-type {\n",
       "        vertical-align: middle;\n",
       "    }\n",
       "\n",
       "    .dataframe tbody tr th {\n",
       "        vertical-align: top;\n",
       "    }\n",
       "\n",
       "    .dataframe thead th {\n",
       "        text-align: right;\n",
       "    }\n",
       "</style>\n",
       "<table border=\"1\" class=\"dataframe\">\n",
       "  <thead>\n",
       "    <tr style=\"text-align: right;\">\n",
       "      <th></th>\n",
       "      <th>credit_card_number</th>\n",
       "      <th>Account Balance</th>\n",
       "      <th>full_name</th>\n",
       "      <th>Email</th>\n",
       "      <th>Address</th>\n",
       "      <th>Zip Code</th>\n",
       "      <th>Balance (1k)</th>\n",
       "    </tr>\n",
       "  </thead>\n",
       "  <tbody>\n",
       "    <tr>\n",
       "      <th>0</th>\n",
       "      <td>2524 2317 2139 4751</td>\n",
       "      <td>21511</td>\n",
       "      <td>Altha Frederick</td>\n",
       "      <td>unhideable1966@gmail.com</td>\n",
       "      <td>67 John Maher Extension</td>\n",
       "      <td>31353</td>\n",
       "      <td>21.511</td>\n",
       "    </tr>\n",
       "    <tr>\n",
       "      <th>1</th>\n",
       "      <td>4756 0997 9568 1329</td>\n",
       "      <td>13850</td>\n",
       "      <td>Nickolas Harvey</td>\n",
       "      <td>allgood1803@outlook.com</td>\n",
       "      <td>1200 Madera Plaza</td>\n",
       "      <td>1922</td>\n",
       "      <td>13.850</td>\n",
       "    </tr>\n",
       "    <tr>\n",
       "      <th>2</th>\n",
       "      <td>3717 863466 48574</td>\n",
       "      <td>21254</td>\n",
       "      <td>Jesusita Kinney</td>\n",
       "      <td>satsumas1954@yahoo.com</td>\n",
       "      <td>943 Gibb Highway</td>\n",
       "      <td>41535</td>\n",
       "      <td>21.254</td>\n",
       "    </tr>\n",
       "    <tr>\n",
       "      <th>3</th>\n",
       "      <td>5413 1700 6989 2835</td>\n",
       "      <td>5221</td>\n",
       "      <td>Mose Gordon</td>\n",
       "      <td>antifowl1875@gmail.com</td>\n",
       "      <td>1073 Fell Trace</td>\n",
       "      <td>16098</td>\n",
       "      <td>5.221</td>\n",
       "    </tr>\n",
       "    <tr>\n",
       "      <th>4</th>\n",
       "      <td>5173 4883 9215 4743</td>\n",
       "      <td>8300</td>\n",
       "      <td>Cesar Valentine</td>\n",
       "      <td>acetaminol1979@yahoo.com</td>\n",
       "      <td>805 Marshall Promenade</td>\n",
       "      <td>99895</td>\n",
       "      <td>8.300</td>\n",
       "    </tr>\n",
       "  </tbody>\n",
       "</table>\n",
       "</div>"
      ],
      "text/plain": [
       "    credit_card_number  Account Balance        full_name  \\\n",
       "0  2524 2317 2139 4751            21511  Altha Frederick   \n",
       "1  4756 0997 9568 1329            13850  Nickolas Harvey   \n",
       "2    3717 863466 48574            21254  Jesusita Kinney   \n",
       "3  5413 1700 6989 2835             5221      Mose Gordon   \n",
       "4  5173 4883 9215 4743             8300  Cesar Valentine   \n",
       "\n",
       "                      Email                  Address  Zip Code  Balance (1k)  \n",
       "0  unhideable1966@gmail.com  67 John Maher Extension     31353        21.511  \n",
       "1   allgood1803@outlook.com        1200 Madera Plaza      1922        13.850  \n",
       "2    satsumas1954@yahoo.com         943 Gibb Highway     41535        21.254  \n",
       "3    antifowl1875@gmail.com          1073 Fell Trace     16098         5.221  \n",
       "4  acetaminol1979@yahoo.com   805 Marshall Promenade     99895         8.300  "
      ]
     },
     "execution_count": 96,
     "metadata": {},
     "output_type": "execute_result"
    }
   ],
   "source": [
    "customer_dataframe[\"Balance (1k)\"] = customer_dataframe[\"Account Balance\"] / 1000\n",
    "customer_dataframe.head()"
   ]
  },
  {
   "cell_type": "markdown",
   "metadata": {},
   "source": [
    "### Split Columns"
   ]
  },
  {
   "cell_type": "code",
   "execution_count": 97,
   "metadata": {},
   "outputs": [
    {
     "data": {
      "text/html": [
       "<div>\n",
       "<style scoped>\n",
       "    .dataframe tbody tr th:only-of-type {\n",
       "        vertical-align: middle;\n",
       "    }\n",
       "\n",
       "    .dataframe tbody tr th {\n",
       "        vertical-align: top;\n",
       "    }\n",
       "\n",
       "    .dataframe thead th {\n",
       "        text-align: right;\n",
       "    }\n",
       "</style>\n",
       "<table border=\"1\" class=\"dataframe\">\n",
       "  <thead>\n",
       "    <tr style=\"text-align: right;\">\n",
       "      <th></th>\n",
       "      <th>0</th>\n",
       "      <th>1</th>\n",
       "    </tr>\n",
       "  </thead>\n",
       "  <tbody>\n",
       "    <tr>\n",
       "      <th>0</th>\n",
       "      <td>Altha</td>\n",
       "      <td>Frederick</td>\n",
       "    </tr>\n",
       "    <tr>\n",
       "      <th>1</th>\n",
       "      <td>Nickolas</td>\n",
       "      <td>Harvey</td>\n",
       "    </tr>\n",
       "    <tr>\n",
       "      <th>2</th>\n",
       "      <td>Jesusita</td>\n",
       "      <td>Kinney</td>\n",
       "    </tr>\n",
       "    <tr>\n",
       "      <th>3</th>\n",
       "      <td>Mose</td>\n",
       "      <td>Gordon</td>\n",
       "    </tr>\n",
       "    <tr>\n",
       "      <th>4</th>\n",
       "      <td>Cesar</td>\n",
       "      <td>Valentine</td>\n",
       "    </tr>\n",
       "  </tbody>\n",
       "</table>\n",
       "</div>"
      ],
      "text/plain": [
       "          0          1\n",
       "0     Altha  Frederick\n",
       "1  Nickolas     Harvey\n",
       "2  Jesusita     Kinney\n",
       "3      Mose     Gordon\n",
       "4     Cesar  Valentine"
      ]
     },
     "execution_count": 97,
     "metadata": {},
     "output_type": "execute_result"
    }
   ],
   "source": [
    "names = customer_dataframe[\"full_name\"].str.split(\" \", expand=True)\n",
    "names.head()"
   ]
  },
  {
   "cell_type": "code",
   "execution_count": 98,
   "metadata": {},
   "outputs": [
    {
     "data": {
      "text/html": [
       "<div>\n",
       "<style scoped>\n",
       "    .dataframe tbody tr th:only-of-type {\n",
       "        vertical-align: middle;\n",
       "    }\n",
       "\n",
       "    .dataframe tbody tr th {\n",
       "        vertical-align: top;\n",
       "    }\n",
       "\n",
       "    .dataframe thead th {\n",
       "        text-align: right;\n",
       "    }\n",
       "</style>\n",
       "<table border=\"1\" class=\"dataframe\">\n",
       "  <thead>\n",
       "    <tr style=\"text-align: right;\">\n",
       "      <th></th>\n",
       "      <th>credit_card_number</th>\n",
       "      <th>Account Balance</th>\n",
       "      <th>full_name</th>\n",
       "      <th>Email</th>\n",
       "      <th>Address</th>\n",
       "      <th>Zip Code</th>\n",
       "      <th>Balance (1k)</th>\n",
       "      <th>first_name</th>\n",
       "      <th>last_name</th>\n",
       "    </tr>\n",
       "  </thead>\n",
       "  <tbody>\n",
       "    <tr>\n",
       "      <th>0</th>\n",
       "      <td>2524 2317 2139 4751</td>\n",
       "      <td>21511</td>\n",
       "      <td>Altha Frederick</td>\n",
       "      <td>unhideable1966@gmail.com</td>\n",
       "      <td>67 John Maher Extension</td>\n",
       "      <td>31353</td>\n",
       "      <td>21.511</td>\n",
       "      <td>Altha</td>\n",
       "      <td>Frederick</td>\n",
       "    </tr>\n",
       "    <tr>\n",
       "      <th>1</th>\n",
       "      <td>4756 0997 9568 1329</td>\n",
       "      <td>13850</td>\n",
       "      <td>Nickolas Harvey</td>\n",
       "      <td>allgood1803@outlook.com</td>\n",
       "      <td>1200 Madera Plaza</td>\n",
       "      <td>1922</td>\n",
       "      <td>13.850</td>\n",
       "      <td>Nickolas</td>\n",
       "      <td>Harvey</td>\n",
       "    </tr>\n",
       "    <tr>\n",
       "      <th>2</th>\n",
       "      <td>3717 863466 48574</td>\n",
       "      <td>21254</td>\n",
       "      <td>Jesusita Kinney</td>\n",
       "      <td>satsumas1954@yahoo.com</td>\n",
       "      <td>943 Gibb Highway</td>\n",
       "      <td>41535</td>\n",
       "      <td>21.254</td>\n",
       "      <td>Jesusita</td>\n",
       "      <td>Kinney</td>\n",
       "    </tr>\n",
       "    <tr>\n",
       "      <th>3</th>\n",
       "      <td>5413 1700 6989 2835</td>\n",
       "      <td>5221</td>\n",
       "      <td>Mose Gordon</td>\n",
       "      <td>antifowl1875@gmail.com</td>\n",
       "      <td>1073 Fell Trace</td>\n",
       "      <td>16098</td>\n",
       "      <td>5.221</td>\n",
       "      <td>Mose</td>\n",
       "      <td>Gordon</td>\n",
       "    </tr>\n",
       "    <tr>\n",
       "      <th>4</th>\n",
       "      <td>5173 4883 9215 4743</td>\n",
       "      <td>8300</td>\n",
       "      <td>Cesar Valentine</td>\n",
       "      <td>acetaminol1979@yahoo.com</td>\n",
       "      <td>805 Marshall Promenade</td>\n",
       "      <td>99895</td>\n",
       "      <td>8.300</td>\n",
       "      <td>Cesar</td>\n",
       "      <td>Valentine</td>\n",
       "    </tr>\n",
       "  </tbody>\n",
       "</table>\n",
       "</div>"
      ],
      "text/plain": [
       "    credit_card_number  Account Balance        full_name  \\\n",
       "0  2524 2317 2139 4751            21511  Altha Frederick   \n",
       "1  4756 0997 9568 1329            13850  Nickolas Harvey   \n",
       "2    3717 863466 48574            21254  Jesusita Kinney   \n",
       "3  5413 1700 6989 2835             5221      Mose Gordon   \n",
       "4  5173 4883 9215 4743             8300  Cesar Valentine   \n",
       "\n",
       "                      Email                  Address  Zip Code  Balance (1k)  \\\n",
       "0  unhideable1966@gmail.com  67 John Maher Extension     31353        21.511   \n",
       "1   allgood1803@outlook.com        1200 Madera Plaza      1922        13.850   \n",
       "2    satsumas1954@yahoo.com         943 Gibb Highway     41535        21.254   \n",
       "3    antifowl1875@gmail.com          1073 Fell Trace     16098         5.221   \n",
       "4  acetaminol1979@yahoo.com   805 Marshall Promenade     99895         8.300   \n",
       "\n",
       "  first_name  last_name  \n",
       "0      Altha  Frederick  \n",
       "1   Nickolas     Harvey  \n",
       "2   Jesusita     Kinney  \n",
       "3       Mose     Gordon  \n",
       "4      Cesar  Valentine  "
      ]
     },
     "execution_count": 98,
     "metadata": {},
     "output_type": "execute_result"
    }
   ],
   "source": [
    "customer_dataframe[\"first_name\"] = names[0]\n",
    "customer_dataframe[\"last_name\"] = names[1]\n",
    "customer_dataframe.head()"
   ]
  },
  {
   "cell_type": "markdown",
   "metadata": {},
   "source": [
    "### Delete Columns"
   ]
  },
  {
   "cell_type": "code",
   "execution_count": 99,
   "metadata": {},
   "outputs": [
    {
     "data": {
      "text/html": [
       "<div>\n",
       "<style scoped>\n",
       "    .dataframe tbody tr th:only-of-type {\n",
       "        vertical-align: middle;\n",
       "    }\n",
       "\n",
       "    .dataframe tbody tr th {\n",
       "        vertical-align: top;\n",
       "    }\n",
       "\n",
       "    .dataframe thead th {\n",
       "        text-align: right;\n",
       "    }\n",
       "</style>\n",
       "<table border=\"1\" class=\"dataframe\">\n",
       "  <thead>\n",
       "    <tr style=\"text-align: right;\">\n",
       "      <th></th>\n",
       "      <th>credit_card_number</th>\n",
       "      <th>Account Balance</th>\n",
       "      <th>Email</th>\n",
       "      <th>Address</th>\n",
       "      <th>Zip Code</th>\n",
       "      <th>Balance (1k)</th>\n",
       "      <th>first_name</th>\n",
       "      <th>last_name</th>\n",
       "    </tr>\n",
       "  </thead>\n",
       "  <tbody>\n",
       "    <tr>\n",
       "      <th>0</th>\n",
       "      <td>2524 2317 2139 4751</td>\n",
       "      <td>21511</td>\n",
       "      <td>unhideable1966@gmail.com</td>\n",
       "      <td>67 John Maher Extension</td>\n",
       "      <td>31353</td>\n",
       "      <td>21.511</td>\n",
       "      <td>Altha</td>\n",
       "      <td>Frederick</td>\n",
       "    </tr>\n",
       "    <tr>\n",
       "      <th>1</th>\n",
       "      <td>4756 0997 9568 1329</td>\n",
       "      <td>13850</td>\n",
       "      <td>allgood1803@outlook.com</td>\n",
       "      <td>1200 Madera Plaza</td>\n",
       "      <td>1922</td>\n",
       "      <td>13.850</td>\n",
       "      <td>Nickolas</td>\n",
       "      <td>Harvey</td>\n",
       "    </tr>\n",
       "    <tr>\n",
       "      <th>2</th>\n",
       "      <td>3717 863466 48574</td>\n",
       "      <td>21254</td>\n",
       "      <td>satsumas1954@yahoo.com</td>\n",
       "      <td>943 Gibb Highway</td>\n",
       "      <td>41535</td>\n",
       "      <td>21.254</td>\n",
       "      <td>Jesusita</td>\n",
       "      <td>Kinney</td>\n",
       "    </tr>\n",
       "    <tr>\n",
       "      <th>3</th>\n",
       "      <td>5413 1700 6989 2835</td>\n",
       "      <td>5221</td>\n",
       "      <td>antifowl1875@gmail.com</td>\n",
       "      <td>1073 Fell Trace</td>\n",
       "      <td>16098</td>\n",
       "      <td>5.221</td>\n",
       "      <td>Mose</td>\n",
       "      <td>Gordon</td>\n",
       "    </tr>\n",
       "    <tr>\n",
       "      <th>4</th>\n",
       "      <td>5173 4883 9215 4743</td>\n",
       "      <td>8300</td>\n",
       "      <td>acetaminol1979@yahoo.com</td>\n",
       "      <td>805 Marshall Promenade</td>\n",
       "      <td>99895</td>\n",
       "      <td>8.300</td>\n",
       "      <td>Cesar</td>\n",
       "      <td>Valentine</td>\n",
       "    </tr>\n",
       "  </tbody>\n",
       "</table>\n",
       "</div>"
      ],
      "text/plain": [
       "    credit_card_number  Account Balance                     Email  \\\n",
       "0  2524 2317 2139 4751            21511  unhideable1966@gmail.com   \n",
       "1  4756 0997 9568 1329            13850   allgood1803@outlook.com   \n",
       "2    3717 863466 48574            21254    satsumas1954@yahoo.com   \n",
       "3  5413 1700 6989 2835             5221    antifowl1875@gmail.com   \n",
       "4  5173 4883 9215 4743             8300  acetaminol1979@yahoo.com   \n",
       "\n",
       "                   Address  Zip Code  Balance (1k) first_name  last_name  \n",
       "0  67 John Maher Extension     31353        21.511      Altha  Frederick  \n",
       "1        1200 Madera Plaza      1922        13.850   Nickolas     Harvey  \n",
       "2         943 Gibb Highway     41535        21.254   Jesusita     Kinney  \n",
       "3          1073 Fell Trace     16098         5.221       Mose     Gordon  \n",
       "4   805 Marshall Promenade     99895         8.300      Cesar  Valentine  "
      ]
     },
     "execution_count": 99,
     "metadata": {},
     "output_type": "execute_result"
    }
   ],
   "source": [
    "customer_dataframe = customer_dataframe.drop(columns=[\"full_name\"])\n",
    "customer_dataframe.head()"
   ]
  },
  {
   "cell_type": "markdown",
   "metadata": {},
   "source": [
    "#### Exporting a Dataframe"
   ]
  },
  {
   "cell_type": "code",
   "execution_count": 100,
   "metadata": {},
   "outputs": [],
   "source": [
    "customer_dataframe.to_csv(\"09-Ins_Column_Manipulation/Resources/customer_reworked.csv\")"
   ]
  },
  {
   "cell_type": "markdown",
   "metadata": {},
   "source": [
    "# ================================"
   ]
  },
  {
   "cell_type": "markdown",
   "metadata": {},
   "source": [
    "### 1.10 Student Do: Manipulating DataFrames (10 mins)"
   ]
  },
  {
   "cell_type": "markdown",
   "metadata": {},
   "source": [
    "In this activity, you will manipulate the structure of a Pandas DataFrame, namely its columns. Altering the structure of a Pandas DataFrame is often necessary to fit the needs of the user.\n",
    "\n",
    "## Instructions\n",
    "\n",
    "1. Import the Pandas, pathlib, and NumPy libraries.\n",
    "\n",
    "2. Create a variable named `csvpath` that represents the path to `people.csv` by using the Path module from the pathlib library.\n",
    "\n",
    "3. Read the CSV file into a Pandas DataFrame, using the Pandas `read_csv` function and the `csvpath` variable. View the first five rows of the DataFrame.\n",
    "\n",
    "4. View the column names of the Pandas DataFrame.\n",
    "\n",
    "5. View the column data types of the Pandas DataFrame.\n",
    "\n",
    "6. Rename the columns of the Pandas DataFrame to \"Person_ID\", \"First_Name\", \"Last_Name\", \"Email\", \"Gender\", \"University\", \"Occupation\", and \"Salary\".\n",
    "\n",
    "7. Alternatively, rename the columns of the Pandas DataFrame using a dictionary.\n",
    "\n",
    "8. Re-order the columns of the Pandas DataFrame to \"Person_ID\", \"Last_Name\", \"First_Name\", \"Gender\", \"University\", \"Occupation\", \"Salary\", and \"Email\".\n",
    "\n",
    "### Bonus\n",
    "\n",
    "If you finish the activity with time to spare, try the following bonus activity. \n",
    "\n",
    "1. Create two additional columns: \"Age\" and \"Age_Copy\". \n",
    "\n",
    "2. Use the `randint` function from the NumPy library with the `low`, `high`, and `size` parameters set to `22`, `65`, and `1000`, respectively, to randomly generate an integer from 22 to 65 for 1000 rows. The following code generates the random values:\n",
    "\n",
    "    ```python\n",
    "    np.random.randint(low=22, high=65, size=1000)\n",
    "    ```\n",
    "\n",
    "3. Delete the newly created \"Age_Copy\" column.\n",
    "\n",
    "4. Using the Pandas `to_csv` function, write the modified DataFrame to a new CSV. Put the file in the `Resources` folder."
   ]
  },
  {
   "cell_type": "code",
   "execution_count": 101,
   "metadata": {},
   "outputs": [],
   "source": [
    "# Import the `pandas`, `pathlib` and `numpy` libraries.\n",
    "# YOUR CODE HERE\n",
    "# YOUR CODE HERE\n",
    "# YOUR CODE HERE"
   ]
  },
  {
   "cell_type": "markdown",
   "metadata": {},
   "source": [
    "## Create a variable `csvpath` that represents the path to the people.csv file using the Path module from the pathlib library."
   ]
  },
  {
   "cell_type": "code",
   "execution_count": 102,
   "metadata": {},
   "outputs": [],
   "source": [
    "# Use the Pathlib libary to set the path to the CSV\n",
    "# YOUR CODE HERE"
   ]
  },
  {
   "cell_type": "markdown",
   "metadata": {},
   "source": [
    "## Read the CSV into a Pandas DataFrame using the Pandas `read_csv` function and the `csvpath` variable and view the first five rows of the DataFrame."
   ]
  },
  {
   "cell_type": "code",
   "execution_count": 103,
   "metadata": {},
   "outputs": [
    {
     "data": {
      "text/html": [
       "<div>\n",
       "<style scoped>\n",
       "    .dataframe tbody tr th:only-of-type {\n",
       "        vertical-align: middle;\n",
       "    }\n",
       "\n",
       "    .dataframe tbody tr th {\n",
       "        vertical-align: top;\n",
       "    }\n",
       "\n",
       "    .dataframe thead th {\n",
       "        text-align: right;\n",
       "    }\n",
       "</style>\n",
       "<table border=\"1\" class=\"dataframe\">\n",
       "  <thead>\n",
       "    <tr style=\"text-align: right;\">\n",
       "      <th></th>\n",
       "      <th>id</th>\n",
       "      <th>first_name</th>\n",
       "      <th>last_name</th>\n",
       "      <th>email</th>\n",
       "      <th>gender</th>\n",
       "      <th>uni_grad</th>\n",
       "      <th>job_title</th>\n",
       "      <th>Income</th>\n",
       "    </tr>\n",
       "  </thead>\n",
       "  <tbody>\n",
       "    <tr>\n",
       "      <th>0</th>\n",
       "      <td>1.0</td>\n",
       "      <td>Keriann</td>\n",
       "      <td>Lenormand</td>\n",
       "      <td>klenormand0@businessinsider.com</td>\n",
       "      <td>Female</td>\n",
       "      <td>Aurora University</td>\n",
       "      <td>Nurse Practicioner</td>\n",
       "      <td>58135.0</td>\n",
       "    </tr>\n",
       "    <tr>\n",
       "      <th>1</th>\n",
       "      <td>2.0</td>\n",
       "      <td>Huntley</td>\n",
       "      <td>Rupke</td>\n",
       "      <td>hrupke1@reuters.com</td>\n",
       "      <td>Male</td>\n",
       "      <td>Osaka University of Economics</td>\n",
       "      <td>Project Manager</td>\n",
       "      <td>96053.0</td>\n",
       "    </tr>\n",
       "    <tr>\n",
       "      <th>2</th>\n",
       "      <td>3.0</td>\n",
       "      <td>Gorden</td>\n",
       "      <td>Dalgarnowch</td>\n",
       "      <td>gdalgarnowch2@microsoft.com</td>\n",
       "      <td>Male</td>\n",
       "      <td>Ludong University</td>\n",
       "      <td>Environmental Tech</td>\n",
       "      <td>59196.0</td>\n",
       "    </tr>\n",
       "    <tr>\n",
       "      <th>3</th>\n",
       "      <td>4.0</td>\n",
       "      <td>Cullie</td>\n",
       "      <td>NaN</td>\n",
       "      <td>cputten3@nymag.com</td>\n",
       "      <td>Male</td>\n",
       "      <td>Université des Sciences et de la Technologie d...</td>\n",
       "      <td>Legal Assistant</td>\n",
       "      <td>88493.0</td>\n",
       "    </tr>\n",
       "    <tr>\n",
       "      <th>4</th>\n",
       "      <td>5.0</td>\n",
       "      <td>Ariel</td>\n",
       "      <td>Strangman</td>\n",
       "      <td>astrangman4@bravesites.com</td>\n",
       "      <td>Female</td>\n",
       "      <td>Boise State University</td>\n",
       "      <td>Project Manager</td>\n",
       "      <td>89073.0</td>\n",
       "    </tr>\n",
       "  </tbody>\n",
       "</table>\n",
       "</div>"
      ],
      "text/plain": [
       "    id first_name    last_name                            email  gender  \\\n",
       "0  1.0    Keriann    Lenormand  klenormand0@businessinsider.com  Female   \n",
       "1  2.0    Huntley        Rupke              hrupke1@reuters.com    Male   \n",
       "2  3.0     Gorden  Dalgarnowch      gdalgarnowch2@microsoft.com    Male   \n",
       "3  4.0     Cullie          NaN               cputten3@nymag.com    Male   \n",
       "4  5.0      Ariel    Strangman       astrangman4@bravesites.com  Female   \n",
       "\n",
       "                                            uni_grad           job_title  \\\n",
       "0                                  Aurora University  Nurse Practicioner   \n",
       "1                      Osaka University of Economics     Project Manager   \n",
       "2                                  Ludong University  Environmental Tech   \n",
       "3  Université des Sciences et de la Technologie d...     Legal Assistant   \n",
       "4                             Boise State University     Project Manager   \n",
       "\n",
       "    Income  \n",
       "0  58135.0  \n",
       "1  96053.0  \n",
       "2  59196.0  \n",
       "3  88493.0  \n",
       "4  89073.0  "
      ]
     },
     "execution_count": 103,
     "metadata": {},
     "output_type": "execute_result"
    }
   ],
   "source": [
    "# Use the file path to read the CSV into a DataFrame \n",
    "# YOUR CODE HERE\n",
    "\n",
    "# View the first five rows of the DataFrame\n",
    "# YOUR CODE HERE"
   ]
  },
  {
   "cell_type": "markdown",
   "metadata": {},
   "source": [
    "## View the column names of the Pandas DataFrame."
   ]
  },
  {
   "cell_type": "code",
   "execution_count": 104,
   "metadata": {},
   "outputs": [
    {
     "data": {
      "text/plain": [
       "Index(['id', 'first_name', 'last_name', 'email', 'gender', 'uni_grad',\n",
       "       'job_title', 'Income'],\n",
       "      dtype='object')"
      ]
     },
     "execution_count": 104,
     "metadata": {},
     "output_type": "execute_result"
    }
   ],
   "source": [
    "# Use the `columns` attribute to output the column names\n",
    "# YOUR CODE HERE"
   ]
  },
  {
   "cell_type": "code",
   "execution_count": 105,
   "metadata": {},
   "outputs": [
    {
     "data": {
      "text/plain": [
       "id            float64\n",
       "first_name     object\n",
       "last_name      object\n",
       "email          object\n",
       "gender         object\n",
       "uni_grad       object\n",
       "job_title      object\n",
       "Income        float64\n",
       "dtype: object"
      ]
     },
     "execution_count": 105,
     "metadata": {},
     "output_type": "execute_result"
    }
   ],
   "source": [
    "## View the column data types of the Pandas DataFrame.\n",
    "# Use the `dtypes` attribute to output the column names and data types\n",
    "# YOUR CODE HERE"
   ]
  },
  {
   "cell_type": "markdown",
   "metadata": {},
   "source": [
    "## Rename the columns of the Pandas DataFrame to \"Person_ID\", \"First_Name\", \"Last_Name\", \"Email\", \"Gender\", \"University\", \"Occupation\", \"Salary\"."
   ]
  },
  {
   "cell_type": "code",
   "execution_count": 106,
   "metadata": {},
   "outputs": [
    {
     "data": {
      "text/html": [
       "<div>\n",
       "<style scoped>\n",
       "    .dataframe tbody tr th:only-of-type {\n",
       "        vertical-align: middle;\n",
       "    }\n",
       "\n",
       "    .dataframe tbody tr th {\n",
       "        vertical-align: top;\n",
       "    }\n",
       "\n",
       "    .dataframe thead th {\n",
       "        text-align: right;\n",
       "    }\n",
       "</style>\n",
       "<table border=\"1\" class=\"dataframe\">\n",
       "  <thead>\n",
       "    <tr style=\"text-align: right;\">\n",
       "      <th></th>\n",
       "      <th>Person_ID</th>\n",
       "      <th>First_Name</th>\n",
       "      <th>Last_Name</th>\n",
       "      <th>Email</th>\n",
       "      <th>Gender</th>\n",
       "      <th>University</th>\n",
       "      <th>Occupation</th>\n",
       "      <th>Salary</th>\n",
       "    </tr>\n",
       "  </thead>\n",
       "  <tbody>\n",
       "    <tr>\n",
       "      <th>0</th>\n",
       "      <td>1.0</td>\n",
       "      <td>Keriann</td>\n",
       "      <td>Lenormand</td>\n",
       "      <td>klenormand0@businessinsider.com</td>\n",
       "      <td>Female</td>\n",
       "      <td>Aurora University</td>\n",
       "      <td>Nurse Practicioner</td>\n",
       "      <td>58135.0</td>\n",
       "    </tr>\n",
       "    <tr>\n",
       "      <th>1</th>\n",
       "      <td>2.0</td>\n",
       "      <td>Huntley</td>\n",
       "      <td>Rupke</td>\n",
       "      <td>hrupke1@reuters.com</td>\n",
       "      <td>Male</td>\n",
       "      <td>Osaka University of Economics</td>\n",
       "      <td>Project Manager</td>\n",
       "      <td>96053.0</td>\n",
       "    </tr>\n",
       "    <tr>\n",
       "      <th>2</th>\n",
       "      <td>3.0</td>\n",
       "      <td>Gorden</td>\n",
       "      <td>Dalgarnowch</td>\n",
       "      <td>gdalgarnowch2@microsoft.com</td>\n",
       "      <td>Male</td>\n",
       "      <td>Ludong University</td>\n",
       "      <td>Environmental Tech</td>\n",
       "      <td>59196.0</td>\n",
       "    </tr>\n",
       "    <tr>\n",
       "      <th>3</th>\n",
       "      <td>4.0</td>\n",
       "      <td>Cullie</td>\n",
       "      <td>NaN</td>\n",
       "      <td>cputten3@nymag.com</td>\n",
       "      <td>Male</td>\n",
       "      <td>Université des Sciences et de la Technologie d...</td>\n",
       "      <td>Legal Assistant</td>\n",
       "      <td>88493.0</td>\n",
       "    </tr>\n",
       "    <tr>\n",
       "      <th>4</th>\n",
       "      <td>5.0</td>\n",
       "      <td>Ariel</td>\n",
       "      <td>Strangman</td>\n",
       "      <td>astrangman4@bravesites.com</td>\n",
       "      <td>Female</td>\n",
       "      <td>Boise State University</td>\n",
       "      <td>Project Manager</td>\n",
       "      <td>89073.0</td>\n",
       "    </tr>\n",
       "  </tbody>\n",
       "</table>\n",
       "</div>"
      ],
      "text/plain": [
       "   Person_ID First_Name    Last_Name                            Email  Gender  \\\n",
       "0        1.0    Keriann    Lenormand  klenormand0@businessinsider.com  Female   \n",
       "1        2.0    Huntley        Rupke              hrupke1@reuters.com    Male   \n",
       "2        3.0     Gorden  Dalgarnowch      gdalgarnowch2@microsoft.com    Male   \n",
       "3        4.0     Cullie          NaN               cputten3@nymag.com    Male   \n",
       "4        5.0      Ariel    Strangman       astrangman4@bravesites.com  Female   \n",
       "\n",
       "                                          University          Occupation  \\\n",
       "0                                  Aurora University  Nurse Practicioner   \n",
       "1                      Osaka University of Economics     Project Manager   \n",
       "2                                  Ludong University  Environmental Tech   \n",
       "3  Université des Sciences et de la Technologie d...     Legal Assistant   \n",
       "4                             Boise State University     Project Manager   \n",
       "\n",
       "    Salary  \n",
       "0  58135.0  \n",
       "1  96053.0  \n",
       "2  59196.0  \n",
       "3  88493.0  \n",
       "4  89073.0  "
      ]
     },
     "execution_count": 106,
     "metadata": {},
     "output_type": "execute_result"
    }
   ],
   "source": [
    "columns = [\"Person_ID\", \"First_Name\", \"Last_Name\", \"Email\", \"Gender\", \"University\", \"Occupation\", \"Salary\"]\n",
    "\n",
    "# Set the `columns` attribute to a new list of column names\n",
    "# YOUR CODE HERE\n",
    "\n",
    "# View the first five rows of the DataFrame\n",
    "# YOUR CODE HERE"
   ]
  },
  {
   "cell_type": "markdown",
   "metadata": {},
   "source": [
    "## Alternatively, rename the columns of the Pandas DataFrame using a Dictionary."
   ]
  },
  {
   "cell_type": "code",
   "execution_count": 107,
   "metadata": {},
   "outputs": [
    {
     "data": {
      "text/html": [
       "<div>\n",
       "<style scoped>\n",
       "    .dataframe tbody tr th:only-of-type {\n",
       "        vertical-align: middle;\n",
       "    }\n",
       "\n",
       "    .dataframe tbody tr th {\n",
       "        vertical-align: top;\n",
       "    }\n",
       "\n",
       "    .dataframe thead th {\n",
       "        text-align: right;\n",
       "    }\n",
       "</style>\n",
       "<table border=\"1\" class=\"dataframe\">\n",
       "  <thead>\n",
       "    <tr style=\"text-align: right;\">\n",
       "      <th></th>\n",
       "      <th>Person_ID</th>\n",
       "      <th>First_Name</th>\n",
       "      <th>Last_Name</th>\n",
       "      <th>Email</th>\n",
       "      <th>Gender</th>\n",
       "      <th>University</th>\n",
       "      <th>Occupation</th>\n",
       "      <th>Salary</th>\n",
       "    </tr>\n",
       "  </thead>\n",
       "  <tbody>\n",
       "    <tr>\n",
       "      <th>0</th>\n",
       "      <td>1.0</td>\n",
       "      <td>Keriann</td>\n",
       "      <td>Lenormand</td>\n",
       "      <td>klenormand0@businessinsider.com</td>\n",
       "      <td>Female</td>\n",
       "      <td>Aurora University</td>\n",
       "      <td>Nurse Practicioner</td>\n",
       "      <td>58135.0</td>\n",
       "    </tr>\n",
       "    <tr>\n",
       "      <th>1</th>\n",
       "      <td>2.0</td>\n",
       "      <td>Huntley</td>\n",
       "      <td>Rupke</td>\n",
       "      <td>hrupke1@reuters.com</td>\n",
       "      <td>Male</td>\n",
       "      <td>Osaka University of Economics</td>\n",
       "      <td>Project Manager</td>\n",
       "      <td>96053.0</td>\n",
       "    </tr>\n",
       "    <tr>\n",
       "      <th>2</th>\n",
       "      <td>3.0</td>\n",
       "      <td>Gorden</td>\n",
       "      <td>Dalgarnowch</td>\n",
       "      <td>gdalgarnowch2@microsoft.com</td>\n",
       "      <td>Male</td>\n",
       "      <td>Ludong University</td>\n",
       "      <td>Environmental Tech</td>\n",
       "      <td>59196.0</td>\n",
       "    </tr>\n",
       "    <tr>\n",
       "      <th>3</th>\n",
       "      <td>4.0</td>\n",
       "      <td>Cullie</td>\n",
       "      <td>NaN</td>\n",
       "      <td>cputten3@nymag.com</td>\n",
       "      <td>Male</td>\n",
       "      <td>Université des Sciences et de la Technologie d...</td>\n",
       "      <td>Legal Assistant</td>\n",
       "      <td>88493.0</td>\n",
       "    </tr>\n",
       "    <tr>\n",
       "      <th>4</th>\n",
       "      <td>5.0</td>\n",
       "      <td>Ariel</td>\n",
       "      <td>Strangman</td>\n",
       "      <td>astrangman4@bravesites.com</td>\n",
       "      <td>Female</td>\n",
       "      <td>Boise State University</td>\n",
       "      <td>Project Manager</td>\n",
       "      <td>89073.0</td>\n",
       "    </tr>\n",
       "  </tbody>\n",
       "</table>\n",
       "</div>"
      ],
      "text/plain": [
       "   Person_ID First_Name    Last_Name                            Email  Gender  \\\n",
       "0        1.0    Keriann    Lenormand  klenormand0@businessinsider.com  Female   \n",
       "1        2.0    Huntley        Rupke              hrupke1@reuters.com    Male   \n",
       "2        3.0     Gorden  Dalgarnowch      gdalgarnowch2@microsoft.com    Male   \n",
       "3        4.0     Cullie          NaN               cputten3@nymag.com    Male   \n",
       "4        5.0      Ariel    Strangman       astrangman4@bravesites.com  Female   \n",
       "\n",
       "                                          University          Occupation  \\\n",
       "0                                  Aurora University  Nurse Practicioner   \n",
       "1                      Osaka University of Economics     Project Manager   \n",
       "2                                  Ludong University  Environmental Tech   \n",
       "3  Université des Sciences et de la Technologie d...     Legal Assistant   \n",
       "4                             Boise State University     Project Manager   \n",
       "\n",
       "    Salary  \n",
       "0  58135.0  \n",
       "1  96053.0  \n",
       "2  59196.0  \n",
       "3  88493.0  \n",
       "4  89073.0  "
      ]
     },
     "execution_count": 107,
     "metadata": {},
     "output_type": "execute_result"
    }
   ],
   "source": [
    "# Use the `rename` function and set the `columns` parameter to a dictionary of new column names\n",
    "# YOUR CODE HERE\n",
    "\n",
    "# View the first five rows of the DataFrame\n",
    "# YOUR CODE HERE"
   ]
  },
  {
   "cell_type": "markdown",
   "metadata": {},
   "source": [
    "## Re-order the columns of the Pandas DataFrame to \"Person_ID\", \"Last_Name\", \"First_Name\", \"Gender\", \"University\", \"Occupation\", \"Salary\", \"Email\"."
   ]
  },
  {
   "cell_type": "code",
   "execution_count": 108,
   "metadata": {},
   "outputs": [
    {
     "data": {
      "text/html": [
       "<div>\n",
       "<style scoped>\n",
       "    .dataframe tbody tr th:only-of-type {\n",
       "        vertical-align: middle;\n",
       "    }\n",
       "\n",
       "    .dataframe tbody tr th {\n",
       "        vertical-align: top;\n",
       "    }\n",
       "\n",
       "    .dataframe thead th {\n",
       "        text-align: right;\n",
       "    }\n",
       "</style>\n",
       "<table border=\"1\" class=\"dataframe\">\n",
       "  <thead>\n",
       "    <tr style=\"text-align: right;\">\n",
       "      <th></th>\n",
       "      <th>Person_ID</th>\n",
       "      <th>Last_Name</th>\n",
       "      <th>First_Name</th>\n",
       "      <th>Gender</th>\n",
       "      <th>University</th>\n",
       "      <th>Occupation</th>\n",
       "      <th>Salary</th>\n",
       "      <th>Email</th>\n",
       "    </tr>\n",
       "  </thead>\n",
       "  <tbody>\n",
       "    <tr>\n",
       "      <th>0</th>\n",
       "      <td>1.0</td>\n",
       "      <td>Lenormand</td>\n",
       "      <td>Keriann</td>\n",
       "      <td>Female</td>\n",
       "      <td>Aurora University</td>\n",
       "      <td>Nurse Practicioner</td>\n",
       "      <td>58135.0</td>\n",
       "      <td>klenormand0@businessinsider.com</td>\n",
       "    </tr>\n",
       "    <tr>\n",
       "      <th>1</th>\n",
       "      <td>2.0</td>\n",
       "      <td>Rupke</td>\n",
       "      <td>Huntley</td>\n",
       "      <td>Male</td>\n",
       "      <td>Osaka University of Economics</td>\n",
       "      <td>Project Manager</td>\n",
       "      <td>96053.0</td>\n",
       "      <td>hrupke1@reuters.com</td>\n",
       "    </tr>\n",
       "    <tr>\n",
       "      <th>2</th>\n",
       "      <td>3.0</td>\n",
       "      <td>Dalgarnowch</td>\n",
       "      <td>Gorden</td>\n",
       "      <td>Male</td>\n",
       "      <td>Ludong University</td>\n",
       "      <td>Environmental Tech</td>\n",
       "      <td>59196.0</td>\n",
       "      <td>gdalgarnowch2@microsoft.com</td>\n",
       "    </tr>\n",
       "    <tr>\n",
       "      <th>3</th>\n",
       "      <td>4.0</td>\n",
       "      <td>NaN</td>\n",
       "      <td>Cullie</td>\n",
       "      <td>Male</td>\n",
       "      <td>Université des Sciences et de la Technologie d...</td>\n",
       "      <td>Legal Assistant</td>\n",
       "      <td>88493.0</td>\n",
       "      <td>cputten3@nymag.com</td>\n",
       "    </tr>\n",
       "    <tr>\n",
       "      <th>4</th>\n",
       "      <td>5.0</td>\n",
       "      <td>Strangman</td>\n",
       "      <td>Ariel</td>\n",
       "      <td>Female</td>\n",
       "      <td>Boise State University</td>\n",
       "      <td>Project Manager</td>\n",
       "      <td>89073.0</td>\n",
       "      <td>astrangman4@bravesites.com</td>\n",
       "    </tr>\n",
       "  </tbody>\n",
       "</table>\n",
       "</div>"
      ],
      "text/plain": [
       "   Person_ID    Last_Name First_Name  Gender  \\\n",
       "0        1.0    Lenormand    Keriann  Female   \n",
       "1        2.0        Rupke    Huntley    Male   \n",
       "2        3.0  Dalgarnowch     Gorden    Male   \n",
       "3        4.0          NaN     Cullie    Male   \n",
       "4        5.0    Strangman      Ariel  Female   \n",
       "\n",
       "                                          University          Occupation  \\\n",
       "0                                  Aurora University  Nurse Practicioner   \n",
       "1                      Osaka University of Economics     Project Manager   \n",
       "2                                  Ludong University  Environmental Tech   \n",
       "3  Université des Sciences et de la Technologie d...     Legal Assistant   \n",
       "4                             Boise State University     Project Manager   \n",
       "\n",
       "    Salary                            Email  \n",
       "0  58135.0  klenormand0@businessinsider.com  \n",
       "1  96053.0              hrupke1@reuters.com  \n",
       "2  59196.0      gdalgarnowch2@microsoft.com  \n",
       "3  88493.0               cputten3@nymag.com  \n",
       "4  89073.0       astrangman4@bravesites.com  "
      ]
     },
     "execution_count": 108,
     "metadata": {},
     "output_type": "execute_result"
    }
   ],
   "source": [
    "# Use a list of re-ordered column names to alter the column order of the original DataFrame\n",
    "# YOUR CODE HERE\n",
    "\n",
    "# View the first five rows of the DataFrame\n",
    "# YOUR CODE HERE"
   ]
  },
  {
   "cell_type": "markdown",
   "metadata": {},
   "source": [
    "## Bonus - If you complete the first part of this activity early, attempt this bonus section."
   ]
  },
  {
   "cell_type": "markdown",
   "metadata": {},
   "source": [
    "### Create two additional columns: `Age` and `Age_Copy`. Use the `randint` function from the `numpy` library with the `low`, `high`, and `size` parameters set to `22`, `65`, and `1000`, respectively, to randomly generate an integer from 22 to 65 for 1000 rows."
   ]
  },
  {
   "cell_type": "code",
   "execution_count": 109,
   "metadata": {},
   "outputs": [
    {
     "data": {
      "text/html": [
       "<div>\n",
       "<style scoped>\n",
       "    .dataframe tbody tr th:only-of-type {\n",
       "        vertical-align: middle;\n",
       "    }\n",
       "\n",
       "    .dataframe tbody tr th {\n",
       "        vertical-align: top;\n",
       "    }\n",
       "\n",
       "    .dataframe thead th {\n",
       "        text-align: right;\n",
       "    }\n",
       "</style>\n",
       "<table border=\"1\" class=\"dataframe\">\n",
       "  <thead>\n",
       "    <tr style=\"text-align: right;\">\n",
       "      <th></th>\n",
       "      <th>Person_ID</th>\n",
       "      <th>Last_Name</th>\n",
       "      <th>First_Name</th>\n",
       "      <th>Gender</th>\n",
       "      <th>University</th>\n",
       "      <th>Occupation</th>\n",
       "      <th>Salary</th>\n",
       "      <th>Email</th>\n",
       "      <th>Age</th>\n",
       "      <th>Age_Copy</th>\n",
       "    </tr>\n",
       "  </thead>\n",
       "  <tbody>\n",
       "    <tr>\n",
       "      <th>0</th>\n",
       "      <td>1.0</td>\n",
       "      <td>Lenormand</td>\n",
       "      <td>Keriann</td>\n",
       "      <td>Female</td>\n",
       "      <td>Aurora University</td>\n",
       "      <td>Nurse Practicioner</td>\n",
       "      <td>58135.0</td>\n",
       "      <td>klenormand0@businessinsider.com</td>\n",
       "      <td>28</td>\n",
       "      <td>43</td>\n",
       "    </tr>\n",
       "    <tr>\n",
       "      <th>1</th>\n",
       "      <td>2.0</td>\n",
       "      <td>Rupke</td>\n",
       "      <td>Huntley</td>\n",
       "      <td>Male</td>\n",
       "      <td>Osaka University of Economics</td>\n",
       "      <td>Project Manager</td>\n",
       "      <td>96053.0</td>\n",
       "      <td>hrupke1@reuters.com</td>\n",
       "      <td>40</td>\n",
       "      <td>50</td>\n",
       "    </tr>\n",
       "    <tr>\n",
       "      <th>2</th>\n",
       "      <td>3.0</td>\n",
       "      <td>Dalgarnowch</td>\n",
       "      <td>Gorden</td>\n",
       "      <td>Male</td>\n",
       "      <td>Ludong University</td>\n",
       "      <td>Environmental Tech</td>\n",
       "      <td>59196.0</td>\n",
       "      <td>gdalgarnowch2@microsoft.com</td>\n",
       "      <td>36</td>\n",
       "      <td>23</td>\n",
       "    </tr>\n",
       "    <tr>\n",
       "      <th>3</th>\n",
       "      <td>4.0</td>\n",
       "      <td>NaN</td>\n",
       "      <td>Cullie</td>\n",
       "      <td>Male</td>\n",
       "      <td>Université des Sciences et de la Technologie d...</td>\n",
       "      <td>Legal Assistant</td>\n",
       "      <td>88493.0</td>\n",
       "      <td>cputten3@nymag.com</td>\n",
       "      <td>30</td>\n",
       "      <td>39</td>\n",
       "    </tr>\n",
       "    <tr>\n",
       "      <th>4</th>\n",
       "      <td>5.0</td>\n",
       "      <td>Strangman</td>\n",
       "      <td>Ariel</td>\n",
       "      <td>Female</td>\n",
       "      <td>Boise State University</td>\n",
       "      <td>Project Manager</td>\n",
       "      <td>89073.0</td>\n",
       "      <td>astrangman4@bravesites.com</td>\n",
       "      <td>27</td>\n",
       "      <td>59</td>\n",
       "    </tr>\n",
       "  </tbody>\n",
       "</table>\n",
       "</div>"
      ],
      "text/plain": [
       "   Person_ID    Last_Name First_Name  Gender  \\\n",
       "0        1.0    Lenormand    Keriann  Female   \n",
       "1        2.0        Rupke    Huntley    Male   \n",
       "2        3.0  Dalgarnowch     Gorden    Male   \n",
       "3        4.0          NaN     Cullie    Male   \n",
       "4        5.0    Strangman      Ariel  Female   \n",
       "\n",
       "                                          University          Occupation  \\\n",
       "0                                  Aurora University  Nurse Practicioner   \n",
       "1                      Osaka University of Economics     Project Manager   \n",
       "2                                  Ludong University  Environmental Tech   \n",
       "3  Université des Sciences et de la Technologie d...     Legal Assistant   \n",
       "4                             Boise State University     Project Manager   \n",
       "\n",
       "    Salary                            Email  Age  Age_Copy  \n",
       "0  58135.0  klenormand0@businessinsider.com   28        43  \n",
       "1  96053.0              hrupke1@reuters.com   40        50  \n",
       "2  59196.0      gdalgarnowch2@microsoft.com   36        23  \n",
       "3  88493.0               cputten3@nymag.com   30        39  \n",
       "4  89073.0       astrangman4@bravesites.com   27        59  "
      ]
     },
     "execution_count": 109,
     "metadata": {},
     "output_type": "execute_result"
    }
   ],
   "source": [
    "# Use the `randint` function to randomly generate an `Age` from 22 to 65 for 1000 rows\n",
    "# YOUR CODE HERE\n",
    "# YOUR CODE HERE\n",
    "\n",
    "# View the first five rows of the DataFrame\n",
    "# YOUR CODE HERE"
   ]
  },
  {
   "cell_type": "markdown",
   "metadata": {},
   "source": [
    "### Delete the newly created `Age_Copy` column."
   ]
  },
  {
   "cell_type": "code",
   "execution_count": 110,
   "metadata": {},
   "outputs": [
    {
     "data": {
      "text/html": [
       "<div>\n",
       "<style scoped>\n",
       "    .dataframe tbody tr th:only-of-type {\n",
       "        vertical-align: middle;\n",
       "    }\n",
       "\n",
       "    .dataframe tbody tr th {\n",
       "        vertical-align: top;\n",
       "    }\n",
       "\n",
       "    .dataframe thead th {\n",
       "        text-align: right;\n",
       "    }\n",
       "</style>\n",
       "<table border=\"1\" class=\"dataframe\">\n",
       "  <thead>\n",
       "    <tr style=\"text-align: right;\">\n",
       "      <th></th>\n",
       "      <th>Person_ID</th>\n",
       "      <th>Last_Name</th>\n",
       "      <th>First_Name</th>\n",
       "      <th>Gender</th>\n",
       "      <th>University</th>\n",
       "      <th>Occupation</th>\n",
       "      <th>Salary</th>\n",
       "      <th>Email</th>\n",
       "      <th>Age</th>\n",
       "    </tr>\n",
       "  </thead>\n",
       "  <tbody>\n",
       "    <tr>\n",
       "      <th>0</th>\n",
       "      <td>1.0</td>\n",
       "      <td>Lenormand</td>\n",
       "      <td>Keriann</td>\n",
       "      <td>Female</td>\n",
       "      <td>Aurora University</td>\n",
       "      <td>Nurse Practicioner</td>\n",
       "      <td>58135.0</td>\n",
       "      <td>klenormand0@businessinsider.com</td>\n",
       "      <td>28</td>\n",
       "    </tr>\n",
       "    <tr>\n",
       "      <th>1</th>\n",
       "      <td>2.0</td>\n",
       "      <td>Rupke</td>\n",
       "      <td>Huntley</td>\n",
       "      <td>Male</td>\n",
       "      <td>Osaka University of Economics</td>\n",
       "      <td>Project Manager</td>\n",
       "      <td>96053.0</td>\n",
       "      <td>hrupke1@reuters.com</td>\n",
       "      <td>40</td>\n",
       "    </tr>\n",
       "    <tr>\n",
       "      <th>2</th>\n",
       "      <td>3.0</td>\n",
       "      <td>Dalgarnowch</td>\n",
       "      <td>Gorden</td>\n",
       "      <td>Male</td>\n",
       "      <td>Ludong University</td>\n",
       "      <td>Environmental Tech</td>\n",
       "      <td>59196.0</td>\n",
       "      <td>gdalgarnowch2@microsoft.com</td>\n",
       "      <td>36</td>\n",
       "    </tr>\n",
       "    <tr>\n",
       "      <th>3</th>\n",
       "      <td>4.0</td>\n",
       "      <td>NaN</td>\n",
       "      <td>Cullie</td>\n",
       "      <td>Male</td>\n",
       "      <td>Université des Sciences et de la Technologie d...</td>\n",
       "      <td>Legal Assistant</td>\n",
       "      <td>88493.0</td>\n",
       "      <td>cputten3@nymag.com</td>\n",
       "      <td>30</td>\n",
       "    </tr>\n",
       "    <tr>\n",
       "      <th>4</th>\n",
       "      <td>5.0</td>\n",
       "      <td>Strangman</td>\n",
       "      <td>Ariel</td>\n",
       "      <td>Female</td>\n",
       "      <td>Boise State University</td>\n",
       "      <td>Project Manager</td>\n",
       "      <td>89073.0</td>\n",
       "      <td>astrangman4@bravesites.com</td>\n",
       "      <td>27</td>\n",
       "    </tr>\n",
       "  </tbody>\n",
       "</table>\n",
       "</div>"
      ],
      "text/plain": [
       "   Person_ID    Last_Name First_Name  Gender  \\\n",
       "0        1.0    Lenormand    Keriann  Female   \n",
       "1        2.0        Rupke    Huntley    Male   \n",
       "2        3.0  Dalgarnowch     Gorden    Male   \n",
       "3        4.0          NaN     Cullie    Male   \n",
       "4        5.0    Strangman      Ariel  Female   \n",
       "\n",
       "                                          University          Occupation  \\\n",
       "0                                  Aurora University  Nurse Practicioner   \n",
       "1                      Osaka University of Economics     Project Manager   \n",
       "2                                  Ludong University  Environmental Tech   \n",
       "3  Université des Sciences et de la Technologie d...     Legal Assistant   \n",
       "4                             Boise State University     Project Manager   \n",
       "\n",
       "    Salary                            Email  Age  \n",
       "0  58135.0  klenormand0@businessinsider.com   28  \n",
       "1  96053.0              hrupke1@reuters.com   40  \n",
       "2  59196.0      gdalgarnowch2@microsoft.com   36  \n",
       "3  88493.0               cputten3@nymag.com   30  \n",
       "4  89073.0       astrangman4@bravesites.com   27  "
      ]
     },
     "execution_count": 110,
     "metadata": {},
     "output_type": "execute_result"
    }
   ],
   "source": [
    "# Use the `drop` function to delete the newly created `Age_Copy` column\n",
    "# YOUR CODE HERE\n",
    "\n",
    "# View the first five rows of the DataFrame\n",
    "# YOUR CODE HERE"
   ]
  },
  {
   "cell_type": "markdown",
   "metadata": {},
   "source": [
    "### Using the Pandas `to_csv` function, write the modified DataFrame to a new CSV, and put the file in the `Resources` folder."
   ]
  },
  {
   "cell_type": "code",
   "execution_count": 111,
   "metadata": {},
   "outputs": [],
   "source": [
    "# Save the DataFrame to the `Resources` folder\n",
    "# YOUR CODE HERE"
   ]
  },
  {
   "cell_type": "markdown",
   "metadata": {},
   "source": [
    "# ================================"
   ]
  },
  {
   "cell_type": "markdown",
   "metadata": {},
   "source": [
    "### Rating Class Objectives\n",
    "\n",
    "* rate your understanding using 1-5 method in each objective"
   ]
  },
  {
   "cell_type": "code",
   "execution_count": null,
   "metadata": {},
   "outputs": [],
   "source": [
    "objectives = [\n",
    "    \"Work comfortably in the JupyterLab IDE\",\n",
    "    \"Understand the relationship between Python and Pandas\",\n",
    "    \"Understand the benefits of Pandas over spreadsheets to manipulate data for financial use cases\",\n",
    "    \"Create Pandas Series and DataFrame structures from scratch and be able to manipulate them\",\n",
    "    \"Create DataFrames from CSV files\",\n",
    "]\n",
    "rating = []\n",
    "total = 0\n",
    "for i in range(len(objectives)):\n",
    "    rate = input(objectives[i]+\"? \")\n",
    "    total += int(rate)\n",
    "    rating.append(objectives[i] + \". (\" + rate + \"/5)\")\n",
    "print(\"=\"*96)\n",
    "print(\"My rating today is:\")\n",
    "print(\"-\"*24)\n",
    "for i in rating:\n",
    "    print(i)\n",
    "print(\"-\"*64)\n",
    "print(\"Average: \" + str(total/len(objectives)))"
   ]
  },
  {
   "cell_type": "code",
   "execution_count": null,
   "metadata": {},
   "outputs": [],
   "source": []
  },
  {
   "cell_type": "code",
   "execution_count": null,
   "metadata": {},
   "outputs": [],
   "source": []
  }
 ],
 "metadata": {
  "kernelspec": {
   "display_name": "Python 3",
   "language": "python",
   "name": "python3"
  },
  "language_info": {
   "codemirror_mode": {
    "name": "ipython",
    "version": 3
   },
   "file_extension": ".py",
   "mimetype": "text/x-python",
   "name": "python",
   "nbconvert_exporter": "python",
   "pygments_lexer": "ipython3",
   "version": "3.7.9"
  }
 },
 "nbformat": 4,
 "nbformat_minor": 4
}
