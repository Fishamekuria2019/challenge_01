{
 "cells": [
  {
   "cell_type": "markdown",
   "metadata": {},
   "source": [
    "## 03-Financial-Analysis-Pandas - Day 2 - Dataframe `indexing`, `cleaning`, `plotting`, `datetime` type"
   ]
  },
  {
   "cell_type": "markdown",
   "metadata": {},
   "source": [
    "### Class Objectives\n",
    "* Understand Pandas DataFrames and `Indexing`\n",
    "* Access and manipulate data in a Pandas DataFrame using the index syntax of `iloc[]` and `loc[]`.\n",
    "* Plotting DataFrame using `plot()`\n",
    "* Understand the components of a Pandas `DateTime` object.\n",
    "* Evaluating a statistical arbitrage opportunity for 2 correlated stocks."
   ]
  },
  {
   "cell_type": "markdown",
   "metadata": {},
   "source": [
    "### Resorces:\n",
    "* [JupyterLab Overview](https://jupyterlab.readthedocs.io/en/stable/getting_started/overview.html)\n",
    "* [Getting Started with Pandas](https://pandas.pydata.org/docs/getting_started/index.html)\n",
    "* [Pandas Series](https://pandas.pydata.org/pandas-docs/stable/reference/api/pandas.Series.html)\n",
    "* [Pandas DataFrame](https://pandas.pydata.org/pandas-docs/stable/reference/api/pandas.DataFrame.html)\n",
    "* [Read & Write `methods` in Pandas](https://pandas.pydata.org/pandas-docs/stable/user_guide/io.html)"
   ]
  },
  {
   "cell_type": "markdown",
   "metadata": {},
   "source": [
    "# ================================"
   ]
  },
  {
   "cell_type": "markdown",
   "metadata": {},
   "source": [
    "### 2.01 Instructor Do: Indexing (15 mins)"
   ]
  },
  {
   "cell_type": "markdown",
   "metadata": {},
   "source": [
    "### Pandas DataFrames and Indexing\n",
    "\n",
    "This program reads the loan information from a CSV file and creates a Pandas DataFrame. Use \"indexing\" to access the various data elements inside the Pandas DataFrame that is created. \n"
   ]
  },
  {
   "cell_type": "code",
   "execution_count": 1,
   "metadata": {},
   "outputs": [],
   "source": [
    "# Import libraries and dependencies\n",
    "import pandas as pd\n",
    "from pathlib import Path"
   ]
  },
  {
   "cell_type": "markdown",
   "metadata": {},
   "source": [
    "### Read CSV in as DataFrame"
   ]
  },
  {
   "cell_type": "code",
   "execution_count": 2,
   "metadata": {},
   "outputs": [],
   "source": [
    "# Set the path\n",
    "file_path = Path('01_Inst_Indexing/Resources/loans.csv')\n",
    "\n",
    "# Read in the CSV as a DataFrame\n",
    "loans_csv = pd.read_csv(file_path)"
   ]
  },
  {
   "cell_type": "markdown",
   "metadata": {},
   "source": [
    "### View the resulting DataFrame"
   ]
  },
  {
   "cell_type": "code",
   "execution_count": 3,
   "metadata": {},
   "outputs": [
    {
     "data": {
      "text/html": [
       "<div>\n",
       "<style scoped>\n",
       "    .dataframe tbody tr th:only-of-type {\n",
       "        vertical-align: middle;\n",
       "    }\n",
       "\n",
       "    .dataframe tbody tr th {\n",
       "        vertical-align: top;\n",
       "    }\n",
       "\n",
       "    .dataframe thead th {\n",
       "        text-align: right;\n",
       "    }\n",
       "</style>\n",
       "<table border=\"1\" class=\"dataframe\">\n",
       "  <thead>\n",
       "    <tr style=\"text-align: right;\">\n",
       "      <th></th>\n",
       "      <th>loan_amnt</th>\n",
       "      <th>funded_amnt</th>\n",
       "      <th>funded_amnt_inv</th>\n",
       "      <th>term</th>\n",
       "      <th>int_rate</th>\n",
       "      <th>installment</th>\n",
       "      <th>grade</th>\n",
       "      <th>sub_grade</th>\n",
       "      <th>emp_title</th>\n",
       "      <th>emp_length</th>\n",
       "      <th>home_ownership</th>\n",
       "      <th>annual_inc</th>\n",
       "      <th>verification_status</th>\n",
       "      <th>issue_d</th>\n",
       "      <th>loan_status</th>\n",
       "      <th>pymnt_plan</th>\n",
       "      <th>purpose</th>\n",
       "    </tr>\n",
       "  </thead>\n",
       "  <tbody>\n",
       "    <tr>\n",
       "      <th>0</th>\n",
       "      <td>10000</td>\n",
       "      <td>10000</td>\n",
       "      <td>10000.0</td>\n",
       "      <td>36 months</td>\n",
       "      <td>0.1033</td>\n",
       "      <td>324.23</td>\n",
       "      <td>B</td>\n",
       "      <td>B1</td>\n",
       "      <td>NaN</td>\n",
       "      <td>&lt; 1 year</td>\n",
       "      <td>MORTGAGE</td>\n",
       "      <td>280000.0</td>\n",
       "      <td>Not Verified</td>\n",
       "      <td>Dec-18</td>\n",
       "      <td>Current</td>\n",
       "      <td>n</td>\n",
       "      <td>debt_consolidation</td>\n",
       "    </tr>\n",
       "    <tr>\n",
       "      <th>1</th>\n",
       "      <td>4000</td>\n",
       "      <td>4000</td>\n",
       "      <td>4000.0</td>\n",
       "      <td>36 months</td>\n",
       "      <td>0.2340</td>\n",
       "      <td>155.68</td>\n",
       "      <td>E</td>\n",
       "      <td>E1</td>\n",
       "      <td>Security</td>\n",
       "      <td>3 years</td>\n",
       "      <td>RENT</td>\n",
       "      <td>90000.0</td>\n",
       "      <td>Source Verified</td>\n",
       "      <td>Dec-18</td>\n",
       "      <td>Current</td>\n",
       "      <td>n</td>\n",
       "      <td>debt_consolidation</td>\n",
       "    </tr>\n",
       "    <tr>\n",
       "      <th>2</th>\n",
       "      <td>5000</td>\n",
       "      <td>5000</td>\n",
       "      <td>5000.0</td>\n",
       "      <td>36 months</td>\n",
       "      <td>0.1797</td>\n",
       "      <td>180.69</td>\n",
       "      <td>D</td>\n",
       "      <td>D1</td>\n",
       "      <td>Administrative</td>\n",
       "      <td>6 years</td>\n",
       "      <td>MORTGAGE</td>\n",
       "      <td>59280.0</td>\n",
       "      <td>Source Verified</td>\n",
       "      <td>Dec-18</td>\n",
       "      <td>Current</td>\n",
       "      <td>n</td>\n",
       "      <td>debt_consolidation</td>\n",
       "    </tr>\n",
       "    <tr>\n",
       "      <th>3</th>\n",
       "      <td>9600</td>\n",
       "      <td>9600</td>\n",
       "      <td>9600.0</td>\n",
       "      <td>36 months</td>\n",
       "      <td>0.1298</td>\n",
       "      <td>323.37</td>\n",
       "      <td>B</td>\n",
       "      <td>B5</td>\n",
       "      <td>NaN</td>\n",
       "      <td>NaN</td>\n",
       "      <td>MORTGAGE</td>\n",
       "      <td>35704.0</td>\n",
       "      <td>Not Verified</td>\n",
       "      <td>Dec-18</td>\n",
       "      <td>Current</td>\n",
       "      <td>n</td>\n",
       "      <td>home_improvement</td>\n",
       "    </tr>\n",
       "    <tr>\n",
       "      <th>4</th>\n",
       "      <td>2500</td>\n",
       "      <td>2500</td>\n",
       "      <td>2500.0</td>\n",
       "      <td>36 months</td>\n",
       "      <td>0.1356</td>\n",
       "      <td>84.92</td>\n",
       "      <td>C</td>\n",
       "      <td>C1</td>\n",
       "      <td>Chef</td>\n",
       "      <td>10+ years</td>\n",
       "      <td>RENT</td>\n",
       "      <td>55000.0</td>\n",
       "      <td>Not Verified</td>\n",
       "      <td>Dec-18</td>\n",
       "      <td>Current</td>\n",
       "      <td>n</td>\n",
       "      <td>debt_consolidation</td>\n",
       "    </tr>\n",
       "    <tr>\n",
       "      <th>...</th>\n",
       "      <td>...</td>\n",
       "      <td>...</td>\n",
       "      <td>...</td>\n",
       "      <td>...</td>\n",
       "      <td>...</td>\n",
       "      <td>...</td>\n",
       "      <td>...</td>\n",
       "      <td>...</td>\n",
       "      <td>...</td>\n",
       "      <td>...</td>\n",
       "      <td>...</td>\n",
       "      <td>...</td>\n",
       "      <td>...</td>\n",
       "      <td>...</td>\n",
       "      <td>...</td>\n",
       "      <td>...</td>\n",
       "      <td>...</td>\n",
       "    </tr>\n",
       "    <tr>\n",
       "      <th>128407</th>\n",
       "      <td>23000</td>\n",
       "      <td>23000</td>\n",
       "      <td>23000.0</td>\n",
       "      <td>36 months</td>\n",
       "      <td>0.1502</td>\n",
       "      <td>797.53</td>\n",
       "      <td>C</td>\n",
       "      <td>C3</td>\n",
       "      <td>Tax Consultant</td>\n",
       "      <td>10+ years</td>\n",
       "      <td>MORTGAGE</td>\n",
       "      <td>75000.0</td>\n",
       "      <td>Source Verified</td>\n",
       "      <td>Oct-18</td>\n",
       "      <td>Charged Off</td>\n",
       "      <td>n</td>\n",
       "      <td>debt_consolidation</td>\n",
       "    </tr>\n",
       "    <tr>\n",
       "      <th>128408</th>\n",
       "      <td>10000</td>\n",
       "      <td>10000</td>\n",
       "      <td>10000.0</td>\n",
       "      <td>36 months</td>\n",
       "      <td>0.1502</td>\n",
       "      <td>346.76</td>\n",
       "      <td>C</td>\n",
       "      <td>C3</td>\n",
       "      <td>security guard</td>\n",
       "      <td>5 years</td>\n",
       "      <td>MORTGAGE</td>\n",
       "      <td>38000.0</td>\n",
       "      <td>Not Verified</td>\n",
       "      <td>Oct-18</td>\n",
       "      <td>Current</td>\n",
       "      <td>n</td>\n",
       "      <td>debt_consolidation</td>\n",
       "    </tr>\n",
       "    <tr>\n",
       "      <th>128409</th>\n",
       "      <td>5000</td>\n",
       "      <td>5000</td>\n",
       "      <td>5000.0</td>\n",
       "      <td>36 months</td>\n",
       "      <td>0.1356</td>\n",
       "      <td>169.83</td>\n",
       "      <td>C</td>\n",
       "      <td>C1</td>\n",
       "      <td>Payoff Clerk</td>\n",
       "      <td>10+ years</td>\n",
       "      <td>MORTGAGE</td>\n",
       "      <td>35360.0</td>\n",
       "      <td>Not Verified</td>\n",
       "      <td>Oct-18</td>\n",
       "      <td>Current</td>\n",
       "      <td>n</td>\n",
       "      <td>debt_consolidation</td>\n",
       "    </tr>\n",
       "    <tr>\n",
       "      <th>128410</th>\n",
       "      <td>10000</td>\n",
       "      <td>10000</td>\n",
       "      <td>9750.0</td>\n",
       "      <td>36 months</td>\n",
       "      <td>0.1106</td>\n",
       "      <td>327.68</td>\n",
       "      <td>B</td>\n",
       "      <td>B3</td>\n",
       "      <td>NaN</td>\n",
       "      <td>NaN</td>\n",
       "      <td>RENT</td>\n",
       "      <td>44400.0</td>\n",
       "      <td>Source Verified</td>\n",
       "      <td>Oct-18</td>\n",
       "      <td>Current</td>\n",
       "      <td>n</td>\n",
       "      <td>credit_card</td>\n",
       "    </tr>\n",
       "    <tr>\n",
       "      <th>128411</th>\n",
       "      <td>10000</td>\n",
       "      <td>10000</td>\n",
       "      <td>10000.0</td>\n",
       "      <td>36 months</td>\n",
       "      <td>0.1691</td>\n",
       "      <td>356.08</td>\n",
       "      <td>C</td>\n",
       "      <td>C5</td>\n",
       "      <td>Key Accounts Manager</td>\n",
       "      <td>2 years</td>\n",
       "      <td>RENT</td>\n",
       "      <td>80000.0</td>\n",
       "      <td>Not Verified</td>\n",
       "      <td>Oct-18</td>\n",
       "      <td>Current</td>\n",
       "      <td>n</td>\n",
       "      <td>other</td>\n",
       "    </tr>\n",
       "  </tbody>\n",
       "</table>\n",
       "<p>128412 rows × 17 columns</p>\n",
       "</div>"
      ],
      "text/plain": [
       "        loan_amnt  funded_amnt  funded_amnt_inv       term  int_rate  \\\n",
       "0           10000        10000          10000.0  36 months    0.1033   \n",
       "1            4000         4000           4000.0  36 months    0.2340   \n",
       "2            5000         5000           5000.0  36 months    0.1797   \n",
       "3            9600         9600           9600.0  36 months    0.1298   \n",
       "4            2500         2500           2500.0  36 months    0.1356   \n",
       "...           ...          ...              ...        ...       ...   \n",
       "128407      23000        23000          23000.0  36 months    0.1502   \n",
       "128408      10000        10000          10000.0  36 months    0.1502   \n",
       "128409       5000         5000           5000.0  36 months    0.1356   \n",
       "128410      10000        10000           9750.0  36 months    0.1106   \n",
       "128411      10000        10000          10000.0  36 months    0.1691   \n",
       "\n",
       "        installment grade sub_grade             emp_title emp_length  \\\n",
       "0            324.23     B        B1                   NaN   < 1 year   \n",
       "1            155.68     E        E1              Security    3 years   \n",
       "2            180.69     D        D1        Administrative    6 years   \n",
       "3            323.37     B        B5                   NaN        NaN   \n",
       "4             84.92     C        C1                  Chef  10+ years   \n",
       "...             ...   ...       ...                   ...        ...   \n",
       "128407       797.53     C        C3        Tax Consultant  10+ years   \n",
       "128408       346.76     C        C3        security guard    5 years   \n",
       "128409       169.83     C        C1          Payoff Clerk  10+ years   \n",
       "128410       327.68     B        B3                   NaN        NaN   \n",
       "128411       356.08     C        C5  Key Accounts Manager    2 years   \n",
       "\n",
       "       home_ownership  annual_inc verification_status issue_d  loan_status  \\\n",
       "0            MORTGAGE    280000.0        Not Verified  Dec-18      Current   \n",
       "1                RENT     90000.0     Source Verified  Dec-18      Current   \n",
       "2            MORTGAGE     59280.0     Source Verified  Dec-18      Current   \n",
       "3            MORTGAGE     35704.0        Not Verified  Dec-18      Current   \n",
       "4                RENT     55000.0        Not Verified  Dec-18      Current   \n",
       "...               ...         ...                 ...     ...          ...   \n",
       "128407       MORTGAGE     75000.0     Source Verified  Oct-18  Charged Off   \n",
       "128408       MORTGAGE     38000.0        Not Verified  Oct-18      Current   \n",
       "128409       MORTGAGE     35360.0        Not Verified  Oct-18      Current   \n",
       "128410           RENT     44400.0     Source Verified  Oct-18      Current   \n",
       "128411           RENT     80000.0        Not Verified  Oct-18      Current   \n",
       "\n",
       "       pymnt_plan             purpose  \n",
       "0               n  debt_consolidation  \n",
       "1               n  debt_consolidation  \n",
       "2               n  debt_consolidation  \n",
       "3               n    home_improvement  \n",
       "4               n  debt_consolidation  \n",
       "...           ...                 ...  \n",
       "128407          n  debt_consolidation  \n",
       "128408          n  debt_consolidation  \n",
       "128409          n  debt_consolidation  \n",
       "128410          n         credit_card  \n",
       "128411          n               other  \n",
       "\n",
       "[128412 rows x 17 columns]"
      ]
     },
     "execution_count": 3,
     "metadata": {},
     "output_type": "execute_result"
    }
   ],
   "source": [
    "# Review the resulting DataFrame\n",
    "loans_csv"
   ]
  },
  {
   "cell_type": "markdown",
   "metadata": {},
   "source": [
    "### View Summary Statistics"
   ]
  },
  {
   "cell_type": "code",
   "execution_count": 4,
   "metadata": {},
   "outputs": [
    {
     "data": {
      "text/html": [
       "<div>\n",
       "<style scoped>\n",
       "    .dataframe tbody tr th:only-of-type {\n",
       "        vertical-align: middle;\n",
       "    }\n",
       "\n",
       "    .dataframe tbody tr th {\n",
       "        vertical-align: top;\n",
       "    }\n",
       "\n",
       "    .dataframe thead th {\n",
       "        text-align: right;\n",
       "    }\n",
       "</style>\n",
       "<table border=\"1\" class=\"dataframe\">\n",
       "  <thead>\n",
       "    <tr style=\"text-align: right;\">\n",
       "      <th></th>\n",
       "      <th>loan_amnt</th>\n",
       "      <th>funded_amnt</th>\n",
       "      <th>funded_amnt_inv</th>\n",
       "      <th>term</th>\n",
       "      <th>int_rate</th>\n",
       "      <th>installment</th>\n",
       "      <th>grade</th>\n",
       "      <th>sub_grade</th>\n",
       "      <th>emp_title</th>\n",
       "      <th>emp_length</th>\n",
       "      <th>home_ownership</th>\n",
       "      <th>annual_inc</th>\n",
       "      <th>verification_status</th>\n",
       "      <th>issue_d</th>\n",
       "      <th>loan_status</th>\n",
       "      <th>pymnt_plan</th>\n",
       "      <th>purpose</th>\n",
       "    </tr>\n",
       "  </thead>\n",
       "  <tbody>\n",
       "    <tr>\n",
       "      <th>count</th>\n",
       "      <td>128412.000000</td>\n",
       "      <td>128412.000000</td>\n",
       "      <td>128412.000000</td>\n",
       "      <td>128412</td>\n",
       "      <td>128412.000000</td>\n",
       "      <td>128412.000000</td>\n",
       "      <td>128412</td>\n",
       "      <td>128412</td>\n",
       "      <td>107465</td>\n",
       "      <td>116708</td>\n",
       "      <td>128412</td>\n",
       "      <td>1.284120e+05</td>\n",
       "      <td>128412</td>\n",
       "      <td>128412</td>\n",
       "      <td>128412</td>\n",
       "      <td>128412</td>\n",
       "      <td>128412</td>\n",
       "    </tr>\n",
       "    <tr>\n",
       "      <th>unique</th>\n",
       "      <td>NaN</td>\n",
       "      <td>NaN</td>\n",
       "      <td>NaN</td>\n",
       "      <td>2</td>\n",
       "      <td>NaN</td>\n",
       "      <td>NaN</td>\n",
       "      <td>7</td>\n",
       "      <td>35</td>\n",
       "      <td>43892</td>\n",
       "      <td>11</td>\n",
       "      <td>4</td>\n",
       "      <td>NaN</td>\n",
       "      <td>3</td>\n",
       "      <td>3</td>\n",
       "      <td>7</td>\n",
       "      <td>1</td>\n",
       "      <td>12</td>\n",
       "    </tr>\n",
       "    <tr>\n",
       "      <th>top</th>\n",
       "      <td>NaN</td>\n",
       "      <td>NaN</td>\n",
       "      <td>NaN</td>\n",
       "      <td>36 months</td>\n",
       "      <td>NaN</td>\n",
       "      <td>NaN</td>\n",
       "      <td>A</td>\n",
       "      <td>A4</td>\n",
       "      <td>Teacher</td>\n",
       "      <td>10+ years</td>\n",
       "      <td>MORTGAGE</td>\n",
       "      <td>NaN</td>\n",
       "      <td>Not Verified</td>\n",
       "      <td>Oct-18</td>\n",
       "      <td>Current</td>\n",
       "      <td>n</td>\n",
       "      <td>debt_consolidation</td>\n",
       "    </tr>\n",
       "    <tr>\n",
       "      <th>freq</th>\n",
       "      <td>NaN</td>\n",
       "      <td>NaN</td>\n",
       "      <td>NaN</td>\n",
       "      <td>88179</td>\n",
       "      <td>NaN</td>\n",
       "      <td>NaN</td>\n",
       "      <td>38011</td>\n",
       "      <td>9770</td>\n",
       "      <td>2090</td>\n",
       "      <td>38826</td>\n",
       "      <td>63490</td>\n",
       "      <td>NaN</td>\n",
       "      <td>58350</td>\n",
       "      <td>46305</td>\n",
       "      <td>119540</td>\n",
       "      <td>128412</td>\n",
       "      <td>70603</td>\n",
       "    </tr>\n",
       "    <tr>\n",
       "      <th>mean</th>\n",
       "      <td>15971.321021</td>\n",
       "      <td>15971.321021</td>\n",
       "      <td>15968.498166</td>\n",
       "      <td>NaN</td>\n",
       "      <td>0.129302</td>\n",
       "      <td>463.259353</td>\n",
       "      <td>NaN</td>\n",
       "      <td>NaN</td>\n",
       "      <td>NaN</td>\n",
       "      <td>NaN</td>\n",
       "      <td>NaN</td>\n",
       "      <td>8.279733e+04</td>\n",
       "      <td>NaN</td>\n",
       "      <td>NaN</td>\n",
       "      <td>NaN</td>\n",
       "      <td>NaN</td>\n",
       "      <td>NaN</td>\n",
       "    </tr>\n",
       "    <tr>\n",
       "      <th>std</th>\n",
       "      <td>10150.384233</td>\n",
       "      <td>10150.384233</td>\n",
       "      <td>10152.168970</td>\n",
       "      <td>NaN</td>\n",
       "      <td>0.050904</td>\n",
       "      <td>285.718256</td>\n",
       "      <td>NaN</td>\n",
       "      <td>NaN</td>\n",
       "      <td>NaN</td>\n",
       "      <td>NaN</td>\n",
       "      <td>NaN</td>\n",
       "      <td>1.082985e+05</td>\n",
       "      <td>NaN</td>\n",
       "      <td>NaN</td>\n",
       "      <td>NaN</td>\n",
       "      <td>NaN</td>\n",
       "      <td>NaN</td>\n",
       "    </tr>\n",
       "    <tr>\n",
       "      <th>min</th>\n",
       "      <td>1000.000000</td>\n",
       "      <td>1000.000000</td>\n",
       "      <td>725.000000</td>\n",
       "      <td>NaN</td>\n",
       "      <td>0.060000</td>\n",
       "      <td>30.480000</td>\n",
       "      <td>NaN</td>\n",
       "      <td>NaN</td>\n",
       "      <td>NaN</td>\n",
       "      <td>NaN</td>\n",
       "      <td>NaN</td>\n",
       "      <td>0.000000e+00</td>\n",
       "      <td>NaN</td>\n",
       "      <td>NaN</td>\n",
       "      <td>NaN</td>\n",
       "      <td>NaN</td>\n",
       "      <td>NaN</td>\n",
       "    </tr>\n",
       "    <tr>\n",
       "      <th>25%</th>\n",
       "      <td>8000.000000</td>\n",
       "      <td>8000.000000</td>\n",
       "      <td>8000.000000</td>\n",
       "      <td>NaN</td>\n",
       "      <td>0.084600</td>\n",
       "      <td>253.630000</td>\n",
       "      <td>NaN</td>\n",
       "      <td>NaN</td>\n",
       "      <td>NaN</td>\n",
       "      <td>NaN</td>\n",
       "      <td>NaN</td>\n",
       "      <td>4.705800e+04</td>\n",
       "      <td>NaN</td>\n",
       "      <td>NaN</td>\n",
       "      <td>NaN</td>\n",
       "      <td>NaN</td>\n",
       "      <td>NaN</td>\n",
       "    </tr>\n",
       "    <tr>\n",
       "      <th>50%</th>\n",
       "      <td>14000.000000</td>\n",
       "      <td>14000.000000</td>\n",
       "      <td>14000.000000</td>\n",
       "      <td>NaN</td>\n",
       "      <td>0.118000</td>\n",
       "      <td>382.905000</td>\n",
       "      <td>NaN</td>\n",
       "      <td>NaN</td>\n",
       "      <td>NaN</td>\n",
       "      <td>NaN</td>\n",
       "      <td>NaN</td>\n",
       "      <td>6.800000e+04</td>\n",
       "      <td>NaN</td>\n",
       "      <td>NaN</td>\n",
       "      <td>NaN</td>\n",
       "      <td>NaN</td>\n",
       "      <td>NaN</td>\n",
       "    </tr>\n",
       "    <tr>\n",
       "      <th>75%</th>\n",
       "      <td>21600.000000</td>\n",
       "      <td>21600.000000</td>\n",
       "      <td>21600.000000</td>\n",
       "      <td>NaN</td>\n",
       "      <td>0.161400</td>\n",
       "      <td>622.680000</td>\n",
       "      <td>NaN</td>\n",
       "      <td>NaN</td>\n",
       "      <td>NaN</td>\n",
       "      <td>NaN</td>\n",
       "      <td>NaN</td>\n",
       "      <td>9.900000e+04</td>\n",
       "      <td>NaN</td>\n",
       "      <td>NaN</td>\n",
       "      <td>NaN</td>\n",
       "      <td>NaN</td>\n",
       "      <td>NaN</td>\n",
       "    </tr>\n",
       "    <tr>\n",
       "      <th>max</th>\n",
       "      <td>40000.000000</td>\n",
       "      <td>40000.000000</td>\n",
       "      <td>40000.000000</td>\n",
       "      <td>NaN</td>\n",
       "      <td>0.309900</td>\n",
       "      <td>1618.240000</td>\n",
       "      <td>NaN</td>\n",
       "      <td>NaN</td>\n",
       "      <td>NaN</td>\n",
       "      <td>NaN</td>\n",
       "      <td>NaN</td>\n",
       "      <td>9.757200e+06</td>\n",
       "      <td>NaN</td>\n",
       "      <td>NaN</td>\n",
       "      <td>NaN</td>\n",
       "      <td>NaN</td>\n",
       "      <td>NaN</td>\n",
       "    </tr>\n",
       "  </tbody>\n",
       "</table>\n",
       "</div>"
      ],
      "text/plain": [
       "            loan_amnt    funded_amnt  funded_amnt_inv       term  \\\n",
       "count   128412.000000  128412.000000    128412.000000     128412   \n",
       "unique            NaN            NaN              NaN          2   \n",
       "top               NaN            NaN              NaN  36 months   \n",
       "freq              NaN            NaN              NaN      88179   \n",
       "mean     15971.321021   15971.321021     15968.498166        NaN   \n",
       "std      10150.384233   10150.384233     10152.168970        NaN   \n",
       "min       1000.000000    1000.000000       725.000000        NaN   \n",
       "25%       8000.000000    8000.000000      8000.000000        NaN   \n",
       "50%      14000.000000   14000.000000     14000.000000        NaN   \n",
       "75%      21600.000000   21600.000000     21600.000000        NaN   \n",
       "max      40000.000000   40000.000000     40000.000000        NaN   \n",
       "\n",
       "             int_rate    installment   grade sub_grade emp_title emp_length  \\\n",
       "count   128412.000000  128412.000000  128412    128412    107465     116708   \n",
       "unique            NaN            NaN       7        35     43892         11   \n",
       "top               NaN            NaN       A        A4   Teacher  10+ years   \n",
       "freq              NaN            NaN   38011      9770      2090      38826   \n",
       "mean         0.129302     463.259353     NaN       NaN       NaN        NaN   \n",
       "std          0.050904     285.718256     NaN       NaN       NaN        NaN   \n",
       "min          0.060000      30.480000     NaN       NaN       NaN        NaN   \n",
       "25%          0.084600     253.630000     NaN       NaN       NaN        NaN   \n",
       "50%          0.118000     382.905000     NaN       NaN       NaN        NaN   \n",
       "75%          0.161400     622.680000     NaN       NaN       NaN        NaN   \n",
       "max          0.309900    1618.240000     NaN       NaN       NaN        NaN   \n",
       "\n",
       "       home_ownership    annual_inc verification_status issue_d loan_status  \\\n",
       "count          128412  1.284120e+05              128412  128412      128412   \n",
       "unique              4           NaN                   3       3           7   \n",
       "top          MORTGAGE           NaN        Not Verified  Oct-18     Current   \n",
       "freq            63490           NaN               58350   46305      119540   \n",
       "mean              NaN  8.279733e+04                 NaN     NaN         NaN   \n",
       "std               NaN  1.082985e+05                 NaN     NaN         NaN   \n",
       "min               NaN  0.000000e+00                 NaN     NaN         NaN   \n",
       "25%               NaN  4.705800e+04                 NaN     NaN         NaN   \n",
       "50%               NaN  6.800000e+04                 NaN     NaN         NaN   \n",
       "75%               NaN  9.900000e+04                 NaN     NaN         NaN   \n",
       "max               NaN  9.757200e+06                 NaN     NaN         NaN   \n",
       "\n",
       "       pymnt_plan             purpose  \n",
       "count      128412              128412  \n",
       "unique          1                  12  \n",
       "top             n  debt_consolidation  \n",
       "freq       128412               70603  \n",
       "mean          NaN                 NaN  \n",
       "std           NaN                 NaN  \n",
       "min           NaN                 NaN  \n",
       "25%           NaN                 NaN  \n",
       "50%           NaN                 NaN  \n",
       "75%           NaN                 NaN  \n",
       "max           NaN                 NaN  "
      ]
     },
     "execution_count": 4,
     "metadata": {},
     "output_type": "execute_result"
    }
   ],
   "source": [
    "# \"Describe\" summary statistics for all of the csv data\n",
    "loans_csv.describe(include='all')"
   ]
  },
  {
   "cell_type": "markdown",
   "metadata": {},
   "source": [
    "### Use iloc find the first 5 records."
   ]
  },
  {
   "cell_type": "code",
   "execution_count": 5,
   "metadata": {},
   "outputs": [
    {
     "data": {
      "text/html": [
       "<div>\n",
       "<style scoped>\n",
       "    .dataframe tbody tr th:only-of-type {\n",
       "        vertical-align: middle;\n",
       "    }\n",
       "\n",
       "    .dataframe tbody tr th {\n",
       "        vertical-align: top;\n",
       "    }\n",
       "\n",
       "    .dataframe thead th {\n",
       "        text-align: right;\n",
       "    }\n",
       "</style>\n",
       "<table border=\"1\" class=\"dataframe\">\n",
       "  <thead>\n",
       "    <tr style=\"text-align: right;\">\n",
       "      <th></th>\n",
       "      <th>loan_amnt</th>\n",
       "      <th>funded_amnt</th>\n",
       "      <th>funded_amnt_inv</th>\n",
       "      <th>term</th>\n",
       "      <th>int_rate</th>\n",
       "      <th>installment</th>\n",
       "      <th>grade</th>\n",
       "      <th>sub_grade</th>\n",
       "      <th>emp_title</th>\n",
       "      <th>emp_length</th>\n",
       "      <th>home_ownership</th>\n",
       "      <th>annual_inc</th>\n",
       "      <th>verification_status</th>\n",
       "      <th>issue_d</th>\n",
       "      <th>loan_status</th>\n",
       "      <th>pymnt_plan</th>\n",
       "      <th>purpose</th>\n",
       "    </tr>\n",
       "  </thead>\n",
       "  <tbody>\n",
       "    <tr>\n",
       "      <th>0</th>\n",
       "      <td>10000</td>\n",
       "      <td>10000</td>\n",
       "      <td>10000.0</td>\n",
       "      <td>36 months</td>\n",
       "      <td>0.1033</td>\n",
       "      <td>324.23</td>\n",
       "      <td>B</td>\n",
       "      <td>B1</td>\n",
       "      <td>NaN</td>\n",
       "      <td>&lt; 1 year</td>\n",
       "      <td>MORTGAGE</td>\n",
       "      <td>280000.0</td>\n",
       "      <td>Not Verified</td>\n",
       "      <td>Dec-18</td>\n",
       "      <td>Current</td>\n",
       "      <td>n</td>\n",
       "      <td>debt_consolidation</td>\n",
       "    </tr>\n",
       "    <tr>\n",
       "      <th>1</th>\n",
       "      <td>4000</td>\n",
       "      <td>4000</td>\n",
       "      <td>4000.0</td>\n",
       "      <td>36 months</td>\n",
       "      <td>0.2340</td>\n",
       "      <td>155.68</td>\n",
       "      <td>E</td>\n",
       "      <td>E1</td>\n",
       "      <td>Security</td>\n",
       "      <td>3 years</td>\n",
       "      <td>RENT</td>\n",
       "      <td>90000.0</td>\n",
       "      <td>Source Verified</td>\n",
       "      <td>Dec-18</td>\n",
       "      <td>Current</td>\n",
       "      <td>n</td>\n",
       "      <td>debt_consolidation</td>\n",
       "    </tr>\n",
       "    <tr>\n",
       "      <th>2</th>\n",
       "      <td>5000</td>\n",
       "      <td>5000</td>\n",
       "      <td>5000.0</td>\n",
       "      <td>36 months</td>\n",
       "      <td>0.1797</td>\n",
       "      <td>180.69</td>\n",
       "      <td>D</td>\n",
       "      <td>D1</td>\n",
       "      <td>Administrative</td>\n",
       "      <td>6 years</td>\n",
       "      <td>MORTGAGE</td>\n",
       "      <td>59280.0</td>\n",
       "      <td>Source Verified</td>\n",
       "      <td>Dec-18</td>\n",
       "      <td>Current</td>\n",
       "      <td>n</td>\n",
       "      <td>debt_consolidation</td>\n",
       "    </tr>\n",
       "    <tr>\n",
       "      <th>3</th>\n",
       "      <td>9600</td>\n",
       "      <td>9600</td>\n",
       "      <td>9600.0</td>\n",
       "      <td>36 months</td>\n",
       "      <td>0.1298</td>\n",
       "      <td>323.37</td>\n",
       "      <td>B</td>\n",
       "      <td>B5</td>\n",
       "      <td>NaN</td>\n",
       "      <td>NaN</td>\n",
       "      <td>MORTGAGE</td>\n",
       "      <td>35704.0</td>\n",
       "      <td>Not Verified</td>\n",
       "      <td>Dec-18</td>\n",
       "      <td>Current</td>\n",
       "      <td>n</td>\n",
       "      <td>home_improvement</td>\n",
       "    </tr>\n",
       "    <tr>\n",
       "      <th>4</th>\n",
       "      <td>2500</td>\n",
       "      <td>2500</td>\n",
       "      <td>2500.0</td>\n",
       "      <td>36 months</td>\n",
       "      <td>0.1356</td>\n",
       "      <td>84.92</td>\n",
       "      <td>C</td>\n",
       "      <td>C1</td>\n",
       "      <td>Chef</td>\n",
       "      <td>10+ years</td>\n",
       "      <td>RENT</td>\n",
       "      <td>55000.0</td>\n",
       "      <td>Not Verified</td>\n",
       "      <td>Dec-18</td>\n",
       "      <td>Current</td>\n",
       "      <td>n</td>\n",
       "      <td>debt_consolidation</td>\n",
       "    </tr>\n",
       "  </tbody>\n",
       "</table>\n",
       "</div>"
      ],
      "text/plain": [
       "   loan_amnt  funded_amnt  funded_amnt_inv       term  int_rate  installment  \\\n",
       "0      10000        10000          10000.0  36 months    0.1033       324.23   \n",
       "1       4000         4000           4000.0  36 months    0.2340       155.68   \n",
       "2       5000         5000           5000.0  36 months    0.1797       180.69   \n",
       "3       9600         9600           9600.0  36 months    0.1298       323.37   \n",
       "4       2500         2500           2500.0  36 months    0.1356        84.92   \n",
       "\n",
       "  grade sub_grade       emp_title emp_length home_ownership  annual_inc  \\\n",
       "0     B        B1             NaN   < 1 year       MORTGAGE    280000.0   \n",
       "1     E        E1        Security    3 years           RENT     90000.0   \n",
       "2     D        D1  Administrative    6 years       MORTGAGE     59280.0   \n",
       "3     B        B5             NaN        NaN       MORTGAGE     35704.0   \n",
       "4     C        C1            Chef  10+ years           RENT     55000.0   \n",
       "\n",
       "  verification_status issue_d loan_status pymnt_plan             purpose  \n",
       "0        Not Verified  Dec-18     Current          n  debt_consolidation  \n",
       "1     Source Verified  Dec-18     Current          n  debt_consolidation  \n",
       "2     Source Verified  Dec-18     Current          n  debt_consolidation  \n",
       "3        Not Verified  Dec-18     Current          n    home_improvement  \n",
       "4        Not Verified  Dec-18     Current          n  debt_consolidation  "
      ]
     },
     "execution_count": 5,
     "metadata": {},
     "output_type": "execute_result"
    }
   ],
   "source": [
    "# Retrieve rows with index 0 up to but not including 5.\n",
    "loans_csv.iloc[0:5]"
   ]
  },
  {
   "cell_type": "markdown",
   "metadata": {},
   "source": [
    "### Use iloc to find the 1st, 3rd, 5th, and 7th records"
   ]
  },
  {
   "cell_type": "code",
   "execution_count": 6,
   "metadata": {},
   "outputs": [
    {
     "data": {
      "text/html": [
       "<div>\n",
       "<style scoped>\n",
       "    .dataframe tbody tr th:only-of-type {\n",
       "        vertical-align: middle;\n",
       "    }\n",
       "\n",
       "    .dataframe tbody tr th {\n",
       "        vertical-align: top;\n",
       "    }\n",
       "\n",
       "    .dataframe thead th {\n",
       "        text-align: right;\n",
       "    }\n",
       "</style>\n",
       "<table border=\"1\" class=\"dataframe\">\n",
       "  <thead>\n",
       "    <tr style=\"text-align: right;\">\n",
       "      <th></th>\n",
       "      <th>loan_amnt</th>\n",
       "      <th>funded_amnt</th>\n",
       "      <th>funded_amnt_inv</th>\n",
       "      <th>term</th>\n",
       "      <th>int_rate</th>\n",
       "      <th>installment</th>\n",
       "      <th>grade</th>\n",
       "      <th>sub_grade</th>\n",
       "      <th>emp_title</th>\n",
       "      <th>emp_length</th>\n",
       "      <th>home_ownership</th>\n",
       "      <th>annual_inc</th>\n",
       "      <th>verification_status</th>\n",
       "      <th>issue_d</th>\n",
       "      <th>loan_status</th>\n",
       "      <th>pymnt_plan</th>\n",
       "      <th>purpose</th>\n",
       "    </tr>\n",
       "  </thead>\n",
       "  <tbody>\n",
       "    <tr>\n",
       "      <th>0</th>\n",
       "      <td>10000</td>\n",
       "      <td>10000</td>\n",
       "      <td>10000.0</td>\n",
       "      <td>36 months</td>\n",
       "      <td>0.1033</td>\n",
       "      <td>324.23</td>\n",
       "      <td>B</td>\n",
       "      <td>B1</td>\n",
       "      <td>NaN</td>\n",
       "      <td>&lt; 1 year</td>\n",
       "      <td>MORTGAGE</td>\n",
       "      <td>280000.0</td>\n",
       "      <td>Not Verified</td>\n",
       "      <td>Dec-18</td>\n",
       "      <td>Current</td>\n",
       "      <td>n</td>\n",
       "      <td>debt_consolidation</td>\n",
       "    </tr>\n",
       "    <tr>\n",
       "      <th>2</th>\n",
       "      <td>5000</td>\n",
       "      <td>5000</td>\n",
       "      <td>5000.0</td>\n",
       "      <td>36 months</td>\n",
       "      <td>0.1797</td>\n",
       "      <td>180.69</td>\n",
       "      <td>D</td>\n",
       "      <td>D1</td>\n",
       "      <td>Administrative</td>\n",
       "      <td>6 years</td>\n",
       "      <td>MORTGAGE</td>\n",
       "      <td>59280.0</td>\n",
       "      <td>Source Verified</td>\n",
       "      <td>Dec-18</td>\n",
       "      <td>Current</td>\n",
       "      <td>n</td>\n",
       "      <td>debt_consolidation</td>\n",
       "    </tr>\n",
       "    <tr>\n",
       "      <th>4</th>\n",
       "      <td>2500</td>\n",
       "      <td>2500</td>\n",
       "      <td>2500.0</td>\n",
       "      <td>36 months</td>\n",
       "      <td>0.1356</td>\n",
       "      <td>84.92</td>\n",
       "      <td>C</td>\n",
       "      <td>C1</td>\n",
       "      <td>Chef</td>\n",
       "      <td>10+ years</td>\n",
       "      <td>RENT</td>\n",
       "      <td>55000.0</td>\n",
       "      <td>Not Verified</td>\n",
       "      <td>Dec-18</td>\n",
       "      <td>Current</td>\n",
       "      <td>n</td>\n",
       "      <td>debt_consolidation</td>\n",
       "    </tr>\n",
       "    <tr>\n",
       "      <th>6</th>\n",
       "      <td>23000</td>\n",
       "      <td>23000</td>\n",
       "      <td>23000.0</td>\n",
       "      <td>60 months</td>\n",
       "      <td>0.2089</td>\n",
       "      <td>620.81</td>\n",
       "      <td>D</td>\n",
       "      <td>D4</td>\n",
       "      <td>Operator</td>\n",
       "      <td>5 years</td>\n",
       "      <td>RENT</td>\n",
       "      <td>68107.0</td>\n",
       "      <td>Source Verified</td>\n",
       "      <td>Dec-18</td>\n",
       "      <td>Current</td>\n",
       "      <td>n</td>\n",
       "      <td>debt_consolidation</td>\n",
       "    </tr>\n",
       "  </tbody>\n",
       "</table>\n",
       "</div>"
      ],
      "text/plain": [
       "   loan_amnt  funded_amnt  funded_amnt_inv       term  int_rate  installment  \\\n",
       "0      10000        10000          10000.0  36 months    0.1033       324.23   \n",
       "2       5000         5000           5000.0  36 months    0.1797       180.69   \n",
       "4       2500         2500           2500.0  36 months    0.1356        84.92   \n",
       "6      23000        23000          23000.0  60 months    0.2089       620.81   \n",
       "\n",
       "  grade sub_grade       emp_title emp_length home_ownership  annual_inc  \\\n",
       "0     B        B1             NaN   < 1 year       MORTGAGE    280000.0   \n",
       "2     D        D1  Administrative    6 years       MORTGAGE     59280.0   \n",
       "4     C        C1            Chef  10+ years           RENT     55000.0   \n",
       "6     D        D4        Operator    5 years           RENT     68107.0   \n",
       "\n",
       "  verification_status issue_d loan_status pymnt_plan             purpose  \n",
       "0        Not Verified  Dec-18     Current          n  debt_consolidation  \n",
       "2     Source Verified  Dec-18     Current          n  debt_consolidation  \n",
       "4        Not Verified  Dec-18     Current          n  debt_consolidation  \n",
       "6     Source Verified  Dec-18     Current          n  debt_consolidation  "
      ]
     },
     "execution_count": 6,
     "metadata": {},
     "output_type": "execute_result"
    }
   ],
   "source": [
    "# Use iloc to find specific records\n",
    "loans_csv.iloc[[0, 2, 4, 6]]"
   ]
  },
  {
   "cell_type": "markdown",
   "metadata": {},
   "source": [
    "### Filter Columns and Create Subset DataFrame"
   ]
  },
  {
   "cell_type": "code",
   "execution_count": 7,
   "metadata": {},
   "outputs": [
    {
     "data": {
      "text/html": [
       "<div>\n",
       "<style scoped>\n",
       "    .dataframe tbody tr th:only-of-type {\n",
       "        vertical-align: middle;\n",
       "    }\n",
       "\n",
       "    .dataframe tbody tr th {\n",
       "        vertical-align: top;\n",
       "    }\n",
       "\n",
       "    .dataframe thead th {\n",
       "        text-align: right;\n",
       "    }\n",
       "</style>\n",
       "<table border=\"1\" class=\"dataframe\">\n",
       "  <thead>\n",
       "    <tr style=\"text-align: right;\">\n",
       "      <th></th>\n",
       "      <th>loan_amnt</th>\n",
       "      <th>term</th>\n",
       "      <th>int_rate</th>\n",
       "      <th>purpose</th>\n",
       "    </tr>\n",
       "  </thead>\n",
       "  <tbody>\n",
       "    <tr>\n",
       "      <th>0</th>\n",
       "      <td>10000</td>\n",
       "      <td>36 months</td>\n",
       "      <td>0.1033</td>\n",
       "      <td>debt_consolidation</td>\n",
       "    </tr>\n",
       "    <tr>\n",
       "      <th>1</th>\n",
       "      <td>4000</td>\n",
       "      <td>36 months</td>\n",
       "      <td>0.2340</td>\n",
       "      <td>debt_consolidation</td>\n",
       "    </tr>\n",
       "    <tr>\n",
       "      <th>2</th>\n",
       "      <td>5000</td>\n",
       "      <td>36 months</td>\n",
       "      <td>0.1797</td>\n",
       "      <td>debt_consolidation</td>\n",
       "    </tr>\n",
       "    <tr>\n",
       "      <th>3</th>\n",
       "      <td>9600</td>\n",
       "      <td>36 months</td>\n",
       "      <td>0.1298</td>\n",
       "      <td>home_improvement</td>\n",
       "    </tr>\n",
       "    <tr>\n",
       "      <th>4</th>\n",
       "      <td>2500</td>\n",
       "      <td>36 months</td>\n",
       "      <td>0.1356</td>\n",
       "      <td>debt_consolidation</td>\n",
       "    </tr>\n",
       "    <tr>\n",
       "      <th>...</th>\n",
       "      <td>...</td>\n",
       "      <td>...</td>\n",
       "      <td>...</td>\n",
       "      <td>...</td>\n",
       "    </tr>\n",
       "    <tr>\n",
       "      <th>128407</th>\n",
       "      <td>23000</td>\n",
       "      <td>36 months</td>\n",
       "      <td>0.1502</td>\n",
       "      <td>debt_consolidation</td>\n",
       "    </tr>\n",
       "    <tr>\n",
       "      <th>128408</th>\n",
       "      <td>10000</td>\n",
       "      <td>36 months</td>\n",
       "      <td>0.1502</td>\n",
       "      <td>debt_consolidation</td>\n",
       "    </tr>\n",
       "    <tr>\n",
       "      <th>128409</th>\n",
       "      <td>5000</td>\n",
       "      <td>36 months</td>\n",
       "      <td>0.1356</td>\n",
       "      <td>debt_consolidation</td>\n",
       "    </tr>\n",
       "    <tr>\n",
       "      <th>128410</th>\n",
       "      <td>10000</td>\n",
       "      <td>36 months</td>\n",
       "      <td>0.1106</td>\n",
       "      <td>credit_card</td>\n",
       "    </tr>\n",
       "    <tr>\n",
       "      <th>128411</th>\n",
       "      <td>10000</td>\n",
       "      <td>36 months</td>\n",
       "      <td>0.1691</td>\n",
       "      <td>other</td>\n",
       "    </tr>\n",
       "  </tbody>\n",
       "</table>\n",
       "<p>128412 rows × 4 columns</p>\n",
       "</div>"
      ],
      "text/plain": [
       "        loan_amnt       term  int_rate             purpose\n",
       "0           10000  36 months    0.1033  debt_consolidation\n",
       "1            4000  36 months    0.2340  debt_consolidation\n",
       "2            5000  36 months    0.1797  debt_consolidation\n",
       "3            9600  36 months    0.1298    home_improvement\n",
       "4            2500  36 months    0.1356  debt_consolidation\n",
       "...           ...        ...       ...                 ...\n",
       "128407      23000  36 months    0.1502  debt_consolidation\n",
       "128408      10000  36 months    0.1502  debt_consolidation\n",
       "128409       5000  36 months    0.1356  debt_consolidation\n",
       "128410      10000  36 months    0.1106         credit_card\n",
       "128411      10000  36 months    0.1691               other\n",
       "\n",
       "[128412 rows x 4 columns]"
      ]
     },
     "execution_count": 7,
     "metadata": {},
     "output_type": "execute_result"
    }
   ],
   "source": [
    "# Filter the DataFrame down to the following, keep all rows\n",
    "\n",
    "#loan_amnt\n",
    "#term\n",
    "#int_rate\n",
    "#purpose\n",
    "\n",
    "filtered_df = loans_csv.iloc[:, [0, 3, 4, 16]]\n",
    "filtered_df"
   ]
  },
  {
   "cell_type": "markdown",
   "metadata": {},
   "source": [
    "### Use loc to filter the data where the loan_amount is less than or equal to 5000"
   ]
  },
  {
   "cell_type": "code",
   "execution_count": 8,
   "metadata": {},
   "outputs": [
    {
     "data": {
      "text/html": [
       "<div>\n",
       "<style scoped>\n",
       "    .dataframe tbody tr th:only-of-type {\n",
       "        vertical-align: middle;\n",
       "    }\n",
       "\n",
       "    .dataframe tbody tr th {\n",
       "        vertical-align: top;\n",
       "    }\n",
       "\n",
       "    .dataframe thead th {\n",
       "        text-align: right;\n",
       "    }\n",
       "</style>\n",
       "<table border=\"1\" class=\"dataframe\">\n",
       "  <thead>\n",
       "    <tr style=\"text-align: right;\">\n",
       "      <th></th>\n",
       "      <th>loan_amnt</th>\n",
       "      <th>term</th>\n",
       "      <th>int_rate</th>\n",
       "      <th>purpose</th>\n",
       "    </tr>\n",
       "  </thead>\n",
       "  <tbody>\n",
       "    <tr>\n",
       "      <th>1</th>\n",
       "      <td>4000</td>\n",
       "      <td>36 months</td>\n",
       "      <td>0.2340</td>\n",
       "      <td>debt_consolidation</td>\n",
       "    </tr>\n",
       "    <tr>\n",
       "      <th>2</th>\n",
       "      <td>5000</td>\n",
       "      <td>36 months</td>\n",
       "      <td>0.1797</td>\n",
       "      <td>debt_consolidation</td>\n",
       "    </tr>\n",
       "    <tr>\n",
       "      <th>4</th>\n",
       "      <td>2500</td>\n",
       "      <td>36 months</td>\n",
       "      <td>0.1356</td>\n",
       "      <td>debt_consolidation</td>\n",
       "    </tr>\n",
       "    <tr>\n",
       "      <th>16</th>\n",
       "      <td>3500</td>\n",
       "      <td>36 months</td>\n",
       "      <td>0.2089</td>\n",
       "      <td>car</td>\n",
       "    </tr>\n",
       "    <tr>\n",
       "      <th>28</th>\n",
       "      <td>4000</td>\n",
       "      <td>36 months</td>\n",
       "      <td>0.1894</td>\n",
       "      <td>major_purchase</td>\n",
       "    </tr>\n",
       "  </tbody>\n",
       "</table>\n",
       "</div>"
      ],
      "text/plain": [
       "    loan_amnt       term  int_rate             purpose\n",
       "1        4000  36 months    0.2340  debt_consolidation\n",
       "2        5000  36 months    0.1797  debt_consolidation\n",
       "4        2500  36 months    0.1356  debt_consolidation\n",
       "16       3500  36 months    0.2089                 car\n",
       "28       4000  36 months    0.1894      major_purchase"
      ]
     },
     "execution_count": 8,
     "metadata": {},
     "output_type": "execute_result"
    }
   ],
   "source": [
    "# Create a new dataframe filtering down to only loan amounts less than\n",
    "# or equal to 5000\n",
    "small_loan_size_df = filtered_df.loc[filtered_df['loan_amnt'] <= 5000].copy()\n",
    "small_loan_size_df.head()"
   ]
  },
  {
   "cell_type": "code",
   "execution_count": 9,
   "metadata": {},
   "outputs": [
    {
     "data": {
      "text/html": [
       "<div>\n",
       "<style scoped>\n",
       "    .dataframe tbody tr th:only-of-type {\n",
       "        vertical-align: middle;\n",
       "    }\n",
       "\n",
       "    .dataframe tbody tr th {\n",
       "        vertical-align: top;\n",
       "    }\n",
       "\n",
       "    .dataframe thead th {\n",
       "        text-align: right;\n",
       "    }\n",
       "</style>\n",
       "<table border=\"1\" class=\"dataframe\">\n",
       "  <thead>\n",
       "    <tr style=\"text-align: right;\">\n",
       "      <th></th>\n",
       "      <th>loan_amnt</th>\n",
       "      <th>term</th>\n",
       "      <th>int_rate</th>\n",
       "      <th>purpose</th>\n",
       "    </tr>\n",
       "  </thead>\n",
       "  <tbody>\n",
       "    <tr>\n",
       "      <th>count</th>\n",
       "      <td>17723.000000</td>\n",
       "      <td>17723</td>\n",
       "      <td>17723.000000</td>\n",
       "      <td>17723</td>\n",
       "    </tr>\n",
       "    <tr>\n",
       "      <th>unique</th>\n",
       "      <td>NaN</td>\n",
       "      <td>1</td>\n",
       "      <td>NaN</td>\n",
       "      <td>12</td>\n",
       "    </tr>\n",
       "    <tr>\n",
       "      <th>top</th>\n",
       "      <td>NaN</td>\n",
       "      <td>36 months</td>\n",
       "      <td>NaN</td>\n",
       "      <td>debt_consolidation</td>\n",
       "    </tr>\n",
       "    <tr>\n",
       "      <th>freq</th>\n",
       "      <td>NaN</td>\n",
       "      <td>17723</td>\n",
       "      <td>NaN</td>\n",
       "      <td>6787</td>\n",
       "    </tr>\n",
       "    <tr>\n",
       "      <th>mean</th>\n",
       "      <td>3645.921966</td>\n",
       "      <td>NaN</td>\n",
       "      <td>0.135277</td>\n",
       "      <td>NaN</td>\n",
       "    </tr>\n",
       "    <tr>\n",
       "      <th>std</th>\n",
       "      <td>1298.956297</td>\n",
       "      <td>NaN</td>\n",
       "      <td>0.053713</td>\n",
       "      <td>NaN</td>\n",
       "    </tr>\n",
       "    <tr>\n",
       "      <th>min</th>\n",
       "      <td>1000.000000</td>\n",
       "      <td>NaN</td>\n",
       "      <td>0.060000</td>\n",
       "      <td>NaN</td>\n",
       "    </tr>\n",
       "    <tr>\n",
       "      <th>25%</th>\n",
       "      <td>2750.000000</td>\n",
       "      <td>NaN</td>\n",
       "      <td>0.088100</td>\n",
       "      <td>NaN</td>\n",
       "    </tr>\n",
       "    <tr>\n",
       "      <th>50%</th>\n",
       "      <td>4000.000000</td>\n",
       "      <td>NaN</td>\n",
       "      <td>0.127300</td>\n",
       "      <td>NaN</td>\n",
       "    </tr>\n",
       "    <tr>\n",
       "      <th>75%</th>\n",
       "      <td>5000.000000</td>\n",
       "      <td>NaN</td>\n",
       "      <td>0.169100</td>\n",
       "      <td>NaN</td>\n",
       "    </tr>\n",
       "    <tr>\n",
       "      <th>max</th>\n",
       "      <td>5000.000000</td>\n",
       "      <td>NaN</td>\n",
       "      <td>0.308400</td>\n",
       "      <td>NaN</td>\n",
       "    </tr>\n",
       "  </tbody>\n",
       "</table>\n",
       "</div>"
      ],
      "text/plain": [
       "           loan_amnt       term      int_rate             purpose\n",
       "count   17723.000000      17723  17723.000000               17723\n",
       "unique           NaN          1           NaN                  12\n",
       "top              NaN  36 months           NaN  debt_consolidation\n",
       "freq             NaN      17723           NaN                6787\n",
       "mean     3645.921966        NaN      0.135277                 NaN\n",
       "std      1298.956297        NaN      0.053713                 NaN\n",
       "min      1000.000000        NaN      0.060000                 NaN\n",
       "25%      2750.000000        NaN      0.088100                 NaN\n",
       "50%      4000.000000        NaN      0.127300                 NaN\n",
       "75%      5000.000000        NaN      0.169100                 NaN\n",
       "max      5000.000000        NaN      0.308400                 NaN"
      ]
     },
     "execution_count": 9,
     "metadata": {},
     "output_type": "execute_result"
    }
   ],
   "source": [
    "# Describe the summary statistics for all of the values. \n",
    "small_loan_size_df.describe(include='all')"
   ]
  },
  {
   "cell_type": "markdown",
   "metadata": {},
   "source": [
    "### Use loc to Modify Row Values"
   ]
  },
  {
   "cell_type": "code",
   "execution_count": 10,
   "metadata": {},
   "outputs": [
    {
     "data": {
      "text/html": [
       "<div>\n",
       "<style scoped>\n",
       "    .dataframe tbody tr th:only-of-type {\n",
       "        vertical-align: middle;\n",
       "    }\n",
       "\n",
       "    .dataframe tbody tr th {\n",
       "        vertical-align: top;\n",
       "    }\n",
       "\n",
       "    .dataframe thead th {\n",
       "        text-align: right;\n",
       "    }\n",
       "</style>\n",
       "<table border=\"1\" class=\"dataframe\">\n",
       "  <thead>\n",
       "    <tr style=\"text-align: right;\">\n",
       "      <th></th>\n",
       "      <th>loan_amnt</th>\n",
       "      <th>term</th>\n",
       "      <th>int_rate</th>\n",
       "      <th>purpose</th>\n",
       "    </tr>\n",
       "  </thead>\n",
       "  <tbody>\n",
       "    <tr>\n",
       "      <th>1</th>\n",
       "      <td>4000</td>\n",
       "      <td>3 Years</td>\n",
       "      <td>0.2340</td>\n",
       "      <td>debt_consolidation</td>\n",
       "    </tr>\n",
       "    <tr>\n",
       "      <th>2</th>\n",
       "      <td>5000</td>\n",
       "      <td>3 Years</td>\n",
       "      <td>0.1797</td>\n",
       "      <td>debt_consolidation</td>\n",
       "    </tr>\n",
       "    <tr>\n",
       "      <th>4</th>\n",
       "      <td>2500</td>\n",
       "      <td>3 Years</td>\n",
       "      <td>0.1356</td>\n",
       "      <td>debt_consolidation</td>\n",
       "    </tr>\n",
       "    <tr>\n",
       "      <th>16</th>\n",
       "      <td>3500</td>\n",
       "      <td>3 Years</td>\n",
       "      <td>0.2089</td>\n",
       "      <td>car</td>\n",
       "    </tr>\n",
       "    <tr>\n",
       "      <th>28</th>\n",
       "      <td>4000</td>\n",
       "      <td>3 Years</td>\n",
       "      <td>0.1894</td>\n",
       "      <td>major_purchase</td>\n",
       "    </tr>\n",
       "  </tbody>\n",
       "</table>\n",
       "</div>"
      ],
      "text/plain": [
       "    loan_amnt     term  int_rate             purpose\n",
       "1        4000  3 Years    0.2340  debt_consolidation\n",
       "2        5000  3 Years    0.1797  debt_consolidation\n",
       "4        2500  3 Years    0.1356  debt_consolidation\n",
       "16       3500  3 Years    0.2089                 car\n",
       "28       4000  3 Years    0.1894      major_purchase"
      ]
     },
     "execution_count": 10,
     "metadata": {},
     "output_type": "execute_result"
    }
   ],
   "source": [
    "# Change row values within the 'term' column from '36 months' to '3 Years'\n",
    "small_loan_size_df.loc[small_loan_size_df['term'] == '36 months', 'term'] = '3 Years'\n",
    "small_loan_size_df.head()"
   ]
  },
  {
   "cell_type": "markdown",
   "metadata": {},
   "source": [
    "### Show Unique Values for Loan Purpose for Small Loans"
   ]
  },
  {
   "cell_type": "code",
   "execution_count": 11,
   "metadata": {},
   "outputs": [
    {
     "data": {
      "text/plain": [
       "debt_consolidation    6787\n",
       "credit_card           3880\n",
       "other                 2790\n",
       "home_improvement      1528\n",
       "major_purchase         698\n",
       "medical                649\n",
       "vacation               478\n",
       "car                    329\n",
       "moving                 263\n",
       "house                  154\n",
       "small_business         148\n",
       "renewable_energy        19\n",
       "Name: purpose, dtype: int64"
      ]
     },
     "execution_count": 11,
     "metadata": {},
     "output_type": "execute_result"
    }
   ],
   "source": [
    "# Calculate unique values and counts for the purpose of the smaller 3 year customer loans\n",
    "small_loan_size_df['purpose'].value_counts()"
   ]
  },
  {
   "cell_type": "markdown",
   "metadata": {},
   "source": [
    "# ================================"
   ]
  },
  {
   "cell_type": "markdown",
   "metadata": {},
   "source": [
    "### 2.02 Student Do: Indexing Loans (15 mins)"
   ]
  },
  {
   "cell_type": "markdown",
   "metadata": {},
   "source": [
    "In this activity, you will access data from a Pandas DataFrame in order to analyze customers who are seeking three-year loans. Review the compilation of loan data, and then filter out the necessary data to generate insights about customers who have been granted three-year loans.\n",
    "\n",
    "## Instructions\n",
    "\n",
    "1. Using the Pandas `read_csv` function and the Path module, read in the `loans.csv` file from the `Resources` folder and create the Pandas DataFrame. Review the first five rows of the resulting DataFrame.\n",
    "\n",
    "2. Using `iloc`, show the first 10 records of the data.\n",
    "\n",
    "3. Generate the summary statistics for all of the `loans.csv` data.\n",
    "\n",
    "4. Using `iloc`, create a subset DataFrame, `filtered_df`, by selecting only the following columns:\n",
    "\n",
    "    * `loan_amnt`\n",
    "    * `term`\n",
    "    * `int_rate`\n",
    "    * `emp_title`\n",
    "    * `annual_inc`\n",
    "    * `purpose`\n",
    "\n",
    "5. Using `loc`, filter `filtered_df` by row values where `term` is equal to `36 months` in order to focus on only three-year loan records.\n",
    "\n",
    "6. Modify rows with `term` values equal to `36 months` to be `3 years`.\n",
    "\n",
    "7. Use the `isnull` and `sum` functions to evaluate the number of missing values in the `term_df` DataFrame. Use the `fillna` function to replace the NaN values with 'Unknown'. Review the first five rows of the new DataFrame.\n",
    "\n",
    "8. Generate the summary statistics for `term_df` after all modifications.\n",
    "\n",
    "9. Use the `value_counts` function on the `emp_title` column of the `term_df` DataFrame to view the unique value counts for employee titles of three-year loan customers.\n",
    "\n",
    "10. Use the `value_counts` function on the `purpose` column of the `term_df` DataFrame to view the unique value counts for loan purposes of three-year loan customers.\n",
    "\n",
    "11. Filter `term_df` by rows with `annual_inc` greater than `80000`. Use the `describe` function to view the mean `int_rate` of three-year loan customers with annual incomes greater than $80,000.\n",
    "\n",
    "12. Filter `term_df` by rows with `annual_inc` less than `80000`. Use the `describe` function to view the average `int_rate` of three-year loan customers with annual incomes less than $80,000.\n",
    "\n",
    "13. Answer the following questions about individuals taking out three-year loans:\n",
    "\n",
    "    * What kind of customers (employee title) seem to ask for three-year loans most frequently?\n",
    "\n",
    "    * What are three-year loans generally used for?\n",
    "\n",
    "    * What is the difference between counts of three-year loan customers with annual incomes greater than 80,000, compared to those with annual incomes less than 80,000?\n",
    "\n",
    "    * What is the difference between interest rates for customers with annual incomes greater than 80,000 compared to those with annual incomes less than 80,000?\n",
    "    \n",
    "## Hint\n",
    "\n",
    "Refer to the [Pandas documentation](https://pandas.pydata.org/pandas-docs/stable/) for additional explanations about using specific functions."
   ]
  },
  {
   "cell_type": "code",
   "execution_count": 12,
   "metadata": {},
   "outputs": [],
   "source": [
    "# Import libraries and dependencies\n",
    "import pandas as pd\n",
    "from pathlib import Path"
   ]
  },
  {
   "cell_type": "markdown",
   "metadata": {},
   "source": [
    "## Using the Pandas `read_csv` function and the Path module, read in in the `loans.csv` file and create the Pandas DataFrame. Review the first five rows of the resulting DataFrame."
   ]
  },
  {
   "cell_type": "code",
   "execution_count": 13,
   "metadata": {},
   "outputs": [
    {
     "data": {
      "text/html": [
       "<div>\n",
       "<style scoped>\n",
       "    .dataframe tbody tr th:only-of-type {\n",
       "        vertical-align: middle;\n",
       "    }\n",
       "\n",
       "    .dataframe tbody tr th {\n",
       "        vertical-align: top;\n",
       "    }\n",
       "\n",
       "    .dataframe thead th {\n",
       "        text-align: right;\n",
       "    }\n",
       "</style>\n",
       "<table border=\"1\" class=\"dataframe\">\n",
       "  <thead>\n",
       "    <tr style=\"text-align: right;\">\n",
       "      <th></th>\n",
       "      <th>loan_amnt</th>\n",
       "      <th>funded_amnt</th>\n",
       "      <th>funded_amnt_inv</th>\n",
       "      <th>term</th>\n",
       "      <th>int_rate</th>\n",
       "      <th>installment</th>\n",
       "      <th>grade</th>\n",
       "      <th>sub_grade</th>\n",
       "      <th>emp_title</th>\n",
       "      <th>emp_length</th>\n",
       "      <th>home_ownership</th>\n",
       "      <th>annual_inc</th>\n",
       "      <th>verification_status</th>\n",
       "      <th>issue_d</th>\n",
       "      <th>loan_status</th>\n",
       "      <th>pymnt_plan</th>\n",
       "      <th>purpose</th>\n",
       "    </tr>\n",
       "  </thead>\n",
       "  <tbody>\n",
       "    <tr>\n",
       "      <th>0</th>\n",
       "      <td>10000</td>\n",
       "      <td>10000</td>\n",
       "      <td>10000.0</td>\n",
       "      <td>36 months</td>\n",
       "      <td>0.1033</td>\n",
       "      <td>324.23</td>\n",
       "      <td>B</td>\n",
       "      <td>B1</td>\n",
       "      <td>NaN</td>\n",
       "      <td>&lt; 1 year</td>\n",
       "      <td>MORTGAGE</td>\n",
       "      <td>280000.0</td>\n",
       "      <td>Not Verified</td>\n",
       "      <td>Dec-18</td>\n",
       "      <td>Current</td>\n",
       "      <td>n</td>\n",
       "      <td>debt_consolidation</td>\n",
       "    </tr>\n",
       "    <tr>\n",
       "      <th>1</th>\n",
       "      <td>4000</td>\n",
       "      <td>4000</td>\n",
       "      <td>4000.0</td>\n",
       "      <td>36 months</td>\n",
       "      <td>0.2340</td>\n",
       "      <td>155.68</td>\n",
       "      <td>E</td>\n",
       "      <td>E1</td>\n",
       "      <td>Security</td>\n",
       "      <td>3 years</td>\n",
       "      <td>RENT</td>\n",
       "      <td>90000.0</td>\n",
       "      <td>Source Verified</td>\n",
       "      <td>Dec-18</td>\n",
       "      <td>Current</td>\n",
       "      <td>n</td>\n",
       "      <td>debt_consolidation</td>\n",
       "    </tr>\n",
       "    <tr>\n",
       "      <th>2</th>\n",
       "      <td>5000</td>\n",
       "      <td>5000</td>\n",
       "      <td>5000.0</td>\n",
       "      <td>36 months</td>\n",
       "      <td>0.1797</td>\n",
       "      <td>180.69</td>\n",
       "      <td>D</td>\n",
       "      <td>D1</td>\n",
       "      <td>Administrative</td>\n",
       "      <td>6 years</td>\n",
       "      <td>MORTGAGE</td>\n",
       "      <td>59280.0</td>\n",
       "      <td>Source Verified</td>\n",
       "      <td>Dec-18</td>\n",
       "      <td>Current</td>\n",
       "      <td>n</td>\n",
       "      <td>debt_consolidation</td>\n",
       "    </tr>\n",
       "    <tr>\n",
       "      <th>3</th>\n",
       "      <td>9600</td>\n",
       "      <td>9600</td>\n",
       "      <td>9600.0</td>\n",
       "      <td>36 months</td>\n",
       "      <td>0.1298</td>\n",
       "      <td>323.37</td>\n",
       "      <td>B</td>\n",
       "      <td>B5</td>\n",
       "      <td>NaN</td>\n",
       "      <td>NaN</td>\n",
       "      <td>MORTGAGE</td>\n",
       "      <td>35704.0</td>\n",
       "      <td>Not Verified</td>\n",
       "      <td>Dec-18</td>\n",
       "      <td>Current</td>\n",
       "      <td>n</td>\n",
       "      <td>home_improvement</td>\n",
       "    </tr>\n",
       "    <tr>\n",
       "      <th>4</th>\n",
       "      <td>2500</td>\n",
       "      <td>2500</td>\n",
       "      <td>2500.0</td>\n",
       "      <td>36 months</td>\n",
       "      <td>0.1356</td>\n",
       "      <td>84.92</td>\n",
       "      <td>C</td>\n",
       "      <td>C1</td>\n",
       "      <td>Chef</td>\n",
       "      <td>10+ years</td>\n",
       "      <td>RENT</td>\n",
       "      <td>55000.0</td>\n",
       "      <td>Not Verified</td>\n",
       "      <td>Dec-18</td>\n",
       "      <td>Current</td>\n",
       "      <td>n</td>\n",
       "      <td>debt_consolidation</td>\n",
       "    </tr>\n",
       "  </tbody>\n",
       "</table>\n",
       "</div>"
      ],
      "text/plain": [
       "   loan_amnt  funded_amnt  funded_amnt_inv       term  int_rate  installment  \\\n",
       "0      10000        10000          10000.0  36 months    0.1033       324.23   \n",
       "1       4000         4000           4000.0  36 months    0.2340       155.68   \n",
       "2       5000         5000           5000.0  36 months    0.1797       180.69   \n",
       "3       9600         9600           9600.0  36 months    0.1298       323.37   \n",
       "4       2500         2500           2500.0  36 months    0.1356        84.92   \n",
       "\n",
       "  grade sub_grade       emp_title emp_length home_ownership  annual_inc  \\\n",
       "0     B        B1             NaN   < 1 year       MORTGAGE    280000.0   \n",
       "1     E        E1        Security    3 years           RENT     90000.0   \n",
       "2     D        D1  Administrative    6 years       MORTGAGE     59280.0   \n",
       "3     B        B5             NaN        NaN       MORTGAGE     35704.0   \n",
       "4     C        C1            Chef  10+ years           RENT     55000.0   \n",
       "\n",
       "  verification_status issue_d loan_status pymnt_plan             purpose  \n",
       "0        Not Verified  Dec-18     Current          n  debt_consolidation  \n",
       "1     Source Verified  Dec-18     Current          n  debt_consolidation  \n",
       "2     Source Verified  Dec-18     Current          n  debt_consolidation  \n",
       "3        Not Verified  Dec-18     Current          n    home_improvement  \n",
       "4        Not Verified  Dec-18     Current          n  debt_consolidation  "
      ]
     },
     "execution_count": 13,
     "metadata": {},
     "output_type": "execute_result"
    }
   ],
   "source": [
    "# Read in the CSV as a DataFrame\n",
    "csv_file = '02-Stu_Indexing_Loans/Resources/loans.csv'\n",
    "\n",
    "# Review the first five rows of the DataFrame\n"
   ]
  },
  {
   "cell_type": "markdown",
   "metadata": {},
   "source": [
    "## Using the `iloc[]` function, show the first `10` records of the data."
   ]
  },
  {
   "cell_type": "code",
   "execution_count": 14,
   "metadata": {},
   "outputs": [
    {
     "data": {
      "text/html": [
       "<div>\n",
       "<style scoped>\n",
       "    .dataframe tbody tr th:only-of-type {\n",
       "        vertical-align: middle;\n",
       "    }\n",
       "\n",
       "    .dataframe tbody tr th {\n",
       "        vertical-align: top;\n",
       "    }\n",
       "\n",
       "    .dataframe thead th {\n",
       "        text-align: right;\n",
       "    }\n",
       "</style>\n",
       "<table border=\"1\" class=\"dataframe\">\n",
       "  <thead>\n",
       "    <tr style=\"text-align: right;\">\n",
       "      <th></th>\n",
       "      <th>loan_amnt</th>\n",
       "      <th>funded_amnt</th>\n",
       "      <th>funded_amnt_inv</th>\n",
       "      <th>term</th>\n",
       "      <th>int_rate</th>\n",
       "      <th>installment</th>\n",
       "      <th>grade</th>\n",
       "      <th>sub_grade</th>\n",
       "      <th>emp_title</th>\n",
       "      <th>emp_length</th>\n",
       "      <th>home_ownership</th>\n",
       "      <th>annual_inc</th>\n",
       "      <th>verification_status</th>\n",
       "      <th>issue_d</th>\n",
       "      <th>loan_status</th>\n",
       "      <th>pymnt_plan</th>\n",
       "      <th>purpose</th>\n",
       "    </tr>\n",
       "  </thead>\n",
       "  <tbody>\n",
       "    <tr>\n",
       "      <th>0</th>\n",
       "      <td>10000</td>\n",
       "      <td>10000</td>\n",
       "      <td>10000.0</td>\n",
       "      <td>36 months</td>\n",
       "      <td>0.1033</td>\n",
       "      <td>324.23</td>\n",
       "      <td>B</td>\n",
       "      <td>B1</td>\n",
       "      <td>NaN</td>\n",
       "      <td>&lt; 1 year</td>\n",
       "      <td>MORTGAGE</td>\n",
       "      <td>280000.0</td>\n",
       "      <td>Not Verified</td>\n",
       "      <td>Dec-18</td>\n",
       "      <td>Current</td>\n",
       "      <td>n</td>\n",
       "      <td>debt_consolidation</td>\n",
       "    </tr>\n",
       "    <tr>\n",
       "      <th>1</th>\n",
       "      <td>4000</td>\n",
       "      <td>4000</td>\n",
       "      <td>4000.0</td>\n",
       "      <td>36 months</td>\n",
       "      <td>0.2340</td>\n",
       "      <td>155.68</td>\n",
       "      <td>E</td>\n",
       "      <td>E1</td>\n",
       "      <td>Security</td>\n",
       "      <td>3 years</td>\n",
       "      <td>RENT</td>\n",
       "      <td>90000.0</td>\n",
       "      <td>Source Verified</td>\n",
       "      <td>Dec-18</td>\n",
       "      <td>Current</td>\n",
       "      <td>n</td>\n",
       "      <td>debt_consolidation</td>\n",
       "    </tr>\n",
       "    <tr>\n",
       "      <th>2</th>\n",
       "      <td>5000</td>\n",
       "      <td>5000</td>\n",
       "      <td>5000.0</td>\n",
       "      <td>36 months</td>\n",
       "      <td>0.1797</td>\n",
       "      <td>180.69</td>\n",
       "      <td>D</td>\n",
       "      <td>D1</td>\n",
       "      <td>Administrative</td>\n",
       "      <td>6 years</td>\n",
       "      <td>MORTGAGE</td>\n",
       "      <td>59280.0</td>\n",
       "      <td>Source Verified</td>\n",
       "      <td>Dec-18</td>\n",
       "      <td>Current</td>\n",
       "      <td>n</td>\n",
       "      <td>debt_consolidation</td>\n",
       "    </tr>\n",
       "    <tr>\n",
       "      <th>3</th>\n",
       "      <td>9600</td>\n",
       "      <td>9600</td>\n",
       "      <td>9600.0</td>\n",
       "      <td>36 months</td>\n",
       "      <td>0.1298</td>\n",
       "      <td>323.37</td>\n",
       "      <td>B</td>\n",
       "      <td>B5</td>\n",
       "      <td>NaN</td>\n",
       "      <td>NaN</td>\n",
       "      <td>MORTGAGE</td>\n",
       "      <td>35704.0</td>\n",
       "      <td>Not Verified</td>\n",
       "      <td>Dec-18</td>\n",
       "      <td>Current</td>\n",
       "      <td>n</td>\n",
       "      <td>home_improvement</td>\n",
       "    </tr>\n",
       "    <tr>\n",
       "      <th>4</th>\n",
       "      <td>2500</td>\n",
       "      <td>2500</td>\n",
       "      <td>2500.0</td>\n",
       "      <td>36 months</td>\n",
       "      <td>0.1356</td>\n",
       "      <td>84.92</td>\n",
       "      <td>C</td>\n",
       "      <td>C1</td>\n",
       "      <td>Chef</td>\n",
       "      <td>10+ years</td>\n",
       "      <td>RENT</td>\n",
       "      <td>55000.0</td>\n",
       "      <td>Not Verified</td>\n",
       "      <td>Dec-18</td>\n",
       "      <td>Current</td>\n",
       "      <td>n</td>\n",
       "      <td>debt_consolidation</td>\n",
       "    </tr>\n",
       "    <tr>\n",
       "      <th>5</th>\n",
       "      <td>30000</td>\n",
       "      <td>30000</td>\n",
       "      <td>30000.0</td>\n",
       "      <td>60 months</td>\n",
       "      <td>0.1894</td>\n",
       "      <td>777.23</td>\n",
       "      <td>D</td>\n",
       "      <td>D2</td>\n",
       "      <td>Postmaster</td>\n",
       "      <td>10+ years</td>\n",
       "      <td>MORTGAGE</td>\n",
       "      <td>90000.0</td>\n",
       "      <td>Source Verified</td>\n",
       "      <td>Dec-18</td>\n",
       "      <td>Current</td>\n",
       "      <td>n</td>\n",
       "      <td>debt_consolidation</td>\n",
       "    </tr>\n",
       "    <tr>\n",
       "      <th>6</th>\n",
       "      <td>23000</td>\n",
       "      <td>23000</td>\n",
       "      <td>23000.0</td>\n",
       "      <td>60 months</td>\n",
       "      <td>0.2089</td>\n",
       "      <td>620.81</td>\n",
       "      <td>D</td>\n",
       "      <td>D4</td>\n",
       "      <td>Operator</td>\n",
       "      <td>5 years</td>\n",
       "      <td>RENT</td>\n",
       "      <td>68107.0</td>\n",
       "      <td>Source Verified</td>\n",
       "      <td>Dec-18</td>\n",
       "      <td>Current</td>\n",
       "      <td>n</td>\n",
       "      <td>debt_consolidation</td>\n",
       "    </tr>\n",
       "    <tr>\n",
       "      <th>7</th>\n",
       "      <td>32075</td>\n",
       "      <td>32075</td>\n",
       "      <td>32075.0</td>\n",
       "      <td>60 months</td>\n",
       "      <td>0.1180</td>\n",
       "      <td>710.26</td>\n",
       "      <td>B</td>\n",
       "      <td>B4</td>\n",
       "      <td>Nursing Supervisor</td>\n",
       "      <td>10+ years</td>\n",
       "      <td>MORTGAGE</td>\n",
       "      <td>150000.0</td>\n",
       "      <td>Not Verified</td>\n",
       "      <td>Dec-18</td>\n",
       "      <td>Current</td>\n",
       "      <td>n</td>\n",
       "      <td>credit_card</td>\n",
       "    </tr>\n",
       "    <tr>\n",
       "      <th>8</th>\n",
       "      <td>8000</td>\n",
       "      <td>8000</td>\n",
       "      <td>8000.0</td>\n",
       "      <td>36 months</td>\n",
       "      <td>0.2340</td>\n",
       "      <td>311.35</td>\n",
       "      <td>E</td>\n",
       "      <td>E1</td>\n",
       "      <td>Manager</td>\n",
       "      <td>10+ years</td>\n",
       "      <td>OWN</td>\n",
       "      <td>43000.0</td>\n",
       "      <td>Source Verified</td>\n",
       "      <td>Dec-18</td>\n",
       "      <td>Current</td>\n",
       "      <td>n</td>\n",
       "      <td>debt_consolidation</td>\n",
       "    </tr>\n",
       "    <tr>\n",
       "      <th>9</th>\n",
       "      <td>10000</td>\n",
       "      <td>10000</td>\n",
       "      <td>10000.0</td>\n",
       "      <td>60 months</td>\n",
       "      <td>0.1992</td>\n",
       "      <td>264.50</td>\n",
       "      <td>D</td>\n",
       "      <td>D3</td>\n",
       "      <td>Material Handler</td>\n",
       "      <td>10+ years</td>\n",
       "      <td>MORTGAGE</td>\n",
       "      <td>80000.0</td>\n",
       "      <td>Not Verified</td>\n",
       "      <td>Dec-18</td>\n",
       "      <td>Current</td>\n",
       "      <td>n</td>\n",
       "      <td>debt_consolidation</td>\n",
       "    </tr>\n",
       "  </tbody>\n",
       "</table>\n",
       "</div>"
      ],
      "text/plain": [
       "   loan_amnt  funded_amnt  funded_amnt_inv       term  int_rate  installment  \\\n",
       "0      10000        10000          10000.0  36 months    0.1033       324.23   \n",
       "1       4000         4000           4000.0  36 months    0.2340       155.68   \n",
       "2       5000         5000           5000.0  36 months    0.1797       180.69   \n",
       "3       9600         9600           9600.0  36 months    0.1298       323.37   \n",
       "4       2500         2500           2500.0  36 months    0.1356        84.92   \n",
       "5      30000        30000          30000.0  60 months    0.1894       777.23   \n",
       "6      23000        23000          23000.0  60 months    0.2089       620.81   \n",
       "7      32075        32075          32075.0  60 months    0.1180       710.26   \n",
       "8       8000         8000           8000.0  36 months    0.2340       311.35   \n",
       "9      10000        10000          10000.0  60 months    0.1992       264.50   \n",
       "\n",
       "  grade sub_grade           emp_title emp_length home_ownership  annual_inc  \\\n",
       "0     B        B1                 NaN   < 1 year       MORTGAGE    280000.0   \n",
       "1     E        E1            Security    3 years           RENT     90000.0   \n",
       "2     D        D1      Administrative    6 years       MORTGAGE     59280.0   \n",
       "3     B        B5                 NaN        NaN       MORTGAGE     35704.0   \n",
       "4     C        C1                Chef  10+ years           RENT     55000.0   \n",
       "5     D        D2         Postmaster   10+ years       MORTGAGE     90000.0   \n",
       "6     D        D4            Operator    5 years           RENT     68107.0   \n",
       "7     B        B4  Nursing Supervisor  10+ years       MORTGAGE    150000.0   \n",
       "8     E        E1             Manager  10+ years            OWN     43000.0   \n",
       "9     D        D3    Material Handler  10+ years       MORTGAGE     80000.0   \n",
       "\n",
       "  verification_status issue_d loan_status pymnt_plan             purpose  \n",
       "0        Not Verified  Dec-18     Current          n  debt_consolidation  \n",
       "1     Source Verified  Dec-18     Current          n  debt_consolidation  \n",
       "2     Source Verified  Dec-18     Current          n  debt_consolidation  \n",
       "3        Not Verified  Dec-18     Current          n    home_improvement  \n",
       "4        Not Verified  Dec-18     Current          n  debt_consolidation  \n",
       "5     Source Verified  Dec-18     Current          n  debt_consolidation  \n",
       "6     Source Verified  Dec-18     Current          n  debt_consolidation  \n",
       "7        Not Verified  Dec-18     Current          n         credit_card  \n",
       "8     Source Verified  Dec-18     Current          n  debt_consolidation  \n",
       "9        Not Verified  Dec-18     Current          n  debt_consolidation  "
      ]
     },
     "execution_count": 14,
     "metadata": {},
     "output_type": "execute_result"
    }
   ],
   "source": [
    "# Retrieve rows with index 0 up to 10 (not including)\n"
   ]
  },
  {
   "cell_type": "markdown",
   "metadata": {},
   "source": [
    "## Generate the summary statistics for all of the `loans_df` DataFrame."
   ]
  },
  {
   "cell_type": "code",
   "execution_count": 15,
   "metadata": {},
   "outputs": [
    {
     "data": {
      "text/html": [
       "<div>\n",
       "<style scoped>\n",
       "    .dataframe tbody tr th:only-of-type {\n",
       "        vertical-align: middle;\n",
       "    }\n",
       "\n",
       "    .dataframe tbody tr th {\n",
       "        vertical-align: top;\n",
       "    }\n",
       "\n",
       "    .dataframe thead th {\n",
       "        text-align: right;\n",
       "    }\n",
       "</style>\n",
       "<table border=\"1\" class=\"dataframe\">\n",
       "  <thead>\n",
       "    <tr style=\"text-align: right;\">\n",
       "      <th></th>\n",
       "      <th>loan_amnt</th>\n",
       "      <th>funded_amnt</th>\n",
       "      <th>funded_amnt_inv</th>\n",
       "      <th>term</th>\n",
       "      <th>int_rate</th>\n",
       "      <th>installment</th>\n",
       "      <th>grade</th>\n",
       "      <th>sub_grade</th>\n",
       "      <th>emp_title</th>\n",
       "      <th>emp_length</th>\n",
       "      <th>home_ownership</th>\n",
       "      <th>annual_inc</th>\n",
       "      <th>verification_status</th>\n",
       "      <th>issue_d</th>\n",
       "      <th>loan_status</th>\n",
       "      <th>pymnt_plan</th>\n",
       "      <th>purpose</th>\n",
       "    </tr>\n",
       "  </thead>\n",
       "  <tbody>\n",
       "    <tr>\n",
       "      <th>count</th>\n",
       "      <td>128412.000000</td>\n",
       "      <td>128412.000000</td>\n",
       "      <td>128412.000000</td>\n",
       "      <td>128412</td>\n",
       "      <td>128412.000000</td>\n",
       "      <td>128412.000000</td>\n",
       "      <td>128412</td>\n",
       "      <td>128412</td>\n",
       "      <td>107465</td>\n",
       "      <td>116708</td>\n",
       "      <td>128412</td>\n",
       "      <td>1.284120e+05</td>\n",
       "      <td>128412</td>\n",
       "      <td>128412</td>\n",
       "      <td>128412</td>\n",
       "      <td>128412</td>\n",
       "      <td>128412</td>\n",
       "    </tr>\n",
       "    <tr>\n",
       "      <th>unique</th>\n",
       "      <td>NaN</td>\n",
       "      <td>NaN</td>\n",
       "      <td>NaN</td>\n",
       "      <td>2</td>\n",
       "      <td>NaN</td>\n",
       "      <td>NaN</td>\n",
       "      <td>7</td>\n",
       "      <td>35</td>\n",
       "      <td>43892</td>\n",
       "      <td>11</td>\n",
       "      <td>4</td>\n",
       "      <td>NaN</td>\n",
       "      <td>3</td>\n",
       "      <td>3</td>\n",
       "      <td>7</td>\n",
       "      <td>1</td>\n",
       "      <td>12</td>\n",
       "    </tr>\n",
       "    <tr>\n",
       "      <th>top</th>\n",
       "      <td>NaN</td>\n",
       "      <td>NaN</td>\n",
       "      <td>NaN</td>\n",
       "      <td>36 months</td>\n",
       "      <td>NaN</td>\n",
       "      <td>NaN</td>\n",
       "      <td>A</td>\n",
       "      <td>A4</td>\n",
       "      <td>Teacher</td>\n",
       "      <td>10+ years</td>\n",
       "      <td>MORTGAGE</td>\n",
       "      <td>NaN</td>\n",
       "      <td>Not Verified</td>\n",
       "      <td>Oct-18</td>\n",
       "      <td>Current</td>\n",
       "      <td>n</td>\n",
       "      <td>debt_consolidation</td>\n",
       "    </tr>\n",
       "    <tr>\n",
       "      <th>freq</th>\n",
       "      <td>NaN</td>\n",
       "      <td>NaN</td>\n",
       "      <td>NaN</td>\n",
       "      <td>88179</td>\n",
       "      <td>NaN</td>\n",
       "      <td>NaN</td>\n",
       "      <td>38011</td>\n",
       "      <td>9770</td>\n",
       "      <td>2090</td>\n",
       "      <td>38826</td>\n",
       "      <td>63490</td>\n",
       "      <td>NaN</td>\n",
       "      <td>58350</td>\n",
       "      <td>46305</td>\n",
       "      <td>119540</td>\n",
       "      <td>128412</td>\n",
       "      <td>70603</td>\n",
       "    </tr>\n",
       "    <tr>\n",
       "      <th>mean</th>\n",
       "      <td>15971.321021</td>\n",
       "      <td>15971.321021</td>\n",
       "      <td>15968.498166</td>\n",
       "      <td>NaN</td>\n",
       "      <td>0.129302</td>\n",
       "      <td>463.259353</td>\n",
       "      <td>NaN</td>\n",
       "      <td>NaN</td>\n",
       "      <td>NaN</td>\n",
       "      <td>NaN</td>\n",
       "      <td>NaN</td>\n",
       "      <td>8.279733e+04</td>\n",
       "      <td>NaN</td>\n",
       "      <td>NaN</td>\n",
       "      <td>NaN</td>\n",
       "      <td>NaN</td>\n",
       "      <td>NaN</td>\n",
       "    </tr>\n",
       "    <tr>\n",
       "      <th>std</th>\n",
       "      <td>10150.384233</td>\n",
       "      <td>10150.384233</td>\n",
       "      <td>10152.168970</td>\n",
       "      <td>NaN</td>\n",
       "      <td>0.050904</td>\n",
       "      <td>285.718256</td>\n",
       "      <td>NaN</td>\n",
       "      <td>NaN</td>\n",
       "      <td>NaN</td>\n",
       "      <td>NaN</td>\n",
       "      <td>NaN</td>\n",
       "      <td>1.082985e+05</td>\n",
       "      <td>NaN</td>\n",
       "      <td>NaN</td>\n",
       "      <td>NaN</td>\n",
       "      <td>NaN</td>\n",
       "      <td>NaN</td>\n",
       "    </tr>\n",
       "    <tr>\n",
       "      <th>min</th>\n",
       "      <td>1000.000000</td>\n",
       "      <td>1000.000000</td>\n",
       "      <td>725.000000</td>\n",
       "      <td>NaN</td>\n",
       "      <td>0.060000</td>\n",
       "      <td>30.480000</td>\n",
       "      <td>NaN</td>\n",
       "      <td>NaN</td>\n",
       "      <td>NaN</td>\n",
       "      <td>NaN</td>\n",
       "      <td>NaN</td>\n",
       "      <td>0.000000e+00</td>\n",
       "      <td>NaN</td>\n",
       "      <td>NaN</td>\n",
       "      <td>NaN</td>\n",
       "      <td>NaN</td>\n",
       "      <td>NaN</td>\n",
       "    </tr>\n",
       "    <tr>\n",
       "      <th>25%</th>\n",
       "      <td>8000.000000</td>\n",
       "      <td>8000.000000</td>\n",
       "      <td>8000.000000</td>\n",
       "      <td>NaN</td>\n",
       "      <td>0.084600</td>\n",
       "      <td>253.630000</td>\n",
       "      <td>NaN</td>\n",
       "      <td>NaN</td>\n",
       "      <td>NaN</td>\n",
       "      <td>NaN</td>\n",
       "      <td>NaN</td>\n",
       "      <td>4.705800e+04</td>\n",
       "      <td>NaN</td>\n",
       "      <td>NaN</td>\n",
       "      <td>NaN</td>\n",
       "      <td>NaN</td>\n",
       "      <td>NaN</td>\n",
       "    </tr>\n",
       "    <tr>\n",
       "      <th>50%</th>\n",
       "      <td>14000.000000</td>\n",
       "      <td>14000.000000</td>\n",
       "      <td>14000.000000</td>\n",
       "      <td>NaN</td>\n",
       "      <td>0.118000</td>\n",
       "      <td>382.905000</td>\n",
       "      <td>NaN</td>\n",
       "      <td>NaN</td>\n",
       "      <td>NaN</td>\n",
       "      <td>NaN</td>\n",
       "      <td>NaN</td>\n",
       "      <td>6.800000e+04</td>\n",
       "      <td>NaN</td>\n",
       "      <td>NaN</td>\n",
       "      <td>NaN</td>\n",
       "      <td>NaN</td>\n",
       "      <td>NaN</td>\n",
       "    </tr>\n",
       "    <tr>\n",
       "      <th>75%</th>\n",
       "      <td>21600.000000</td>\n",
       "      <td>21600.000000</td>\n",
       "      <td>21600.000000</td>\n",
       "      <td>NaN</td>\n",
       "      <td>0.161400</td>\n",
       "      <td>622.680000</td>\n",
       "      <td>NaN</td>\n",
       "      <td>NaN</td>\n",
       "      <td>NaN</td>\n",
       "      <td>NaN</td>\n",
       "      <td>NaN</td>\n",
       "      <td>9.900000e+04</td>\n",
       "      <td>NaN</td>\n",
       "      <td>NaN</td>\n",
       "      <td>NaN</td>\n",
       "      <td>NaN</td>\n",
       "      <td>NaN</td>\n",
       "    </tr>\n",
       "    <tr>\n",
       "      <th>max</th>\n",
       "      <td>40000.000000</td>\n",
       "      <td>40000.000000</td>\n",
       "      <td>40000.000000</td>\n",
       "      <td>NaN</td>\n",
       "      <td>0.309900</td>\n",
       "      <td>1618.240000</td>\n",
       "      <td>NaN</td>\n",
       "      <td>NaN</td>\n",
       "      <td>NaN</td>\n",
       "      <td>NaN</td>\n",
       "      <td>NaN</td>\n",
       "      <td>9.757200e+06</td>\n",
       "      <td>NaN</td>\n",
       "      <td>NaN</td>\n",
       "      <td>NaN</td>\n",
       "      <td>NaN</td>\n",
       "      <td>NaN</td>\n",
       "    </tr>\n",
       "  </tbody>\n",
       "</table>\n",
       "</div>"
      ],
      "text/plain": [
       "            loan_amnt    funded_amnt  funded_amnt_inv       term  \\\n",
       "count   128412.000000  128412.000000    128412.000000     128412   \n",
       "unique            NaN            NaN              NaN          2   \n",
       "top               NaN            NaN              NaN  36 months   \n",
       "freq              NaN            NaN              NaN      88179   \n",
       "mean     15971.321021   15971.321021     15968.498166        NaN   \n",
       "std      10150.384233   10150.384233     10152.168970        NaN   \n",
       "min       1000.000000    1000.000000       725.000000        NaN   \n",
       "25%       8000.000000    8000.000000      8000.000000        NaN   \n",
       "50%      14000.000000   14000.000000     14000.000000        NaN   \n",
       "75%      21600.000000   21600.000000     21600.000000        NaN   \n",
       "max      40000.000000   40000.000000     40000.000000        NaN   \n",
       "\n",
       "             int_rate    installment   grade sub_grade emp_title emp_length  \\\n",
       "count   128412.000000  128412.000000  128412    128412    107465     116708   \n",
       "unique            NaN            NaN       7        35     43892         11   \n",
       "top               NaN            NaN       A        A4   Teacher  10+ years   \n",
       "freq              NaN            NaN   38011      9770      2090      38826   \n",
       "mean         0.129302     463.259353     NaN       NaN       NaN        NaN   \n",
       "std          0.050904     285.718256     NaN       NaN       NaN        NaN   \n",
       "min          0.060000      30.480000     NaN       NaN       NaN        NaN   \n",
       "25%          0.084600     253.630000     NaN       NaN       NaN        NaN   \n",
       "50%          0.118000     382.905000     NaN       NaN       NaN        NaN   \n",
       "75%          0.161400     622.680000     NaN       NaN       NaN        NaN   \n",
       "max          0.309900    1618.240000     NaN       NaN       NaN        NaN   \n",
       "\n",
       "       home_ownership    annual_inc verification_status issue_d loan_status  \\\n",
       "count          128412  1.284120e+05              128412  128412      128412   \n",
       "unique              4           NaN                   3       3           7   \n",
       "top          MORTGAGE           NaN        Not Verified  Oct-18     Current   \n",
       "freq            63490           NaN               58350   46305      119540   \n",
       "mean              NaN  8.279733e+04                 NaN     NaN         NaN   \n",
       "std               NaN  1.082985e+05                 NaN     NaN         NaN   \n",
       "min               NaN  0.000000e+00                 NaN     NaN         NaN   \n",
       "25%               NaN  4.705800e+04                 NaN     NaN         NaN   \n",
       "50%               NaN  6.800000e+04                 NaN     NaN         NaN   \n",
       "75%               NaN  9.900000e+04                 NaN     NaN         NaN   \n",
       "max               NaN  9.757200e+06                 NaN     NaN         NaN   \n",
       "\n",
       "       pymnt_plan             purpose  \n",
       "count      128412              128412  \n",
       "unique          1                  12  \n",
       "top             n  debt_consolidation  \n",
       "freq       128412               70603  \n",
       "mean          NaN                 NaN  \n",
       "std           NaN                 NaN  \n",
       "min           NaN                 NaN  \n",
       "25%           NaN                 NaN  \n",
       "50%           NaN                 NaN  \n",
       "75%           NaN                 NaN  \n",
       "max           NaN                 NaN  "
      ]
     },
     "execution_count": 15,
     "metadata": {},
     "output_type": "execute_result"
    }
   ],
   "source": [
    "# Generate the summary statistics for the DataFrame\n",
    "# Be sure to include all the columns\n"
   ]
  },
  {
   "cell_type": "markdown",
   "metadata": {},
   "source": [
    "## Using `iloc[]`, create a subset DataFrame `filtered_df` by selecting only the following columns:\n",
    "\n",
    "* `loan_amnt`\n",
    "* `term`\n",
    "* `int_rate`\n",
    "* `emp_title`\n",
    "* `annual_inc`\n",
    "* `purpose`"
   ]
  },
  {
   "cell_type": "code",
   "execution_count": 16,
   "metadata": {},
   "outputs": [
    {
     "data": {
      "text/html": [
       "<div>\n",
       "<style scoped>\n",
       "    .dataframe tbody tr th:only-of-type {\n",
       "        vertical-align: middle;\n",
       "    }\n",
       "\n",
       "    .dataframe tbody tr th {\n",
       "        vertical-align: top;\n",
       "    }\n",
       "\n",
       "    .dataframe thead th {\n",
       "        text-align: right;\n",
       "    }\n",
       "</style>\n",
       "<table border=\"1\" class=\"dataframe\">\n",
       "  <thead>\n",
       "    <tr style=\"text-align: right;\">\n",
       "      <th></th>\n",
       "      <th>loan_amnt</th>\n",
       "      <th>term</th>\n",
       "      <th>int_rate</th>\n",
       "      <th>emp_title</th>\n",
       "      <th>annual_inc</th>\n",
       "      <th>purpose</th>\n",
       "    </tr>\n",
       "  </thead>\n",
       "  <tbody>\n",
       "    <tr>\n",
       "      <th>0</th>\n",
       "      <td>10000</td>\n",
       "      <td>36 months</td>\n",
       "      <td>0.1033</td>\n",
       "      <td>NaN</td>\n",
       "      <td>280000.0</td>\n",
       "      <td>debt_consolidation</td>\n",
       "    </tr>\n",
       "    <tr>\n",
       "      <th>1</th>\n",
       "      <td>4000</td>\n",
       "      <td>36 months</td>\n",
       "      <td>0.2340</td>\n",
       "      <td>Security</td>\n",
       "      <td>90000.0</td>\n",
       "      <td>debt_consolidation</td>\n",
       "    </tr>\n",
       "    <tr>\n",
       "      <th>2</th>\n",
       "      <td>5000</td>\n",
       "      <td>36 months</td>\n",
       "      <td>0.1797</td>\n",
       "      <td>Administrative</td>\n",
       "      <td>59280.0</td>\n",
       "      <td>debt_consolidation</td>\n",
       "    </tr>\n",
       "    <tr>\n",
       "      <th>3</th>\n",
       "      <td>9600</td>\n",
       "      <td>36 months</td>\n",
       "      <td>0.1298</td>\n",
       "      <td>NaN</td>\n",
       "      <td>35704.0</td>\n",
       "      <td>home_improvement</td>\n",
       "    </tr>\n",
       "    <tr>\n",
       "      <th>4</th>\n",
       "      <td>2500</td>\n",
       "      <td>36 months</td>\n",
       "      <td>0.1356</td>\n",
       "      <td>Chef</td>\n",
       "      <td>55000.0</td>\n",
       "      <td>debt_consolidation</td>\n",
       "    </tr>\n",
       "  </tbody>\n",
       "</table>\n",
       "</div>"
      ],
      "text/plain": [
       "   loan_amnt       term  int_rate       emp_title  annual_inc  \\\n",
       "0      10000  36 months    0.1033             NaN    280000.0   \n",
       "1       4000  36 months    0.2340        Security     90000.0   \n",
       "2       5000  36 months    0.1797  Administrative     59280.0   \n",
       "3       9600  36 months    0.1298             NaN     35704.0   \n",
       "4       2500  36 months    0.1356            Chef     55000.0   \n",
       "\n",
       "              purpose  \n",
       "0  debt_consolidation  \n",
       "1  debt_consolidation  \n",
       "2  debt_consolidation  \n",
       "3    home_improvement  \n",
       "4  debt_consolidation  "
      ]
     },
     "execution_count": 16,
     "metadata": {},
     "output_type": "execute_result"
    }
   ],
   "source": [
    "# Using the `iloc` function, create a DataFrame that consists of all rows of the columns:\n",
    "# loan_amnt, term, int_rate, emp_title, annual_inc and purpose\n",
    "\n",
    "\n",
    "# Review the first five rows of the filtered DataFrame\n"
   ]
  },
  {
   "cell_type": "markdown",
   "metadata": {},
   "source": [
    "## Using `loc[]`, filter `filtered_df` by row values where `term` is equal to `36 months` in order to focus on only three-year loan records."
   ]
  },
  {
   "cell_type": "code",
   "execution_count": 17,
   "metadata": {},
   "outputs": [
    {
     "data": {
      "text/html": [
       "<div>\n",
       "<style scoped>\n",
       "    .dataframe tbody tr th:only-of-type {\n",
       "        vertical-align: middle;\n",
       "    }\n",
       "\n",
       "    .dataframe tbody tr th {\n",
       "        vertical-align: top;\n",
       "    }\n",
       "\n",
       "    .dataframe thead th {\n",
       "        text-align: right;\n",
       "    }\n",
       "</style>\n",
       "<table border=\"1\" class=\"dataframe\">\n",
       "  <thead>\n",
       "    <tr style=\"text-align: right;\">\n",
       "      <th></th>\n",
       "      <th>loan_amnt</th>\n",
       "      <th>term</th>\n",
       "      <th>int_rate</th>\n",
       "      <th>emp_title</th>\n",
       "      <th>annual_inc</th>\n",
       "      <th>purpose</th>\n",
       "    </tr>\n",
       "  </thead>\n",
       "  <tbody>\n",
       "    <tr>\n",
       "      <th>0</th>\n",
       "      <td>10000</td>\n",
       "      <td>36 months</td>\n",
       "      <td>0.1033</td>\n",
       "      <td>NaN</td>\n",
       "      <td>280000.0</td>\n",
       "      <td>debt_consolidation</td>\n",
       "    </tr>\n",
       "    <tr>\n",
       "      <th>1</th>\n",
       "      <td>4000</td>\n",
       "      <td>36 months</td>\n",
       "      <td>0.2340</td>\n",
       "      <td>Security</td>\n",
       "      <td>90000.0</td>\n",
       "      <td>debt_consolidation</td>\n",
       "    </tr>\n",
       "    <tr>\n",
       "      <th>2</th>\n",
       "      <td>5000</td>\n",
       "      <td>36 months</td>\n",
       "      <td>0.1797</td>\n",
       "      <td>Administrative</td>\n",
       "      <td>59280.0</td>\n",
       "      <td>debt_consolidation</td>\n",
       "    </tr>\n",
       "    <tr>\n",
       "      <th>3</th>\n",
       "      <td>9600</td>\n",
       "      <td>36 months</td>\n",
       "      <td>0.1298</td>\n",
       "      <td>NaN</td>\n",
       "      <td>35704.0</td>\n",
       "      <td>home_improvement</td>\n",
       "    </tr>\n",
       "    <tr>\n",
       "      <th>4</th>\n",
       "      <td>2500</td>\n",
       "      <td>36 months</td>\n",
       "      <td>0.1356</td>\n",
       "      <td>Chef</td>\n",
       "      <td>55000.0</td>\n",
       "      <td>debt_consolidation</td>\n",
       "    </tr>\n",
       "  </tbody>\n",
       "</table>\n",
       "</div>"
      ],
      "text/plain": [
       "   loan_amnt       term  int_rate       emp_title  annual_inc  \\\n",
       "0      10000  36 months    0.1033             NaN    280000.0   \n",
       "1       4000  36 months    0.2340        Security     90000.0   \n",
       "2       5000  36 months    0.1797  Administrative     59280.0   \n",
       "3       9600  36 months    0.1298             NaN     35704.0   \n",
       "4       2500  36 months    0.1356            Chef     55000.0   \n",
       "\n",
       "              purpose  \n",
       "0  debt_consolidation  \n",
       "1  debt_consolidation  \n",
       "2  debt_consolidation  \n",
       "3    home_improvement  \n",
       "4  debt_consolidation  "
      ]
     },
     "execution_count": 17,
     "metadata": {},
     "output_type": "execute_result"
    }
   ],
   "source": [
    "# Conditional indexing to filter DataFrame where 'term' is equal to '36 months'\n",
    "\n",
    "\n",
    "# Review the first five rows of the term_df DataFrame\n"
   ]
  },
  {
   "cell_type": "markdown",
   "metadata": {},
   "source": [
    "## Modify rows with `term` values equal to `36 months` to be `3 years`."
   ]
  },
  {
   "cell_type": "code",
   "execution_count": 18,
   "metadata": {},
   "outputs": [
    {
     "data": {
      "text/html": [
       "<div>\n",
       "<style scoped>\n",
       "    .dataframe tbody tr th:only-of-type {\n",
       "        vertical-align: middle;\n",
       "    }\n",
       "\n",
       "    .dataframe tbody tr th {\n",
       "        vertical-align: top;\n",
       "    }\n",
       "\n",
       "    .dataframe thead th {\n",
       "        text-align: right;\n",
       "    }\n",
       "</style>\n",
       "<table border=\"1\" class=\"dataframe\">\n",
       "  <thead>\n",
       "    <tr style=\"text-align: right;\">\n",
       "      <th></th>\n",
       "      <th>loan_amnt</th>\n",
       "      <th>term</th>\n",
       "      <th>int_rate</th>\n",
       "      <th>emp_title</th>\n",
       "      <th>annual_inc</th>\n",
       "      <th>purpose</th>\n",
       "    </tr>\n",
       "  </thead>\n",
       "  <tbody>\n",
       "    <tr>\n",
       "      <th>0</th>\n",
       "      <td>10000</td>\n",
       "      <td>3 Years</td>\n",
       "      <td>0.1033</td>\n",
       "      <td>NaN</td>\n",
       "      <td>280000.0</td>\n",
       "      <td>debt_consolidation</td>\n",
       "    </tr>\n",
       "    <tr>\n",
       "      <th>1</th>\n",
       "      <td>4000</td>\n",
       "      <td>3 Years</td>\n",
       "      <td>0.2340</td>\n",
       "      <td>Security</td>\n",
       "      <td>90000.0</td>\n",
       "      <td>debt_consolidation</td>\n",
       "    </tr>\n",
       "    <tr>\n",
       "      <th>2</th>\n",
       "      <td>5000</td>\n",
       "      <td>3 Years</td>\n",
       "      <td>0.1797</td>\n",
       "      <td>Administrative</td>\n",
       "      <td>59280.0</td>\n",
       "      <td>debt_consolidation</td>\n",
       "    </tr>\n",
       "    <tr>\n",
       "      <th>3</th>\n",
       "      <td>9600</td>\n",
       "      <td>3 Years</td>\n",
       "      <td>0.1298</td>\n",
       "      <td>NaN</td>\n",
       "      <td>35704.0</td>\n",
       "      <td>home_improvement</td>\n",
       "    </tr>\n",
       "    <tr>\n",
       "      <th>4</th>\n",
       "      <td>2500</td>\n",
       "      <td>3 Years</td>\n",
       "      <td>0.1356</td>\n",
       "      <td>Chef</td>\n",
       "      <td>55000.0</td>\n",
       "      <td>debt_consolidation</td>\n",
       "    </tr>\n",
       "  </tbody>\n",
       "</table>\n",
       "</div>"
      ],
      "text/plain": [
       "   loan_amnt     term  int_rate       emp_title  annual_inc  \\\n",
       "0      10000  3 Years    0.1033             NaN    280000.0   \n",
       "1       4000  3 Years    0.2340        Security     90000.0   \n",
       "2       5000  3 Years    0.1797  Administrative     59280.0   \n",
       "3       9600  3 Years    0.1298             NaN     35704.0   \n",
       "4       2500  3 Years    0.1356            Chef     55000.0   \n",
       "\n",
       "              purpose  \n",
       "0  debt_consolidation  \n",
       "1  debt_consolidation  \n",
       "2  debt_consolidation  \n",
       "3    home_improvement  \n",
       "4  debt_consolidation  "
      ]
     },
     "execution_count": 18,
     "metadata": {},
     "output_type": "execute_result"
    }
   ],
   "source": [
    "# Change row values within the 'term' column from '36 months' to '3 Years'\n",
    "\n",
    "\n",
    "# Review the first five rows of the term_df DataFrame\n"
   ]
  },
  {
   "cell_type": "markdown",
   "metadata": {},
   "source": [
    "## Use the `isnull` and `sum` function to evaluate the number of missing values in the `term_df` DataFrame. Use the `fillna` function to replace the NaN values with 'Unknown'. Review the first five rows of the new DataFrame "
   ]
  },
  {
   "cell_type": "code",
   "execution_count": 19,
   "metadata": {},
   "outputs": [
    {
     "data": {
      "text/plain": [
       "loan_amnt         0\n",
       "term              0\n",
       "int_rate          0\n",
       "emp_title     15669\n",
       "annual_inc        0\n",
       "purpose           0\n",
       "dtype: int64"
      ]
     },
     "execution_count": 19,
     "metadata": {},
     "output_type": "execute_result"
    }
   ],
   "source": [
    "# Use the isnaull and sum functions to evaluate the number of missing values in the `term_df` DataFrame.\n"
   ]
  },
  {
   "cell_type": "code",
   "execution_count": 20,
   "metadata": {},
   "outputs": [
    {
     "data": {
      "text/html": [
       "<div>\n",
       "<style scoped>\n",
       "    .dataframe tbody tr th:only-of-type {\n",
       "        vertical-align: middle;\n",
       "    }\n",
       "\n",
       "    .dataframe tbody tr th {\n",
       "        vertical-align: top;\n",
       "    }\n",
       "\n",
       "    .dataframe thead th {\n",
       "        text-align: right;\n",
       "    }\n",
       "</style>\n",
       "<table border=\"1\" class=\"dataframe\">\n",
       "  <thead>\n",
       "    <tr style=\"text-align: right;\">\n",
       "      <th></th>\n",
       "      <th>loan_amnt</th>\n",
       "      <th>term</th>\n",
       "      <th>int_rate</th>\n",
       "      <th>emp_title</th>\n",
       "      <th>annual_inc</th>\n",
       "      <th>purpose</th>\n",
       "    </tr>\n",
       "  </thead>\n",
       "  <tbody>\n",
       "    <tr>\n",
       "      <th>0</th>\n",
       "      <td>10000</td>\n",
       "      <td>3 Years</td>\n",
       "      <td>0.1033</td>\n",
       "      <td>Unknown</td>\n",
       "      <td>280000.0</td>\n",
       "      <td>debt_consolidation</td>\n",
       "    </tr>\n",
       "    <tr>\n",
       "      <th>1</th>\n",
       "      <td>4000</td>\n",
       "      <td>3 Years</td>\n",
       "      <td>0.2340</td>\n",
       "      <td>Security</td>\n",
       "      <td>90000.0</td>\n",
       "      <td>debt_consolidation</td>\n",
       "    </tr>\n",
       "    <tr>\n",
       "      <th>2</th>\n",
       "      <td>5000</td>\n",
       "      <td>3 Years</td>\n",
       "      <td>0.1797</td>\n",
       "      <td>Administrative</td>\n",
       "      <td>59280.0</td>\n",
       "      <td>debt_consolidation</td>\n",
       "    </tr>\n",
       "    <tr>\n",
       "      <th>3</th>\n",
       "      <td>9600</td>\n",
       "      <td>3 Years</td>\n",
       "      <td>0.1298</td>\n",
       "      <td>Unknown</td>\n",
       "      <td>35704.0</td>\n",
       "      <td>home_improvement</td>\n",
       "    </tr>\n",
       "    <tr>\n",
       "      <th>4</th>\n",
       "      <td>2500</td>\n",
       "      <td>3 Years</td>\n",
       "      <td>0.1356</td>\n",
       "      <td>Chef</td>\n",
       "      <td>55000.0</td>\n",
       "      <td>debt_consolidation</td>\n",
       "    </tr>\n",
       "  </tbody>\n",
       "</table>\n",
       "</div>"
      ],
      "text/plain": [
       "   loan_amnt     term  int_rate       emp_title  annual_inc  \\\n",
       "0      10000  3 Years    0.1033         Unknown    280000.0   \n",
       "1       4000  3 Years    0.2340        Security     90000.0   \n",
       "2       5000  3 Years    0.1797  Administrative     59280.0   \n",
       "3       9600  3 Years    0.1298         Unknown     35704.0   \n",
       "4       2500  3 Years    0.1356            Chef     55000.0   \n",
       "\n",
       "              purpose  \n",
       "0  debt_consolidation  \n",
       "1  debt_consolidation  \n",
       "2  debt_consolidation  \n",
       "3    home_improvement  \n",
       "4  debt_consolidation  "
      ]
     },
     "execution_count": 20,
     "metadata": {},
     "output_type": "execute_result"
    }
   ],
   "source": [
    "#  Use the `fillna` function to replace the NaN values with 'Unknown'\n",
    "\n",
    "\n",
    "# Review the first five rows of the cleaned term_df DataFrame\n"
   ]
  },
  {
   "cell_type": "markdown",
   "metadata": {},
   "source": [
    "### Generate the summary statistics for `term_df` after all modifications."
   ]
  },
  {
   "cell_type": "code",
   "execution_count": 21,
   "metadata": {},
   "outputs": [
    {
     "data": {
      "text/html": [
       "<div>\n",
       "<style scoped>\n",
       "    .dataframe tbody tr th:only-of-type {\n",
       "        vertical-align: middle;\n",
       "    }\n",
       "\n",
       "    .dataframe tbody tr th {\n",
       "        vertical-align: top;\n",
       "    }\n",
       "\n",
       "    .dataframe thead th {\n",
       "        text-align: right;\n",
       "    }\n",
       "</style>\n",
       "<table border=\"1\" class=\"dataframe\">\n",
       "  <thead>\n",
       "    <tr style=\"text-align: right;\">\n",
       "      <th></th>\n",
       "      <th>loan_amnt</th>\n",
       "      <th>int_rate</th>\n",
       "      <th>annual_inc</th>\n",
       "    </tr>\n",
       "  </thead>\n",
       "  <tbody>\n",
       "    <tr>\n",
       "      <th>count</th>\n",
       "      <td>88179.000000</td>\n",
       "      <td>88179.000000</td>\n",
       "      <td>8.817900e+04</td>\n",
       "    </tr>\n",
       "    <tr>\n",
       "      <th>mean</th>\n",
       "      <td>13279.580456</td>\n",
       "      <td>0.120610</td>\n",
       "      <td>8.043616e+04</td>\n",
       "    </tr>\n",
       "    <tr>\n",
       "      <th>std</th>\n",
       "      <td>9479.610905</td>\n",
       "      <td>0.048955</td>\n",
       "      <td>1.109251e+05</td>\n",
       "    </tr>\n",
       "    <tr>\n",
       "      <th>min</th>\n",
       "      <td>1000.000000</td>\n",
       "      <td>0.060000</td>\n",
       "      <td>0.000000e+00</td>\n",
       "    </tr>\n",
       "    <tr>\n",
       "      <th>25%</th>\n",
       "      <td>6000.000000</td>\n",
       "      <td>0.078400</td>\n",
       "      <td>4.500000e+04</td>\n",
       "    </tr>\n",
       "    <tr>\n",
       "      <th>50%</th>\n",
       "      <td>10000.000000</td>\n",
       "      <td>0.110600</td>\n",
       "      <td>6.500000e+04</td>\n",
       "    </tr>\n",
       "    <tr>\n",
       "      <th>75%</th>\n",
       "      <td>18000.000000</td>\n",
       "      <td>0.150200</td>\n",
       "      <td>9.500000e+04</td>\n",
       "    </tr>\n",
       "    <tr>\n",
       "      <th>max</th>\n",
       "      <td>40000.000000</td>\n",
       "      <td>0.309900</td>\n",
       "      <td>9.000000e+06</td>\n",
       "    </tr>\n",
       "  </tbody>\n",
       "</table>\n",
       "</div>"
      ],
      "text/plain": [
       "          loan_amnt      int_rate    annual_inc\n",
       "count  88179.000000  88179.000000  8.817900e+04\n",
       "mean   13279.580456      0.120610  8.043616e+04\n",
       "std     9479.610905      0.048955  1.109251e+05\n",
       "min     1000.000000      0.060000  0.000000e+00\n",
       "25%     6000.000000      0.078400  4.500000e+04\n",
       "50%    10000.000000      0.110600  6.500000e+04\n",
       "75%    18000.000000      0.150200  9.500000e+04\n",
       "max    40000.000000      0.309900  9.000000e+06"
      ]
     },
     "execution_count": 21,
     "metadata": {},
     "output_type": "execute_result"
    }
   ],
   "source": [
    "# Describe summary statistics for three-year loans\n"
   ]
  },
  {
   "cell_type": "markdown",
   "metadata": {},
   "source": [
    "## Use the `value_counts()` function on the `emp_title` column of the `term_df` DataFrame to see the unique value counts for employee titles of three-year loan customers."
   ]
  },
  {
   "cell_type": "code",
   "execution_count": 22,
   "metadata": {},
   "outputs": [
    {
     "data": {
      "text/plain": [
       "Unknown                           15669\n",
       "Teacher                            1433\n",
       "Manager                            1207\n",
       "Registered Nurse                    672\n",
       "Driver                              654\n",
       "                                  ...  \n",
       "PROGRAM APPLICATION SPECIALIST        1\n",
       "Clinical Site Manager                 1\n",
       "Supply analyst                        1\n",
       "Quality Control Rep                   1\n",
       "Human Service Counselor III           1\n",
       "Name: emp_title, Length: 31470, dtype: int64"
      ]
     },
     "execution_count": 22,
     "metadata": {},
     "output_type": "execute_result"
    }
   ],
   "source": [
    "# Calculate unique values and counts for employee titles of 3 year customer loans\n"
   ]
  },
  {
   "cell_type": "markdown",
   "metadata": {},
   "source": [
    "## Use the `value_counts()` function on the `purpose` column of the `term_df` DataFrame to see the unique value counts for loan purposes of three-year loan customers."
   ]
  },
  {
   "cell_type": "code",
   "execution_count": 23,
   "metadata": {},
   "outputs": [
    {
     "data": {
      "text/plain": [
       "debt_consolidation    45456\n",
       "credit_card           24780\n",
       "other                  5836\n",
       "home_improvement       5446\n",
       "major_purchase         1795\n",
       "medical                1245\n",
       "car                     838\n",
       "small_business          828\n",
       "vacation                749\n",
       "house                   596\n",
       "moving                  547\n",
       "renewable_energy         63\n",
       "Name: purpose, dtype: int64"
      ]
     },
     "execution_count": 23,
     "metadata": {},
     "output_type": "execute_result"
    }
   ],
   "source": [
    "# Calculate unique values and counts for loan purposes of 3 year customer loans\n"
   ]
  },
  {
   "cell_type": "markdown",
   "metadata": {},
   "source": [
    "## Filter `term_df` by rows with `annual_inc` greater than `80000`. Use the `describe` function to see the mean `int_rate` of three-year loan customers with annual incomes greater than $80,000."
   ]
  },
  {
   "cell_type": "code",
   "execution_count": 24,
   "metadata": {},
   "outputs": [
    {
     "data": {
      "text/html": [
       "<div>\n",
       "<style scoped>\n",
       "    .dataframe tbody tr th:only-of-type {\n",
       "        vertical-align: middle;\n",
       "    }\n",
       "\n",
       "    .dataframe tbody tr th {\n",
       "        vertical-align: top;\n",
       "    }\n",
       "\n",
       "    .dataframe thead th {\n",
       "        text-align: right;\n",
       "    }\n",
       "</style>\n",
       "<table border=\"1\" class=\"dataframe\">\n",
       "  <thead>\n",
       "    <tr style=\"text-align: right;\">\n",
       "      <th></th>\n",
       "      <th>loan_amnt</th>\n",
       "      <th>int_rate</th>\n",
       "      <th>annual_inc</th>\n",
       "    </tr>\n",
       "  </thead>\n",
       "  <tbody>\n",
       "    <tr>\n",
       "      <th>count</th>\n",
       "      <td>29748.000000</td>\n",
       "      <td>29748.000000</td>\n",
       "      <td>2.974800e+04</td>\n",
       "    </tr>\n",
       "    <tr>\n",
       "      <th>mean</th>\n",
       "      <td>18240.116142</td>\n",
       "      <td>0.114116</td>\n",
       "      <td>1.389634e+05</td>\n",
       "    </tr>\n",
       "    <tr>\n",
       "      <th>std</th>\n",
       "      <td>10991.909117</td>\n",
       "      <td>0.048067</td>\n",
       "      <td>1.752361e+05</td>\n",
       "    </tr>\n",
       "    <tr>\n",
       "      <th>min</th>\n",
       "      <td>1000.000000</td>\n",
       "      <td>0.060000</td>\n",
       "      <td>8.000100e+04</td>\n",
       "    </tr>\n",
       "    <tr>\n",
       "      <th>25%</th>\n",
       "      <td>10000.000000</td>\n",
       "      <td>0.075600</td>\n",
       "      <td>9.500000e+04</td>\n",
       "    </tr>\n",
       "    <tr>\n",
       "      <th>50%</th>\n",
       "      <td>15700.000000</td>\n",
       "      <td>0.104700</td>\n",
       "      <td>1.120000e+05</td>\n",
       "    </tr>\n",
       "    <tr>\n",
       "      <th>75%</th>\n",
       "      <td>25000.000000</td>\n",
       "      <td>0.144700</td>\n",
       "      <td>1.500000e+05</td>\n",
       "    </tr>\n",
       "    <tr>\n",
       "      <th>max</th>\n",
       "      <td>40000.000000</td>\n",
       "      <td>0.309400</td>\n",
       "      <td>9.000000e+06</td>\n",
       "    </tr>\n",
       "  </tbody>\n",
       "</table>\n",
       "</div>"
      ],
      "text/plain": [
       "          loan_amnt      int_rate    annual_inc\n",
       "count  29748.000000  29748.000000  2.974800e+04\n",
       "mean   18240.116142      0.114116  1.389634e+05\n",
       "std    10991.909117      0.048067  1.752361e+05\n",
       "min     1000.000000      0.060000  8.000100e+04\n",
       "25%    10000.000000      0.075600  9.500000e+04\n",
       "50%    15700.000000      0.104700  1.120000e+05\n",
       "75%    25000.000000      0.144700  1.500000e+05\n",
       "max    40000.000000      0.309400  9.000000e+06"
      ]
     },
     "execution_count": 24,
     "metadata": {},
     "output_type": "execute_result"
    }
   ],
   "source": [
    "# Display summary statistics where annual income is greater than $80,000 to find count and mean\n"
   ]
  },
  {
   "cell_type": "markdown",
   "metadata": {},
   "source": [
    "## Filter `term_df` by rows with `annual_inc` less than `80000`. Use the `describe` function to see the average `int_rate` of three-year loan customers with annual incomes less than $80,000."
   ]
  },
  {
   "cell_type": "code",
   "execution_count": 25,
   "metadata": {},
   "outputs": [
    {
     "data": {
      "text/html": [
       "<div>\n",
       "<style scoped>\n",
       "    .dataframe tbody tr th:only-of-type {\n",
       "        vertical-align: middle;\n",
       "    }\n",
       "\n",
       "    .dataframe tbody tr th {\n",
       "        vertical-align: top;\n",
       "    }\n",
       "\n",
       "    .dataframe thead th {\n",
       "        text-align: right;\n",
       "    }\n",
       "</style>\n",
       "<table border=\"1\" class=\"dataframe\">\n",
       "  <thead>\n",
       "    <tr style=\"text-align: right;\">\n",
       "      <th></th>\n",
       "      <th>loan_amnt</th>\n",
       "      <th>int_rate</th>\n",
       "      <th>annual_inc</th>\n",
       "    </tr>\n",
       "  </thead>\n",
       "  <tbody>\n",
       "    <tr>\n",
       "      <th>count</th>\n",
       "      <td>56015.000000</td>\n",
       "      <td>56015.000000</td>\n",
       "      <td>56015.000000</td>\n",
       "    </tr>\n",
       "    <tr>\n",
       "      <th>mean</th>\n",
       "      <td>10607.487727</td>\n",
       "      <td>0.124268</td>\n",
       "      <td>49372.805964</td>\n",
       "    </tr>\n",
       "    <tr>\n",
       "      <th>std</th>\n",
       "      <td>7318.791900</td>\n",
       "      <td>0.049137</td>\n",
       "      <td>16669.098821</td>\n",
       "    </tr>\n",
       "    <tr>\n",
       "      <th>min</th>\n",
       "      <td>1000.000000</td>\n",
       "      <td>0.060000</td>\n",
       "      <td>0.000000</td>\n",
       "    </tr>\n",
       "    <tr>\n",
       "      <th>25%</th>\n",
       "      <td>5000.000000</td>\n",
       "      <td>0.081900</td>\n",
       "      <td>37000.000000</td>\n",
       "    </tr>\n",
       "    <tr>\n",
       "      <th>50%</th>\n",
       "      <td>9600.000000</td>\n",
       "      <td>0.113100</td>\n",
       "      <td>50000.000000</td>\n",
       "    </tr>\n",
       "    <tr>\n",
       "      <th>75%</th>\n",
       "      <td>14000.000000</td>\n",
       "      <td>0.150200</td>\n",
       "      <td>62635.500000</td>\n",
       "    </tr>\n",
       "    <tr>\n",
       "      <th>max</th>\n",
       "      <td>40000.000000</td>\n",
       "      <td>0.309900</td>\n",
       "      <td>79999.000000</td>\n",
       "    </tr>\n",
       "  </tbody>\n",
       "</table>\n",
       "</div>"
      ],
      "text/plain": [
       "          loan_amnt      int_rate    annual_inc\n",
       "count  56015.000000  56015.000000  56015.000000\n",
       "mean   10607.487727      0.124268  49372.805964\n",
       "std     7318.791900      0.049137  16669.098821\n",
       "min     1000.000000      0.060000      0.000000\n",
       "25%     5000.000000      0.081900  37000.000000\n",
       "50%     9600.000000      0.113100  50000.000000\n",
       "75%    14000.000000      0.150200  62635.500000\n",
       "max    40000.000000      0.309900  79999.000000"
      ]
     },
     "execution_count": 25,
     "metadata": {},
     "output_type": "execute_result"
    }
   ],
   "source": [
    "# Display summary statistics where annual income is less than $80,000 to find count and mean\n"
   ]
  },
  {
   "cell_type": "markdown",
   "metadata": {},
   "source": [
    "## Answer the following questions about individuals taking out 3 year loans:\n",
    "\n",
    "1. What kind of customers (employee title) seem to ask for three-year loans most frequently?\n",
    "2. What are three-year loans generally used for?\n",
    "3. What is the difference in count of three-year loan customers with annual incomes greater than 80,000 compared to those with annual incomes less than 80,000?\n",
    "4. What is the difference in interest rates of three-year loan customers with annual incomes greater than 80,000 compared to those with annual incomes less than 80,000? "
   ]
  },
  {
   "cell_type": "markdown",
   "metadata": {},
   "source": [
    "# YOUR ANSWERS HERE"
   ]
  },
  {
   "cell_type": "markdown",
   "metadata": {},
   "source": [
    "# ================================"
   ]
  },
  {
   "cell_type": "markdown",
   "metadata": {},
   "source": [
    "### 2.03 Instructor Do: Pandas DateTime Object (15 mins)"
   ]
  },
  {
   "cell_type": "markdown",
   "metadata": {},
   "source": [
    "In this activity we will explore the Pandas DataTime object using historical data from the Philidelphia SemiConductor Index (SOX)"
   ]
  },
  {
   "cell_type": "code",
   "execution_count": 26,
   "metadata": {},
   "outputs": [],
   "source": [
    "# Import required libraries\n",
    "\n",
    "import pandas as pd\n",
    "from pathlib import Path"
   ]
  },
  {
   "cell_type": "markdown",
   "metadata": {},
   "source": [
    "### Pandas to_datetime() Function"
   ]
  },
  {
   "cell_type": "code",
   "execution_count": 27,
   "metadata": {},
   "outputs": [
    {
     "data": {
      "text/plain": [
       "Timestamp('2021-01-14 13:27:15.676574')"
      ]
     },
     "execution_count": 27,
     "metadata": {},
     "output_type": "execute_result"
    }
   ],
   "source": [
    "# Find the information for `today`\n",
    "pd.to_datetime('today')"
   ]
  },
  {
   "cell_type": "markdown",
   "metadata": {},
   "source": [
    "### Read in CSV file and create DataFrame"
   ]
  },
  {
   "cell_type": "code",
   "execution_count": 28,
   "metadata": {},
   "outputs": [
    {
     "data": {
      "text/html": [
       "<div>\n",
       "<style scoped>\n",
       "    .dataframe tbody tr th:only-of-type {\n",
       "        vertical-align: middle;\n",
       "    }\n",
       "\n",
       "    .dataframe tbody tr th {\n",
       "        vertical-align: top;\n",
       "    }\n",
       "\n",
       "    .dataframe thead th {\n",
       "        text-align: right;\n",
       "    }\n",
       "</style>\n",
       "<table border=\"1\" class=\"dataframe\">\n",
       "  <thead>\n",
       "    <tr style=\"text-align: right;\">\n",
       "      <th></th>\n",
       "      <th>Date</th>\n",
       "      <th>Open</th>\n",
       "      <th>High</th>\n",
       "      <th>Low</th>\n",
       "      <th>Close</th>\n",
       "    </tr>\n",
       "  </thead>\n",
       "  <tbody>\n",
       "    <tr>\n",
       "      <th>0</th>\n",
       "      <td>2015-05-26 09:30:00</td>\n",
       "      <td>719.51</td>\n",
       "      <td>720.32</td>\n",
       "      <td>714.11</td>\n",
       "      <td>714.70</td>\n",
       "    </tr>\n",
       "    <tr>\n",
       "      <th>1</th>\n",
       "      <td>2015-05-26 10:00:00</td>\n",
       "      <td>714.70</td>\n",
       "      <td>715.58</td>\n",
       "      <td>712.02</td>\n",
       "      <td>713.89</td>\n",
       "    </tr>\n",
       "    <tr>\n",
       "      <th>2</th>\n",
       "      <td>2015-05-26 12:00:00</td>\n",
       "      <td>713.89</td>\n",
       "      <td>714.56</td>\n",
       "      <td>711.89</td>\n",
       "      <td>711.95</td>\n",
       "    </tr>\n",
       "    <tr>\n",
       "      <th>3</th>\n",
       "      <td>2015-05-26 14:00:00</td>\n",
       "      <td>711.95</td>\n",
       "      <td>715.43</td>\n",
       "      <td>711.44</td>\n",
       "      <td>714.79</td>\n",
       "    </tr>\n",
       "    <tr>\n",
       "      <th>4</th>\n",
       "      <td>2015-05-27 09:30:00</td>\n",
       "      <td>716.49</td>\n",
       "      <td>723.03</td>\n",
       "      <td>716.21</td>\n",
       "      <td>721.83</td>\n",
       "    </tr>\n",
       "  </tbody>\n",
       "</table>\n",
       "</div>"
      ],
      "text/plain": [
       "                  Date   Open     High     Low   Close\n",
       "0  2015-05-26 09:30:00  719.51  720.32  714.11  714.70\n",
       "1  2015-05-26 10:00:00  714.70  715.58  712.02  713.89\n",
       "2  2015-05-26 12:00:00  713.89  714.56  711.89  711.95\n",
       "3  2015-05-26 14:00:00  711.95  715.43  711.44  714.79\n",
       "4  2015-05-27 09:30:00  716.49  723.03  716.21  721.83"
      ]
     },
     "metadata": {},
     "output_type": "display_data"
    },
    {
     "data": {
      "text/html": [
       "<div>\n",
       "<style scoped>\n",
       "    .dataframe tbody tr th:only-of-type {\n",
       "        vertical-align: middle;\n",
       "    }\n",
       "\n",
       "    .dataframe tbody tr th {\n",
       "        vertical-align: top;\n",
       "    }\n",
       "\n",
       "    .dataframe thead th {\n",
       "        text-align: right;\n",
       "    }\n",
       "</style>\n",
       "<table border=\"1\" class=\"dataframe\">\n",
       "  <thead>\n",
       "    <tr style=\"text-align: right;\">\n",
       "      <th></th>\n",
       "      <th>Date</th>\n",
       "      <th>Open</th>\n",
       "      <th>High</th>\n",
       "      <th>Low</th>\n",
       "      <th>Close</th>\n",
       "    </tr>\n",
       "  </thead>\n",
       "  <tbody>\n",
       "    <tr>\n",
       "      <th>4952</th>\n",
       "      <td>2020-05-12 14:00:00</td>\n",
       "      <td>1773.22</td>\n",
       "      <td>1774.03</td>\n",
       "      <td>1724.40</td>\n",
       "      <td>1724.59</td>\n",
       "    </tr>\n",
       "    <tr>\n",
       "      <th>4953</th>\n",
       "      <td>2020-05-13 09:30:00</td>\n",
       "      <td>1729.62</td>\n",
       "      <td>1733.20</td>\n",
       "      <td>1708.62</td>\n",
       "      <td>1721.73</td>\n",
       "    </tr>\n",
       "    <tr>\n",
       "      <th>4954</th>\n",
       "      <td>2020-05-13 10:00:00</td>\n",
       "      <td>1721.50</td>\n",
       "      <td>1741.61</td>\n",
       "      <td>1689.48</td>\n",
       "      <td>1693.28</td>\n",
       "    </tr>\n",
       "    <tr>\n",
       "      <th>4955</th>\n",
       "      <td>2020-05-13 12:00:00</td>\n",
       "      <td>1693.33</td>\n",
       "      <td>1695.57</td>\n",
       "      <td>1674.23</td>\n",
       "      <td>1676.15</td>\n",
       "    </tr>\n",
       "    <tr>\n",
       "      <th>4956</th>\n",
       "      <td>2020-05-13 14:00:00</td>\n",
       "      <td>1675.86</td>\n",
       "      <td>1694.44</td>\n",
       "      <td>1667.52</td>\n",
       "      <td>1691.58</td>\n",
       "    </tr>\n",
       "  </tbody>\n",
       "</table>\n",
       "</div>"
      ],
      "text/plain": [
       "                     Date    Open      High      Low    Close\n",
       "4952  2020-05-12 14:00:00  1773.22  1774.03  1724.40  1724.59\n",
       "4953  2020-05-13 09:30:00  1729.62  1733.20  1708.62  1721.73\n",
       "4954  2020-05-13 10:00:00  1721.50  1741.61  1689.48  1693.28\n",
       "4955  2020-05-13 12:00:00  1693.33  1695.57  1674.23  1676.15\n",
       "4956  2020-05-13 14:00:00  1675.86  1694.44  1667.52  1691.58"
      ]
     },
     "metadata": {},
     "output_type": "display_data"
    },
    {
     "name": "stdout",
     "output_type": "stream",
     "text": [
      "<class 'pandas.core.frame.DataFrame'>\n",
      "RangeIndex: 4957 entries, 0 to 4956\n",
      "Data columns (total 5 columns):\n",
      " #   Column  Non-Null Count  Dtype  \n",
      "---  ------  --------------  -----  \n",
      " 0   Date    4957 non-null   object \n",
      " 1   Open    4957 non-null   float64\n",
      " 2   High    4957 non-null   float64\n",
      " 3   Low     4957 non-null   float64\n",
      " 4   Close   4957 non-null   float64\n",
      "dtypes: float64(4), object(1)\n",
      "memory usage: 193.8+ KB\n"
     ]
    }
   ],
   "source": [
    "# Read in the CSV as a DataFrame\n",
    "sox_df = pd.read_csv(Path('03-Inst_Pandas_DateTime_Object/Resources/SOX_2015_2020.csv'))\n",
    "\n",
    "# Display the fist and last five rows of the DataFrame\n",
    "display(sox_df.head())\n",
    "display(sox_df.tail())\n",
    "\n",
    "# View the DataFrame information\n",
    "sox_df.info()\n"
   ]
  },
  {
   "cell_type": "markdown",
   "metadata": {},
   "source": [
    "## Reimport the CSV file creating a DateTime Index from the \"Date\" column"
   ]
  },
  {
   "cell_type": "code",
   "execution_count": 29,
   "metadata": {},
   "outputs": [
    {
     "data": {
      "text/html": [
       "<div>\n",
       "<style scoped>\n",
       "    .dataframe tbody tr th:only-of-type {\n",
       "        vertical-align: middle;\n",
       "    }\n",
       "\n",
       "    .dataframe tbody tr th {\n",
       "        vertical-align: top;\n",
       "    }\n",
       "\n",
       "    .dataframe thead th {\n",
       "        text-align: right;\n",
       "    }\n",
       "</style>\n",
       "<table border=\"1\" class=\"dataframe\">\n",
       "  <thead>\n",
       "    <tr style=\"text-align: right;\">\n",
       "      <th></th>\n",
       "      <th>Open</th>\n",
       "      <th>High</th>\n",
       "      <th>Low</th>\n",
       "      <th>Close</th>\n",
       "    </tr>\n",
       "    <tr>\n",
       "      <th>Date</th>\n",
       "      <th></th>\n",
       "      <th></th>\n",
       "      <th></th>\n",
       "      <th></th>\n",
       "    </tr>\n",
       "  </thead>\n",
       "  <tbody>\n",
       "    <tr>\n",
       "      <th>2015-05-26 09:30:00</th>\n",
       "      <td>719.51</td>\n",
       "      <td>720.32</td>\n",
       "      <td>714.11</td>\n",
       "      <td>714.70</td>\n",
       "    </tr>\n",
       "    <tr>\n",
       "      <th>2015-05-26 10:00:00</th>\n",
       "      <td>714.70</td>\n",
       "      <td>715.58</td>\n",
       "      <td>712.02</td>\n",
       "      <td>713.89</td>\n",
       "    </tr>\n",
       "    <tr>\n",
       "      <th>2015-05-26 12:00:00</th>\n",
       "      <td>713.89</td>\n",
       "      <td>714.56</td>\n",
       "      <td>711.89</td>\n",
       "      <td>711.95</td>\n",
       "    </tr>\n",
       "    <tr>\n",
       "      <th>2015-05-26 14:00:00</th>\n",
       "      <td>711.95</td>\n",
       "      <td>715.43</td>\n",
       "      <td>711.44</td>\n",
       "      <td>714.79</td>\n",
       "    </tr>\n",
       "    <tr>\n",
       "      <th>2015-05-27 09:30:00</th>\n",
       "      <td>716.49</td>\n",
       "      <td>723.03</td>\n",
       "      <td>716.21</td>\n",
       "      <td>721.83</td>\n",
       "    </tr>\n",
       "  </tbody>\n",
       "</table>\n",
       "</div>"
      ],
      "text/plain": [
       "                      Open     High     Low   Close\n",
       "Date                                               \n",
       "2015-05-26 09:30:00  719.51  720.32  714.11  714.70\n",
       "2015-05-26 10:00:00  714.70  715.58  712.02  713.89\n",
       "2015-05-26 12:00:00  713.89  714.56  711.89  711.95\n",
       "2015-05-26 14:00:00  711.95  715.43  711.44  714.79\n",
       "2015-05-27 09:30:00  716.49  723.03  716.21  721.83"
      ]
     },
     "metadata": {},
     "output_type": "display_data"
    },
    {
     "data": {
      "text/html": [
       "<div>\n",
       "<style scoped>\n",
       "    .dataframe tbody tr th:only-of-type {\n",
       "        vertical-align: middle;\n",
       "    }\n",
       "\n",
       "    .dataframe tbody tr th {\n",
       "        vertical-align: top;\n",
       "    }\n",
       "\n",
       "    .dataframe thead th {\n",
       "        text-align: right;\n",
       "    }\n",
       "</style>\n",
       "<table border=\"1\" class=\"dataframe\">\n",
       "  <thead>\n",
       "    <tr style=\"text-align: right;\">\n",
       "      <th></th>\n",
       "      <th>Open</th>\n",
       "      <th>High</th>\n",
       "      <th>Low</th>\n",
       "      <th>Close</th>\n",
       "    </tr>\n",
       "    <tr>\n",
       "      <th>Date</th>\n",
       "      <th></th>\n",
       "      <th></th>\n",
       "      <th></th>\n",
       "      <th></th>\n",
       "    </tr>\n",
       "  </thead>\n",
       "  <tbody>\n",
       "    <tr>\n",
       "      <th>2020-05-12 14:00:00</th>\n",
       "      <td>1773.22</td>\n",
       "      <td>1774.03</td>\n",
       "      <td>1724.40</td>\n",
       "      <td>1724.59</td>\n",
       "    </tr>\n",
       "    <tr>\n",
       "      <th>2020-05-13 09:30:00</th>\n",
       "      <td>1729.62</td>\n",
       "      <td>1733.20</td>\n",
       "      <td>1708.62</td>\n",
       "      <td>1721.73</td>\n",
       "    </tr>\n",
       "    <tr>\n",
       "      <th>2020-05-13 10:00:00</th>\n",
       "      <td>1721.50</td>\n",
       "      <td>1741.61</td>\n",
       "      <td>1689.48</td>\n",
       "      <td>1693.28</td>\n",
       "    </tr>\n",
       "    <tr>\n",
       "      <th>2020-05-13 12:00:00</th>\n",
       "      <td>1693.33</td>\n",
       "      <td>1695.57</td>\n",
       "      <td>1674.23</td>\n",
       "      <td>1676.15</td>\n",
       "    </tr>\n",
       "    <tr>\n",
       "      <th>2020-05-13 14:00:00</th>\n",
       "      <td>1675.86</td>\n",
       "      <td>1694.44</td>\n",
       "      <td>1667.52</td>\n",
       "      <td>1691.58</td>\n",
       "    </tr>\n",
       "  </tbody>\n",
       "</table>\n",
       "</div>"
      ],
      "text/plain": [
       "                       Open      High      Low    Close\n",
       "Date                                                   \n",
       "2020-05-12 14:00:00  1773.22  1774.03  1724.40  1724.59\n",
       "2020-05-13 09:30:00  1729.62  1733.20  1708.62  1721.73\n",
       "2020-05-13 10:00:00  1721.50  1741.61  1689.48  1693.28\n",
       "2020-05-13 12:00:00  1693.33  1695.57  1674.23  1676.15\n",
       "2020-05-13 14:00:00  1675.86  1694.44  1667.52  1691.58"
      ]
     },
     "metadata": {},
     "output_type": "display_data"
    },
    {
     "name": "stdout",
     "output_type": "stream",
     "text": [
      "<class 'pandas.core.frame.DataFrame'>\n",
      "DatetimeIndex: 4957 entries, 2015-05-26 09:30:00 to 2020-05-13 14:00:00\n",
      "Data columns (total 4 columns):\n",
      " #   Column  Non-Null Count  Dtype  \n",
      "---  ------  --------------  -----  \n",
      " 0   Open    4957 non-null   float64\n",
      " 1   High    4957 non-null   float64\n",
      " 2   Low     4957 non-null   float64\n",
      " 3   Close   4957 non-null   float64\n",
      "dtypes: float64(4)\n",
      "memory usage: 193.6 KB\n"
     ]
    }
   ],
   "source": [
    "# Read in the CSV as a DataFrame and convert the \"Date\" column to a DataTime Index\n",
    "sox_df = pd.read_csv(\n",
    "    Path('03-Inst_Pandas_DateTime_Object/Resources/SOX_2015_2020.csv'), \n",
    "    index_col=\"Date\", \n",
    "    parse_dates = True, \n",
    "    infer_datetime_format = True\n",
    ")\n",
    "\n",
    "# Display the fist and last five rows of the DataFrame\n",
    "display(sox_df.head())\n",
    "display(sox_df.tail())\n",
    "\n",
    "# View the DataFrame information\n",
    "sox_df.info()"
   ]
  },
  {
   "cell_type": "markdown",
   "metadata": {},
   "source": [
    "### Plot the SOX DataFrame with Date as the index"
   ]
  },
  {
   "cell_type": "code",
   "execution_count": 30,
   "metadata": {},
   "outputs": [
    {
     "data": {
      "text/plain": [
       "<AxesSubplot:xlabel='Date'>"
      ]
     },
     "execution_count": 30,
     "metadata": {},
     "output_type": "execute_result"
    },
    {
     "data": {
      "image/png": "[encoded data removed]",
      "text/plain": [
       "<Figure size 432x288 with 1 Axes>"
      ]
     },
     "metadata": {
      "needs_background": "light"
     },
     "output_type": "display_data"
    }
   ],
   "source": [
    "# Plot the closing price for the SOX DataFrame\n",
    "sox_df['Close'].plot()"
   ]
  },
  {
   "cell_type": "code",
   "execution_count": 31,
   "metadata": {},
   "outputs": [
    {
     "data": {
      "text/plain": [
       "<AxesSubplot:xlabel='Date'>"
      ]
     },
     "execution_count": 31,
     "metadata": {},
     "output_type": "execute_result"
    },
    {
     "data": {
      "image/png": "[encoded data removed]",
      "text/plain": [
       "<Figure size 432x288 with 1 Axes>"
      ]
     },
     "metadata": {
      "needs_background": "light"
     },
     "output_type": "display_data"
    }
   ],
   "source": [
    "# Plot the high and low price for a specific date range\n",
    "sox_df['High'].loc['2020-01-01':'2020-05-13'].plot(rot=90)\n",
    "sox_df['Low'].loc['2020-01-01':'2020-05-13'].plot(rot=90)"
   ]
  },
  {
   "cell_type": "code",
   "execution_count": 32,
   "metadata": {},
   "outputs": [
    {
     "data": {
      "text/plain": [
       "<AxesSubplot:xlabel='Date'>"
      ]
     },
     "execution_count": 32,
     "metadata": {},
     "output_type": "execute_result"
    },
    {
     "data": {
      "image/png": "[encoded data removed]",
      "text/plain": [
       "<Figure size 432x288 with 1 Axes>"
      ]
     },
     "metadata": {
      "needs_background": "light"
     },
     "output_type": "display_data"
    }
   ],
   "source": [
    "# Plot a specific time period\n",
    "sox_df['High'].loc['2020-02-20 09:30:00':'2020-02-25 16:00:00'].plot(rot=45)\n",
    "sox_df['Low'].loc['2020-02-20 09:30:00':'2020-02-25 16:00:00'].plot(rot=45)"
   ]
  },
  {
   "cell_type": "code",
   "execution_count": 33,
   "metadata": {},
   "outputs": [
    {
     "data": {
      "text/plain": [
       "Date\n",
       "2020-02-20 09:30:00    1966.92\n",
       "2020-02-20 11:00:00    1940.75\n",
       "2020-02-20 13:00:00    1950.67\n",
       "2020-02-20 15:00:00    1949.28\n",
       "2020-02-21 09:30:00    1907.34\n",
       "Name: Close, dtype: float64"
      ]
     },
     "metadata": {},
     "output_type": "display_data"
    },
    {
     "data": {
      "text/plain": [
       "Date\n",
       "2020-02-24 15:00:00    1801.21\n",
       "2020-02-25 09:30:00    1778.55\n",
       "2020-02-25 11:00:00    1766.41\n",
       "2020-02-25 13:00:00    1756.35\n",
       "2020-02-25 15:00:00    1746.08\n",
       "Name: Close, dtype: float64"
      ]
     },
     "metadata": {},
     "output_type": "display_data"
    }
   ],
   "source": [
    "# Create a DataFrame from the specified time period\n",
    "sox_close_week = sox_df['Close'].loc['2020-02-20 09:30:00':'2020-02-25 16:00:00']\n",
    "\n",
    "# View the first and last five rows of the resulting DataFrame\n",
    "display(sox_close_week.head())\n",
    "display(sox_close_week.tail())"
   ]
  },
  {
   "cell_type": "code",
   "execution_count": 34,
   "metadata": {},
   "outputs": [
    {
     "data": {
      "text/plain": [
       "1966.92"
      ]
     },
     "metadata": {},
     "output_type": "display_data"
    },
    {
     "data": {
      "text/plain": [
       "1746.08"
      ]
     },
     "metadata": {},
     "output_type": "display_data"
    },
    {
     "data": {
      "text/plain": [
       "-0.11227706261566314"
      ]
     },
     "metadata": {},
     "output_type": "display_data"
    }
   ],
   "source": [
    "# Calculating percent change using the opening and closing values for the week\n",
    "sox_open = sox_close_week.loc['2020-02-20 09:30:00']\n",
    "sox_close = sox_close_week.loc['2020-02-25 15:00:00']\n",
    "\n",
    "display(sox_open)\n",
    "display(sox_close)\n",
    "\n",
    "percent_change = (sox_close - sox_open) / sox_open\n",
    "\n",
    "display(percent_change)"
   ]
  },
  {
   "cell_type": "markdown",
   "metadata": {},
   "source": [
    "# ================================"
   ]
  },
  {
   "cell_type": "markdown",
   "metadata": {},
   "source": [
    "### 2.04 Student Do: Markets and DateTime (20 mins)"
   ]
  },
  {
   "cell_type": "markdown",
   "metadata": {},
   "source": [
    "In this activity, you will analyze a CSV file that contains pricing data from a single week in February 2020 for various stocks and indexes. You will use the `loc` function and the Pandas DateTime functionality in order to determine the percent change in the price for one day of the week and for the week as a whole.\n",
    "\n",
    "## Instructions\n",
    "\n",
    "1. Using the Pandas `read_csv` function and the Path module, read `market_data.csv` into a Pandas DataFrame. Review the first five rows of the Dataframe. Then use the `info` function to determine the columns and their respective data types.\n",
    "\n",
    "2. Re-import `market_data.csv` using the `read_csv` function. This time, set the `index_col` to \"Timestamp\", and set the `parse_dates` and `infer_datetime_format` parameters. Display the first five rows of the Dataframe. Then use the `info` function to determine the columns and their respective data types.\n",
    "\n",
    "3. Using the `plot` function, plot the pricing information for the ticker of your choosing from the DataFrame. This will display the data for the full week's worth of information for the chosen stock.\n",
    "\n",
    "    **Hint:** You will notice that the data is very choppy. This is because the data contains information for times when the markets were not open and the stock or index was not trading.\n",
    "\n",
    "4. Using the same stock from Step 3, choose the day with the biggest pricing change and plot just that single day. You will need to use the `loc` function and reference your chosen date in the format displayed in the TimeStamp index. You will not reference the time in this step.\n",
    "\n",
    "5. For your chosen stock, plot the active trading period. To do this, use the `loc` function, reference the date used in Step 4, and add the time component. The trading day for these stocks will be from approximately 09:30 to 16:00.\n",
    "\n",
    "Next, complete the following steps to calculate the percent change in the stock/index for your chosen day of the week.\n",
    "\n",
    "6. Create a Pandas DataFrame that includes data for your chosen stocks trading day. To create the DataFrame, use the code from the previous step and remove the `plot` function. This should display the exact times that the stock/index started and finished trading. Confirm the creation of your DataFrame by displaying the first and last five rows.\n",
    "\n",
    "7. Create a variable called `day_open` that holds the opening price for your stock or index. Set this variable equal to the opening price using the `loc` function, and reference the date and exact time that trading began. View the value of this variable.\n",
    "\n",
    "8. Create a variable called `day_close` that holds the closing price for your stock or index. Set this variable equal to the closing price using the `loc` function, and reference the date and exact time that trading ended. View the value of this variable.\n",
    "\n",
    "9.  Calculate and display the percent change (`day_percent_change`) variable using the following formula: (day_close- day_open) / day_open\n",
    "\n",
    "Next, complete the following steps to calculate the percent change in the stock/index for the week.\n",
    "\n",
    "10. Create a Pandas DataFrame that includes the week's worth of trading data for your chosen stock. Use the `loc` function and specify the time from 09:30:00 on 2020-02-24 through 16:00:00 on 2020-02-28. Confirm the creation of your DataFrame by displaying the first and last five rows.\n",
    "\n",
    "11. Create a variable called `week_open` that holds the week's opening price for your stock or index. Set this variable equal to the opening price using the `loc` function, and reference the date and exact time that trading began on the first day of the week. Display this variable.\n",
    "\n",
    "12. Create a variable called `week_close` that holds the week's closing price for your stock or index. Set this variable equal to the closing price using the `loc` function, and reference the date and exact time that trading closed on the last day of the week. Display this variable.\n",
    "\n",
    "13.  Calculate and display the percent change (`week_percent_change`) variable using the following formula: (week_close - week_open) / week_open"
   ]
  },
  {
   "cell_type": "code",
   "execution_count": 35,
   "metadata": {},
   "outputs": [],
   "source": [
    "# Import required libraries\n",
    "\n",
    "import pandas as pd\n",
    "from pathlib import Path"
   ]
  },
  {
   "cell_type": "markdown",
   "metadata": {},
   "source": [
    "## Using the Pandas `read_csv` function and the Path module, read in the \"market_data.csv\" file and examine the DataFrame. Display the first five rows of the Dataframe. Utilize the `info()` function to determine the columns and their respective data-types."
   ]
  },
  {
   "cell_type": "code",
   "execution_count": 36,
   "metadata": {},
   "outputs": [
    {
     "data": {
      "text/html": [
       "<div>\n",
       "<style scoped>\n",
       "    .dataframe tbody tr th:only-of-type {\n",
       "        vertical-align: middle;\n",
       "    }\n",
       "\n",
       "    .dataframe tbody tr th {\n",
       "        vertical-align: top;\n",
       "    }\n",
       "\n",
       "    .dataframe thead th {\n",
       "        text-align: right;\n",
       "    }\n",
       "</style>\n",
       "<table border=\"1\" class=\"dataframe\">\n",
       "  <thead>\n",
       "    <tr style=\"text-align: right;\">\n",
       "      <th></th>\n",
       "      <th>TimeStamp</th>\n",
       "      <th>SPY</th>\n",
       "      <th>QQQ</th>\n",
       "      <th>IWM</th>\n",
       "      <th>AAPL</th>\n",
       "      <th>MSFT</th>\n",
       "      <th>NVDA</th>\n",
       "      <th>XLK</th>\n",
       "      <th>XLF</th>\n",
       "      <th>XLP</th>\n",
       "      <th>XLY</th>\n",
       "      <th>XTN</th>\n",
       "      <th>HYG</th>\n",
       "      <th>TLT</th>\n",
       "    </tr>\n",
       "  </thead>\n",
       "  <tbody>\n",
       "    <tr>\n",
       "      <th>0</th>\n",
       "      <td>2020-02-23 17:59:02.000</td>\n",
       "      <td>333.48</td>\n",
       "      <td>230.27</td>\n",
       "      <td>167.1</td>\n",
       "      <td>313.05</td>\n",
       "      <td>178.59</td>\n",
       "      <td>294.07</td>\n",
       "      <td>99.44</td>\n",
       "      <td>30.77</td>\n",
       "      <td>64.65</td>\n",
       "      <td>130.3</td>\n",
       "      <td>66.5047</td>\n",
       "      <td>88.33</td>\n",
       "      <td>148.04</td>\n",
       "    </tr>\n",
       "    <tr>\n",
       "      <th>1</th>\n",
       "      <td>2020-02-23 17:59:05.000</td>\n",
       "      <td>333.48</td>\n",
       "      <td>230.27</td>\n",
       "      <td>167.1</td>\n",
       "      <td>313.05</td>\n",
       "      <td>178.59</td>\n",
       "      <td>294.07</td>\n",
       "      <td>99.44</td>\n",
       "      <td>30.77</td>\n",
       "      <td>64.65</td>\n",
       "      <td>130.3</td>\n",
       "      <td>66.5047</td>\n",
       "      <td>88.33</td>\n",
       "      <td>148.04</td>\n",
       "    </tr>\n",
       "    <tr>\n",
       "      <th>2</th>\n",
       "      <td>2020-02-23 17:59:08.000</td>\n",
       "      <td>333.48</td>\n",
       "      <td>230.27</td>\n",
       "      <td>167.1</td>\n",
       "      <td>313.05</td>\n",
       "      <td>178.59</td>\n",
       "      <td>294.07</td>\n",
       "      <td>99.44</td>\n",
       "      <td>30.77</td>\n",
       "      <td>64.65</td>\n",
       "      <td>130.3</td>\n",
       "      <td>66.5047</td>\n",
       "      <td>88.33</td>\n",
       "      <td>148.04</td>\n",
       "    </tr>\n",
       "    <tr>\n",
       "      <th>3</th>\n",
       "      <td>2020-02-23 17:59:11.000</td>\n",
       "      <td>333.48</td>\n",
       "      <td>230.27</td>\n",
       "      <td>167.1</td>\n",
       "      <td>313.05</td>\n",
       "      <td>178.59</td>\n",
       "      <td>294.07</td>\n",
       "      <td>99.44</td>\n",
       "      <td>30.77</td>\n",
       "      <td>64.65</td>\n",
       "      <td>130.3</td>\n",
       "      <td>66.5047</td>\n",
       "      <td>88.33</td>\n",
       "      <td>148.04</td>\n",
       "    </tr>\n",
       "    <tr>\n",
       "      <th>4</th>\n",
       "      <td>2020-02-23 17:59:14.000</td>\n",
       "      <td>333.48</td>\n",
       "      <td>230.27</td>\n",
       "      <td>167.1</td>\n",
       "      <td>313.05</td>\n",
       "      <td>178.59</td>\n",
       "      <td>294.07</td>\n",
       "      <td>99.44</td>\n",
       "      <td>30.77</td>\n",
       "      <td>64.65</td>\n",
       "      <td>130.3</td>\n",
       "      <td>66.5047</td>\n",
       "      <td>88.33</td>\n",
       "      <td>148.04</td>\n",
       "    </tr>\n",
       "  </tbody>\n",
       "</table>\n",
       "</div>"
      ],
      "text/plain": [
       "                 TimeStamp     SPY     QQQ    IWM    AAPL    MSFT    NVDA  \\\n",
       "0  2020-02-23 17:59:02.000  333.48  230.27  167.1  313.05  178.59  294.07   \n",
       "1  2020-02-23 17:59:05.000  333.48  230.27  167.1  313.05  178.59  294.07   \n",
       "2  2020-02-23 17:59:08.000  333.48  230.27  167.1  313.05  178.59  294.07   \n",
       "3  2020-02-23 17:59:11.000  333.48  230.27  167.1  313.05  178.59  294.07   \n",
       "4  2020-02-23 17:59:14.000  333.48  230.27  167.1  313.05  178.59  294.07   \n",
       "\n",
       "     XLK    XLF    XLP    XLY      XTN    HYG     TLT  \n",
       "0  99.44  30.77  64.65  130.3  66.5047  88.33  148.04  \n",
       "1  99.44  30.77  64.65  130.3  66.5047  88.33  148.04  \n",
       "2  99.44  30.77  64.65  130.3  66.5047  88.33  148.04  \n",
       "3  99.44  30.77  64.65  130.3  66.5047  88.33  148.04  \n",
       "4  99.44  30.77  64.65  130.3  66.5047  88.33  148.04  "
      ]
     },
     "metadata": {},
     "output_type": "display_data"
    },
    {
     "name": "stdout",
     "output_type": "stream",
     "text": [
      "<class 'pandas.core.frame.DataFrame'>\n",
      "RangeIndex: 128367 entries, 0 to 128366\n",
      "Data columns (total 14 columns):\n",
      " #   Column     Non-Null Count   Dtype  \n",
      "---  ------     --------------   -----  \n",
      " 0   TimeStamp  128367 non-null  object \n",
      " 1   SPY        128367 non-null  float64\n",
      " 2   QQQ        128367 non-null  float64\n",
      " 3   IWM        128367 non-null  float64\n",
      " 4   AAPL       128367 non-null  float64\n",
      " 5   MSFT       128367 non-null  float64\n",
      " 6   NVDA       128367 non-null  float64\n",
      " 7   XLK        128367 non-null  float64\n",
      " 8   XLF        128367 non-null  float64\n",
      " 9   XLP        128367 non-null  float64\n",
      " 10  XLY        128367 non-null  float64\n",
      " 11  XTN        128367 non-null  float64\n",
      " 12  HYG        128367 non-null  float64\n",
      " 13  TLT        128367 non-null  float64\n",
      "dtypes: float64(13), object(1)\n",
      "memory usage: 13.7+ MB\n"
     ]
    }
   ],
   "source": [
    "# Using the Pandas `read_csv` function and the Path module, read in the \"Market_Data.csv\" file and examine the DataFrame. \n",
    "csv_file = '04-Stu_Markets_and_DateTime/Resources/market_data.csv'\n",
    "\n",
    "# Display the first five rows of the Dataframe\n",
    "\n",
    "\n",
    "# Utilize the `info()` function to determine the columns and their respective data-types\n"
   ]
  },
  {
   "cell_type": "markdown",
   "metadata": {},
   "source": [
    "## Reimport the \"market_data.csv\" file using the Pandas read_csv function, but this time set the `index_col` to \"Timestamp\", and set the `parse_dates` and `infer_datetime_format` parameters. Display the first five rows of the Dataframe. Utilize the `info()` function to determine the columns and their respective data-types."
   ]
  },
  {
   "cell_type": "code",
   "execution_count": 37,
   "metadata": {},
   "outputs": [
    {
     "data": {
      "text/html": [
       "<div>\n",
       "<style scoped>\n",
       "    .dataframe tbody tr th:only-of-type {\n",
       "        vertical-align: middle;\n",
       "    }\n",
       "\n",
       "    .dataframe tbody tr th {\n",
       "        vertical-align: top;\n",
       "    }\n",
       "\n",
       "    .dataframe thead th {\n",
       "        text-align: right;\n",
       "    }\n",
       "</style>\n",
       "<table border=\"1\" class=\"dataframe\">\n",
       "  <thead>\n",
       "    <tr style=\"text-align: right;\">\n",
       "      <th></th>\n",
       "      <th>SPY</th>\n",
       "      <th>QQQ</th>\n",
       "      <th>IWM</th>\n",
       "      <th>AAPL</th>\n",
       "      <th>MSFT</th>\n",
       "      <th>NVDA</th>\n",
       "      <th>XLK</th>\n",
       "      <th>XLF</th>\n",
       "      <th>XLP</th>\n",
       "      <th>XLY</th>\n",
       "      <th>XTN</th>\n",
       "      <th>HYG</th>\n",
       "      <th>TLT</th>\n",
       "    </tr>\n",
       "    <tr>\n",
       "      <th>TimeStamp</th>\n",
       "      <th></th>\n",
       "      <th></th>\n",
       "      <th></th>\n",
       "      <th></th>\n",
       "      <th></th>\n",
       "      <th></th>\n",
       "      <th></th>\n",
       "      <th></th>\n",
       "      <th></th>\n",
       "      <th></th>\n",
       "      <th></th>\n",
       "      <th></th>\n",
       "      <th></th>\n",
       "    </tr>\n",
       "  </thead>\n",
       "  <tbody>\n",
       "    <tr>\n",
       "      <th>2020-02-23 17:59:02</th>\n",
       "      <td>333.48</td>\n",
       "      <td>230.27</td>\n",
       "      <td>167.1</td>\n",
       "      <td>313.05</td>\n",
       "      <td>178.59</td>\n",
       "      <td>294.07</td>\n",
       "      <td>99.44</td>\n",
       "      <td>30.77</td>\n",
       "      <td>64.65</td>\n",
       "      <td>130.3</td>\n",
       "      <td>66.5047</td>\n",
       "      <td>88.33</td>\n",
       "      <td>148.04</td>\n",
       "    </tr>\n",
       "    <tr>\n",
       "      <th>2020-02-23 17:59:05</th>\n",
       "      <td>333.48</td>\n",
       "      <td>230.27</td>\n",
       "      <td>167.1</td>\n",
       "      <td>313.05</td>\n",
       "      <td>178.59</td>\n",
       "      <td>294.07</td>\n",
       "      <td>99.44</td>\n",
       "      <td>30.77</td>\n",
       "      <td>64.65</td>\n",
       "      <td>130.3</td>\n",
       "      <td>66.5047</td>\n",
       "      <td>88.33</td>\n",
       "      <td>148.04</td>\n",
       "    </tr>\n",
       "    <tr>\n",
       "      <th>2020-02-23 17:59:08</th>\n",
       "      <td>333.48</td>\n",
       "      <td>230.27</td>\n",
       "      <td>167.1</td>\n",
       "      <td>313.05</td>\n",
       "      <td>178.59</td>\n",
       "      <td>294.07</td>\n",
       "      <td>99.44</td>\n",
       "      <td>30.77</td>\n",
       "      <td>64.65</td>\n",
       "      <td>130.3</td>\n",
       "      <td>66.5047</td>\n",
       "      <td>88.33</td>\n",
       "      <td>148.04</td>\n",
       "    </tr>\n",
       "    <tr>\n",
       "      <th>2020-02-23 17:59:11</th>\n",
       "      <td>333.48</td>\n",
       "      <td>230.27</td>\n",
       "      <td>167.1</td>\n",
       "      <td>313.05</td>\n",
       "      <td>178.59</td>\n",
       "      <td>294.07</td>\n",
       "      <td>99.44</td>\n",
       "      <td>30.77</td>\n",
       "      <td>64.65</td>\n",
       "      <td>130.3</td>\n",
       "      <td>66.5047</td>\n",
       "      <td>88.33</td>\n",
       "      <td>148.04</td>\n",
       "    </tr>\n",
       "    <tr>\n",
       "      <th>2020-02-23 17:59:14</th>\n",
       "      <td>333.48</td>\n",
       "      <td>230.27</td>\n",
       "      <td>167.1</td>\n",
       "      <td>313.05</td>\n",
       "      <td>178.59</td>\n",
       "      <td>294.07</td>\n",
       "      <td>99.44</td>\n",
       "      <td>30.77</td>\n",
       "      <td>64.65</td>\n",
       "      <td>130.3</td>\n",
       "      <td>66.5047</td>\n",
       "      <td>88.33</td>\n",
       "      <td>148.04</td>\n",
       "    </tr>\n",
       "  </tbody>\n",
       "</table>\n",
       "</div>"
      ],
      "text/plain": [
       "                        SPY     QQQ    IWM    AAPL    MSFT    NVDA    XLK  \\\n",
       "TimeStamp                                                                   \n",
       "2020-02-23 17:59:02  333.48  230.27  167.1  313.05  178.59  294.07  99.44   \n",
       "2020-02-23 17:59:05  333.48  230.27  167.1  313.05  178.59  294.07  99.44   \n",
       "2020-02-23 17:59:08  333.48  230.27  167.1  313.05  178.59  294.07  99.44   \n",
       "2020-02-23 17:59:11  333.48  230.27  167.1  313.05  178.59  294.07  99.44   \n",
       "2020-02-23 17:59:14  333.48  230.27  167.1  313.05  178.59  294.07  99.44   \n",
       "\n",
       "                       XLF    XLP    XLY      XTN    HYG     TLT  \n",
       "TimeStamp                                                         \n",
       "2020-02-23 17:59:02  30.77  64.65  130.3  66.5047  88.33  148.04  \n",
       "2020-02-23 17:59:05  30.77  64.65  130.3  66.5047  88.33  148.04  \n",
       "2020-02-23 17:59:08  30.77  64.65  130.3  66.5047  88.33  148.04  \n",
       "2020-02-23 17:59:11  30.77  64.65  130.3  66.5047  88.33  148.04  \n",
       "2020-02-23 17:59:14  30.77  64.65  130.3  66.5047  88.33  148.04  "
      ]
     },
     "metadata": {},
     "output_type": "display_data"
    },
    {
     "name": "stdout",
     "output_type": "stream",
     "text": [
      "<class 'pandas.core.frame.DataFrame'>\n",
      "DatetimeIndex: 128367 entries, 2020-02-23 17:59:02 to 2020-02-28 17:40:57\n",
      "Data columns (total 13 columns):\n",
      " #   Column  Non-Null Count   Dtype  \n",
      "---  ------  --------------   -----  \n",
      " 0   SPY     128367 non-null  float64\n",
      " 1   QQQ     128367 non-null  float64\n",
      " 2   IWM     128367 non-null  float64\n",
      " 3   AAPL    128367 non-null  float64\n",
      " 4   MSFT    128367 non-null  float64\n",
      " 5   NVDA    128367 non-null  float64\n",
      " 6   XLK     128367 non-null  float64\n",
      " 7   XLF     128367 non-null  float64\n",
      " 8   XLP     128367 non-null  float64\n",
      " 9   XLY     128367 non-null  float64\n",
      " 10  XTN     128367 non-null  float64\n",
      " 11  HYG     128367 non-null  float64\n",
      " 12  TLT     128367 non-null  float64\n",
      "dtypes: float64(13)\n",
      "memory usage: 13.7 MB\n"
     ]
    }
   ],
   "source": [
    "# Using the Pandas `read_csv` function and the Path module, read in the \"Market_Data.csv\" file and examine the DataFrame. \n",
    "\n",
    "\n",
    "# Display the first five rows of the Dataframe\n",
    "\n",
    "\n",
    "# Utilize the `info()` function to determine the columns and their respective data-types\n"
   ]
  },
  {
   "cell_type": "markdown",
   "metadata": {},
   "source": [
    "### Plot the pricing information for your choosen stock or index"
   ]
  },
  {
   "cell_type": "code",
   "execution_count": 38,
   "metadata": {},
   "outputs": [
    {
     "data": {
      "text/plain": [
       "<AxesSubplot:xlabel='TimeStamp'>"
      ]
     },
     "execution_count": 38,
     "metadata": {},
     "output_type": "execute_result"
    },
    {
     "data": {
      "image/png": "[encoded data removed]",
      "text/plain": [
       "<Figure size 432x288 with 1 Axes>"
      ]
     },
     "metadata": {
      "needs_background": "light"
     },
     "output_type": "display_data"
    }
   ],
   "source": [
    "# Choose a stock or index and plot the data for the week's pricing information\n"
   ]
  },
  {
   "cell_type": "markdown",
   "metadata": {},
   "source": [
    "## Using the same stock from step 3, choose the day with the biggest pricing change and plot just that single day. You will need to utilize the `loc[]` function and reference your chosen date in the format displayed in the TimeStamp index. You will not reference the time in this step."
   ]
  },
  {
   "cell_type": "code",
   "execution_count": 39,
   "metadata": {},
   "outputs": [
    {
     "data": {
      "text/plain": [
       "<AxesSubplot:xlabel='TimeStamp'>"
      ]
     },
     "execution_count": 39,
     "metadata": {},
     "output_type": "execute_result"
    },
    {
     "data": {
      "image/png": "[encoded data removed]",
      "text/plain": [
       "<Figure size 432x288 with 1 Axes>"
      ]
     },
     "metadata": {
      "needs_background": "light"
     },
     "output_type": "display_data"
    }
   ],
   "source": [
    "# Using loc[], plot the stock or index for the day with the biggest pricing change\n"
   ]
  },
  {
   "cell_type": "markdown",
   "metadata": {},
   "source": [
    "## For your chosen stock, plot the active trading period. To do this, utilize the `loc[]` function, reference the date used in step 6 and add the time component. The trading day for these stocks will be from approximately 09:30 to 16:00."
   ]
  },
  {
   "cell_type": "code",
   "execution_count": 40,
   "metadata": {},
   "outputs": [
    {
     "data": {
      "text/plain": [
       "<AxesSubplot:xlabel='TimeStamp'>"
      ]
     },
     "execution_count": 40,
     "metadata": {},
     "output_type": "execute_result"
    },
    {
     "data": {
      "image/png": "[encoded data removed]",
      "text/plain": [
       "<Figure size 432x288 with 1 Axes>"
      ]
     },
     "metadata": {
      "needs_background": "light"
     },
     "output_type": "display_data"
    }
   ],
   "source": [
    "# Using loc[], plot your stock or index for the active trading hours of your chosen day (ie: time 09:30 and 16:00)\n"
   ]
  },
  {
   "cell_type": "markdown",
   "metadata": {},
   "source": [
    "## In the following steps you are going to calculate the percent change in the stock/index for your chosen day of the week."
   ]
  },
  {
   "cell_type": "markdown",
   "metadata": {},
   "source": [
    "## Create a Pandas DataFrame that includes data for your chosen stocks trading day. To create the DataFrame, use the code from the previous step and remove the `plot()` function. The should display the exact times that the stock/index started and finished trading. Confirm the creation of your DataFrame by displaying the first and last five rows."
   ]
  },
  {
   "cell_type": "code",
   "execution_count": 41,
   "metadata": {},
   "outputs": [
    {
     "data": {
      "text/plain": [
       "TimeStamp\n",
       "2020-02-27 09:30:00    267.65\n",
       "2020-02-27 09:30:03    254.84\n",
       "2020-02-27 09:30:06    254.90\n",
       "2020-02-27 09:30:09    254.78\n",
       "2020-02-27 09:30:12    254.06\n",
       "Name: NVDA, dtype: float64"
      ]
     },
     "metadata": {},
     "output_type": "display_data"
    },
    {
     "data": {
      "text/plain": [
       "TimeStamp\n",
       "2020-02-27 15:59:46    253.61\n",
       "2020-02-27 15:59:49    253.69\n",
       "2020-02-27 15:59:52    253.50\n",
       "2020-02-27 15:59:55    253.59\n",
       "2020-02-27 15:59:58    253.65\n",
       "Name: NVDA, dtype: float64"
      ]
     },
     "metadata": {},
     "output_type": "display_data"
    }
   ],
   "source": [
    "# View the DataFrame for your chosen day to determine the exact opening and closing times.\n",
    "\n",
    "\n",
    "# Display the first and last five rows of the resulting DataFrame\n",
    "\n"
   ]
  },
  {
   "cell_type": "markdown",
   "metadata": {},
   "source": [
    "## Create a variable called `day_open` that holds the opening price for your stock or index. Set this variable equal to the opening price using the `loc[]` function and reference the date and exact time that trading began. View the value of this variable."
   ]
  },
  {
   "cell_type": "code",
   "execution_count": 42,
   "metadata": {},
   "outputs": [
    {
     "data": {
      "text/plain": [
       "267.65"
      ]
     },
     "execution_count": 42,
     "metadata": {},
     "output_type": "execute_result"
    }
   ],
   "source": [
    "# Crate a variable day_open to hold the opening price (approximately 09:30:00) for the week\n",
    "\n",
    "\n",
    "# View the day_close value\n"
   ]
  },
  {
   "cell_type": "markdown",
   "metadata": {},
   "source": [
    "## Create a variable called `day_close` that holds the closing price for your stock or index. Set this variable equal to the closing price using the `loc[]` function and reference the date and exact time that trading ended. View the value of this variable."
   ]
  },
  {
   "cell_type": "code",
   "execution_count": 43,
   "metadata": {},
   "outputs": [
    {
     "data": {
      "text/plain": [
       "253.65"
      ]
     },
     "execution_count": 43,
     "metadata": {},
     "output_type": "execute_result"
    }
   ],
   "source": [
    "# Crate a variable (ie day_close_spy) to hold the closing (approximately 16:00:00) price for the chosen day\n",
    "\n",
    "\n",
    "# View the day_close value\n"
   ]
  },
  {
   "cell_type": "markdown",
   "metadata": {},
   "source": [
    "## Calculate and display the percent change (day_percent_change) variable using the formula `(day_close- day_open) / day_open`"
   ]
  },
  {
   "cell_type": "code",
   "execution_count": 44,
   "metadata": {},
   "outputs": [
    {
     "data": {
      "text/plain": [
       "-0.05230711750420315"
      ]
     },
     "execution_count": 44,
     "metadata": {},
     "output_type": "execute_result"
    }
   ],
   "source": [
    "# Using the variables, calculate the percent change in the price for the trading day (close-open/open)\n",
    "\n",
    "\n",
    "# View the percent change of your stock on the day chosen\n"
   ]
  },
  {
   "cell_type": "markdown",
   "metadata": {},
   "source": [
    "## In the following steps you are going to calculate the percent change in the stock/index for the week."
   ]
  },
  {
   "cell_type": "markdown",
   "metadata": {},
   "source": [
    "## Create a Pandas DataFrame that includes the weeks worth of trading data for your chosen stock. Use the `loc` function and specify the time from 09:30:00 on 2020-02-24 through 16:00:00 on 202-02-28. Confirm the creation of your DataFrame by displaying the first and last five rows of the DataFrame."
   ]
  },
  {
   "cell_type": "code",
   "execution_count": 45,
   "metadata": {},
   "outputs": [
    {
     "data": {
      "text/plain": [
       "TimeStamp\n",
       "2020-02-24 09:30:02    294.07\n",
       "2020-02-24 09:30:05    271.47\n",
       "2020-02-24 09:30:08    270.39\n",
       "2020-02-24 09:30:11    269.76\n",
       "2020-02-24 09:30:14    269.97\n",
       "Name: NVDA, dtype: float64"
      ]
     },
     "metadata": {},
     "output_type": "display_data"
    },
    {
     "data": {
      "text/plain": [
       "TimeStamp\n",
       "2020-02-28 15:59:48    267.5500\n",
       "2020-02-28 15:59:51    267.5500\n",
       "2020-02-28 15:59:54    267.9332\n",
       "2020-02-28 15:59:57    267.9332\n",
       "2020-02-28 16:00:00    267.9900\n",
       "Name: NVDA, dtype: float64"
      ]
     },
     "metadata": {},
     "output_type": "display_data"
    }
   ],
   "source": [
    "# Create a Pandas DataFrame that includes the weeks worth of trading data for your chosen stock. \n",
    "# Use the `loc` function and specify the time from 2020-02-24 09:30:00 through 2020-02-28 16:00:00.\n",
    "\n",
    "\n",
    "# Display the first and last five rows of your DataFrame\n",
    "\n"
   ]
  },
  {
   "cell_type": "markdown",
   "metadata": {},
   "source": [
    "## Create a variable `week_open` that holds the week's opening price for your stock or index. Set this variable equal to the opening price using the `loc[]` function and reference the date and exact time that trading began on the first day of the week. Display this variable."
   ]
  },
  {
   "cell_type": "code",
   "execution_count": 46,
   "metadata": {},
   "outputs": [
    {
     "data": {
      "text/plain": [
       "294.07"
      ]
     },
     "execution_count": 46,
     "metadata": {},
     "output_type": "execute_result"
    }
   ],
   "source": [
    "# Set the opening price for the week to a variable called week_open.\n",
    "\n",
    "\n",
    "# View the value of week_open\n"
   ]
  },
  {
   "cell_type": "markdown",
   "metadata": {},
   "source": [
    "## Create a variable `week_close` that holds the week's closing price for your stock or index. Set this variable equal to the closing price using the `loc[]` function and reference the date and exact time that trading closed on the last day of the week. Display this variable."
   ]
  },
  {
   "cell_type": "code",
   "execution_count": 47,
   "metadata": {},
   "outputs": [
    {
     "data": {
      "text/plain": [
       "267.99"
      ]
     },
     "execution_count": 47,
     "metadata": {},
     "output_type": "execute_result"
    }
   ],
   "source": [
    "# Set the closing price for the week to a variable called week_close.\n",
    "\n",
    "\n",
    "# View the value of week_close\n"
   ]
  },
  {
   "cell_type": "markdown",
   "metadata": {},
   "source": [
    "## Calculate and display the percent change (week_percent_change) variable using the formula `(week_close - week_open) / week_open`"
   ]
  },
  {
   "cell_type": "code",
   "execution_count": 48,
   "metadata": {},
   "outputs": [
    {
     "data": {
      "text/plain": [
       "-0.08868636719148497"
      ]
     },
     "execution_count": 48,
     "metadata": {},
     "output_type": "execute_result"
    }
   ],
   "source": [
    "# Using the variables, calculate the percent change in the price for the trading week (close-open/open)\n",
    "\n",
    "\n",
    "# View the value of the week_percent_change\n"
   ]
  },
  {
   "cell_type": "markdown",
   "metadata": {},
   "source": [
    "# ================================"
   ]
  },
  {
   "cell_type": "markdown",
   "metadata": {},
   "source": [
    "### 2.05 Instructor Do: Arbitrage in Code (10 mins)"
   ]
  },
  {
   "cell_type": "markdown",
   "metadata": {},
   "source": [
    "# Arbitrage\n",
    "\n",
    "In this demonstration, we will be evaluating a statistical arbitrage opportunity for 2 correlated stocks, Coca-Cola (KO) and Pepsi (PEP)."
   ]
  },
  {
   "cell_type": "code",
   "execution_count": 49,
   "metadata": {},
   "outputs": [],
   "source": [
    "# Import required libraries\n",
    "\n",
    "import pandas as pd\n",
    "from pathlib import Path"
   ]
  },
  {
   "cell_type": "markdown",
   "metadata": {},
   "source": [
    "### Read in the CSV files and examine the DataFrames for both  Coca-Cola (KO) and Pepsi (PEP)"
   ]
  },
  {
   "cell_type": "code",
   "execution_count": 50,
   "metadata": {},
   "outputs": [
    {
     "name": "stdout",
     "output_type": "stream",
     "text": [
      "<class 'pandas.core.frame.DataFrame'>\n",
      "RangeIndex: 67028 entries, 0 to 67027\n",
      "Data columns (total 6 columns):\n",
      " #   Column    Non-Null Count  Dtype  \n",
      "---  ------    --------------  -----  \n",
      " 0   DateTime  67028 non-null  object \n",
      " 1   open      67028 non-null  float64\n",
      " 2   high      67028 non-null  float64\n",
      " 3   low       67028 non-null  float64\n",
      " 4   close     67028 non-null  float64\n",
      " 5   volume    67028 non-null  int64  \n",
      "dtypes: float64(4), int64(1), object(1)\n",
      "memory usage: 3.1+ MB\n"
     ]
    },
    {
     "data": {
      "text/html": [
       "<div>\n",
       "<style scoped>\n",
       "    .dataframe tbody tr th:only-of-type {\n",
       "        vertical-align: middle;\n",
       "    }\n",
       "\n",
       "    .dataframe tbody tr th {\n",
       "        vertical-align: top;\n",
       "    }\n",
       "\n",
       "    .dataframe thead th {\n",
       "        text-align: right;\n",
       "    }\n",
       "</style>\n",
       "<table border=\"1\" class=\"dataframe\">\n",
       "  <thead>\n",
       "    <tr style=\"text-align: right;\">\n",
       "      <th></th>\n",
       "      <th>DateTime</th>\n",
       "      <th>open</th>\n",
       "      <th>high</th>\n",
       "      <th>low</th>\n",
       "      <th>close</th>\n",
       "      <th>volume</th>\n",
       "    </tr>\n",
       "  </thead>\n",
       "  <tbody>\n",
       "    <tr>\n",
       "      <th>0</th>\n",
       "      <td>2017-01-03 09:30:00-05:00</td>\n",
       "      <td>41.495</td>\n",
       "      <td>41.600</td>\n",
       "      <td>41.475</td>\n",
       "      <td>41.540</td>\n",
       "      <td>15369</td>\n",
       "    </tr>\n",
       "    <tr>\n",
       "      <th>1</th>\n",
       "      <td>2017-01-03 09:35:00-05:00</td>\n",
       "      <td>41.530</td>\n",
       "      <td>41.530</td>\n",
       "      <td>41.370</td>\n",
       "      <td>41.380</td>\n",
       "      <td>4129</td>\n",
       "    </tr>\n",
       "    <tr>\n",
       "      <th>2</th>\n",
       "      <td>2017-01-03 09:40:00-05:00</td>\n",
       "      <td>41.370</td>\n",
       "      <td>41.390</td>\n",
       "      <td>41.310</td>\n",
       "      <td>41.320</td>\n",
       "      <td>7095</td>\n",
       "    </tr>\n",
       "    <tr>\n",
       "      <th>3</th>\n",
       "      <td>2017-01-03 09:45:00-05:00</td>\n",
       "      <td>41.320</td>\n",
       "      <td>41.400</td>\n",
       "      <td>41.320</td>\n",
       "      <td>41.330</td>\n",
       "      <td>8577</td>\n",
       "    </tr>\n",
       "    <tr>\n",
       "      <th>4</th>\n",
       "      <td>2017-01-03 09:50:00-05:00</td>\n",
       "      <td>41.340</td>\n",
       "      <td>41.370</td>\n",
       "      <td>41.285</td>\n",
       "      <td>41.370</td>\n",
       "      <td>6836</td>\n",
       "    </tr>\n",
       "    <tr>\n",
       "      <th>...</th>\n",
       "      <td>...</td>\n",
       "      <td>...</td>\n",
       "      <td>...</td>\n",
       "      <td>...</td>\n",
       "      <td>...</td>\n",
       "      <td>...</td>\n",
       "    </tr>\n",
       "    <tr>\n",
       "      <th>67023</th>\n",
       "      <td>2020-07-31 15:35:00-04:00</td>\n",
       "      <td>46.965</td>\n",
       "      <td>47.015</td>\n",
       "      <td>46.960</td>\n",
       "      <td>46.965</td>\n",
       "      <td>39912</td>\n",
       "    </tr>\n",
       "    <tr>\n",
       "      <th>67024</th>\n",
       "      <td>2020-07-31 15:40:00-04:00</td>\n",
       "      <td>46.965</td>\n",
       "      <td>47.005</td>\n",
       "      <td>46.945</td>\n",
       "      <td>46.990</td>\n",
       "      <td>29988</td>\n",
       "    </tr>\n",
       "    <tr>\n",
       "      <th>67025</th>\n",
       "      <td>2020-07-31 15:45:00-04:00</td>\n",
       "      <td>47.000</td>\n",
       "      <td>47.125</td>\n",
       "      <td>47.000</td>\n",
       "      <td>47.120</td>\n",
       "      <td>94006</td>\n",
       "    </tr>\n",
       "    <tr>\n",
       "      <th>67026</th>\n",
       "      <td>2020-07-31 15:50:00-04:00</td>\n",
       "      <td>47.120</td>\n",
       "      <td>47.140</td>\n",
       "      <td>47.045</td>\n",
       "      <td>47.090</td>\n",
       "      <td>86888</td>\n",
       "    </tr>\n",
       "    <tr>\n",
       "      <th>67027</th>\n",
       "      <td>2020-07-31 15:55:00-04:00</td>\n",
       "      <td>47.080</td>\n",
       "      <td>47.240</td>\n",
       "      <td>47.070</td>\n",
       "      <td>47.220</td>\n",
       "      <td>320580</td>\n",
       "    </tr>\n",
       "  </tbody>\n",
       "</table>\n",
       "<p>67028 rows × 6 columns</p>\n",
       "</div>"
      ],
      "text/plain": [
       "                        DateTime    open    high     low   close  volume\n",
       "0      2017-01-03 09:30:00-05:00  41.495  41.600  41.475  41.540   15369\n",
       "1      2017-01-03 09:35:00-05:00  41.530  41.530  41.370  41.380    4129\n",
       "2      2017-01-03 09:40:00-05:00  41.370  41.390  41.310  41.320    7095\n",
       "3      2017-01-03 09:45:00-05:00  41.320  41.400  41.320  41.330    8577\n",
       "4      2017-01-03 09:50:00-05:00  41.340  41.370  41.285  41.370    6836\n",
       "...                          ...     ...     ...     ...     ...     ...\n",
       "67023  2020-07-31 15:35:00-04:00  46.965  47.015  46.960  46.965   39912\n",
       "67024  2020-07-31 15:40:00-04:00  46.965  47.005  46.945  46.990   29988\n",
       "67025  2020-07-31 15:45:00-04:00  47.000  47.125  47.000  47.120   94006\n",
       "67026  2020-07-31 15:50:00-04:00  47.120  47.140  47.045  47.090   86888\n",
       "67027  2020-07-31 15:55:00-04:00  47.080  47.240  47.070  47.220  320580\n",
       "\n",
       "[67028 rows x 6 columns]"
      ]
     },
     "execution_count": 50,
     "metadata": {},
     "output_type": "execute_result"
    }
   ],
   "source": [
    "# For KO: Set the path, read in the CSV file using Pandas and review the DataFrame.\n",
    "file_path = Path('05-Inst_Arbitrage_in_Code/Resources/KO.csv')\n",
    "\n",
    "# Read in the CSV as a DataFrame\n",
    "KO_csv = pd.read_csv(file_path)\n",
    "KO_csv.info()\n",
    "KO_csv"
   ]
  },
  {
   "cell_type": "code",
   "execution_count": 51,
   "metadata": {},
   "outputs": [
    {
     "name": "stdout",
     "output_type": "stream",
     "text": [
      "<class 'pandas.core.frame.DataFrame'>\n",
      "RangeIndex: 68802 entries, 0 to 68801\n",
      "Data columns (total 6 columns):\n",
      " #   Column    Non-Null Count  Dtype  \n",
      "---  ------    --------------  -----  \n",
      " 0   DateTime  68802 non-null  object \n",
      " 1   open      68802 non-null  float64\n",
      " 2   high      68802 non-null  float64\n",
      " 3   low       68802 non-null  float64\n",
      " 4   close     68802 non-null  float64\n",
      " 5   volume    68802 non-null  int64  \n",
      "dtypes: float64(4), int64(1), object(1)\n",
      "memory usage: 3.1+ MB\n"
     ]
    },
    {
     "data": {
      "text/html": [
       "<div>\n",
       "<style scoped>\n",
       "    .dataframe tbody tr th:only-of-type {\n",
       "        vertical-align: middle;\n",
       "    }\n",
       "\n",
       "    .dataframe tbody tr th {\n",
       "        vertical-align: top;\n",
       "    }\n",
       "\n",
       "    .dataframe thead th {\n",
       "        text-align: right;\n",
       "    }\n",
       "</style>\n",
       "<table border=\"1\" class=\"dataframe\">\n",
       "  <thead>\n",
       "    <tr style=\"text-align: right;\">\n",
       "      <th></th>\n",
       "      <th>DateTime</th>\n",
       "      <th>open</th>\n",
       "      <th>high</th>\n",
       "      <th>low</th>\n",
       "      <th>close</th>\n",
       "      <th>volume</th>\n",
       "    </tr>\n",
       "  </thead>\n",
       "  <tbody>\n",
       "    <tr>\n",
       "      <th>0</th>\n",
       "      <td>2017-01-03 09:30:00-05:00</td>\n",
       "      <td>104.94</td>\n",
       "      <td>104.95</td>\n",
       "      <td>104.73</td>\n",
       "      <td>104.84</td>\n",
       "      <td>2413</td>\n",
       "    </tr>\n",
       "    <tr>\n",
       "      <th>1</th>\n",
       "      <td>2017-01-03 09:35:00-05:00</td>\n",
       "      <td>104.71</td>\n",
       "      <td>104.86</td>\n",
       "      <td>104.60</td>\n",
       "      <td>104.60</td>\n",
       "      <td>500</td>\n",
       "    </tr>\n",
       "    <tr>\n",
       "      <th>2</th>\n",
       "      <td>2017-01-03 09:40:00-05:00</td>\n",
       "      <td>104.61</td>\n",
       "      <td>104.61</td>\n",
       "      <td>104.50</td>\n",
       "      <td>104.51</td>\n",
       "      <td>816</td>\n",
       "    </tr>\n",
       "    <tr>\n",
       "      <th>3</th>\n",
       "      <td>2017-01-03 09:45:00-05:00</td>\n",
       "      <td>104.56</td>\n",
       "      <td>104.56</td>\n",
       "      <td>104.48</td>\n",
       "      <td>104.48</td>\n",
       "      <td>300</td>\n",
       "    </tr>\n",
       "    <tr>\n",
       "      <th>4</th>\n",
       "      <td>2017-01-03 09:50:00-05:00</td>\n",
       "      <td>104.47</td>\n",
       "      <td>104.65</td>\n",
       "      <td>104.47</td>\n",
       "      <td>104.62</td>\n",
       "      <td>1321</td>\n",
       "    </tr>\n",
       "    <tr>\n",
       "      <th>...</th>\n",
       "      <td>...</td>\n",
       "      <td>...</td>\n",
       "      <td>...</td>\n",
       "      <td>...</td>\n",
       "      <td>...</td>\n",
       "      <td>...</td>\n",
       "    </tr>\n",
       "    <tr>\n",
       "      <th>68797</th>\n",
       "      <td>2020-07-31 15:35:00-04:00</td>\n",
       "      <td>136.77</td>\n",
       "      <td>136.87</td>\n",
       "      <td>136.77</td>\n",
       "      <td>136.85</td>\n",
       "      <td>2676</td>\n",
       "    </tr>\n",
       "    <tr>\n",
       "      <th>68798</th>\n",
       "      <td>2020-07-31 15:40:00-04:00</td>\n",
       "      <td>136.78</td>\n",
       "      <td>136.90</td>\n",
       "      <td>136.74</td>\n",
       "      <td>136.90</td>\n",
       "      <td>2956</td>\n",
       "    </tr>\n",
       "    <tr>\n",
       "      <th>68799</th>\n",
       "      <td>2020-07-31 15:45:00-04:00</td>\n",
       "      <td>137.12</td>\n",
       "      <td>137.16</td>\n",
       "      <td>136.96</td>\n",
       "      <td>137.16</td>\n",
       "      <td>2585</td>\n",
       "    </tr>\n",
       "    <tr>\n",
       "      <th>68800</th>\n",
       "      <td>2020-07-31 15:50:00-04:00</td>\n",
       "      <td>137.19</td>\n",
       "      <td>137.40</td>\n",
       "      <td>137.04</td>\n",
       "      <td>137.33</td>\n",
       "      <td>10280</td>\n",
       "    </tr>\n",
       "    <tr>\n",
       "      <th>68801</th>\n",
       "      <td>2020-07-31 15:55:00-04:00</td>\n",
       "      <td>137.26</td>\n",
       "      <td>137.67</td>\n",
       "      <td>137.26</td>\n",
       "      <td>137.67</td>\n",
       "      <td>6568</td>\n",
       "    </tr>\n",
       "  </tbody>\n",
       "</table>\n",
       "<p>68802 rows × 6 columns</p>\n",
       "</div>"
      ],
      "text/plain": [
       "                        DateTime    open    high     low   close  volume\n",
       "0      2017-01-03 09:30:00-05:00  104.94  104.95  104.73  104.84    2413\n",
       "1      2017-01-03 09:35:00-05:00  104.71  104.86  104.60  104.60     500\n",
       "2      2017-01-03 09:40:00-05:00  104.61  104.61  104.50  104.51     816\n",
       "3      2017-01-03 09:45:00-05:00  104.56  104.56  104.48  104.48     300\n",
       "4      2017-01-03 09:50:00-05:00  104.47  104.65  104.47  104.62    1321\n",
       "...                          ...     ...     ...     ...     ...     ...\n",
       "68797  2020-07-31 15:35:00-04:00  136.77  136.87  136.77  136.85    2676\n",
       "68798  2020-07-31 15:40:00-04:00  136.78  136.90  136.74  136.90    2956\n",
       "68799  2020-07-31 15:45:00-04:00  137.12  137.16  136.96  137.16    2585\n",
       "68800  2020-07-31 15:50:00-04:00  137.19  137.40  137.04  137.33   10280\n",
       "68801  2020-07-31 15:55:00-04:00  137.26  137.67  137.26  137.67    6568\n",
       "\n",
       "[68802 rows x 6 columns]"
      ]
     },
     "execution_count": 51,
     "metadata": {},
     "output_type": "execute_result"
    }
   ],
   "source": [
    "# For PEP: Set the path, read in the CSV file using Pandas and review the DataFrame.\n",
    "file_path = Path('05-Inst_Arbitrage_in_Code/Resources/PEP.csv')\n",
    "\n",
    "# Read in the CSV as a DataFrame\n",
    "PEP_csv = pd.read_csv(file_path)\n",
    "PEP_csv.info()\n",
    "PEP_csv"
   ]
  },
  {
   "cell_type": "markdown",
   "metadata": {},
   "source": [
    "### Convert the DateTime column from Pandas object to DateTime series & set as the Index"
   ]
  },
  {
   "cell_type": "code",
   "execution_count": 52,
   "metadata": {},
   "outputs": [
    {
     "name": "stdout",
     "output_type": "stream",
     "text": [
      "<class 'pandas.core.frame.DataFrame'>\n",
      "RangeIndex: 67028 entries, 0 to 67027\n",
      "Data columns (total 6 columns):\n",
      " #   Column    Non-Null Count  Dtype                     \n",
      "---  ------    --------------  -----                     \n",
      " 0   DateTime  67028 non-null  datetime64[ns, US/Eastern]\n",
      " 1   open      67028 non-null  float64                   \n",
      " 2   high      67028 non-null  float64                   \n",
      " 3   low       67028 non-null  float64                   \n",
      " 4   close     67028 non-null  float64                   \n",
      " 5   volume    67028 non-null  int64                     \n",
      "dtypes: datetime64[ns, US/Eastern](1), float64(4), int64(1)\n",
      "memory usage: 3.1 MB\n"
     ]
    }
   ],
   "source": [
    "KO_csv['DateTime'] = pd.to_datetime(KO_csv['DateTime'], infer_datetime_format=True, utc=True)\n",
    "KO_csv['DateTime'] = KO_csv['DateTime'].dt.tz_convert('US/Eastern')\n",
    "KO_csv.info()"
   ]
  },
  {
   "cell_type": "code",
   "execution_count": 53,
   "metadata": {},
   "outputs": [
    {
     "data": {
      "text/html": [
       "<div>\n",
       "<style scoped>\n",
       "    .dataframe tbody tr th:only-of-type {\n",
       "        vertical-align: middle;\n",
       "    }\n",
       "\n",
       "    .dataframe tbody tr th {\n",
       "        vertical-align: top;\n",
       "    }\n",
       "\n",
       "    .dataframe thead th {\n",
       "        text-align: right;\n",
       "    }\n",
       "</style>\n",
       "<table border=\"1\" class=\"dataframe\">\n",
       "  <thead>\n",
       "    <tr style=\"text-align: right;\">\n",
       "      <th></th>\n",
       "      <th>open</th>\n",
       "      <th>high</th>\n",
       "      <th>low</th>\n",
       "      <th>close</th>\n",
       "      <th>volume</th>\n",
       "    </tr>\n",
       "    <tr>\n",
       "      <th>DateTime</th>\n",
       "      <th></th>\n",
       "      <th></th>\n",
       "      <th></th>\n",
       "      <th></th>\n",
       "      <th></th>\n",
       "    </tr>\n",
       "  </thead>\n",
       "  <tbody>\n",
       "    <tr>\n",
       "      <th>2017-01-03 09:30:00-05:00</th>\n",
       "      <td>41.495</td>\n",
       "      <td>41.600</td>\n",
       "      <td>41.475</td>\n",
       "      <td>41.540</td>\n",
       "      <td>15369</td>\n",
       "    </tr>\n",
       "    <tr>\n",
       "      <th>2017-01-03 09:35:00-05:00</th>\n",
       "      <td>41.530</td>\n",
       "      <td>41.530</td>\n",
       "      <td>41.370</td>\n",
       "      <td>41.380</td>\n",
       "      <td>4129</td>\n",
       "    </tr>\n",
       "    <tr>\n",
       "      <th>2017-01-03 09:40:00-05:00</th>\n",
       "      <td>41.370</td>\n",
       "      <td>41.390</td>\n",
       "      <td>41.310</td>\n",
       "      <td>41.320</td>\n",
       "      <td>7095</td>\n",
       "    </tr>\n",
       "    <tr>\n",
       "      <th>2017-01-03 09:45:00-05:00</th>\n",
       "      <td>41.320</td>\n",
       "      <td>41.400</td>\n",
       "      <td>41.320</td>\n",
       "      <td>41.330</td>\n",
       "      <td>8577</td>\n",
       "    </tr>\n",
       "    <tr>\n",
       "      <th>2017-01-03 09:50:00-05:00</th>\n",
       "      <td>41.340</td>\n",
       "      <td>41.370</td>\n",
       "      <td>41.285</td>\n",
       "      <td>41.370</td>\n",
       "      <td>6836</td>\n",
       "    </tr>\n",
       "    <tr>\n",
       "      <th>...</th>\n",
       "      <td>...</td>\n",
       "      <td>...</td>\n",
       "      <td>...</td>\n",
       "      <td>...</td>\n",
       "      <td>...</td>\n",
       "    </tr>\n",
       "    <tr>\n",
       "      <th>2020-07-31 15:35:00-04:00</th>\n",
       "      <td>46.965</td>\n",
       "      <td>47.015</td>\n",
       "      <td>46.960</td>\n",
       "      <td>46.965</td>\n",
       "      <td>39912</td>\n",
       "    </tr>\n",
       "    <tr>\n",
       "      <th>2020-07-31 15:40:00-04:00</th>\n",
       "      <td>46.965</td>\n",
       "      <td>47.005</td>\n",
       "      <td>46.945</td>\n",
       "      <td>46.990</td>\n",
       "      <td>29988</td>\n",
       "    </tr>\n",
       "    <tr>\n",
       "      <th>2020-07-31 15:45:00-04:00</th>\n",
       "      <td>47.000</td>\n",
       "      <td>47.125</td>\n",
       "      <td>47.000</td>\n",
       "      <td>47.120</td>\n",
       "      <td>94006</td>\n",
       "    </tr>\n",
       "    <tr>\n",
       "      <th>2020-07-31 15:50:00-04:00</th>\n",
       "      <td>47.120</td>\n",
       "      <td>47.140</td>\n",
       "      <td>47.045</td>\n",
       "      <td>47.090</td>\n",
       "      <td>86888</td>\n",
       "    </tr>\n",
       "    <tr>\n",
       "      <th>2020-07-31 15:55:00-04:00</th>\n",
       "      <td>47.080</td>\n",
       "      <td>47.240</td>\n",
       "      <td>47.070</td>\n",
       "      <td>47.220</td>\n",
       "      <td>320580</td>\n",
       "    </tr>\n",
       "  </tbody>\n",
       "</table>\n",
       "<p>67028 rows × 5 columns</p>\n",
       "</div>"
      ],
      "text/plain": [
       "                             open    high     low   close  volume\n",
       "DateTime                                                         \n",
       "2017-01-03 09:30:00-05:00  41.495  41.600  41.475  41.540   15369\n",
       "2017-01-03 09:35:00-05:00  41.530  41.530  41.370  41.380    4129\n",
       "2017-01-03 09:40:00-05:00  41.370  41.390  41.310  41.320    7095\n",
       "2017-01-03 09:45:00-05:00  41.320  41.400  41.320  41.330    8577\n",
       "2017-01-03 09:50:00-05:00  41.340  41.370  41.285  41.370    6836\n",
       "...                           ...     ...     ...     ...     ...\n",
       "2020-07-31 15:35:00-04:00  46.965  47.015  46.960  46.965   39912\n",
       "2020-07-31 15:40:00-04:00  46.965  47.005  46.945  46.990   29988\n",
       "2020-07-31 15:45:00-04:00  47.000  47.125  47.000  47.120   94006\n",
       "2020-07-31 15:50:00-04:00  47.120  47.140  47.045  47.090   86888\n",
       "2020-07-31 15:55:00-04:00  47.080  47.240  47.070  47.220  320580\n",
       "\n",
       "[67028 rows x 5 columns]"
      ]
     },
     "execution_count": 53,
     "metadata": {},
     "output_type": "execute_result"
    }
   ],
   "source": [
    "KO_csv = KO_csv.set_index(KO_csv['DateTime']).drop(columns=['DateTime'])\n",
    "KO_csv"
   ]
  },
  {
   "cell_type": "code",
   "execution_count": 54,
   "metadata": {},
   "outputs": [
    {
     "name": "stdout",
     "output_type": "stream",
     "text": [
      "<class 'pandas.core.frame.DataFrame'>\n",
      "RangeIndex: 68802 entries, 0 to 68801\n",
      "Data columns (total 6 columns):\n",
      " #   Column    Non-Null Count  Dtype                     \n",
      "---  ------    --------------  -----                     \n",
      " 0   DateTime  68802 non-null  datetime64[ns, US/Eastern]\n",
      " 1   open      68802 non-null  float64                   \n",
      " 2   high      68802 non-null  float64                   \n",
      " 3   low       68802 non-null  float64                   \n",
      " 4   close     68802 non-null  float64                   \n",
      " 5   volume    68802 non-null  int64                     \n",
      "dtypes: datetime64[ns, US/Eastern](1), float64(4), int64(1)\n",
      "memory usage: 3.1 MB\n"
     ]
    }
   ],
   "source": [
    "PEP_csv['DateTime'] = pd.to_datetime(PEP_csv['DateTime'], infer_datetime_format=True, utc=True)\n",
    "PEP_csv['DateTime'] = PEP_csv['DateTime'].dt.tz_convert('US/Eastern')\n",
    "PEP_csv.info()"
   ]
  },
  {
   "cell_type": "code",
   "execution_count": 55,
   "metadata": {},
   "outputs": [
    {
     "name": "stdout",
     "output_type": "stream",
     "text": [
      "<class 'pandas.core.frame.DataFrame'>\n",
      "DatetimeIndex: 68802 entries, 2017-01-03 09:30:00-05:00 to 2020-07-31 15:55:00-04:00\n",
      "Data columns (total 5 columns):\n",
      " #   Column  Non-Null Count  Dtype  \n",
      "---  ------  --------------  -----  \n",
      " 0   open    68802 non-null  float64\n",
      " 1   high    68802 non-null  float64\n",
      " 2   low     68802 non-null  float64\n",
      " 3   close   68802 non-null  float64\n",
      " 4   volume  68802 non-null  int64  \n",
      "dtypes: float64(4), int64(1)\n",
      "memory usage: 3.1 MB\n"
     ]
    },
    {
     "data": {
      "text/html": [
       "<div>\n",
       "<style scoped>\n",
       "    .dataframe tbody tr th:only-of-type {\n",
       "        vertical-align: middle;\n",
       "    }\n",
       "\n",
       "    .dataframe tbody tr th {\n",
       "        vertical-align: top;\n",
       "    }\n",
       "\n",
       "    .dataframe thead th {\n",
       "        text-align: right;\n",
       "    }\n",
       "</style>\n",
       "<table border=\"1\" class=\"dataframe\">\n",
       "  <thead>\n",
       "    <tr style=\"text-align: right;\">\n",
       "      <th></th>\n",
       "      <th>open</th>\n",
       "      <th>high</th>\n",
       "      <th>low</th>\n",
       "      <th>close</th>\n",
       "      <th>volume</th>\n",
       "    </tr>\n",
       "    <tr>\n",
       "      <th>DateTime</th>\n",
       "      <th></th>\n",
       "      <th></th>\n",
       "      <th></th>\n",
       "      <th></th>\n",
       "      <th></th>\n",
       "    </tr>\n",
       "  </thead>\n",
       "  <tbody>\n",
       "    <tr>\n",
       "      <th>2017-01-03 09:30:00-05:00</th>\n",
       "      <td>104.94</td>\n",
       "      <td>104.95</td>\n",
       "      <td>104.73</td>\n",
       "      <td>104.84</td>\n",
       "      <td>2413</td>\n",
       "    </tr>\n",
       "    <tr>\n",
       "      <th>2017-01-03 09:35:00-05:00</th>\n",
       "      <td>104.71</td>\n",
       "      <td>104.86</td>\n",
       "      <td>104.60</td>\n",
       "      <td>104.60</td>\n",
       "      <td>500</td>\n",
       "    </tr>\n",
       "    <tr>\n",
       "      <th>2017-01-03 09:40:00-05:00</th>\n",
       "      <td>104.61</td>\n",
       "      <td>104.61</td>\n",
       "      <td>104.50</td>\n",
       "      <td>104.51</td>\n",
       "      <td>816</td>\n",
       "    </tr>\n",
       "    <tr>\n",
       "      <th>2017-01-03 09:45:00-05:00</th>\n",
       "      <td>104.56</td>\n",
       "      <td>104.56</td>\n",
       "      <td>104.48</td>\n",
       "      <td>104.48</td>\n",
       "      <td>300</td>\n",
       "    </tr>\n",
       "    <tr>\n",
       "      <th>2017-01-03 09:50:00-05:00</th>\n",
       "      <td>104.47</td>\n",
       "      <td>104.65</td>\n",
       "      <td>104.47</td>\n",
       "      <td>104.62</td>\n",
       "      <td>1321</td>\n",
       "    </tr>\n",
       "    <tr>\n",
       "      <th>...</th>\n",
       "      <td>...</td>\n",
       "      <td>...</td>\n",
       "      <td>...</td>\n",
       "      <td>...</td>\n",
       "      <td>...</td>\n",
       "    </tr>\n",
       "    <tr>\n",
       "      <th>2020-07-31 15:35:00-04:00</th>\n",
       "      <td>136.77</td>\n",
       "      <td>136.87</td>\n",
       "      <td>136.77</td>\n",
       "      <td>136.85</td>\n",
       "      <td>2676</td>\n",
       "    </tr>\n",
       "    <tr>\n",
       "      <th>2020-07-31 15:40:00-04:00</th>\n",
       "      <td>136.78</td>\n",
       "      <td>136.90</td>\n",
       "      <td>136.74</td>\n",
       "      <td>136.90</td>\n",
       "      <td>2956</td>\n",
       "    </tr>\n",
       "    <tr>\n",
       "      <th>2020-07-31 15:45:00-04:00</th>\n",
       "      <td>137.12</td>\n",
       "      <td>137.16</td>\n",
       "      <td>136.96</td>\n",
       "      <td>137.16</td>\n",
       "      <td>2585</td>\n",
       "    </tr>\n",
       "    <tr>\n",
       "      <th>2020-07-31 15:50:00-04:00</th>\n",
       "      <td>137.19</td>\n",
       "      <td>137.40</td>\n",
       "      <td>137.04</td>\n",
       "      <td>137.33</td>\n",
       "      <td>10280</td>\n",
       "    </tr>\n",
       "    <tr>\n",
       "      <th>2020-07-31 15:55:00-04:00</th>\n",
       "      <td>137.26</td>\n",
       "      <td>137.67</td>\n",
       "      <td>137.26</td>\n",
       "      <td>137.67</td>\n",
       "      <td>6568</td>\n",
       "    </tr>\n",
       "  </tbody>\n",
       "</table>\n",
       "<p>68802 rows × 5 columns</p>\n",
       "</div>"
      ],
      "text/plain": [
       "                             open    high     low   close  volume\n",
       "DateTime                                                         \n",
       "2017-01-03 09:30:00-05:00  104.94  104.95  104.73  104.84    2413\n",
       "2017-01-03 09:35:00-05:00  104.71  104.86  104.60  104.60     500\n",
       "2017-01-03 09:40:00-05:00  104.61  104.61  104.50  104.51     816\n",
       "2017-01-03 09:45:00-05:00  104.56  104.56  104.48  104.48     300\n",
       "2017-01-03 09:50:00-05:00  104.47  104.65  104.47  104.62    1321\n",
       "...                           ...     ...     ...     ...     ...\n",
       "2020-07-31 15:35:00-04:00  136.77  136.87  136.77  136.85    2676\n",
       "2020-07-31 15:40:00-04:00  136.78  136.90  136.74  136.90    2956\n",
       "2020-07-31 15:45:00-04:00  137.12  137.16  136.96  137.16    2585\n",
       "2020-07-31 15:50:00-04:00  137.19  137.40  137.04  137.33   10280\n",
       "2020-07-31 15:55:00-04:00  137.26  137.67  137.26  137.67    6568\n",
       "\n",
       "[68802 rows x 5 columns]"
      ]
     },
     "execution_count": 55,
     "metadata": {},
     "output_type": "execute_result"
    }
   ],
   "source": [
    "PEP_csv = PEP_csv.set_index(PEP_csv['DateTime']).drop(columns=['DateTime'])\n",
    "PEP_csv.info()\n",
    "PEP_csv"
   ]
  },
  {
   "cell_type": "markdown",
   "metadata": {},
   "source": [
    "### Plotting KO and PEP"
   ]
  },
  {
   "cell_type": "code",
   "execution_count": 56,
   "metadata": {},
   "outputs": [
    {
     "data": {
      "text/plain": [
       "<AxesSubplot:xlabel='DateTime'>"
      ]
     },
     "execution_count": 56,
     "metadata": {},
     "output_type": "execute_result"
    },
    {
     "data": {
      "image/png": "[encoded data removed]",
      "text/plain": [
       "<Figure size 1008x504 with 1 Axes>"
      ]
     },
     "metadata": {
      "needs_background": "light"
     },
     "output_type": "display_data"
    }
   ],
   "source": [
    "# Normalizing both KO & PEP so the first date starts at a price of 1, plot both dataframes\n",
    "normalize_KO = KO_csv['close']/KO_csv['close'].iloc[0]\n",
    "normalize_PEP = PEP_csv['close']/PEP_csv['close'].iloc[0]\n",
    "normalize_KO.plot(figsize=(14,7), rot=90, color=\"red\")\n",
    "normalize_PEP.plot(figsize=(14,7), rot=90, color=\"blue\")"
   ]
  },
  {
   "cell_type": "markdown",
   "metadata": {},
   "source": [
    "Per the graph, KO and PEP appear to, for the most part, move in tandem with a consistent spread. At the surface, it also appears that PEP is the more volatile of the 2 stocks. It appears that there are periods where PEP takes a big dip, but eventually works its way back into line.\n",
    "\n",
    "This illustrates the concept of **reversion to the mean**, and it underlies a possible statistical arbitrage opportunity. Buying PEP after a big down move might indicate a buying opportunity. The purchase of PEP is offset with a short-sale of KO to keep the position market-neutral with the intention of minimizing market risk. "
   ]
  },
  {
   "cell_type": "markdown",
   "metadata": {},
   "source": [
    "### KO vs PEP for 2018 - A closer look"
   ]
  },
  {
   "cell_type": "code",
   "execution_count": 57,
   "metadata": {},
   "outputs": [
    {
     "data": {
      "text/plain": [
       "<AxesSubplot:xlabel='DateTime'>"
      ]
     },
     "execution_count": 57,
     "metadata": {},
     "output_type": "execute_result"
    },
    {
     "data": {
      "image/png": "[encoded data removed]",
      "text/plain": [
       "<Figure size 1008x504 with 1 Axes>"
      ]
     },
     "metadata": {
      "needs_background": "light"
     },
     "output_type": "display_data"
    }
   ],
   "source": [
    "# Plotting 2018, again normaling both dataframes\n",
    "normalize_KO_2018 = KO_csv['close'].loc['2018-01-01':'2018-12-31']/KO_csv['close'].loc['2018-01-02 09:30:00-05:00']\n",
    "normalize_PEP_2018 = PEP_csv['close'].loc['2018-01-01':'2018-12-31']/PEP_csv['close'].loc['2018-01-02 09:30:00-05:00']\n",
    "normalize_KO_2018.plot(figsize=(14,7), rot=90, color=\"red\")\n",
    "normalize_PEP_2018.plot(figsize=(14,7), rot=90, color=\"blue\")"
   ]
  },
  {
   "cell_type": "markdown",
   "metadata": {},
   "source": [
    "Honing in on just 2018, the trend seems to hold. When PEP dips and the realative spread between the two narrows, PEP seems to outperform.\n",
    "\n",
    "A firm that plays in statistical arbitrage would establish very quantative criteria around this trend and then execute their pairs trade, that is, buy Pepsi and sell short an equivalent dollar amount of KO. These positions would be held for a very short amount of time, a few hours to a few days. The unwind would likely be triggered by another quantatively-based signal. "
   ]
  },
  {
   "cell_type": "markdown",
   "metadata": {},
   "source": [
    "### Gain/Loss Calculation Example"
   ]
  },
  {
   "cell_type": "markdown",
   "metadata": {},
   "source": [
    "### PEP Purchase\n",
    "\n",
    "Below we will calculate the resulting gain or loss from purchasing 1 share of PEP at the open on 6/20 and selling it at the close on 6/22. The gain/loss is calculated by subtracting the money paid out on the purchase from the money received on the sale. "
   ]
  },
  {
   "cell_type": "code",
   "execution_count": 58,
   "metadata": {},
   "outputs": [
    {
     "data": {
      "text/plain": [
       "2.6799999999999926"
      ]
     },
     "execution_count": 58,
     "metadata": {},
     "output_type": "execute_result"
    }
   ],
   "source": [
    "# PEP purchase\n",
    "\n",
    "pch_PEP = PEP_csv['close'].loc['2018-06-20 09:30:00']\n",
    "sale_PEP = PEP_csv['close'].loc['2018-06-22 15:55:00']\n",
    "\n",
    "gainloss_PEP = sale_PEP - pch_PEP\n",
    "gainloss_PEP"
   ]
  },
  {
   "cell_type": "markdown",
   "metadata": {},
   "source": [
    "### KO Short-sale\n",
    "\n",
    "KO is being sold short to reduce market exposure. In our calculation, we will sell 2.5 shares of KO (the cost of 1 share of PEP is 2.5 times that of KO) to keep the dollar-exposure neutral as well. Calculating the gain loss will involve subtracting the money paid out on the purchase to cover our short sale from the money received from the short sale of KO."
   ]
  },
  {
   "cell_type": "code",
   "execution_count": 59,
   "metadata": {},
   "outputs": [
    {
     "data": {
      "text/plain": [
       "1.0125000000000028"
      ]
     },
     "execution_count": 59,
     "metadata": {},
     "output_type": "execute_result"
    }
   ],
   "source": [
    "# KO short sale - 2 shares sold short to keep it dollar-neutral\n",
    "\n",
    "short_sale_KO = KO_csv['close'].loc['2018-06-20 09:30:00']\n",
    "cover_pch_KO = KO_csv['close'].loc['2018-06-22 15:55:00']\n",
    "\n",
    "gainloss_KO = 2.5 * (short_sale_KO - cover_pch_KO)\n",
    "gainloss_KO"
   ]
  },
  {
   "cell_type": "markdown",
   "metadata": {},
   "source": [
    "In this case, the stat-arb trader would have gotten lucky. Money was made on both sides of the trade as the price of PEP increased, which made money on the long positon, while the price of KO decreased to yield a gain on the short position. \n",
    "\n",
    "In the real world, this trade would have been considerably larger, with much more quantative analysis coming into play. "
   ]
  },
  {
   "cell_type": "code",
   "execution_count": 60,
   "metadata": {},
   "outputs": [
    {
     "data": {
      "text/plain": [
       "3.6924999999999955"
      ]
     },
     "execution_count": 60,
     "metadata": {},
     "output_type": "execute_result"
    }
   ],
   "source": [
    "# Calculate net gain/loss\n",
    "\n",
    "net_gainloss = gainloss_PEP + gainloss_KO\n",
    "net_gainloss"
   ]
  },
  {
   "cell_type": "markdown",
   "metadata": {},
   "source": [
    "## Conslusion\n",
    "\n",
    "Overall, arbitrage seeks to take advantage of a short-term price dislocation between identical or correlated assets. \n",
    "\n",
    "FinTech firms and their sophisticated algorithmic models now scour world-wide markets searching out arbitrage opportunities. These same computer programs are also largely responsible for the trade execution.  \n",
    "\n",
    "It is a dynamic and exciting area at the intersection of FinTech and trading. "
   ]
  },
  {
   "cell_type": "markdown",
   "metadata": {},
   "source": [
    "# ================================"
   ]
  },
  {
   "cell_type": "markdown",
   "metadata": {},
   "source": [
    "### 2.06 Instructor Do: Data Cleaning (10 min)"
   ]
  },
  {
   "cell_type": "markdown",
   "metadata": {},
   "source": [
    "This program goes reads in a CSV file, and perfoms a number of data quality checks. Data values that fail the checks are then cleansed."
   ]
  },
  {
   "cell_type": "code",
   "execution_count": 61,
   "metadata": {},
   "outputs": [],
   "source": [
    "# Initial imports\n",
    "import pandas as pd\n",
    "from pathlib import Path"
   ]
  },
  {
   "cell_type": "markdown",
   "metadata": {},
   "source": [
    "### Read in CSV and take a sample"
   ]
  },
  {
   "cell_type": "code",
   "execution_count": 62,
   "metadata": {},
   "outputs": [
    {
     "data": {
      "text/html": [
       "<div>\n",
       "<style scoped>\n",
       "    .dataframe tbody tr th:only-of-type {\n",
       "        vertical-align: middle;\n",
       "    }\n",
       "\n",
       "    .dataframe tbody tr th {\n",
       "        vertical-align: top;\n",
       "    }\n",
       "\n",
       "    .dataframe thead th {\n",
       "        text-align: right;\n",
       "    }\n",
       "</style>\n",
       "<table border=\"1\" class=\"dataframe\">\n",
       "  <thead>\n",
       "    <tr style=\"text-align: right;\">\n",
       "      <th></th>\n",
       "      <th>customer_no</th>\n",
       "      <th>order_total</th>\n",
       "      <th>order_date</th>\n",
       "    </tr>\n",
       "    <tr>\n",
       "      <th>order_no</th>\n",
       "      <th></th>\n",
       "      <th></th>\n",
       "      <th></th>\n",
       "    </tr>\n",
       "  </thead>\n",
       "  <tbody>\n",
       "    <tr>\n",
       "      <th>452519232</th>\n",
       "      <td>NaN</td>\n",
       "      <td>$141.25</td>\n",
       "      <td>01-10-2019</td>\n",
       "    </tr>\n",
       "    <tr>\n",
       "      <th>452517125</th>\n",
       "      <td>CM458565</td>\n",
       "      <td>$141.25</td>\n",
       "      <td>01-10-2019</td>\n",
       "    </tr>\n",
       "    <tr>\n",
       "      <th>2356363</th>\n",
       "      <td>2124</td>\n",
       "      <td>258936.12</td>\n",
       "      <td>04-29-2019</td>\n",
       "    </tr>\n",
       "    <tr>\n",
       "      <th>4465241327</th>\n",
       "      <td>AK45765</td>\n",
       "      <td>$1103.36</td>\n",
       "      <td>04-25-2019</td>\n",
       "    </tr>\n",
       "    <tr>\n",
       "      <th>45251825</th>\n",
       "      <td>CJ458565</td>\n",
       "      <td>14.00</td>\n",
       "      <td>04/25/2019</td>\n",
       "    </tr>\n",
       "  </tbody>\n",
       "</table>\n",
       "</div>"
      ],
      "text/plain": [
       "           customer_no order_total  order_date\n",
       "order_no                                      \n",
       "452519232          NaN     $141.25  01-10-2019\n",
       "452517125     CM458565     $141.25  01-10-2019\n",
       "2356363           2124   258936.12  04-29-2019\n",
       "4465241327     AK45765    $1103.36  04-25-2019\n",
       "45251825      CJ458565       14.00  04/25/2019"
      ]
     },
     "execution_count": 62,
     "metadata": {},
     "output_type": "execute_result"
    }
   ],
   "source": [
    "# Take sample of data\n",
    "csv_path = Path(\"06-Ins_Data_Cleaning/Resources/order_data.csv\")\n",
    "csv_data = pd.read_csv(csv_path, index_col=\"order_no\")\n",
    "csv_data.sample(5)"
   ]
  },
  {
   "cell_type": "markdown",
   "metadata": {},
   "source": [
    "### Identify DataFrame Data Types"
   ]
  },
  {
   "cell_type": "code",
   "execution_count": 63,
   "metadata": {},
   "outputs": [
    {
     "data": {
      "text/plain": [
       "customer_no    object\n",
       "order_total    object\n",
       "order_date     object\n",
       "dtype: object"
      ]
     },
     "execution_count": 63,
     "metadata": {},
     "output_type": "execute_result"
    }
   ],
   "source": [
    "# Retrieve DataFrame data types\n",
    "csv_data.dtypes"
   ]
  },
  {
   "cell_type": "markdown",
   "metadata": {},
   "source": [
    "### Assess data quality by identifying the number of rows"
   ]
  },
  {
   "cell_type": "code",
   "execution_count": 64,
   "metadata": {},
   "outputs": [
    {
     "data": {
      "text/plain": [
       "customer_no    7\n",
       "order_total    7\n",
       "order_date     8\n",
       "dtype: int64"
      ]
     },
     "execution_count": 64,
     "metadata": {},
     "output_type": "execute_result"
    }
   ],
   "source": [
    "# Identify Series count\n",
    "csv_data.count()"
   ]
  },
  {
   "cell_type": "markdown",
   "metadata": {},
   "source": [
    "### Assess data quality by identifying the number of times a value occurs"
   ]
  },
  {
   "cell_type": "code",
   "execution_count": 65,
   "metadata": {},
   "outputs": [
    {
     "data": {
      "text/plain": [
       "AK45765     2\n",
       "CM458565    2\n",
       "TV4663      1\n",
       "2124        1\n",
       "CJ458565    1\n",
       "Name: customer_no, dtype: int64"
      ]
     },
     "execution_count": 65,
     "metadata": {},
     "output_type": "execute_result"
    }
   ],
   "source": [
    "# Identify frequency values\n",
    "csv_data[\"customer_no\"].value_counts()"
   ]
  },
  {
   "cell_type": "markdown",
   "metadata": {},
   "source": [
    "### Assess data quality by checking for nulls"
   ]
  },
  {
   "cell_type": "code",
   "execution_count": 66,
   "metadata": {},
   "outputs": [
    {
     "data": {
      "text/html": [
       "<div>\n",
       "<style scoped>\n",
       "    .dataframe tbody tr th:only-of-type {\n",
       "        vertical-align: middle;\n",
       "    }\n",
       "\n",
       "    .dataframe tbody tr th {\n",
       "        vertical-align: top;\n",
       "    }\n",
       "\n",
       "    .dataframe thead th {\n",
       "        text-align: right;\n",
       "    }\n",
       "</style>\n",
       "<table border=\"1\" class=\"dataframe\">\n",
       "  <thead>\n",
       "    <tr style=\"text-align: right;\">\n",
       "      <th></th>\n",
       "      <th>customer_no</th>\n",
       "      <th>order_total</th>\n",
       "      <th>order_date</th>\n",
       "    </tr>\n",
       "    <tr>\n",
       "      <th>order_no</th>\n",
       "      <th></th>\n",
       "      <th></th>\n",
       "      <th></th>\n",
       "    </tr>\n",
       "  </thead>\n",
       "  <tbody>\n",
       "    <tr>\n",
       "      <th>452517125</th>\n",
       "      <td>False</td>\n",
       "      <td>False</td>\n",
       "      <td>False</td>\n",
       "    </tr>\n",
       "    <tr>\n",
       "      <th>45251825</th>\n",
       "      <td>False</td>\n",
       "      <td>False</td>\n",
       "      <td>False</td>\n",
       "    </tr>\n",
       "    <tr>\n",
       "      <th>4465241327</th>\n",
       "      <td>False</td>\n",
       "      <td>False</td>\n",
       "      <td>False</td>\n",
       "    </tr>\n",
       "    <tr>\n",
       "      <th>4465241327</th>\n",
       "      <td>False</td>\n",
       "      <td>False</td>\n",
       "      <td>False</td>\n",
       "    </tr>\n",
       "    <tr>\n",
       "      <th>413853121</th>\n",
       "      <td>False</td>\n",
       "      <td>True</td>\n",
       "      <td>False</td>\n",
       "    </tr>\n",
       "    <tr>\n",
       "      <th>45235825</th>\n",
       "      <td>False</td>\n",
       "      <td>False</td>\n",
       "      <td>False</td>\n",
       "    </tr>\n",
       "    <tr>\n",
       "      <th>2356363</th>\n",
       "      <td>False</td>\n",
       "      <td>False</td>\n",
       "      <td>False</td>\n",
       "    </tr>\n",
       "    <tr>\n",
       "      <th>452519232</th>\n",
       "      <td>True</td>\n",
       "      <td>False</td>\n",
       "      <td>False</td>\n",
       "    </tr>\n",
       "  </tbody>\n",
       "</table>\n",
       "</div>"
      ],
      "text/plain": [
       "            customer_no  order_total  order_date\n",
       "order_no                                        \n",
       "452517125         False        False       False\n",
       "45251825          False        False       False\n",
       "4465241327        False        False       False\n",
       "4465241327        False        False       False\n",
       "413853121         False         True       False\n",
       "45235825          False        False       False\n",
       "2356363           False        False       False\n",
       "452519232          True        False       False"
      ]
     },
     "execution_count": 66,
     "metadata": {},
     "output_type": "execute_result"
    }
   ],
   "source": [
    "# Check for null values\n",
    "csv_data.isnull()"
   ]
  },
  {
   "cell_type": "markdown",
   "metadata": {},
   "source": [
    "### Assess data quality by determining the percentage of nulls"
   ]
  },
  {
   "cell_type": "code",
   "execution_count": 67,
   "metadata": {},
   "outputs": [
    {
     "data": {
      "text/plain": [
       "customer_no    12.5\n",
       "order_total    12.5\n",
       "order_date      0.0\n",
       "dtype: float64"
      ]
     },
     "execution_count": 67,
     "metadata": {},
     "output_type": "execute_result"
    }
   ],
   "source": [
    "# Determine percentage of nulls\n",
    "csv_data.isnull().mean() * 100"
   ]
  },
  {
   "cell_type": "markdown",
   "metadata": {},
   "source": [
    "### Assess data quality by determining the number of nulls"
   ]
  },
  {
   "cell_type": "code",
   "execution_count": 68,
   "metadata": {},
   "outputs": [
    {
     "data": {
      "text/plain": [
       "customer_no    1\n",
       "order_total    1\n",
       "order_date     0\n",
       "dtype: int64"
      ]
     },
     "execution_count": 68,
     "metadata": {},
     "output_type": "execute_result"
    }
   ],
   "source": [
    "# Determine number of nulls\n",
    "csv_data.isnull().sum()"
   ]
  },
  {
   "cell_type": "markdown",
   "metadata": {},
   "source": [
    "### Cleanse data by filling nulls with default value (i.e. \"Unknown\", 0, or mean() is common)"
   ]
  },
  {
   "cell_type": "code",
   "execution_count": 69,
   "metadata": {},
   "outputs": [
    {
     "data": {
      "text/html": [
       "<div>\n",
       "<style scoped>\n",
       "    .dataframe tbody tr th:only-of-type {\n",
       "        vertical-align: middle;\n",
       "    }\n",
       "\n",
       "    .dataframe tbody tr th {\n",
       "        vertical-align: top;\n",
       "    }\n",
       "\n",
       "    .dataframe thead th {\n",
       "        text-align: right;\n",
       "    }\n",
       "</style>\n",
       "<table border=\"1\" class=\"dataframe\">\n",
       "  <thead>\n",
       "    <tr style=\"text-align: right;\">\n",
       "      <th></th>\n",
       "      <th>customer_no</th>\n",
       "      <th>order_total</th>\n",
       "      <th>order_date</th>\n",
       "    </tr>\n",
       "    <tr>\n",
       "      <th>order_no</th>\n",
       "      <th></th>\n",
       "      <th></th>\n",
       "      <th></th>\n",
       "    </tr>\n",
       "  </thead>\n",
       "  <tbody>\n",
       "    <tr>\n",
       "      <th>452517125</th>\n",
       "      <td>CM458565</td>\n",
       "      <td>$141.25</td>\n",
       "      <td>01-10-2019</td>\n",
       "    </tr>\n",
       "    <tr>\n",
       "      <th>45251825</th>\n",
       "      <td>CJ458565</td>\n",
       "      <td>14.00</td>\n",
       "      <td>04/25/2019</td>\n",
       "    </tr>\n",
       "    <tr>\n",
       "      <th>4465241327</th>\n",
       "      <td>AK45765</td>\n",
       "      <td>$1103.36</td>\n",
       "      <td>04-25-2019</td>\n",
       "    </tr>\n",
       "    <tr>\n",
       "      <th>4465241327</th>\n",
       "      <td>AK45765</td>\n",
       "      <td>$1103.36</td>\n",
       "      <td>04-25-2019</td>\n",
       "    </tr>\n",
       "    <tr>\n",
       "      <th>413853121</th>\n",
       "      <td>CM458565</td>\n",
       "      <td>NaN</td>\n",
       "      <td>4/24/2019</td>\n",
       "    </tr>\n",
       "    <tr>\n",
       "      <th>45235825</th>\n",
       "      <td>TV4663</td>\n",
       "      <td>65.42</td>\n",
       "      <td>04-29-2019</td>\n",
       "    </tr>\n",
       "    <tr>\n",
       "      <th>2356363</th>\n",
       "      <td>2124</td>\n",
       "      <td>258936.12</td>\n",
       "      <td>04-29-2019</td>\n",
       "    </tr>\n",
       "    <tr>\n",
       "      <th>452519232</th>\n",
       "      <td>Unknown</td>\n",
       "      <td>$141.25</td>\n",
       "      <td>01-10-2019</td>\n",
       "    </tr>\n",
       "  </tbody>\n",
       "</table>\n",
       "</div>"
      ],
      "text/plain": [
       "           customer_no order_total  order_date\n",
       "order_no                                      \n",
       "452517125     CM458565     $141.25  01-10-2019\n",
       "45251825      CJ458565       14.00  04/25/2019\n",
       "4465241327     AK45765    $1103.36  04-25-2019\n",
       "4465241327     AK45765    $1103.36  04-25-2019\n",
       "413853121     CM458565         NaN   4/24/2019\n",
       "45235825        TV4663       65.42  04-29-2019\n",
       "2356363           2124   258936.12  04-29-2019\n",
       "452519232      Unknown     $141.25  01-10-2019"
      ]
     },
     "execution_count": 69,
     "metadata": {},
     "output_type": "execute_result"
    }
   ],
   "source": [
    "# Cleanse nulls from DataFrame by filling na\n",
    "csv_data[\"customer_no\"] = csv_data[\"customer_no\"].fillna(\"Unknown\")\n",
    "csv_data"
   ]
  },
  {
   "cell_type": "markdown",
   "metadata": {},
   "source": [
    "### Cleanse data by dropping nulls"
   ]
  },
  {
   "cell_type": "code",
   "execution_count": 70,
   "metadata": {},
   "outputs": [
    {
     "data": {
      "text/html": [
       "<div>\n",
       "<style scoped>\n",
       "    .dataframe tbody tr th:only-of-type {\n",
       "        vertical-align: middle;\n",
       "    }\n",
       "\n",
       "    .dataframe tbody tr th {\n",
       "        vertical-align: top;\n",
       "    }\n",
       "\n",
       "    .dataframe thead th {\n",
       "        text-align: right;\n",
       "    }\n",
       "</style>\n",
       "<table border=\"1\" class=\"dataframe\">\n",
       "  <thead>\n",
       "    <tr style=\"text-align: right;\">\n",
       "      <th></th>\n",
       "      <th>customer_no</th>\n",
       "      <th>order_total</th>\n",
       "      <th>order_date</th>\n",
       "    </tr>\n",
       "    <tr>\n",
       "      <th>order_no</th>\n",
       "      <th></th>\n",
       "      <th></th>\n",
       "      <th></th>\n",
       "    </tr>\n",
       "  </thead>\n",
       "  <tbody>\n",
       "    <tr>\n",
       "      <th>452517125</th>\n",
       "      <td>CM458565</td>\n",
       "      <td>$141.25</td>\n",
       "      <td>01-10-2019</td>\n",
       "    </tr>\n",
       "    <tr>\n",
       "      <th>45251825</th>\n",
       "      <td>CJ458565</td>\n",
       "      <td>14.00</td>\n",
       "      <td>04/25/2019</td>\n",
       "    </tr>\n",
       "    <tr>\n",
       "      <th>4465241327</th>\n",
       "      <td>AK45765</td>\n",
       "      <td>$1103.36</td>\n",
       "      <td>04-25-2019</td>\n",
       "    </tr>\n",
       "    <tr>\n",
       "      <th>4465241327</th>\n",
       "      <td>AK45765</td>\n",
       "      <td>$1103.36</td>\n",
       "      <td>04-25-2019</td>\n",
       "    </tr>\n",
       "    <tr>\n",
       "      <th>45235825</th>\n",
       "      <td>TV4663</td>\n",
       "      <td>65.42</td>\n",
       "      <td>04-29-2019</td>\n",
       "    </tr>\n",
       "    <tr>\n",
       "      <th>2356363</th>\n",
       "      <td>2124</td>\n",
       "      <td>258936.12</td>\n",
       "      <td>04-29-2019</td>\n",
       "    </tr>\n",
       "    <tr>\n",
       "      <th>452519232</th>\n",
       "      <td>Unknown</td>\n",
       "      <td>$141.25</td>\n",
       "      <td>01-10-2019</td>\n",
       "    </tr>\n",
       "  </tbody>\n",
       "</table>\n",
       "</div>"
      ],
      "text/plain": [
       "           customer_no order_total  order_date\n",
       "order_no                                      \n",
       "452517125     CM458565     $141.25  01-10-2019\n",
       "45251825      CJ458565       14.00  04/25/2019\n",
       "4465241327     AK45765    $1103.36  04-25-2019\n",
       "4465241327     AK45765    $1103.36  04-25-2019\n",
       "45235825        TV4663       65.42  04-29-2019\n",
       "2356363           2124   258936.12  04-29-2019\n",
       "452519232      Unknown     $141.25  01-10-2019"
      ]
     },
     "execution_count": 70,
     "metadata": {},
     "output_type": "execute_result"
    }
   ],
   "source": [
    "# Cleaning nulls from DataFrame by dropping\n",
    "csv_data = csv_data.dropna().copy()\n",
    "csv_data"
   ]
  },
  {
   "cell_type": "markdown",
   "metadata": {},
   "source": [
    "### Checking number of nulls again"
   ]
  },
  {
   "cell_type": "code",
   "execution_count": 71,
   "metadata": {},
   "outputs": [
    {
     "data": {
      "text/plain": [
       "customer_no    0\n",
       "order_total    0\n",
       "order_date     0\n",
       "dtype: int64"
      ]
     },
     "execution_count": 71,
     "metadata": {},
     "output_type": "execute_result"
    }
   ],
   "source": [
    "csv_data.isnull().sum()"
   ]
  },
  {
   "cell_type": "markdown",
   "metadata": {},
   "source": [
    "### Assess data quality by checking for duplicate rows"
   ]
  },
  {
   "cell_type": "code",
   "execution_count": 72,
   "metadata": {},
   "outputs": [
    {
     "data": {
      "text/plain": [
       "order_no\n",
       "452517125     False\n",
       "45251825      False\n",
       "4465241327    False\n",
       "4465241327     True\n",
       "45235825      False\n",
       "2356363       False\n",
       "452519232     False\n",
       "dtype: bool"
      ]
     },
     "execution_count": 72,
     "metadata": {},
     "output_type": "execute_result"
    }
   ],
   "source": [
    "# Check duplicates\n",
    "csv_data.duplicated()"
   ]
  },
  {
   "cell_type": "markdown",
   "metadata": {},
   "source": [
    "### Assess data quality by checking for duplicate customer_no values"
   ]
  },
  {
   "cell_type": "code",
   "execution_count": 73,
   "metadata": {},
   "outputs": [
    {
     "data": {
      "text/plain": [
       "order_no\n",
       "452517125     False\n",
       "45251825      False\n",
       "4465241327    False\n",
       "4465241327     True\n",
       "45235825      False\n",
       "2356363       False\n",
       "452519232     False\n",
       "Name: customer_no, dtype: bool"
      ]
     },
     "execution_count": 73,
     "metadata": {},
     "output_type": "execute_result"
    }
   ],
   "source": [
    "# Check duplicates for specific field\n",
    "csv_data[\"customer_no\"].duplicated()"
   ]
  },
  {
   "cell_type": "markdown",
   "metadata": {},
   "source": [
    "### Cleanse data by dropping duplicates"
   ]
  },
  {
   "cell_type": "code",
   "execution_count": 74,
   "metadata": {},
   "outputs": [
    {
     "data": {
      "text/plain": [
       "order_no\n",
       "452517125     False\n",
       "45251825      False\n",
       "4465241327    False\n",
       "45235825      False\n",
       "2356363       False\n",
       "452519232     False\n",
       "Name: customer_no, dtype: bool"
      ]
     },
     "execution_count": 74,
     "metadata": {},
     "output_type": "execute_result"
    }
   ],
   "source": [
    "# Clean duplicates\n",
    "csv_data = csv_data.drop_duplicates().copy()\n",
    "\n",
    "csv_data[\"customer_no\"].duplicated()"
   ]
  },
  {
   "cell_type": "markdown",
   "metadata": {},
   "source": [
    "### Assess data quality by using `head` function to sample data and identify currency symbols"
   ]
  },
  {
   "cell_type": "code",
   "execution_count": 75,
   "metadata": {},
   "outputs": [
    {
     "data": {
      "text/html": [
       "<div>\n",
       "<style scoped>\n",
       "    .dataframe tbody tr th:only-of-type {\n",
       "        vertical-align: middle;\n",
       "    }\n",
       "\n",
       "    .dataframe tbody tr th {\n",
       "        vertical-align: top;\n",
       "    }\n",
       "\n",
       "    .dataframe thead th {\n",
       "        text-align: right;\n",
       "    }\n",
       "</style>\n",
       "<table border=\"1\" class=\"dataframe\">\n",
       "  <thead>\n",
       "    <tr style=\"text-align: right;\">\n",
       "      <th></th>\n",
       "      <th>customer_no</th>\n",
       "      <th>order_total</th>\n",
       "      <th>order_date</th>\n",
       "    </tr>\n",
       "    <tr>\n",
       "      <th>order_no</th>\n",
       "      <th></th>\n",
       "      <th></th>\n",
       "      <th></th>\n",
       "    </tr>\n",
       "  </thead>\n",
       "  <tbody>\n",
       "    <tr>\n",
       "      <th>452517125</th>\n",
       "      <td>CM458565</td>\n",
       "      <td>$141.25</td>\n",
       "      <td>01-10-2019</td>\n",
       "    </tr>\n",
       "    <tr>\n",
       "      <th>45251825</th>\n",
       "      <td>CJ458565</td>\n",
       "      <td>14.00</td>\n",
       "      <td>04/25/2019</td>\n",
       "    </tr>\n",
       "    <tr>\n",
       "      <th>4465241327</th>\n",
       "      <td>AK45765</td>\n",
       "      <td>$1103.36</td>\n",
       "      <td>04-25-2019</td>\n",
       "    </tr>\n",
       "    <tr>\n",
       "      <th>45235825</th>\n",
       "      <td>TV4663</td>\n",
       "      <td>65.42</td>\n",
       "      <td>04-29-2019</td>\n",
       "    </tr>\n",
       "    <tr>\n",
       "      <th>2356363</th>\n",
       "      <td>2124</td>\n",
       "      <td>258936.12</td>\n",
       "      <td>04-29-2019</td>\n",
       "    </tr>\n",
       "  </tbody>\n",
       "</table>\n",
       "</div>"
      ],
      "text/plain": [
       "           customer_no order_total  order_date\n",
       "order_no                                      \n",
       "452517125     CM458565     $141.25  01-10-2019\n",
       "45251825      CJ458565       14.00  04/25/2019\n",
       "4465241327     AK45765    $1103.36  04-25-2019\n",
       "45235825        TV4663       65.42  04-29-2019\n",
       "2356363           2124   258936.12  04-29-2019"
      ]
     },
     "execution_count": 75,
     "metadata": {},
     "output_type": "execute_result"
    }
   ],
   "source": [
    "# Identify if numeric field with $ symbol\n",
    "csv_data.head()"
   ]
  },
  {
   "cell_type": "markdown",
   "metadata": {},
   "source": [
    "### Cleanse data by replacing currency symbols"
   ]
  },
  {
   "cell_type": "code",
   "execution_count": 76,
   "metadata": {},
   "outputs": [
    {
     "name": "stderr",
     "output_type": "stream",
     "text": [
      "C:\\ProgramData\\Anaconda3\\lib\\site-packages\\ipykernel_launcher.py:2: FutureWarning: The default value of regex will change from True to False in a future version. In addition, single character regular expressions will*not* be treated as literal strings when regex=True.\n",
      "  \n"
     ]
    },
    {
     "data": {
      "text/plain": [
       "order_no\n",
       "452517125        141.25\n",
       "45251825          14.00\n",
       "4465241327      1103.36\n",
       "45235825          65.42\n",
       "2356363       258936.12\n",
       "452519232        141.25\n",
       "Name: order_total, dtype: object"
      ]
     },
     "execution_count": 76,
     "metadata": {},
     "output_type": "execute_result"
    }
   ],
   "source": [
    "# Clean identified numeric fields with $ symbol\n",
    "csv_data[\"order_total\"] = csv_data[\"order_total\"].str.replace(\"$\", \"\")\n",
    "csv_data[\"order_total\"]"
   ]
  },
  {
   "cell_type": "code",
   "execution_count": 77,
   "metadata": {},
   "outputs": [
    {
     "data": {
      "text/plain": [
       "customer_no    object\n",
       "order_total    object\n",
       "order_date     object\n",
       "dtype: object"
      ]
     },
     "execution_count": 77,
     "metadata": {},
     "output_type": "execute_result"
    }
   ],
   "source": [
    "# Retrieve data types to confirm what needs to be converted\n",
    "csv_data.dtypes"
   ]
  },
  {
   "cell_type": "code",
   "execution_count": 78,
   "metadata": {},
   "outputs": [],
   "source": [
    "# Convert `order_total` from `object` to `float`\n",
    "csv_data[\"order_total\"] = csv_data[\"order_total\"].astype(\"float\")"
   ]
  },
  {
   "cell_type": "code",
   "execution_count": 79,
   "metadata": {},
   "outputs": [
    {
     "data": {
      "text/plain": [
       "customer_no     object\n",
       "order_total    float64\n",
       "order_date      object\n",
       "dtype: object"
      ]
     },
     "execution_count": 79,
     "metadata": {},
     "output_type": "execute_result"
    }
   ],
   "source": [
    "# Confirm conversion worked as expected\n",
    "csv_data.dtypes"
   ]
  },
  {
   "cell_type": "markdown",
   "metadata": {},
   "source": [
    "# ================================"
   ]
  },
  {
   "cell_type": "markdown",
   "metadata": {},
   "source": [
    "### 2.07 Student Do: Data Cleaning (15 min)"
   ]
  },
  {
   "cell_type": "markdown",
   "metadata": {},
   "source": [
    "# Data Cleaning\n",
    "\n",
    "You have been hired as a consultant by a trading firm to help train a machine learning model for an algorithmic stock trader. Unfortunately, the data that is coming in to the firm has quality issues, and they need you to help clean it up. Your supervisor has sent you a CSV file containing a sample of their data. You need to figure out how to create a quality control preprocessing system.\n",
    "\n",
    "## Instructions\n",
    "\n",
    "1. Using the Pandas `read_csv` function, import `stock_data.csv` into a Pandas DataFrame. \n",
    "\n",
    "2. Identify the structure—the number of rows and columns—of the DataFrame. \n",
    "\n",
    "3. Generate a sample of the data to confirm the data has been imported correctly.\n",
    "\n",
    "4. Identify the number of records in the DataFrame. Compare it with the number of rows in the original file.\n",
    "\n",
    "5. Identify null records by calculating the average percent of nulls for each Series. **Hint:** This step requires the `mean` function.\n",
    "\n",
    "6. Drop null records.\n",
    "\n",
    "7. Confirm that all nulls have been dropped by calculating the `sum` of values that are null.\n",
    "\n",
    "8. Default null `ebitda` values to 0.\n",
    "\n",
    "9. Check that there are no null `ebitda` values using the `sum` function.\n",
    "\n",
    "10. Remove duplicate rows.\n",
    "\n",
    "### Bonus\n",
    "\n",
    "Now that nulls and duplicates have been wrangled, clean up the data a little more by removing the `$` currency symbols from the `price` field. Then, use the `astype` function to cast `price` to a `float`.\n",
    "\n",
    "## Hint\n",
    "\n",
    "Pandas offers a `replace` function that can be executed against a Series. To learn more about this function, refer to the [Pandas documentation](https://pandas.pydata.org/pandas-docs/stable/reference/api/pandas.Series.replace.html)."
   ]
  },
  {
   "cell_type": "code",
   "execution_count": 80,
   "metadata": {},
   "outputs": [],
   "source": [
    "# Import Libraries\n",
    "import pandas as pd\n",
    "from pathlib import Path"
   ]
  },
  {
   "cell_type": "code",
   "execution_count": 81,
   "metadata": {},
   "outputs": [],
   "source": [
    "# Load CSV data into Pandas using read_csv\n",
    "csv_file = \"07-Stu_Data_Cleaning/Resources/stock_data.csv\"\n",
    "\n"
   ]
  },
  {
   "cell_type": "code",
   "execution_count": 82,
   "metadata": {},
   "outputs": [
    {
     "data": {
      "text/plain": [
       "(504, 14)"
      ]
     },
     "execution_count": 82,
     "metadata": {},
     "output_type": "execute_result"
    }
   ],
   "source": [
    "# Identify the number of rows and columns (shape) in the DataFrame.\n"
   ]
  },
  {
   "cell_type": "code",
   "execution_count": 83,
   "metadata": {},
   "outputs": [
    {
     "data": {
      "text/html": [
       "<div>\n",
       "<style scoped>\n",
       "    .dataframe tbody tr th:only-of-type {\n",
       "        vertical-align: middle;\n",
       "    }\n",
       "\n",
       "    .dataframe tbody tr th {\n",
       "        vertical-align: top;\n",
       "    }\n",
       "\n",
       "    .dataframe thead th {\n",
       "        text-align: right;\n",
       "    }\n",
       "</style>\n",
       "<table border=\"1\" class=\"dataframe\">\n",
       "  <thead>\n",
       "    <tr style=\"text-align: right;\">\n",
       "      <th></th>\n",
       "      <th>symbol</th>\n",
       "      <th>name</th>\n",
       "      <th>sector</th>\n",
       "      <th>price</th>\n",
       "      <th>price_per_earnings</th>\n",
       "      <th>dividend_yield</th>\n",
       "      <th>earnings_per_share</th>\n",
       "      <th>52_week_low</th>\n",
       "      <th>52_week_high</th>\n",
       "      <th>market_cap</th>\n",
       "      <th>ebitda</th>\n",
       "      <th>price_per_sales</th>\n",
       "      <th>price_per_book</th>\n",
       "      <th>sec_filings</th>\n",
       "    </tr>\n",
       "  </thead>\n",
       "  <tbody>\n",
       "    <tr>\n",
       "      <th>0</th>\n",
       "      <td>MMM</td>\n",
       "      <td>3M Company</td>\n",
       "      <td>Industrials</td>\n",
       "      <td>$222.89</td>\n",
       "      <td>24.31</td>\n",
       "      <td>2.332862</td>\n",
       "      <td>$7.92</td>\n",
       "      <td>259.770</td>\n",
       "      <td>175.49</td>\n",
       "      <td>1.387211e+11</td>\n",
       "      <td>9.048000e+09</td>\n",
       "      <td>4.390271</td>\n",
       "      <td>11.34</td>\n",
       "      <td>http://www.sec.gov/cgi-bin/browse-edgar?action...</td>\n",
       "    </tr>\n",
       "    <tr>\n",
       "      <th>1</th>\n",
       "      <td>AOS</td>\n",
       "      <td>A.O. Smith Corp</td>\n",
       "      <td>Industrials</td>\n",
       "      <td>NaN</td>\n",
       "      <td>NaN</td>\n",
       "      <td>NaN</td>\n",
       "      <td>NaN</td>\n",
       "      <td>NaN</td>\n",
       "      <td>NaN</td>\n",
       "      <td>NaN</td>\n",
       "      <td>NaN</td>\n",
       "      <td>NaN</td>\n",
       "      <td>NaN</td>\n",
       "      <td>NaN</td>\n",
       "    </tr>\n",
       "    <tr>\n",
       "      <th>2</th>\n",
       "      <td>ABT</td>\n",
       "      <td>Abbott Laboratories</td>\n",
       "      <td>Health Care</td>\n",
       "      <td>56.27</td>\n",
       "      <td>22.51</td>\n",
       "      <td>1.908982</td>\n",
       "      <td>0.26</td>\n",
       "      <td>64.600</td>\n",
       "      <td>42.28</td>\n",
       "      <td>1.021210e+11</td>\n",
       "      <td>5.744000e+09</td>\n",
       "      <td>3.740480</td>\n",
       "      <td>3.19</td>\n",
       "      <td>http://www.sec.gov/cgi-bin/browse-edgar?action...</td>\n",
       "    </tr>\n",
       "    <tr>\n",
       "      <th>3</th>\n",
       "      <td>ABBV</td>\n",
       "      <td>AbbVie Inc.</td>\n",
       "      <td>Health Care</td>\n",
       "      <td>108.48</td>\n",
       "      <td>19.41</td>\n",
       "      <td>2.499560</td>\n",
       "      <td>3.29</td>\n",
       "      <td>125.860</td>\n",
       "      <td>60.05</td>\n",
       "      <td>1.813863e+11</td>\n",
       "      <td>1.031000e+10</td>\n",
       "      <td>6.291571</td>\n",
       "      <td>26.14</td>\n",
       "      <td>http://www.sec.gov/cgi-bin/browse-edgar?action...</td>\n",
       "    </tr>\n",
       "    <tr>\n",
       "      <th>4</th>\n",
       "      <td>ATVI</td>\n",
       "      <td>Activision Blizzard</td>\n",
       "      <td>Information Technology</td>\n",
       "      <td>65.83</td>\n",
       "      <td>NaN</td>\n",
       "      <td>0.431903</td>\n",
       "      <td>1.28</td>\n",
       "      <td>74.945</td>\n",
       "      <td>38.93</td>\n",
       "      <td>5.251867e+10</td>\n",
       "      <td>2.704000e+09</td>\n",
       "      <td>10.595120</td>\n",
       "      <td>5.16</td>\n",
       "      <td>http://www.sec.gov/cgi-bin/browse-edgar?action...</td>\n",
       "    </tr>\n",
       "  </tbody>\n",
       "</table>\n",
       "</div>"
      ],
      "text/plain": [
       "  symbol                 name                  sector    price  \\\n",
       "0    MMM           3M Company             Industrials  $222.89   \n",
       "1    AOS      A.O. Smith Corp             Industrials      NaN   \n",
       "2    ABT  Abbott Laboratories             Health Care    56.27   \n",
       "3   ABBV          AbbVie Inc.             Health Care   108.48   \n",
       "4   ATVI  Activision Blizzard  Information Technology    65.83   \n",
       "\n",
       "   price_per_earnings  dividend_yield earnings_per_share  52_week_low  \\\n",
       "0               24.31        2.332862              $7.92      259.770   \n",
       "1                 NaN             NaN                NaN          NaN   \n",
       "2               22.51        1.908982               0.26       64.600   \n",
       "3               19.41        2.499560               3.29      125.860   \n",
       "4                 NaN        0.431903               1.28       74.945   \n",
       "\n",
       "   52_week_high    market_cap        ebitda  price_per_sales  price_per_book  \\\n",
       "0        175.49  1.387211e+11  9.048000e+09         4.390271           11.34   \n",
       "1           NaN           NaN           NaN              NaN             NaN   \n",
       "2         42.28  1.021210e+11  5.744000e+09         3.740480            3.19   \n",
       "3         60.05  1.813863e+11  1.031000e+10         6.291571           26.14   \n",
       "4         38.93  5.251867e+10  2.704000e+09        10.595120            5.16   \n",
       "\n",
       "                                         sec_filings  \n",
       "0  http://www.sec.gov/cgi-bin/browse-edgar?action...  \n",
       "1                                                NaN  \n",
       "2  http://www.sec.gov/cgi-bin/browse-edgar?action...  \n",
       "3  http://www.sec.gov/cgi-bin/browse-edgar?action...  \n",
       "4  http://www.sec.gov/cgi-bin/browse-edgar?action...  "
      ]
     },
     "execution_count": 83,
     "metadata": {},
     "output_type": "execute_result"
    }
   ],
   "source": [
    "# Generate a sample of the data to visually ensure data has been loaded in correctly.\n"
   ]
  },
  {
   "cell_type": "code",
   "execution_count": 84,
   "metadata": {},
   "outputs": [
    {
     "data": {
      "text/plain": [
       "symbol                504\n",
       "name                  502\n",
       "sector                501\n",
       "price                 500\n",
       "price_per_earnings    497\n",
       "dividend_yield        499\n",
       "earnings_per_share    498\n",
       "52_week_low           500\n",
       "52_week_high          500\n",
       "market_cap            500\n",
       "ebitda                492\n",
       "price_per_sales       500\n",
       "price_per_book        492\n",
       "sec_filings           500\n",
       "dtype: int64"
      ]
     },
     "execution_count": 84,
     "metadata": {},
     "output_type": "execute_result"
    }
   ],
   "source": [
    "# Identify the number of records in the DataFrame, and compare it with the number of rows in the original file.\n"
   ]
  },
  {
   "cell_type": "code",
   "execution_count": 85,
   "metadata": {},
   "outputs": [
    {
     "data": {
      "text/plain": [
       "symbol                0.000000\n",
       "name                  0.396825\n",
       "sector                0.595238\n",
       "price                 0.793651\n",
       "price_per_earnings    1.388889\n",
       "dividend_yield        0.992063\n",
       "earnings_per_share    1.190476\n",
       "52_week_low           0.793651\n",
       "52_week_high          0.793651\n",
       "market_cap            0.793651\n",
       "ebitda                2.380952\n",
       "price_per_sales       0.793651\n",
       "price_per_book        2.380952\n",
       "sec_filings           0.793651\n",
       "dtype: float64"
      ]
     },
     "execution_count": 85,
     "metadata": {},
     "output_type": "execute_result"
    }
   ],
   "source": [
    "# Identify nulls records\n"
   ]
  },
  {
   "cell_type": "code",
   "execution_count": 86,
   "metadata": {},
   "outputs": [],
   "source": [
    "# Drop Null Records\n"
   ]
  },
  {
   "cell_type": "code",
   "execution_count": 87,
   "metadata": {},
   "outputs": [
    {
     "data": {
      "text/plain": [
       "symbol                0\n",
       "name                  0\n",
       "sector                0\n",
       "price                 0\n",
       "price_per_earnings    0\n",
       "dividend_yield        0\n",
       "earnings_per_share    0\n",
       "52_week_low           0\n",
       "52_week_high          0\n",
       "market_cap            0\n",
       "ebitda                0\n",
       "price_per_sales       0\n",
       "price_per_book        0\n",
       "sec_filings           0\n",
       "dtype: int64"
      ]
     },
     "execution_count": 87,
     "metadata": {},
     "output_type": "execute_result"
    }
   ],
   "source": [
    "# Validate nulls have been dropped\n"
   ]
  },
  {
   "cell_type": "code",
   "execution_count": 88,
   "metadata": {},
   "outputs": [],
   "source": [
    "# Drop Duplicates\n"
   ]
  },
  {
   "cell_type": "code",
   "execution_count": 89,
   "metadata": {},
   "outputs": [
    {
     "data": {
      "text/plain": [
       "0    $222.89\n",
       "2      56.27\n",
       "3     108.48\n",
       "5     108.48\n",
       "6     185.16\n",
       "Name: price, dtype: object"
      ]
     },
     "execution_count": 89,
     "metadata": {},
     "output_type": "execute_result"
    }
   ],
   "source": [
    "# Sample price field\n"
   ]
  },
  {
   "cell_type": "code",
   "execution_count": 90,
   "metadata": {},
   "outputs": [
    {
     "name": "stderr",
     "output_type": "stream",
     "text": [
      "C:\\ProgramData\\Anaconda3\\lib\\site-packages\\ipykernel_launcher.py:2: FutureWarning: The default value of regex will change from True to False in a future version. In addition, single character regular expressions will*not* be treated as literal strings when regex=True.\n",
      "  \n"
     ]
    },
    {
     "data": {
      "text/plain": [
       "0      222.89\n",
       "2       56.27\n",
       "3      108.48\n",
       "5      108.48\n",
       "6      185.16\n",
       "        ...  \n",
       "499     70.24\n",
       "500      76.3\n",
       "501    115.53\n",
       "502     50.71\n",
       "503     71.51\n",
       "Name: price, Length: 478, dtype: object"
      ]
     },
     "execution_count": 90,
     "metadata": {},
     "output_type": "execute_result"
    }
   ],
   "source": [
    "# Clean price Series by replacing $\n",
    "\n"
   ]
  },
  {
   "cell_type": "code",
   "execution_count": 91,
   "metadata": {},
   "outputs": [
    {
     "data": {
      "text/plain": [
       "dtype('O')"
      ]
     },
     "execution_count": 91,
     "metadata": {},
     "output_type": "execute_result"
    }
   ],
   "source": [
    "# Confirm data type of price\n"
   ]
  },
  {
   "cell_type": "code",
   "execution_count": 92,
   "metadata": {},
   "outputs": [
    {
     "data": {
      "text/plain": [
       "dtype('float64')"
      ]
     },
     "execution_count": 92,
     "metadata": {},
     "output_type": "execute_result"
    }
   ],
   "source": [
    "# Cast price Series as float\n",
    "\n"
   ]
  },
  {
   "cell_type": "markdown",
   "metadata": {},
   "source": [
    "# ================================"
   ]
  },
  {
   "cell_type": "markdown",
   "metadata": {},
   "source": [
    "### Rating Class Objectives\n",
    "\n",
    "* rate your understanding using 1-5 method in each objective"
   ]
  },
  {
   "cell_type": "code",
   "execution_count": null,
   "metadata": {},
   "outputs": [],
   "source": [
    "objectives = [\n",
    "    \"Understand Pandas DataFrames and Indexing\",\n",
    "    \"Access and manipulate data in a Pandas DataFrame using the index syntax of iloc[] and loc[]\",\n",
    "    \"Plotting DataFrame using plot()\",\n",
    "    \"Understand the components of a Pandas DateTime object\",\n",
    "    \"Evaluating a statistical arbitrage opportunity for 2 correlated stocks\",\n",
    "]\n",
    "rating = []\n",
    "total = 0\n",
    "for i in range(len(objectives)):\n",
    "    rate = input(objectives[i]+\"? \")\n",
    "    total += int(rate)\n",
    "    rating.append(objectives[i] + \". (\" + rate + \"/5)\")\n",
    "print(\"=\"*96)\n",
    "print(\"My rating today is:\")\n",
    "print(\"-\"*24)\n",
    "for i in rating:\n",
    "    print(i)\n",
    "print(\"-\"*64)\n",
    "print(\"Average: \" + str(total/len(objectives)))"
   ]
  }
 ],
 "metadata": {
  "kernelspec": {
   "display_name": "Python 3",
   "language": "python",
   "name": "python3"
  },
  "language_info": {
   "codemirror_mode": {
    "name": "ipython",
    "version": 3
   },
   "file_extension": ".py",
   "mimetype": "text/x-python",
   "name": "python",
   "nbconvert_exporter": "python",
   "pygments_lexer": "ipython3",
   "version": "3.7.9"
  }
 },
 "nbformat": 4,
 "nbformat_minor": 4
}
